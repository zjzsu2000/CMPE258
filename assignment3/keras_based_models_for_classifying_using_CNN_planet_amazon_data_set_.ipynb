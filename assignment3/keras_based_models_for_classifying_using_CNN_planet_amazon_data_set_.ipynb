{
  "nbformat": 4,
  "nbformat_minor": 0,
  "metadata": {
    "colab": {
      "name": "keras based models for classifying using CNN planet amazon data set .ipynb",
      "provenance": [],
      "collapsed_sections": [],
      "toc_visible": true,
      "include_colab_link": true
    },
    "kernelspec": {
      "name": "python3",
      "display_name": "Python 3"
    },
    "accelerator": "TPU"
  },
  "cells": [
    {
      "cell_type": "markdown",
      "metadata": {
        "id": "view-in-github",
        "colab_type": "text"
      },
      "source": [
        "<a href=\"https://colab.research.google.com/github/zjzsu2000/CMPE258/blob/master/assignment3/keras_based_models_for_classifying_using_CNN_planet_amazon_data_set_.ipynb\" target=\"_parent\"><img src=\"https://colab.research.google.com/assets/colab-badge.svg\" alt=\"Open In Colab\"/></a>"
      ]
    },
    {
      "cell_type": "markdown",
      "metadata": {
        "id": "lrY6csOzkvcT",
        "colab_type": "text"
      },
      "source": [
        "#keras based models for classifying using CNN planet amazon data set "
      ]
    },
    {
      "cell_type": "markdown",
      "metadata": {
        "id": "llle71ipGn_B",
        "colab_type": "text"
      },
      "source": [
        "## load the Data"
      ]
    },
    {
      "cell_type": "markdown",
      "metadata": {
        "id": "i22jRi1mquS9",
        "colab_type": "text"
      },
      "source": [
        "ref: \n",
        "\n",
        "1.   https://www.kaggle.com/general/74235\n",
        "2.  https://www.kaggle.com/nikitarom/planets-dataset"
      ]
    },
    {
      "cell_type": "code",
      "metadata": {
        "id": "7CG4ShLCkXll",
        "colab_type": "code",
        "colab": {}
      },
      "source": [
        "! pip install -q --upgrade kaggle \n",
        "\n",
        "from google.colab import files\n",
        "files.upload()\n",
        "\n",
        "! mkdir ~/.kaggle\n",
        "! cp kaggle.json ~/.kaggle/\n",
        "! chmod 600 ~/.kaggle/kaggle.json\n",
        "! kaggle datasets list\n",
        "! kaggle competitions download -c 'planet-understanding-the-amazon-from-space'\n",
        "! kaggle datasets download nikitarom/planets-dataset\n"
      ],
      "execution_count": 0,
      "outputs": []
    },
    {
      "cell_type": "code",
      "metadata": {
        "id": "K4IjED-ObY4q",
        "colab_type": "code",
        "colab": {}
      },
      "source": [
        "!unzip planets-dataset.zip\n",
        "!ls planet/planet/"
      ],
      "execution_count": 0,
      "outputs": []
    },
    {
      "cell_type": "markdown",
      "metadata": {
        "id": "fo7HuiyJGr-k",
        "colab_type": "text"
      },
      "source": [
        "## multi classes classification"
      ]
    },
    {
      "cell_type": "code",
      "metadata": {
        "id": "ynqn1tpoF_te",
        "colab_type": "code",
        "colab": {}
      },
      "source": [
        "import pandas as pd\n",
        "\n",
        "path = \"planet/planet/\"\n",
        "data = pd.read_csv('planet/planet/train_classes.csv')\n"
      ],
      "execution_count": 0,
      "outputs": []
    },
    {
      "cell_type": "code",
      "metadata": {
        "id": "p6mJ6dPkw8GM",
        "colab_type": "code",
        "colab": {
          "base_uri": "https://localhost:8080/",
          "height": 348
        },
        "outputId": "a41af7d0-5c6a-43d9-c403-83d85aa60b8e"
      },
      "source": [
        "data.head(10)"
      ],
      "execution_count": 6,
      "outputs": [
        {
          "output_type": "execute_result",
          "data": {
            "text/html": [
              "<div>\n",
              "<style scoped>\n",
              "    .dataframe tbody tr th:only-of-type {\n",
              "        vertical-align: middle;\n",
              "    }\n",
              "\n",
              "    .dataframe tbody tr th {\n",
              "        vertical-align: top;\n",
              "    }\n",
              "\n",
              "    .dataframe thead th {\n",
              "        text-align: right;\n",
              "    }\n",
              "</style>\n",
              "<table border=\"1\" class=\"dataframe\">\n",
              "  <thead>\n",
              "    <tr style=\"text-align: right;\">\n",
              "      <th></th>\n",
              "      <th>image_name</th>\n",
              "      <th>tags</th>\n",
              "    </tr>\n",
              "  </thead>\n",
              "  <tbody>\n",
              "    <tr>\n",
              "      <th>0</th>\n",
              "      <td>train_0</td>\n",
              "      <td>haze primary</td>\n",
              "    </tr>\n",
              "    <tr>\n",
              "      <th>1</th>\n",
              "      <td>train_1</td>\n",
              "      <td>agriculture clear primary water</td>\n",
              "    </tr>\n",
              "    <tr>\n",
              "      <th>2</th>\n",
              "      <td>train_2</td>\n",
              "      <td>clear primary</td>\n",
              "    </tr>\n",
              "    <tr>\n",
              "      <th>3</th>\n",
              "      <td>train_3</td>\n",
              "      <td>clear primary</td>\n",
              "    </tr>\n",
              "    <tr>\n",
              "      <th>4</th>\n",
              "      <td>train_4</td>\n",
              "      <td>agriculture clear habitation primary road</td>\n",
              "    </tr>\n",
              "    <tr>\n",
              "      <th>5</th>\n",
              "      <td>train_5</td>\n",
              "      <td>haze primary water</td>\n",
              "    </tr>\n",
              "    <tr>\n",
              "      <th>6</th>\n",
              "      <td>train_6</td>\n",
              "      <td>agriculture clear cultivation primary water</td>\n",
              "    </tr>\n",
              "    <tr>\n",
              "      <th>7</th>\n",
              "      <td>train_7</td>\n",
              "      <td>haze primary</td>\n",
              "    </tr>\n",
              "    <tr>\n",
              "      <th>8</th>\n",
              "      <td>train_8</td>\n",
              "      <td>agriculture clear cultivation primary</td>\n",
              "    </tr>\n",
              "    <tr>\n",
              "      <th>9</th>\n",
              "      <td>train_9</td>\n",
              "      <td>agriculture clear cultivation primary road</td>\n",
              "    </tr>\n",
              "  </tbody>\n",
              "</table>\n",
              "</div>"
            ],
            "text/plain": [
              "  image_name                                         tags\n",
              "0    train_0                                 haze primary\n",
              "1    train_1              agriculture clear primary water\n",
              "2    train_2                                clear primary\n",
              "3    train_3                                clear primary\n",
              "4    train_4    agriculture clear habitation primary road\n",
              "5    train_5                           haze primary water\n",
              "6    train_6  agriculture clear cultivation primary water\n",
              "7    train_7                                 haze primary\n",
              "8    train_8        agriculture clear cultivation primary\n",
              "9    train_9   agriculture clear cultivation primary road"
            ]
          },
          "metadata": {
            "tags": []
          },
          "execution_count": 6
        }
      ]
    },
    {
      "cell_type": "code",
      "metadata": {
        "id": "2mbWzXayOOaX",
        "colab_type": "code",
        "colab": {}
      },
      "source": [
        "import cv2\n",
        "import tqdm\n",
        "import numpy as np\n",
        "import matplotlib.pyplot as plt"
      ],
      "execution_count": 0,
      "outputs": []
    },
    {
      "cell_type": "markdown",
      "metadata": {
        "id": "GXhlBW4A9sTY",
        "colab_type": "text"
      },
      "source": [
        "###get the train dataset and labels_dic"
      ]
    },
    {
      "cell_type": "code",
      "metadata": {
        "id": "hpk7pUJXxdsq",
        "colab_type": "code",
        "colab": {}
      },
      "source": [
        "flatten = lambda l: [item for sublist in l for item in sublist]\n",
        "labels=set(flatten([l.split(' ') for l in data['tags'].values]))\n",
        "labels_dic = {l: i for i, l in enumerate(list(labels))}"
      ],
      "execution_count": 0,
      "outputs": []
    },
    {
      "cell_type": "code",
      "metadata": {
        "id": "RKOuw_Q771O_",
        "colab_type": "code",
        "colab": {
          "base_uri": "https://localhost:8080/",
          "height": 326
        },
        "outputId": "a27e9e9a-1c77-4c5e-e5d5-ef8e6b5b2ccc"
      },
      "source": [
        "labels_dic"
      ],
      "execution_count": 10,
      "outputs": [
        {
          "output_type": "execute_result",
          "data": {
            "text/plain": [
              "{'agriculture': 9,\n",
              " 'artisinal_mine': 14,\n",
              " 'bare_ground': 3,\n",
              " 'blooming': 11,\n",
              " 'blow_down': 0,\n",
              " 'clear': 8,\n",
              " 'cloudy': 7,\n",
              " 'conventional_mine': 16,\n",
              " 'cultivation': 6,\n",
              " 'habitation': 2,\n",
              " 'haze': 13,\n",
              " 'partly_cloudy': 10,\n",
              " 'primary': 12,\n",
              " 'road': 5,\n",
              " 'selective_logging': 1,\n",
              " 'slash_burn': 15,\n",
              " 'water': 4}"
            ]
          },
          "metadata": {
            "tags": []
          },
          "execution_count": 10
        }
      ]
    },
    {
      "cell_type": "code",
      "metadata": {
        "id": "A9yUdvFmOORf",
        "colab_type": "code",
        "outputId": "3be349b0-5571-41d4-b904-c402dc730396",
        "colab": {
          "base_uri": "https://localhost:8080/",
          "height": 35
        }
      },
      "source": [
        "X_train = []\n",
        "y_train = []\n",
        "\n",
        "\n",
        "for filename, labels in tqdm.tqdm(data.values, miniters=100):    \n",
        "    image = cv2.imread(path + \"train-jpg/\" + filename + \".jpg\")\n",
        "    targets = np.zeros(17)\n",
        "    for label in labels.split(' '):\n",
        "        targets[labels_dic[label]] = 1   \n",
        "    X_train.append(cv2.resize(image, (64, 64)))\n",
        "    y_train.append(targets)\n"
      ],
      "execution_count": 27,
      "outputs": [
        {
          "output_type": "stream",
          "text": [
            "100%|██████████| 40479/40479 [00:58<00:00, 695.92it/s]\n"
          ],
          "name": "stderr"
        }
      ]
    },
    {
      "cell_type": "code",
      "metadata": {
        "id": "AX4qPs0aJnBn",
        "colab_type": "code",
        "outputId": "5dbe1a36-fc51-4a92-adee-796d3060e82a",
        "colab": {
          "base_uri": "https://localhost:8080/",
          "height": 35
        }
      },
      "source": [
        "len(X_train)"
      ],
      "execution_count": 31,
      "outputs": [
        {
          "output_type": "execute_result",
          "data": {
            "text/plain": [
              "40479"
            ]
          },
          "metadata": {
            "tags": []
          },
          "execution_count": 31
        }
      ]
    },
    {
      "cell_type": "code",
      "metadata": {
        "id": "gdcA7BshnsuS",
        "colab_type": "code",
        "outputId": "eadee960-b6bc-4e72-91d7-7feef151433d",
        "colab": {
          "base_uri": "https://localhost:8080/",
          "height": 908
        }
      },
      "source": [
        "X_train[0]"
      ],
      "execution_count": 32,
      "outputs": [
        {
          "output_type": "execute_result",
          "data": {
            "text/plain": [
              "array([[[101, 109,  92],\n",
              "        [108, 114, 102],\n",
              "        [104, 111,  97],\n",
              "        ...,\n",
              "        [105, 111,  94],\n",
              "        [102, 106,  87],\n",
              "        [103, 109,  95]],\n",
              "\n",
              "       [[105, 108,  94],\n",
              "        [104, 113,  96],\n",
              "        [107, 112,  96],\n",
              "        ...,\n",
              "        [102, 109,  93],\n",
              "        [106, 114,  95],\n",
              "        [101, 107,  87]],\n",
              "\n",
              "       [[104, 108,  93],\n",
              "        [104, 108,  94],\n",
              "        [106, 113,  98],\n",
              "        ...,\n",
              "        [101, 106,  86],\n",
              "        [103, 109,  93],\n",
              "        [ 99, 106,  85]],\n",
              "\n",
              "       ...,\n",
              "\n",
              "       [[105, 113,  96],\n",
              "        [105, 110,  91],\n",
              "        [106, 108,  93],\n",
              "        ...,\n",
              "        [102, 110,  92],\n",
              "        [104, 110,  91],\n",
              "        [106, 110,  90]],\n",
              "\n",
              "       [[106, 115,  97],\n",
              "        [105, 112,  92],\n",
              "        [107, 111,  90],\n",
              "        ...,\n",
              "        [105, 113,  96],\n",
              "        [105, 107,  87],\n",
              "        [105, 107,  89]],\n",
              "\n",
              "       [[108, 112,  95],\n",
              "        [109, 115, 100],\n",
              "        [105, 114,  95],\n",
              "        ...,\n",
              "        [103, 110,  91],\n",
              "        [106, 113,  95],\n",
              "        [107, 110,  91]]], dtype=uint8)"
            ]
          },
          "metadata": {
            "tags": []
          },
          "execution_count": 32
        }
      ]
    },
    {
      "cell_type": "markdown",
      "metadata": {
        "id": "4TQl39fp9j_n",
        "colab_type": "text"
      },
      "source": [
        "###Scale"
      ]
    },
    {
      "cell_type": "code",
      "metadata": {
        "id": "m28td1Vr9gCw",
        "colab_type": "code",
        "colab": {}
      },
      "source": [
        "X_train = np.array(X_train, np.float16) / 255\n",
        "y_train = np.array(y_train, np.uint8)"
      ],
      "execution_count": 0,
      "outputs": []
    },
    {
      "cell_type": "code",
      "metadata": {
        "id": "nz9_0i3g94X-",
        "colab_type": "code",
        "colab": {
          "base_uri": "https://localhost:8080/",
          "height": 35
        },
        "outputId": "c51d9396-0c3c-486e-f1af-1c7ea9d09aed"
      },
      "source": [
        "X_train[0].shape"
      ],
      "execution_count": 34,
      "outputs": [
        {
          "output_type": "execute_result",
          "data": {
            "text/plain": [
              "(64, 64, 3)"
            ]
          },
          "metadata": {
            "tags": []
          },
          "execution_count": 34
        }
      ]
    },
    {
      "cell_type": "code",
      "metadata": {
        "id": "4tE0rmAc9-EV",
        "colab_type": "code",
        "colab": {
          "base_uri": "https://localhost:8080/",
          "height": 908
        },
        "outputId": "da84a75f-5f90-42a6-83df-0c52ddd6a69f"
      },
      "source": [
        "X_train[0]"
      ],
      "execution_count": 35,
      "outputs": [
        {
          "output_type": "execute_result",
          "data": {
            "text/plain": [
              "array([[[0.396 , 0.4275, 0.3608],\n",
              "        [0.4236, 0.447 , 0.4   ],\n",
              "        [0.408 , 0.4353, 0.3804],\n",
              "        ...,\n",
              "        [0.4119, 0.4353, 0.3687],\n",
              "        [0.4   , 0.4158, 0.341 ],\n",
              "        [0.4038, 0.4275, 0.3726]],\n",
              "\n",
              "       [[0.4119, 0.4236, 0.3687],\n",
              "        [0.408 , 0.443 , 0.3765],\n",
              "        [0.4197, 0.4392, 0.3765],\n",
              "        ...,\n",
              "        [0.4   , 0.4275, 0.3647],\n",
              "        [0.4158, 0.447 , 0.3726],\n",
              "        [0.396 , 0.4197, 0.341 ]],\n",
              "\n",
              "       [[0.408 , 0.4236, 0.3647],\n",
              "        [0.408 , 0.4236, 0.3687],\n",
              "        [0.4158, 0.443 , 0.3843],\n",
              "        ...,\n",
              "        [0.396 , 0.4158, 0.3372],\n",
              "        [0.4038, 0.4275, 0.3647],\n",
              "        [0.3882, 0.4158, 0.3333]],\n",
              "\n",
              "       ...,\n",
              "\n",
              "       [[0.4119, 0.443 , 0.3765],\n",
              "        [0.4119, 0.4314, 0.357 ],\n",
              "        [0.4158, 0.4236, 0.3647],\n",
              "        ...,\n",
              "        [0.4   , 0.4314, 0.3608],\n",
              "        [0.408 , 0.4314, 0.357 ],\n",
              "        [0.4158, 0.4314, 0.353 ]],\n",
              "\n",
              "       [[0.4158, 0.451 , 0.3804],\n",
              "        [0.4119, 0.4392, 0.3608],\n",
              "        [0.4197, 0.4353, 0.353 ],\n",
              "        ...,\n",
              "        [0.4119, 0.443 , 0.3765],\n",
              "        [0.4119, 0.4197, 0.341 ],\n",
              "        [0.4119, 0.4197, 0.349 ]],\n",
              "\n",
              "       [[0.4236, 0.4392, 0.3726],\n",
              "        [0.4275, 0.451 , 0.392 ],\n",
              "        [0.4119, 0.447 , 0.3726],\n",
              "        ...,\n",
              "        [0.4038, 0.4314, 0.357 ],\n",
              "        [0.4158, 0.443 , 0.3726],\n",
              "        [0.4197, 0.4314, 0.357 ]]], dtype=float16)"
            ]
          },
          "metadata": {
            "tags": []
          },
          "execution_count": 35
        }
      ]
    },
    {
      "cell_type": "markdown",
      "metadata": {
        "id": "cECknw0x-Fra",
        "colab_type": "text"
      },
      "source": [
        "###show the pic"
      ]
    },
    {
      "cell_type": "code",
      "metadata": {
        "id": "-Tr6fJH3mpkt",
        "colab_type": "code",
        "outputId": "5b31384a-d318-4e76-89f4-198ee6ae9304",
        "colab": {
          "base_uri": "https://localhost:8080/",
          "height": 268
        }
      },
      "source": [
        "image_8 = np.array(X_train[8],dtype='float64')\n",
        "plt.imshow(image_8)\n",
        "plt.show()"
      ],
      "execution_count": 22,
      "outputs": [
        {
          "output_type": "display_data",
          "data": {
            "image/png": "[encoded data removed]",
            "text/plain": [
              "<Figure size 432x288 with 1 Axes>"
            ]
          },
          "metadata": {
            "tags": [],
            "needs_background": "light"
          }
        }
      ]
    },
    {
      "cell_type": "code",
      "metadata": {
        "id": "GTyARwdYnUjy",
        "colab_type": "code",
        "outputId": "65aa7cff-374f-4960-d89d-9c9f34d808d6",
        "colab": {
          "base_uri": "https://localhost:8080/",
          "height": 35
        }
      },
      "source": [
        "y_train[8]"
      ],
      "execution_count": 23,
      "outputs": [
        {
          "output_type": "execute_result",
          "data": {
            "text/plain": [
              "array([0, 0, 0, 0, 0, 0, 1, 0, 1, 1, 0, 0, 1, 0, 0, 0, 0], dtype=uint8)"
            ]
          },
          "metadata": {
            "tags": []
          },
          "execution_count": 23
        }
      ]
    },
    {
      "cell_type": "markdown",
      "metadata": {
        "id": "Dp2-pJbNxrcr",
        "colab_type": "text"
      },
      "source": [
        "###train_test_split to get the val-data(20%)"
      ]
    },
    {
      "cell_type": "code",
      "metadata": {
        "id": "zdQZZU62nXrS",
        "colab_type": "code",
        "colab": {
          "base_uri": "https://localhost:8080/",
          "height": 191
        },
        "outputId": "a954392f-f638-455e-b844-0ad0180cb9d9"
      },
      "source": [
        "from sklearn.model_selection import train_test_split\n",
        "X_train, X_val, y_train, y_val = train_test_split(X_train, y_train, test_size=0.2)"
      ],
      "execution_count": 8,
      "outputs": [
        {
          "output_type": "error",
          "ename": "NameError",
          "evalue": "ignored",
          "traceback": [
            "\u001b[0;31m---------------------------------------------------------------------------\u001b[0m",
            "\u001b[0;31mNameError\u001b[0m                                 Traceback (most recent call last)",
            "\u001b[0;32m<ipython-input-8-70de1eeababa>\u001b[0m in \u001b[0;36m<module>\u001b[0;34m()\u001b[0m\n\u001b[1;32m      1\u001b[0m \u001b[0;32mfrom\u001b[0m \u001b[0msklearn\u001b[0m\u001b[0;34m.\u001b[0m\u001b[0mmodel_selection\u001b[0m \u001b[0;32mimport\u001b[0m \u001b[0mtrain_test_split\u001b[0m\u001b[0;34m\u001b[0m\u001b[0;34m\u001b[0m\u001b[0m\n\u001b[0;32m----> 2\u001b[0;31m \u001b[0mX_train\u001b[0m\u001b[0;34m,\u001b[0m \u001b[0mX_val\u001b[0m\u001b[0;34m,\u001b[0m \u001b[0my_train\u001b[0m\u001b[0;34m,\u001b[0m \u001b[0my_val\u001b[0m \u001b[0;34m=\u001b[0m \u001b[0mtrain_test_split\u001b[0m\u001b[0;34m(\u001b[0m\u001b[0mX_train\u001b[0m\u001b[0;34m,\u001b[0m \u001b[0my_train\u001b[0m\u001b[0;34m,\u001b[0m \u001b[0mtest_size\u001b[0m\u001b[0;34m=\u001b[0m\u001b[0;36m0.2\u001b[0m\u001b[0;34m)\u001b[0m\u001b[0;34m\u001b[0m\u001b[0;34m\u001b[0m\u001b[0m\n\u001b[0m",
            "\u001b[0;31mNameError\u001b[0m: name 'X_train' is not defined"
          ]
        }
      ]
    },
    {
      "cell_type": "markdown",
      "metadata": {
        "id": "8HbPvNN5uqKo",
        "colab_type": "text"
      },
      "source": [
        "### Function to create sequential model\n",
        "#### Add 3 convolutional layers(relu),BatchNormalization,apply dropout 0.7,sigmoid activation function for output."
      ]
    },
    {
      "cell_type": "code",
      "metadata": {
        "id": "x7p104rGlGBC",
        "colab_type": "code",
        "outputId": "e4a07639-de5e-4322-893e-50c9382189b3",
        "colab": {
          "base_uri": "https://localhost:8080/",
          "height": 35
        }
      },
      "source": [
        "from keras.models import Sequential\n",
        "from keras.layers import Conv2D, MaxPooling2D, BatchNormalization, Dropout,Flatten,Dense\n",
        "import tensorflow as tf\n",
        "import datetime\n",
        "from keras.callbacks import EarlyStopping, TensorBoard\n",
        "\n",
        "\n",
        "def create_model():\n",
        "    model = Sequential([Conv2D(32, kernel_size=(3,3), activation='relu', \n",
        "                                input_shape=(64, 64, 3)),\n",
        "                        MaxPooling2D(),\n",
        "                        Dropout(0.7),\n",
        "                        Conv2D(64, kernel_size=(3,3), activation='relu'),\n",
        "                        MaxPooling2D(),\n",
        "                        Dropout(0.7),\n",
        "                        Conv2D(128, kernel_size=(3,3), activation='relu'),\n",
        "                        MaxPooling2D(),\n",
        "                        Dropout(0.7),\n",
        "                        Flatten(),\n",
        "                        Dense(1024, activation='relu'),Dropout(0.7),\n",
        "                        Dense(17,activation='sigmoid')\n",
        "                        ])\n",
        "    return model"
      ],
      "execution_count": 9,
      "outputs": [
        {
          "output_type": "stream",
          "text": [
            "Using TensorFlow backend.\n"
          ],
          "name": "stderr"
        }
      ]
    },
    {
      "cell_type": "code",
      "metadata": {
        "id": "zCqU0WPQt8pQ",
        "colab_type": "code",
        "colab": {
          "base_uri": "https://localhost:8080/",
          "height": 635
        },
        "outputId": "823bb0fd-e02f-475f-e33e-6b1ec5cb8cf0"
      },
      "source": [
        "model = create_model()\n",
        "model.compile(optimizer='adam',\n",
        "              loss='binary_crossentropy',\n",
        "              metrics=['accuracy'])\n",
        "\n",
        "model.summary()"
      ],
      "execution_count": 10,
      "outputs": [
        {
          "output_type": "stream",
          "text": [
            "Model: \"sequential_1\"\n",
            "_________________________________________________________________\n",
            "Layer (type)                 Output Shape              Param #   \n",
            "=================================================================\n",
            "conv2d_1 (Conv2D)            (None, 62, 62, 32)        896       \n",
            "_________________________________________________________________\n",
            "max_pooling2d_1 (MaxPooling2 (None, 31, 31, 32)        0         \n",
            "_________________________________________________________________\n",
            "dropout_1 (Dropout)          (None, 31, 31, 32)        0         \n",
            "_________________________________________________________________\n",
            "conv2d_2 (Conv2D)            (None, 29, 29, 64)        18496     \n",
            "_________________________________________________________________\n",
            "max_pooling2d_2 (MaxPooling2 (None, 14, 14, 64)        0         \n",
            "_________________________________________________________________\n",
            "dropout_2 (Dropout)          (None, 14, 14, 64)        0         \n",
            "_________________________________________________________________\n",
            "conv2d_3 (Conv2D)            (None, 12, 12, 128)       73856     \n",
            "_________________________________________________________________\n",
            "max_pooling2d_3 (MaxPooling2 (None, 6, 6, 128)         0         \n",
            "_________________________________________________________________\n",
            "dropout_3 (Dropout)          (None, 6, 6, 128)         0         \n",
            "_________________________________________________________________\n",
            "flatten_1 (Flatten)          (None, 4608)              0         \n",
            "_________________________________________________________________\n",
            "dense_1 (Dense)              (None, 1024)              4719616   \n",
            "_________________________________________________________________\n",
            "dropout_4 (Dropout)          (None, 1024)              0         \n",
            "_________________________________________________________________\n",
            "dense_2 (Dense)              (None, 17)                17425     \n",
            "=================================================================\n",
            "Total params: 4,830,289\n",
            "Trainable params: 4,830,289\n",
            "Non-trainable params: 0\n",
            "_________________________________________________________________\n"
          ],
          "name": "stdout"
        }
      ]
    },
    {
      "cell_type": "markdown",
      "metadata": {
        "id": "uKBlUHfzx6L6",
        "colab_type": "text"
      },
      "source": [
        "## create tensorboard and upload"
      ]
    },
    {
      "cell_type": "markdown",
      "metadata": {
        "id": "W1z5_UH4x-rb",
        "colab_type": "text"
      },
      "source": [
        "ref:\n",
        "> https://www.tensorflow.org/tensorboard/get_started\n",
        "\n",
        "> https://tensorboard.dev/#get-started\n",
        "\n",
        "\n",
        "\n"
      ]
    },
    {
      "cell_type": "code",
      "metadata": {
        "id": "GWvCOW-YnWLk",
        "colab_type": "code",
        "outputId": "dca71308-9006-4018-aaae-78e0b108ca76",
        "colab": {
          "base_uri": "https://localhost:8080/",
          "height": 227
        }
      },
      "source": [
        "log_dir1=\"logs/3conv-0.7dropout-batchnorm-sigmoid-adam-binary_crossentropy-20epochs\" \n",
        "tensorboard_callback = TensorBoard(log_dir=log_dir1, histogram_freq=1)\n",
        "\n",
        "history1=model.fit(x=X_train,y=y_train, validation_data=(X_val, y_val), \n",
        "          callbacks=[tensorboard_callback],epochs=20)"
      ],
      "execution_count": 11,
      "outputs": [
        {
          "output_type": "error",
          "ename": "NameError",
          "evalue": "ignored",
          "traceback": [
            "\u001b[0;31m---------------------------------------------------------------------------\u001b[0m",
            "\u001b[0;31mNameError\u001b[0m                                 Traceback (most recent call last)",
            "\u001b[0;32m<ipython-input-11-2cfd9d0c8939>\u001b[0m in \u001b[0;36m<module>\u001b[0;34m()\u001b[0m\n\u001b[1;32m      2\u001b[0m \u001b[0mtensorboard_callback\u001b[0m \u001b[0;34m=\u001b[0m \u001b[0mTensorBoard\u001b[0m\u001b[0;34m(\u001b[0m\u001b[0mlog_dir\u001b[0m\u001b[0;34m=\u001b[0m\u001b[0mlog_dir1\u001b[0m\u001b[0;34m,\u001b[0m \u001b[0mhistogram_freq\u001b[0m\u001b[0;34m=\u001b[0m\u001b[0;36m1\u001b[0m\u001b[0;34m)\u001b[0m\u001b[0;34m\u001b[0m\u001b[0;34m\u001b[0m\u001b[0m\n\u001b[1;32m      3\u001b[0m \u001b[0;34m\u001b[0m\u001b[0m\n\u001b[0;32m----> 4\u001b[0;31m history1=model.fit(x=X_train,y=y_train, validation_data=(X_val, y_val), \n\u001b[0m\u001b[1;32m      5\u001b[0m           callbacks=[tensorboard_callback],epochs=20)\n",
            "\u001b[0;31mNameError\u001b[0m: name 'X_train' is not defined"
          ]
        }
      ]
    },
    {
      "cell_type": "code",
      "metadata": {
        "id": "rhLWmVFslJ8n",
        "colab_type": "code",
        "outputId": "f881f333-4aef-4b63-9be9-91e8a73c7628",
        "colab": {
          "base_uri": "https://localhost:8080/",
          "height": 227
        }
      },
      "source": [
        "!tensorboard dev upload --logdir ./logs \\\n",
        "  --name \" CNN planet amazon data set\" \\\n",
        "  --description \"Training results from https://colab.research.google.com/drive/1k2eScuaUK1prBPbWf1EqRJ6PwrbUfjx4\""
      ],
      "execution_count": 0,
      "outputs": [
        {
          "output_type": "stream",
          "text": [
            "2020-05-02 06:26:05.620014: I tensorflow/stream_executor/platform/default/dso_loader.cc:44] Successfully opened dynamic library libcudart.so.10.1\n",
            "Data for the \"graphs\" plugin is now uploaded to TensorBoard.dev! Note that uploaded data is public. If you do not want to upload data for this plugin, use the \"--plugins\" command line argument.\n",
            "Upload started and will continue reading any new data as it's added\n",
            "to the logdir. To stop uploading, press Ctrl-C.\n",
            "View your TensorBoard live at: https://tensorboard.dev/experiment/oQPng8DkR5Gn2w1sYBRbyA/\n",
            "E0502 06:26:08.970737 140019514959744 uploader.py:770] Attempted to re-upload existing blob.  Skipping.\n",
            "E0502 06:26:14.923841 140019514959744 uploader.py:770] Attempted to re-upload existing blob.  Skipping.\n",
            "E0502 06:26:18.966506 140019514959744 uploader.py:770] Attempted to re-upload existing blob.  Skipping.\n",
            "\n",
            "Upload stopped. View your TensorBoard at https://tensorboard.dev/experiment/oQPng8DkR5Gn2w1sYBRbyA/\n",
            "^C\n"
          ],
          "name": "stdout"
        }
      ]
    },
    {
      "cell_type": "code",
      "metadata": {
        "id": "MNIZD2-9KnhK",
        "colab_type": "code",
        "colab": {}
      },
      "source": [
        ""
      ],
      "execution_count": 0,
      "outputs": []
    }
  ]
}