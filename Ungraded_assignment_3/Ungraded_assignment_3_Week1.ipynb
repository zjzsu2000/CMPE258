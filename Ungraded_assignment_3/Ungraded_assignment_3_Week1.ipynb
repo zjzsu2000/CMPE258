{
  "nbformat": 4,
  "nbformat_minor": 0,
  "metadata": {
    "colab": {
      "name": "Ungraded_assignment_3_Week1.ipynb",
      "provenance": [],
      "collapsed_sections": [],
      "include_colab_link": true
    },
    "kernelspec": {
      "name": "python3",
      "display_name": "Python 3"
    }
  },
  "cells": [
    {
      "cell_type": "markdown",
      "metadata": {
        "id": "view-in-github",
        "colab_type": "text"
      },
      "source": [
        "<a href=\"https://colab.research.google.com/github/zjzsu2000/CMPE258/blob/master/Ungraded_assignment_3/Ungraded_assignment_3_Week1.ipynb\" target=\"_parent\"><img src=\"https://colab.research.google.com/assets/colab-badge.svg\" alt=\"Open In Colab\"/></a>"
      ]
    },
    {
      "cell_type": "markdown",
      "metadata": {
        "id": "mnakzls4kpK3",
        "colab_type": "text"
      },
      "source": [
        "##Import Packages"
      ]
    },
    {
      "cell_type": "code",
      "metadata": {
        "id": "FkVvrWj12Zpp",
        "colab_type": "code",
        "outputId": "c2cb9399-e1a9-43be-bb21-911fa4a291c8",
        "colab": {
          "base_uri": "https://localhost:8080/",
          "height": 72
        }
      },
      "source": [
        "%pip install h5py\n",
        "import numpy as np\n",
        "import matplotlib.pyplot as plt\n",
        "import h5py\n",
        "import scipy\n",
        "from PIL import Image\n",
        "from scipy import ndimage\n",
        "\n",
        "%matplotlib inline"
      ],
      "execution_count": 0,
      "outputs": [
        {
          "output_type": "stream",
          "text": [
            "Requirement already satisfied: h5py in /usr/local/lib/python3.6/dist-packages (2.10.0)\n",
            "Requirement already satisfied: six in /usr/local/lib/python3.6/dist-packages (from h5py) (1.12.0)\n",
            "Requirement already satisfied: numpy>=1.7 in /usr/local/lib/python3.6/dist-packages (from h5py) (1.18.4)\n"
          ],
          "name": "stdout"
        }
      ]
    },
    {
      "cell_type": "markdown",
      "metadata": {
        "id": "iZKu6USektM8",
        "colab_type": "text"
      },
      "source": [
        "##Mount Google Drive"
      ]
    },
    {
      "cell_type": "code",
      "metadata": {
        "id": "SwiRSWjyjPuG",
        "colab_type": "code",
        "outputId": "bb6ca8ee-f7dd-46b3-a9fe-388e7e123d11",
        "colab": {
          "base_uri": "https://localhost:8080/",
          "height": 128
        }
      },
      "source": [
        "from google.colab import drive\n",
        "drive.mount('/content/drive')\n"
      ],
      "execution_count": 0,
      "outputs": [
        {
          "output_type": "stream",
          "text": [
            "Go to this URL in a browser: https://accounts.google.com/o/oauth2/auth?client_id=947318989803-6bn6qk8qdgf4n4g3pfee6491hc0brc4i.apps.googleusercontent.com&redirect_uri=urn%3aietf%3awg%3aoauth%3a2.0%3aoob&response_type=code&scope=email%20https%3a%2f%2fwww.googleapis.com%2fauth%2fdocs.test%20https%3a%2f%2fwww.googleapis.com%2fauth%2fdrive%20https%3a%2f%2fwww.googleapis.com%2fauth%2fdrive.photos.readonly%20https%3a%2f%2fwww.googleapis.com%2fauth%2fpeopleapi.readonly\n",
            "\n",
            "Enter your authorization code:\n",
            "··········\n",
            "Mounted at /content/drive\n"
          ],
          "name": "stdout"
        }
      ]
    },
    {
      "cell_type": "code",
      "metadata": {
        "id": "yZFHnbMZYyYO",
        "colab_type": "code",
        "colab": {}
      },
      "source": [
        "root_dir = '/content/drive/My Drive/'\n",
        "base_dir = root_dir + 'CMPE258/assignment/'\n",
        "data_dir_me=base_dir+'data/'"
      ],
      "execution_count": 0,
      "outputs": []
    },
    {
      "cell_type": "markdown",
      "metadata": {
        "id": "YMwwTopZkxmk",
        "colab_type": "text"
      },
      "source": [
        "##Load the dataset"
      ]
    },
    {
      "cell_type": "code",
      "metadata": {
        "id": "bboN8CWgjwIO",
        "colab_type": "code",
        "colab": {}
      },
      "source": [
        "train_path = data_dir_me + 'train_catvnoncat.h5'\n",
        "test_path = data_dir_me + 'test_catvnoncat.h5'"
      ],
      "execution_count": 0,
      "outputs": []
    },
    {
      "cell_type": "code",
      "metadata": {
        "id": "CIXgkD-haq0Q",
        "colab_type": "code",
        "colab": {}
      },
      "source": [
        "train_data = h5py.File(train_path, \"r\")\n",
        "\n",
        "test_data = h5py.File(test_path, \"r\")\n"
      ],
      "execution_count": 0,
      "outputs": []
    },
    {
      "cell_type": "code",
      "metadata": {
        "id": "LiCOW5ITaw9Q",
        "colab_type": "code",
        "colab": {}
      },
      "source": [
        "train_set_X = np.array(train_data[\"train_set_x\"][:]) \n",
        "train_set_y = np.array(train_data[\"train_set_y\"][:]) \n",
        " \n",
        "test_set_X = np.array(test_data[\"test_set_x\"][:])\n",
        "test_set_y = np.array(test_data[\"test_set_y\"][:]) \n",
        " \n",
        "classes_map = np.array(test_data[\"list_classes\"][:]) \n",
        " \n",
        "#reshape \n",
        "train_set_y = train_set_y.reshape((1, train_set_y.shape[0]))\n",
        "test_set_y = test_set_y.reshape((1, test_set_y.shape[0]))"
      ],
      "execution_count": 0,
      "outputs": []
    },
    {
      "cell_type": "code",
      "metadata": {
        "id": "qyYe91prb6gR",
        "colab_type": "code",
        "outputId": "87dbc30a-791c-4705-c584-05e372a955fc",
        "colab": {
          "base_uri": "https://localhost:8080/",
          "height": 35
        }
      },
      "source": [
        "classes_map"
      ],
      "execution_count": 0,
      "outputs": [
        {
          "output_type": "execute_result",
          "data": {
            "text/plain": [
              "array([b'non-cat', b'cat'], dtype='|S7')"
            ]
          },
          "metadata": {
            "tags": []
          },
          "execution_count": 23
        }
      ]
    },
    {
      "cell_type": "code",
      "metadata": {
        "id": "3gihjGFRbxPq",
        "colab_type": "code",
        "outputId": "9be6bece-3b86-4c08-be62-c15a364c430b",
        "colab": {
          "base_uri": "https://localhost:8080/",
          "height": 908
        }
      },
      "source": [
        "train_set_X[0]"
      ],
      "execution_count": 0,
      "outputs": [
        {
          "output_type": "execute_result",
          "data": {
            "text/plain": [
              "array([[[17, 31, 56],\n",
              "        [22, 33, 59],\n",
              "        [25, 35, 62],\n",
              "        ...,\n",
              "        [ 1, 28, 57],\n",
              "        [ 1, 26, 56],\n",
              "        [ 1, 22, 51]],\n",
              "\n",
              "       [[25, 36, 62],\n",
              "        [28, 38, 64],\n",
              "        [30, 40, 67],\n",
              "        ...,\n",
              "        [ 1, 27, 56],\n",
              "        [ 1, 25, 55],\n",
              "        [ 2, 21, 51]],\n",
              "\n",
              "       [[32, 40, 67],\n",
              "        [34, 42, 69],\n",
              "        [35, 42, 70],\n",
              "        ...,\n",
              "        [ 1, 25, 55],\n",
              "        [ 0, 24, 54],\n",
              "        [ 1, 21, 51]],\n",
              "\n",
              "       ...,\n",
              "\n",
              "       [[ 0,  0,  0],\n",
              "        [ 0,  0,  0],\n",
              "        [ 0,  0,  0],\n",
              "        ...,\n",
              "        [ 0,  0,  0],\n",
              "        [ 0,  0,  0],\n",
              "        [ 0,  0,  0]],\n",
              "\n",
              "       [[ 0,  0,  0],\n",
              "        [ 0,  0,  0],\n",
              "        [ 0,  0,  0],\n",
              "        ...,\n",
              "        [ 0,  0,  0],\n",
              "        [ 0,  0,  0],\n",
              "        [ 0,  0,  0]],\n",
              "\n",
              "       [[ 0,  0,  0],\n",
              "        [ 0,  0,  0],\n",
              "        [ 0,  0,  0],\n",
              "        ...,\n",
              "        [ 0,  0,  0],\n",
              "        [ 0,  0,  0],\n",
              "        [ 0,  0,  0]]], dtype=uint8)"
            ]
          },
          "metadata": {
            "tags": []
          },
          "execution_count": 18
        }
      ]
    },
    {
      "cell_type": "code",
      "metadata": {
        "id": "nx1xRVZRb1_X",
        "colab_type": "code",
        "outputId": "f192a94b-6a4c-4d54-fdf8-df4eed38a239",
        "colab": {
          "base_uri": "https://localhost:8080/",
          "height": 199
        }
      },
      "source": [
        "train_set_y[0]"
      ],
      "execution_count": 0,
      "outputs": [
        {
          "output_type": "execute_result",
          "data": {
            "text/plain": [
              "array([0, 0, 1, 0, 0, 0, 0, 1, 0, 0, 0, 1, 0, 1, 1, 0, 0, 0, 0, 1, 0, 0,\n",
              "       0, 0, 1, 1, 0, 1, 0, 1, 0, 0, 0, 0, 0, 0, 0, 0, 1, 0, 0, 1, 1, 0,\n",
              "       0, 0, 0, 1, 0, 0, 1, 0, 0, 0, 1, 0, 1, 1, 0, 1, 1, 1, 0, 0, 0, 0,\n",
              "       0, 0, 1, 0, 0, 1, 0, 0, 0, 0, 0, 0, 0, 0, 0, 0, 0, 1, 1, 0, 0, 0,\n",
              "       1, 0, 0, 0, 1, 1, 1, 0, 0, 1, 0, 0, 0, 0, 1, 0, 1, 0, 1, 1, 1, 1,\n",
              "       1, 1, 0, 0, 0, 0, 0, 1, 0, 0, 0, 1, 0, 0, 1, 0, 1, 0, 1, 1, 0, 0,\n",
              "       0, 1, 1, 1, 1, 1, 0, 0, 0, 0, 1, 0, 1, 1, 1, 0, 1, 1, 0, 0, 0, 1,\n",
              "       0, 0, 1, 0, 0, 0, 0, 0, 1, 0, 1, 0, 1, 0, 0, 1, 1, 1, 0, 0, 1, 1,\n",
              "       0, 1, 0, 1, 0, 0, 0, 0, 0, 1, 0, 0, 1, 0, 0, 0, 1, 0, 0, 0, 0, 1,\n",
              "       0, 0, 1, 0, 0, 0, 0, 0, 0, 0, 0])"
            ]
          },
          "metadata": {
            "tags": []
          },
          "execution_count": 19
        }
      ]
    },
    {
      "cell_type": "code",
      "metadata": {
        "id": "E4kDWZV4klMO",
        "colab_type": "code",
        "outputId": "51b48531-0c87-4132-cbe1-23a64a536e77",
        "colab": {
          "base_uri": "https://localhost:8080/",
          "height": 286
        }
      },
      "source": [
        "# plot the  picture\n",
        "plt.imshow(train_set_X[8])\n",
        "print (\"y = \" + str(train_set_y[:, 8]) + \", it's a '\" + classes_map[np.squeeze(train_set_y[:, 8])].decode(\"utf-8\") +  \"' picture.\")"
      ],
      "execution_count": 0,
      "outputs": [
        {
          "output_type": "stream",
          "text": [
            "y = [0], it's a 'non-cat' picture.\n"
          ],
          "name": "stdout"
        },
        {
          "output_type": "display_data",
          "data": {
            "image/png": "[encoded data removed]",
            "text/plain": [
              "<Figure size 432x288 with 1 Axes>"
            ]
          },
          "metadata": {
            "tags": [],
            "needs_background": "light"
          }
        }
      ]
    },
    {
      "cell_type": "code",
      "metadata": {
        "id": "0sgnGyfCeClw",
        "colab_type": "code",
        "outputId": "68bed5b4-4e80-4ac4-fb78-77a028ccdfbd",
        "colab": {
          "base_uri": "https://localhost:8080/",
          "height": 35
        }
      },
      "source": [
        "train_set_X.shape"
      ],
      "execution_count": 0,
      "outputs": [
        {
          "output_type": "execute_result",
          "data": {
            "text/plain": [
              "(209, 64, 64, 3)"
            ]
          },
          "metadata": {
            "tags": []
          },
          "execution_count": 31
        }
      ]
    },
    {
      "cell_type": "code",
      "metadata": {
        "id": "q2Glqx2QeGLj",
        "colab_type": "code",
        "outputId": "9333e71b-d9f3-4df1-a4de-ea26aadb8c36",
        "colab": {
          "base_uri": "https://localhost:8080/",
          "height": 35
        }
      },
      "source": [
        "test_set_X.shape"
      ],
      "execution_count": 0,
      "outputs": [
        {
          "output_type": "execute_result",
          "data": {
            "text/plain": [
              "(50, 64, 64, 3)"
            ]
          },
          "metadata": {
            "tags": []
          },
          "execution_count": 32
        }
      ]
    },
    {
      "cell_type": "code",
      "metadata": {
        "id": "--K9kZbGigYC",
        "colab_type": "code",
        "colab": {}
      },
      "source": [
        "num_train = train_set_X.shape[0]\n",
        "num_test = test_set_X.shape[0]\n",
        "num_pixel = train_set_X.shape[1]\n"
      ],
      "execution_count": 0,
      "outputs": []
    },
    {
      "cell_type": "code",
      "metadata": {
        "id": "vJQhybENdNb8",
        "colab_type": "code",
        "outputId": "aa89decf-bd9b-4ac4-afcf-78d99f214961",
        "colab": {
          "base_uri": "https://localhost:8080/",
          "height": 90
        }
      },
      "source": [
        "print (\"Dataset Summary:\")\n",
        "print (\"# of training data:\" ,num_train)\n",
        "print (\"# of testing data: \" , num_test)\n",
        "print (\"Each image shape: (\" + str(num_pixel) + \", \" + str(num_pixel) + \", 3)\")"
      ],
      "execution_count": 0,
      "outputs": [
        {
          "output_type": "stream",
          "text": [
            "Dataset Summary:\n",
            "# of training data: 209\n",
            "# of testing data:  50\n",
            "Each image shape: (64, 64, 3)\n"
          ],
          "name": "stdout"
        }
      ]
    },
    {
      "cell_type": "markdown",
      "metadata": {
        "id": "Nvy1I8QYna-X",
        "colab_type": "text"
      },
      "source": [
        "##Reshape to flatten"
      ]
    },
    {
      "cell_type": "code",
      "metadata": {
        "id": "9bKWMmj0kh89",
        "colab_type": "code",
        "outputId": "0bef40e6-36f9-4a88-b44c-8476df7b855a",
        "colab": {
          "base_uri": "https://localhost:8080/",
          "height": 90
        }
      },
      "source": [
        "train_set_X = train_set_X.reshape(train_set_X.shape[0], -1).T\n",
        "test_set_X = test_set_X.reshape(test_set_X.shape[0], -1).T \n",
        "\n",
        "\n",
        "print (\"train_set_X new shape: \" , train_set_X.shape)\n",
        "print (\"train_set_y new shape: \" , train_set_y.shape)\n",
        "print (\"test_set_X new shape: \" , test_set_X.shape)\n",
        "print (\"test_set_y new shape: \" , test_set_y.shape)\n"
      ],
      "execution_count": 0,
      "outputs": [
        {
          "output_type": "stream",
          "text": [
            "train_set_X new shape:  (12288, 209)\n",
            "train_set_y new shape:  (1, 209)\n",
            "test_set_X new shape:  (12288, 50)\n",
            "test_set_y new shape:  (1, 50)\n"
          ],
          "name": "stdout"
        }
      ]
    },
    {
      "cell_type": "markdown",
      "metadata": {
        "id": "70HrMlEunp_3",
        "colab_type": "text"
      },
      "source": [
        "###Scaling"
      ]
    },
    {
      "cell_type": "code",
      "metadata": {
        "id": "McXTaBS9ndBC",
        "colab_type": "code",
        "colab": {}
      },
      "source": [
        "train_set_X = train_set_X/255.\n",
        "test_set_X = test_set_X/255."
      ],
      "execution_count": 0,
      "outputs": []
    },
    {
      "cell_type": "markdown",
      "metadata": {
        "id": "0dzFzzkioFb7",
        "colab_type": "text"
      },
      "source": [
        "##Logistic Regression"
      ]
    },
    {
      "cell_type": "code",
      "metadata": {
        "id": "_ksfeWE9ntzU",
        "colab_type": "code",
        "colab": {}
      },
      "source": [
        "def sigmoid(input_x):\n",
        "    sigmoid_output = 1 / (1 + (np.exp(-input_x)))\n",
        "    return sigmoid_output"
      ],
      "execution_count": 0,
      "outputs": []
    },
    {
      "cell_type": "code",
      "metadata": {
        "id": "7iB7lsG1tWnQ",
        "colab_type": "code",
        "outputId": "330d958a-63ad-4f25-a423-bc320d9bd946",
        "colab": {
          "base_uri": "https://localhost:8080/",
          "height": 35
        }
      },
      "source": [
        "sigmoid(np.array([0,8]))"
      ],
      "execution_count": 0,
      "outputs": [
        {
          "output_type": "execute_result",
          "data": {
            "text/plain": [
              "array([0.5       , 0.99966465])"
            ]
          },
          "metadata": {
            "tags": []
          },
          "execution_count": 41
        }
      ]
    },
    {
      "cell_type": "code",
      "metadata": {
        "id": "UHn9gpiutYRj",
        "colab_type": "code",
        "colab": {}
      },
      "source": [
        "#function: initialize_with_zeros\n",
        "\n",
        "def initialize_with_zeros(dim_size):\n",
        "    w = np.zeros((dim_size, 1))\n",
        "    b = 0\n",
        "    assert(w.shape == (dim_size, 1))\n",
        "    assert(isinstance(b, float) or isinstance(b, int))\n",
        "    return w, b"
      ],
      "execution_count": 0,
      "outputs": []
    },
    {
      "cell_type": "code",
      "metadata": {
        "id": "WFEoKUUfteEs",
        "colab_type": "code",
        "colab": {}
      },
      "source": [
        "dim_size = 2\n",
        "w, b = initialize_with_zeros(dim_size)"
      ],
      "execution_count": 0,
      "outputs": []
    },
    {
      "cell_type": "code",
      "metadata": {
        "id": "lNkWSPVngkPp",
        "colab_type": "code",
        "outputId": "b881413d-706c-449a-8337-15eeb811b54b",
        "colab": {
          "base_uri": "https://localhost:8080/",
          "height": 72
        }
      },
      "source": [
        "print (w)\n",
        "print (b)"
      ],
      "execution_count": 0,
      "outputs": [
        {
          "output_type": "stream",
          "text": [
            "[[0.]\n",
            " [0.]]\n",
            "0\n"
          ],
          "name": "stdout"
        }
      ]
    },
    {
      "cell_type": "markdown",
      "metadata": {
        "id": "54dh9wUnthfW",
        "colab_type": "text"
      },
      "source": [
        "##Forward and Backward propagation"
      ]
    },
    {
      "cell_type": "code",
      "metadata": {
        "id": "Yn-y8DAstfkc",
        "colab_type": "code",
        "colab": {}
      },
      "source": [
        "#propagate\n",
        "\n",
        "def propagate(w, b, X, Y):\n",
        "    \"\"\"\n",
        "    w -- weights, a numpy array of size (num_px * num_px * 3, 1)\n",
        "    b -- bias, a scalar\n",
        "    X -- data of size (num_px * num_px * 3, number of examples)\n",
        "    Y -- true \"label\" vector (containing 0 if non-cat, 1 if cat) of size (1, number of examples)\n",
        "\n",
        "    Return:\n",
        "    cost -- negative log-likelihood cost for logistic regression\n",
        "    dw -- gradient of the loss with respect to w, thus same shape as w\n",
        "    db -- gradient of the loss with respect to b, thus same shape as b\n",
        "     \n",
        "    \"\"\"\n",
        "    m = X.shape[1]\n",
        "    \n",
        "    # FORWARD PROPAGATION (FROM X TO COST)\n",
        "    A = sigmoid(np.dot(w.T, X) + b)                                  # compute activation\n",
        "    cost_init = np.multiply(Y, np.log(A)) + np.multiply((1 - Y), np.log(1 - A))\n",
        "    cost = -np.sum(cost_init, axis=1, keepdims=True) / m                               # compute cost\n",
        "\n",
        "    # BACKWARD PROPAGATION (TO FIND GRAD)\n",
        "    dw = np.dot(X, (A - Y).T) / m\n",
        "    db = np.sum((A - Y), axis=1, keepdims=True) / m\n",
        "\n",
        "    assert(dw.shape == w.shape)\n",
        "    assert(db.dtype == float)\n",
        "    cost = np.squeeze(cost)\n",
        "    assert(cost.shape == ())\n",
        "    \n",
        "    grads = {\"dw\": dw, \"db\": db}\n",
        "    return grads, cost"
      ],
      "execution_count": 0,
      "outputs": []
    },
    {
      "cell_type": "code",
      "metadata": {
        "id": "D4P9PeSWtkVO",
        "colab_type": "code",
        "outputId": "f3cfa11f-afed-414f-8a4f-19c5a7b55dad",
        "colab": {
          "base_uri": "https://localhost:8080/",
          "height": 90
        }
      },
      "source": [
        "w, b, X, Y = np.array([[1.],[2.]]), 2., np.array([[1.,2.,-1.],[3.,4.,-3.2]]), np.array([[1,0,1]])\n",
        "grads, cost = propagate(w, b, X, Y)\n",
        "print (\"dw = \" + str(grads[\"dw\"]))\n",
        "print (\"db = \" + str(grads[\"db\"]))\n",
        "print (\"cost = \" + str(cost))"
      ],
      "execution_count": 0,
      "outputs": [
        {
          "output_type": "stream",
          "text": [
            "dw = [[0.99845601]\n",
            " [2.39507239]]\n",
            "db = [[0.00145558]]\n",
            "cost = 5.801545319394553\n"
          ],
          "name": "stdout"
        }
      ]
    },
    {
      "cell_type": "markdown",
      "metadata": {
        "id": "q6ET7SZGtqTZ",
        "colab_type": "text"
      },
      "source": [
        "## Optimization function"
      ]
    },
    {
      "cell_type": "code",
      "metadata": {
        "id": "oaya_myVtl5K",
        "colab_type": "code",
        "colab": {}
      },
      "source": [
        "#optimize\n",
        "\n",
        "def optimize(w, b, X, Y, num_iterations, learning_rate, print_cost = False):\n",
        "    \"\"\"\n",
        "    Input:\n",
        "    w -- weights, a numpy array of size (num_px * num_px * 3, 1)\n",
        "    b -- bias, a scalar\n",
        "    X -- data of shape (num_px * num_px * 3, number of examples)\n",
        "    Y -- true \"label\" vector (containing 0 if non-cat, 1 if cat), of shape (1, number of examples)\n",
        "    num_iterations -- number of iterations of the optimization loop\n",
        "    learning_rate -- learning rate of the gradient descent update rule\n",
        "    print_cost -- True to print the loss every 100 steps\n",
        "    \n",
        "    Returns:\n",
        "    params -- dictionary containing the weights w and bias b\n",
        "    grads -- dictionary containing the gradients of the weights and bias with respect to the cost function\n",
        "    costs -- list of all the costs computed during the optimization, this will be used to plot the learning curve.\n",
        "    \"\"\"\n",
        "    \n",
        "    costs = []\n",
        "    \n",
        "    for i in range(num_iterations):\n",
        "        \n",
        "        # Cost and gradient calculation (≈ 1-4 lines of code)\n",
        "        grads, cost = propagate(w, b, X, Y)\n",
        "              \n",
        "        # Retrieve derivatives from grads\n",
        "        dw = grads[\"dw\"]\n",
        "        db = grads[\"db\"]\n",
        "        \n",
        "        # update rule (≈ 2 lines of code)\n",
        "        w = w - (learning_rate * dw)\n",
        "        b = b - (learning_rate * db)\n",
        "              \n",
        "        # Record the costs\n",
        "        if i % 100 == 0:\n",
        "            costs.append(cost)\n",
        "        \n",
        "        # Print the cost every 100 training iterations\n",
        "        if print_cost and i % 100 == 0:\n",
        "            print (\"Cost after iteration %i: %f\" %(i, cost))\n",
        "    \n",
        "    params = {\"w\": w, \"b\": b}\n",
        "    \n",
        "    grads = {\"dw\": dw, \"db\": db}\n",
        "    \n",
        "    return params, grads, costs"
      ],
      "execution_count": 0,
      "outputs": []
    },
    {
      "cell_type": "code",
      "metadata": {
        "id": "ToKXcILYtt9I",
        "colab_type": "code",
        "outputId": "cd08088f-3c2a-4bbc-c203-8b6d54a9b32a",
        "colab": {
          "base_uri": "https://localhost:8080/",
          "height": 126
        }
      },
      "source": [
        "params, grads, costs = optimize(w, b, X, Y, num_iterations= 100, learning_rate = 0.009, print_cost = False)\n",
        "\n",
        "print (\"w = \" + str(params[\"w\"]))\n",
        "print (\"b = \" + str(params[\"b\"]))\n",
        "print (\"dw = \" + str(grads[\"dw\"]))\n",
        "print (\"db = \" + str(grads[\"db\"]))"
      ],
      "execution_count": 0,
      "outputs": [
        {
          "output_type": "stream",
          "text": [
            "w = [[0.19033591]\n",
            " [0.12259159]]\n",
            "b = [[1.92535983]]\n",
            "dw = [[0.67752042]\n",
            " [1.41625495]]\n",
            "db = [[0.2191945]]\n"
          ],
          "name": "stdout"
        }
      ]
    },
    {
      "cell_type": "markdown",
      "metadata": {
        "id": "8sKBkxNOtznq",
        "colab_type": "text"
      },
      "source": [
        "##Predict function\n"
      ]
    },
    {
      "cell_type": "code",
      "metadata": {
        "id": "NKxQpbkytvq5",
        "colab_type": "code",
        "colab": {}
      },
      "source": [
        "def prediction(w, b, X):\n",
        "       \n",
        "    m = X.shape[1]\n",
        "    Y_prediction = np.zeros((1,m))\n",
        "    w = w.reshape(X.shape[0], 1)\n",
        "\n",
        "    A = sigmoid(np.dot(w.T, X) + b)    \n",
        "    for i in range(A.shape[1]):            \n",
        "        if A[0][i] > 0.5:\n",
        "            Y_prediction[0][i] = 1\n",
        "        else:\n",
        "            Y_prediction[0][i] = 0\n",
        "        pass    \n",
        "    \n",
        "    assert(Y_prediction.shape == (1, m))\n",
        "    \n",
        "    return Y_prediction"
      ],
      "execution_count": 0,
      "outputs": []
    },
    {
      "cell_type": "code",
      "metadata": {
        "id": "boQ5iNTst0w5",
        "colab_type": "code",
        "outputId": "30959324-055b-4b16-80e0-008f1db74685",
        "colab": {
          "base_uri": "https://localhost:8080/",
          "height": 35
        }
      },
      "source": [
        "w = np.array([[0.1124579],[0.23106775]])\n",
        "b = -0.3\n",
        "X = np.array([[1.,-1.1,-3.2],[1.2,2.,0.1]])\n",
        "print (prediction(w, b, X))"
      ],
      "execution_count": 0,
      "outputs": [
        {
          "output_type": "stream",
          "text": [
            "[[1. 1. 0.]]\n"
          ],
          "name": "stdout"
        }
      ]
    },
    {
      "cell_type": "markdown",
      "metadata": {
        "id": "kv8Uj7UGt6ry",
        "colab_type": "text"
      },
      "source": [
        "# Merge all functions into a model"
      ]
    },
    {
      "cell_type": "code",
      "metadata": {
        "id": "8bDuqjP5t3Vq",
        "colab_type": "code",
        "colab": {}
      },
      "source": [
        "def create_model(X_train, Y_train, X_test, Y_test, num_iterations = 2000, learning_rate = 0.5, print_cost = False):       \n",
        "    w, b = np.zeros((X_train.shape[0], 1)), 0\n",
        " \n",
        "    parameters, grads, costs = optimize(w, b, X_train, Y_train, num_iterations, learning_rate, print_cost)\n",
        "    \n",
        "    w = parameters[\"w\"]\n",
        "    b = parameters[\"b\"]\n",
        "\n",
        "    Y_prediction_test = prediction(w, b, X_test)\n",
        "    Y_prediction_train = prediction(w, b, X_train)\n",
        "    \n",
        "    print(\"training accuracy: {} %\".format(100 - np.mean(np.abs(Y_prediction_train - Y_train)) * 100))\n",
        "    print(\"testing accuracy: {} %\".format(100 - np.mean(np.abs(Y_prediction_test - Y_test)) * 100))\n",
        "\n",
        "    \n",
        "    summary = {\"costs\": costs,\"Y_prediction_test\": Y_prediction_test, \n",
        "         \"Y_prediction_train\" : Y_prediction_train, \n",
        "         \"w\" : w,  \"b\" : b, \"learning_rate\" : learning_rate,\n",
        "         \"num_iterations\": num_iterations}\n",
        "    \n",
        "    return summary"
      ],
      "execution_count": 0,
      "outputs": []
    },
    {
      "cell_type": "markdown",
      "metadata": {
        "id": "cSIg0dhTt_xN",
        "colab_type": "text"
      },
      "source": [
        "Training"
      ]
    },
    {
      "cell_type": "code",
      "metadata": {
        "id": "69x0vRm2t9dD",
        "colab_type": "code",
        "outputId": "409674c8-407b-43d3-edbc-9c80589da802",
        "colab": {
          "base_uri": "https://localhost:8080/",
          "height": 417
        }
      },
      "source": [
        "model = create_model(train_set_X, train_set_y, test_set_X, test_set_y, num_iterations = 2000, learning_rate = 0.005, print_cost = True)"
      ],
      "execution_count": 0,
      "outputs": [
        {
          "output_type": "stream",
          "text": [
            "Cost after iteration 0: 0.693147\n",
            "Cost after iteration 100: 0.584508\n",
            "Cost after iteration 200: 0.466949\n",
            "Cost after iteration 300: 0.376007\n",
            "Cost after iteration 400: 0.331463\n",
            "Cost after iteration 500: 0.303273\n",
            "Cost after iteration 600: 0.279880\n",
            "Cost after iteration 700: 0.260042\n",
            "Cost after iteration 800: 0.242941\n",
            "Cost after iteration 900: 0.228004\n",
            "Cost after iteration 1000: 0.214820\n",
            "Cost after iteration 1100: 0.203078\n",
            "Cost after iteration 1200: 0.192544\n",
            "Cost after iteration 1300: 0.183033\n",
            "Cost after iteration 1400: 0.174399\n",
            "Cost after iteration 1500: 0.166521\n",
            "Cost after iteration 1600: 0.159305\n",
            "Cost after iteration 1700: 0.152667\n",
            "Cost after iteration 1800: 0.146542\n",
            "Cost after iteration 1900: 0.140872\n",
            "training accuracy: 99.04306220095694 %\n",
            "testing accuracy: 70.0 %\n"
          ],
          "name": "stdout"
        }
      ]
    },
    {
      "cell_type": "markdown",
      "metadata": {
        "id": "mCFsld2UuDg0",
        "colab_type": "text"
      },
      "source": [
        "## Plot learning rate curve (with costs)"
      ]
    },
    {
      "cell_type": "code",
      "metadata": {
        "id": "f1LViUEHuAcK",
        "colab_type": "code",
        "outputId": "dda5e869-88c4-409f-e69c-76b06f3f7e53",
        "colab": {
          "base_uri": "https://localhost:8080/",
          "height": 295
        }
      },
      "source": [
        "costs = np.squeeze(model['costs'])\n",
        "plt.plot(costs)\n",
        "plt.ylabel('cost')\n",
        "plt.xlabel('iterations (per 100s)')\n",
        "plt.title(\"Learning rate =\" +str(model['learning_rate']))\n",
        "plt.show()"
      ],
      "execution_count": 0,
      "outputs": [
        {
          "output_type": "display_data",
          "data": {
            "image/png": "[encoded data removed]",
            "text/plain": [
              "<Figure size 432x288 with 1 Axes>"
            ]
          },
          "metadata": {
            "tags": [],
            "needs_background": "light"
          }
        }
      ]
    }
  ]
}