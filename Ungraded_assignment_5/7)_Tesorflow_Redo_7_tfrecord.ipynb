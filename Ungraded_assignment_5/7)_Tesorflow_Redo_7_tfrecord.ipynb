{
  "nbformat": 4,
  "nbformat_minor": 0,
  "metadata": {
    "colab": {
      "name": "7)_Tesorflow_Redo_7_tfrecord.ipynb",
      "provenance": [],
      "collapsed_sections": [
        "pL--_KGdYoBz"
      ],
      "toc_visible": true,
      "include_colab_link": true
    },
    "kernelspec": {
      "display_name": "Python 3",
      "language": "python",
      "name": "python3"
    },
    "accelerator": "GPU"
  },
  "cells": [
    {
      "cell_type": "markdown",
      "metadata": {
        "id": "view-in-github",
        "colab_type": "text"
      },
      "source": [
        "<a href=\"https://colab.research.google.com/github/zjzsu2000/CMPE258/blob/master/Ungraded_assignment_5/7)_Tesorflow_Redo_7_tfrecord.ipynb\" target=\"_parent\"><img src=\"https://colab.research.google.com/assets/colab-badge.svg\" alt=\"Open In Colab\"/></a>"
      ]
    },
    {
      "cell_type": "markdown",
      "metadata": {
        "colab_type": "text",
        "id": "pL--_KGdYoBz"
      },
      "source": [
        "\n",
        "##### REF:https://www.tensorflow.org/tutorials/load_data/tfrecord"
      ]
    },
    {
      "cell_type": "markdown",
      "metadata": {
        "colab_type": "text",
        "id": "3pkUd_9IZCFO"
      },
      "source": [
        "> The TFRecord format is a simple format for storing a sequence of binary records.\n",
        "\n",
        "> [Protocol buffers](https://developers.google.com/protocol-buffers/) are a cross-platform, cross-language library for efficient serialization of structured data.\n",
        "\n",
        "> Protocol messages are defined by `.proto` files, these are often the easiest way to understand a message type.\n",
        "\n",
        "> The `tf.Example` message (or protobuf) is a flexible message type that represents a `{\"string\": value}` mapping. It is designed for use with TensorFlow and is used throughout the higher-level APIs such as [TFX](https://www.tensorflow.org/tfx/)."
      ]
    },
    {
      "cell_type": "markdown",
      "metadata": {
        "colab_type": "text",
        "id": "Ac83J0QxjhFt"
      },
      "source": [
        "#How to create, parse, and use the `tf.Example` message, and then serialize, write, and read `tf.Example` messages to and from `.tfrecord` files."
      ]
    },
    {
      "cell_type": "markdown",
      "metadata": {
        "colab_type": "text",
        "id": "WkRreBf1eDVc"
      },
      "source": [
        "## install and import"
      ]
    },
    {
      "cell_type": "code",
      "metadata": {
        "colab_type": "code",
        "id": "Ja7sezsmnXph",
        "colab": {}
      },
      "source": [
        "!pip install tf-nightly\n",
        "import tensorflow as tf\n",
        "import numpy as np\n",
        "import IPython.display as display"
      ],
      "execution_count": 0,
      "outputs": []
    },
    {
      "cell_type": "markdown",
      "metadata": {
        "colab_type": "text",
        "id": "e5Kq88ccUWQV"
      },
      "source": [
        "## `tf.Example`"
      ]
    },
    {
      "cell_type": "markdown",
      "metadata": {
        "colab_type": "text",
        "id": "VrdQHgvNijTi"
      },
      "source": [
        "### Data types for `tf.Example`"
      ]
    },
    {
      "cell_type": "markdown",
      "metadata": {
        "colab_type": "text",
        "id": "lZw57Qrn4CTE"
      },
      "source": [
        "Fundamentally, a `tf.Example` is a `{\"string\": tf.train.Feature}` mapping.\n",
        "\n",
        "The `tf.train.Feature` message type can accept one of the following three types (See the [`.proto` file](https://github.com/tensorflow/tensorflow/blob/master/tensorflow/core/example/feature.proto) for reference). Most other generic types can be coerced into one of these:\n",
        "\n",
        "1. `tf.train.BytesList` (the following types can be coerced)\n",
        "\n",
        "  - `string`\n",
        "  - `byte`\n",
        "\n",
        "1. `tf.train.FloatList` (the following types can be coerced)\n",
        "\n",
        "  - `float` (`float32`)\n",
        "  - `double` (`float64`)\n",
        "\n",
        "1. `tf.train.Int64List` (the following types can be coerced)\n",
        "\n",
        "  - `bool`\n",
        "  - `enum`\n",
        "  - `int32`\n",
        "  - `uint32`\n",
        "  - `int64`\n",
        "  - `uint64`"
      ]
    },
    {
      "cell_type": "markdown",
      "metadata": {
        "colab_type": "text",
        "id": "_e3g9ExathXP"
      },
      "source": [
        "##Functions to convert a standard TensorFlow type to a `tf.Example`-compatible `tf.train.Feature`.\n",
        "\n",
        ">  Note:Each function takes a scalar input value and returns a `tf.train.Feature` containing one of the three `list` types above."
      ]
    },
    {
      "cell_type": "code",
      "metadata": {
        "colab_type": "code",
        "id": "mbsPOUpVtYxA",
        "colab": {}
      },
      "source": [
        "def _bytes_feature(value):\n",
        "  \"\"\"Returns a bytes_list from a string / byte.\"\"\"\n",
        "  if isinstance(value, type(tf.constant(0))):\n",
        "    value = value.numpy() # BytesList won't unpack a string from an EagerTensor.\n",
        "  return tf.train.Feature(bytes_list=tf.train.BytesList(value=[value]))\n",
        "\n",
        "def _float_feature(value):\n",
        "  \"\"\"Returns a float_list from a float / double.\"\"\"\n",
        "  return tf.train.Feature(float_list=tf.train.FloatList(value=[value]))\n",
        "\n",
        "def _int64_feature(value):\n",
        "  \"\"\"Returns an int64_list from a bool / enum / int / uint.\"\"\"\n",
        "  return tf.train.Feature(int64_list=tf.train.Int64List(value=[value]))"
      ],
      "execution_count": 0,
      "outputs": []
    },
    {
      "cell_type": "markdown",
      "metadata": {
        "colab_type": "text",
        "id": "Wst0v9O8hgzy"
      },
      "source": [
        "Note: To stay simple, this example only uses scalar inputs. The simplest way to handle non-scalar features is to use `tf.serialize_tensor` to convert tensors to binary-strings. Strings are scalars in tensorflow. Use `tf.parse_tensor` to convert the binary-string back to a tensor."
      ]
    },
    {
      "cell_type": "markdown",
      "metadata": {
        "colab_type": "text",
        "id": "vsMbkkC8xxtB"
      },
      "source": [
        "Below are some examples of how these functions work. Note the varying input types and the standardized output types. If the input type for a function does not match one of the coercible types stated above, the function will raise an exception (e.g. `_int64_feature(1.0)` will error out, since `1.0` is a float, so should be used with the `_float_feature` function instead):"
      ]
    },
    {
      "cell_type": "markdown",
      "metadata": {
        "id": "pzV9hJsHXZlv",
        "colab_type": "text"
      },
      "source": [
        "####testing"
      ]
    },
    {
      "cell_type": "code",
      "metadata": {
        "colab_type": "code",
        "id": "hZzyLGr0u73y",
        "colab": {}
      },
      "source": [
        "print(_bytes_feature(b'test_string'))\n",
        "print(_bytes_feature(u'test_bytes'.encode('utf-8')))\n",
        "\n",
        "print(_float_feature(np.exp(1)))\n",
        "\n",
        "print(_int64_feature(True))\n",
        "print(_int64_feature(1))"
      ],
      "execution_count": 0,
      "outputs": []
    },
    {
      "cell_type": "markdown",
      "metadata": {
        "colab_type": "text",
        "id": "nj1qpfQU5qmi"
      },
      "source": [
        "All proto messages can be serialized to a binary-string using the `.SerializeToString` method:"
      ]
    },
    {
      "cell_type": "code",
      "metadata": {
        "colab_type": "code",
        "id": "5afZkORT5pjm",
        "colab": {}
      },
      "source": [
        "feature = _float_feature(np.exp(1))\n",
        "\n",
        "feature.SerializeToString()"
      ],
      "execution_count": 0,
      "outputs": []
    },
    {
      "cell_type": "markdown",
      "metadata": {
        "colab_type": "text",
        "id": "laKnw9F3hL-W"
      },
      "source": [
        "### Creating a `tf.Example` message"
      ]
    },
    {
      "cell_type": "markdown",
      "metadata": {
        "colab_type": "text",
        "id": "b_MEnhxchQPC"
      },
      "source": [
        "Suppose you want to create a `tf.Example` message from existing data. In practice, the dataset may come from anywhere, but the procedure of creating the `tf.Example` message from a single observation will be the same:\n",
        "\n",
        "1. Within each observation, each value needs to be converted to a `tf.train.Feature` containing one of the 3 compatible types, using one of the functions above.\n",
        "\n",
        "1. create a map (dictionary) from the feature name string to the encoded feature value produced in #1.\n",
        "\n",
        "1. The map produced in step 2 is converted to a [`Features` message](https://github.com/tensorflow/tensorflow/blob/master/tensorflow/core/example/feature.proto#L85)."
      ]
    },
    {
      "cell_type": "markdown",
      "metadata": {
        "colab_type": "text",
        "id": "4EgFQ2uHtchc"
      },
      "source": [
        "Using NumPy to create the dataset with 4 features:\n",
        "\n",
        "* a boolean feature, `False` or `True` with equal probability\n",
        "* an integer feature uniformly randomly chosen from `[0, 5]`\n",
        "* a string feature generated from a string table by using the integer feature as an index\n",
        "* a float feature from a standard normal distribution\n",
        "\n",
        "Consider a sample consisting of 10,000 independently and identically distributed observations from each of the above distributions:"
      ]
    },
    {
      "cell_type": "code",
      "metadata": {
        "colab_type": "code",
        "id": "CnrguFAy3YQv",
        "colab": {}
      },
      "source": [
        "# The number of observations in the dataset.\n",
        "n_obsers = int(1e4)\n",
        "\n",
        "# Boolean feature, encoded as False or True.\n",
        "feature0 = np.random.choice([False, True], n_obsers)\n",
        "\n",
        "# Integer feature, random from 0 to 4.\n",
        "feature1 = np.random.randint(0, 5, n_obsers)\n",
        "\n",
        "# String feature\n",
        "strings = np.array([b'cat', b'dog', b'chicken', b'horse', b'goat'])\n",
        "feature2 = strings[feature1]\n",
        "\n",
        "# Float feature, from a standard normal distribution\n",
        "feature3 = np.random.randn(n_obsers)"
      ],
      "execution_count": 0,
      "outputs": []
    },
    {
      "cell_type": "markdown",
      "metadata": {
        "colab_type": "text",
        "id": "aGrscehJr7Jd"
      },
      "source": [
        "Each of these features can be coerced into a `tf.Example`-compatible type using one of the functions( `_bytes_feature`, `_float_feature`, `_int64_feature`). You can then create a `tf.Example` message from these encoded features:"
      ]
    },
    {
      "cell_type": "code",
      "metadata": {
        "id": "IPoFPb68ZXl1",
        "colab_type": "code",
        "colab": {}
      },
      "source": [
        "from tensorflow.train import Example, Features"
      ],
      "execution_count": 0,
      "outputs": []
    },
    {
      "cell_type": "code",
      "metadata": {
        "colab_type": "code",
        "id": "RTCS49Ij_kUw",
        "colab": {}
      },
      "source": [
        "def serialize_example(feature0, feature1, feature2, feature3):\n",
        "  \"\"\"\n",
        "  Creates a tf.Example message ready to be written to a file.\n",
        "  \"\"\"\n",
        "  feature = { 'feature0': _int64_feature(feature0),\n",
        "      'feature1': _int64_feature(feature1),\n",
        "      'feature2': _bytes_feature(feature2),\n",
        "      'feature3': _float_feature(feature3), }\n",
        "\n",
        "  # Create a Features message using tf.train.Example.\n",
        "\n",
        "  example_proto = Example(features=Features(feature=feature))\n",
        "  return example_proto.SerializeToString()"
      ],
      "execution_count": 0,
      "outputs": []
    },
    {
      "cell_type": "markdown",
      "metadata": {
        "colab_type": "text",
        "id": "XftzX9CN_uGT"
      },
      "source": [
        "Each single observation will be written as a `Features` message as per the above. \n",
        "> Note:The `tf.Example` [message](https://github.com/tensorflow/tensorflow/blob/master/tensorflow/core/example/example.proto#L88) is just a wrapper around the `Features` message:"
      ]
    },
    {
      "cell_type": "code",
      "metadata": {
        "colab_type": "code",
        "id": "N8BtSx2RjYcb",
        "colab": {}
      },
      "source": [
        "# This is an example observation from the dataset.\n",
        "\n",
        "example_obser = []\n",
        "\n",
        "serialized_example = serialize_example(False, 4, b'goat', 0.9876)\n",
        "serialized_example"
      ],
      "execution_count": 0,
      "outputs": []
    },
    {
      "cell_type": "markdown",
      "metadata": {
        "colab_type": "text",
        "id": "_pbGATlG6u-4"
      },
      "source": [
        "To decode the message use the `tf.train.Example.FromString` method."
      ]
    },
    {
      "cell_type": "code",
      "metadata": {
        "colab_type": "code",
        "id": "dGim-mEm6vit",
        "colab": {}
      },
      "source": [
        "example_proto = Example.FromString(serialized_example)\n",
        "example_proto"
      ],
      "execution_count": 0,
      "outputs": []
    },
    {
      "cell_type": "markdown",
      "metadata": {
        "colab_type": "text",
        "id": "o6qxofy89obI"
      },
      "source": [
        "## TFRecords format details\n",
        "\n",
        "A TFRecord file contains a sequence of records. The file can only be read sequentially.\n",
        "\n",
        "Each record contains a byte-string, for the data-payload, plus the data-length, and  CRC32C (32-bit CRC using the Castagnoli polynomial) hashes for integrity checking.\n",
        "\n",
        "Each record is stored in the following formats:\n",
        "\n",
        "    uint64 length\n",
        "    uint32 masked_crc32_of_length\n",
        "    byte   data[length]\n",
        "    uint32 masked_crc32_of_data\n",
        "\n",
        "The records are concatenated together to produce the file. CRCs（Cyclic redundancy check） are\n",
        "[described here](https://en.wikipedia.org/wiki/Cyclic_redundancy_check), and\n",
        "the mask of a CRC is:\n",
        "\n",
        "    masked_crc = ((crc >> 15) | (crc << 17)) + 0xa282ead8ul\n",
        "> Note: There is no requirement to use `tf.Example` in TFRecord files. `tf.Example` is just a method of serializing dictionaries to byte-strings. Lines of text, encoded  image data, or serialized tensors (using `tf.io.serialize_tensor`, and\n",
        "`tf.io.parse_tensor` when loading). See the `tf.io` module for more options."
      ]
    },
    {
      "cell_type": "markdown",
      "metadata": {
        "colab_type": "text",
        "id": "y-Hjmee-fbLH"
      },
      "source": [
        "## TFRecord files using `tf.data`"
      ]
    },
    {
      "cell_type": "markdown",
      "metadata": {
        "colab_type": "text",
        "id": "1FISEuz8ubu3"
      },
      "source": [
        "### Writing a TFRecord file\n",
        "\n",
        "The easiest way to get the data into a dataset is to use the `from_tensor_slices` method.\n",
        "\n",
        "Applied to an array, it returns a dataset of scalars:"
      ]
    },
    {
      "cell_type": "code",
      "metadata": {
        "id": "oRoZs99-a_te",
        "colab_type": "code",
        "colab": {}
      },
      "source": [
        "from tensorflow.data import Dataset"
      ],
      "execution_count": 0,
      "outputs": []
    },
    {
      "cell_type": "code",
      "metadata": {
        "colab_type": "code",
        "id": "mXeaukvwu5_-",
        "colab": {}
      },
      "source": [
        "Dataset.from_tensor_slices(feature1)"
      ],
      "execution_count": 0,
      "outputs": []
    },
    {
      "cell_type": "markdown",
      "metadata": {
        "colab_type": "text",
        "id": "f-q0VKyZvcad"
      },
      "source": [
        "Applied to a tuple of arrays, it returns a dataset of tuples:"
      ]
    },
    {
      "cell_type": "code",
      "metadata": {
        "colab_type": "code",
        "id": "H5sWyu1kxnvg",
        "colab": {}
      },
      "source": [
        "features_ds = Dataset.from_tensor_slices((feature0, feature1, feature2, feature3))\n",
        "features_ds"
      ],
      "execution_count": 0,
      "outputs": []
    },
    {
      "cell_type": "code",
      "metadata": {
        "colab_type": "code",
        "id": "m1C-t71Nywze",
        "colab": {}
      },
      "source": [
        "# Use `take(1)` to only pull one example from the dataset.\n",
        "for f0,f1,f2,f3 in features_ds.take(1):\n",
        "  print(f0)\n",
        "  print(f1)\n",
        "  print(f2)\n",
        "  print(f3)"
      ],
      "execution_count": 0,
      "outputs": []
    },
    {
      "cell_type": "markdown",
      "metadata": {
        "colab_type": "text",
        "id": "mhIe63awyZYd"
      },
      "source": [
        "Use the `tf.data.Dataset.map` method to apply a function to each element of a `Dataset`.\n",
        "\n",
        ">Note:The mapped function must operate in TensorFlow graph mode—it must operate on and return `tf.Tensors`. A non-tensor function, like `serialize_example`, can be wrapped with `tf.py_function` to make it compatible.\n",
        "\n",
        "> Using `tf.py_function` requires to specify the shape and type information that is otherwise unavailable:"
      ]
    },
    {
      "cell_type": "code",
      "metadata": {
        "colab_type": "code",
        "id": "apB5KYrJzjPI",
        "colab": {}
      },
      "source": [
        "def tf_Serialize_example(f0,f1,f2,f3):\n",
        "  tf_string = tf.py_function(serialize_example,\n",
        "    (f0,f1,f2,f3),  # pass these args to the above function.\n",
        "    tf.string)      # the return type is `tf.string`.\n",
        "  return tf.reshape(tf_string, ()) # The result is a scalar"
      ],
      "execution_count": 0,
      "outputs": []
    },
    {
      "cell_type": "code",
      "metadata": {
        "colab_type": "code",
        "id": "lHFjW4u4Npz9",
        "colab": {}
      },
      "source": [
        "tf_Serialize_example(f0,f1,f2,f3)"
      ],
      "execution_count": 0,
      "outputs": []
    },
    {
      "cell_type": "markdown",
      "metadata": {
        "colab_type": "text",
        "id": "CrFZ9avE3HUF"
      },
      "source": [
        "Apply this function to each element in the dataset:"
      ]
    },
    {
      "cell_type": "code",
      "metadata": {
        "colab_type": "code",
        "id": "VDeqYVbW3ww9",
        "colab": {}
      },
      "source": [
        "serialized_features_ds = features_ds.map(tf_Serialize_example)\n",
        "serialized_features_ds"
      ],
      "execution_count": 0,
      "outputs": []
    },
    {
      "cell_type": "code",
      "metadata": {
        "colab_type": "code",
        "id": "DlDfuh46bRf6",
        "colab": {}
      },
      "source": [
        "def generator():\n",
        "  for features in features_ds:\n",
        "    yield serialize_example(*features)"
      ],
      "execution_count": 0,
      "outputs": []
    },
    {
      "cell_type": "code",
      "metadata": {
        "colab_type": "code",
        "id": "iv9oXKrcbhvX",
        "colab": {}
      },
      "source": [
        "serialized_features_ds = Dataset.from_generator(\n",
        "    generator, output_types=tf.string, output_shapes=())"
      ],
      "execution_count": 0,
      "outputs": []
    },
    {
      "cell_type": "code",
      "metadata": {
        "colab_type": "code",
        "id": "Dqz8C4D5cIj9",
        "colab": {}
      },
      "source": [
        "serialized_features_ds"
      ],
      "execution_count": 0,
      "outputs": []
    },
    {
      "cell_type": "markdown",
      "metadata": {
        "colab_type": "text",
        "id": "p6lw5VYpjZZC"
      },
      "source": [
        "And write them to a TFRecord file:"
      ]
    },
    {
      "cell_type": "code",
      "metadata": {
        "id": "cOgObVODcemM",
        "colab_type": "code",
        "colab": {}
      },
      "source": [
        "from tensorflow.data.experimental import TFRecordWriter"
      ],
      "execution_count": 0,
      "outputs": []
    },
    {
      "cell_type": "code",
      "metadata": {
        "colab_type": "code",
        "id": "vP1VgTO44UIE",
        "colab": {}
      },
      "source": [
        "file_path = 'test.tfrecord'\n",
        "writer = TFRecordWriter(file_path)\n",
        "writer.write(serialized_features_ds)"
      ],
      "execution_count": 0,
      "outputs": []
    },
    {
      "cell_type": "markdown",
      "metadata": {
        "colab_type": "text",
        "id": "6aV0GQhV8tmp"
      },
      "source": [
        "### Reading a TFRecord file"
      ]
    },
    {
      "cell_type": "markdown",
      "metadata": {
        "colab_type": "text",
        "id": "o3J5D4gcSy8N"
      },
      "source": [
        "You can also read the TFRecord file using the `TFRecordDataset` class.\n",
        "\n",
        "More information on consuming TFRecord files using `tf.data` can be found [here](https://www.tensorflow.org/guide/datasets#consuming_tfrecord_data).\n",
        "\n",
        "Using `TFRecordDataset`s can be useful for standardizing input data and optimizing performance."
      ]
    },
    {
      "cell_type": "code",
      "metadata": {
        "id": "IyH5NYogc4jQ",
        "colab_type": "code",
        "colab": {}
      },
      "source": [
        "from tensorflow.data import TFRecordDataset"
      ],
      "execution_count": 0,
      "outputs": []
    },
    {
      "cell_type": "code",
      "metadata": {
        "colab_type": "code",
        "id": "6OjX6UZl-bHC",
        "colab": {}
      },
      "source": [
        "filenames = [file_path]\n",
        "raw_dataset = TFRecordDataset(filenames)\n",
        "raw_dataset"
      ],
      "execution_count": 0,
      "outputs": []
    },
    {
      "cell_type": "markdown",
      "metadata": {
        "colab_type": "text",
        "id": "6_EQ9i2E_-Fz"
      },
      "source": [
        "At this point the dataset contains serialized `tf.train.Example` messages. When iterated over it returns these as scalar string tensors.\n",
        "\n",
        "Use the `.take` method to only show the first 10 records.\n",
        "\n",
        ">Note: iterating over a `tf.data.Dataset` only works with eager execution enabled."
      ]
    },
    {
      "cell_type": "code",
      "metadata": {
        "colab_type": "code",
        "id": "hxVXpLz_AJlm",
        "colab": {}
      },
      "source": [
        "for record in raw_dataset.take(10):\n",
        "  print(repr(record))"
      ],
      "execution_count": 0,
      "outputs": []
    },
    {
      "cell_type": "markdown",
      "metadata": {
        "colab_type": "text",
        "id": "W-6oNzM4luFQ"
      },
      "source": [
        "####function to parse tensors.\n",
        "\n",
        ">Note: the `feature_description` is necessary here because datasets use graph-execution, and need this description to build their shape and type signature:"
      ]
    },
    {
      "cell_type": "code",
      "metadata": {
        "colab_type": "code",
        "id": "zQjbIR1nleiy",
        "colab": {}
      },
      "source": [
        "# Create a description of the features.\n",
        "feature_description = {\n",
        "    'feature0': tf.io.FixedLenFeature([], tf.int64, default_value=0),\n",
        "    'feature1': tf.io.FixedLenFeature([], tf.int64, default_value=0),\n",
        "    'feature2': tf.io.FixedLenFeature([], tf.string, default_value=''),\n",
        "    'feature3': tf.io.FixedLenFeature([], tf.float32, default_value=0.0),\n",
        "}\n",
        "\n",
        "def _parse_function(example_proto):\n",
        "  # Parse the input `tf.Example` proto using the dictionary above.\n",
        "  return tf.io.parse_single_example(example_proto, feature_description)"
      ],
      "execution_count": 0,
      "outputs": []
    },
    {
      "cell_type": "code",
      "metadata": {
        "colab_type": "code",
        "id": "6Ob7D-zmBm1w",
        "colab": {}
      },
      "source": [
        "parsed_dataset = raw_dataset.map(_parse_function)\n",
        "parsed_dataset"
      ],
      "execution_count": 0,
      "outputs": []
    },
    {
      "cell_type": "markdown",
      "metadata": {
        "colab_type": "text",
        "id": "sNV-XclGnOvn"
      },
      "source": [
        "Use eager execution to display the observations in the dataset. There are 10,000 observations in this dataset, but we will only display the first 10. The data is displayed as a dictionary of features. Each item is a `tf.Tensor`, and the `numpy` element of this tensor displays the value of the feature:"
      ]
    },
    {
      "cell_type": "code",
      "metadata": {
        "colab_type": "code",
        "id": "x2LT2JCqhoD_",
        "colab": {}
      },
      "source": [
        "for parsed_record in parsed_dataset.take(10):\n",
        "  print(repr(parsed_record))"
      ],
      "execution_count": 0,
      "outputs": []
    },
    {
      "cell_type": "markdown",
      "metadata": {
        "colab_type": "text",
        "id": "Cig9EodTlDmg"
      },
      "source": [
        "Here, the `tf.parse_example` function unpacks the `tf.Example` fields into standard tensors."
      ]
    },
    {
      "cell_type": "markdown",
      "metadata": {
        "colab_type": "text",
        "id": "jyg1g3gU7DNn"
      },
      "source": [
        "## TFRecord files in Python"
      ]
    },
    {
      "cell_type": "markdown",
      "metadata": {
        "colab_type": "text",
        "id": "CKn5uql2lAaN"
      },
      "source": [
        "### Writing a TFRecord file"
      ]
    },
    {
      "cell_type": "markdown",
      "metadata": {
        "colab_type": "text",
        "id": "LNW_FA-GQWXs"
      },
      "source": [
        "Write the 10,000 observations to the file `test.tfrecord`. Each observation is converted to a `tf.Example` message, then written to file."
      ]
    },
    {
      "cell_type": "code",
      "metadata": {
        "id": "IwpRos4Fd9pc",
        "colab_type": "code",
        "colab": {}
      },
      "source": [
        "from tensorflow.io import TFRecordWriter"
      ],
      "execution_count": 0,
      "outputs": []
    },
    {
      "cell_type": "code",
      "metadata": {
        "colab_type": "code",
        "id": "MKPHzoGv7q44",
        "colab": {}
      },
      "source": [
        "# Write the `tf.Example` observations to the file.\n",
        "with TFRecordWriter(file_path) as writer:\n",
        "  for i in range(n_obsers):\n",
        "    example = serialize_example(feature0[i], feature1[i], feature2[i], feature3[i])\n",
        "    writer.write(example)"
      ],
      "execution_count": 0,
      "outputs": []
    },
    {
      "cell_type": "code",
      "metadata": {
        "colab_type": "code",
        "id": "EjdFHHJMpUUo",
        "colab": {}
      },
      "source": [
        "!du -sh {file_path}"
      ],
      "execution_count": 0,
      "outputs": []
    },
    {
      "cell_type": "markdown",
      "metadata": {
        "colab_type": "text",
        "id": "2osVRnYNni-E"
      },
      "source": [
        "### Reading a TFRecord file\n",
        "\n",
        "These serialized tensors can be easily parsed using `tf.train.Example.ParseFromString`:"
      ]
    },
    {
      "cell_type": "code",
      "metadata": {
        "colab_type": "code",
        "id": "U3tnd3LerOtV",
        "colab": {}
      },
      "source": [
        "filenames = [file_path]\n",
        "raw_dataset2 =TFRecordDataset(filenames)\n",
        "raw_dataset2"
      ],
      "execution_count": 0,
      "outputs": []
    },
    {
      "cell_type": "code",
      "metadata": {
        "colab_type": "code",
        "id": "nsEAACHcnm3f",
        "colab": {}
      },
      "source": [
        "for record2 in raw_dataset.take(1):\n",
        "  example = Example()\n",
        "  example.ParseFromString(record2.numpy())\n",
        "  print(example)"
      ],
      "execution_count": 0,
      "outputs": []
    },
    {
      "cell_type": "markdown",
      "metadata": {
        "colab_type": "text",
        "id": "S0tFDrwdoj3q"
      },
      "source": [
        "## Walkthrough: Reading and writing image data"
      ]
    },
    {
      "cell_type": "markdown",
      "metadata": {
        "colab_type": "text",
        "id": "5Lk2qrKvN0yu"
      },
      "source": [
        "### Fetch the images"
      ]
    },
    {
      "cell_type": "code",
      "metadata": {
        "colab_type": "code",
        "id": "3a0fmwg8lHdF",
        "colab": {}
      },
      "source": [
        "cat_in_snow  = tf.keras.utils.get_file('320px-Felis_catus-cat_on_snow.jpg', 'https://storage.googleapis.com/download.tensorflow.org/example_images/320px-Felis_catus-cat_on_snow.jpg')\n",
        "williamsburg_bridge = tf.keras.utils.get_file('194px-New_East_River_Bridge_from_Brooklyn_det.4a09796u.jpg','https://storage.googleapis.com/download.tensorflow.org/example_images/194px-New_East_River_Bridge_from_Brooklyn_det.4a09796u.jpg')"
      ],
      "execution_count": 0,
      "outputs": []
    },
    {
      "cell_type": "code",
      "metadata": {
        "colab_type": "code",
        "id": "7aJJh7vENeE4",
        "colab": {}
      },
      "source": [
        "display.display(display.Image(filename=cat_in_snow))\n",
        "display.display(display.HTML('Image cc-by: <a \"href=https://commons.wikimedia.org/wiki/File:Felis_catus-cat_on_snow.jpg\">Von.grzanka</a>'))"
      ],
      "execution_count": 0,
      "outputs": []
    },
    {
      "cell_type": "code",
      "metadata": {
        "colab_type": "code",
        "id": "KkW0uuhcXZqA",
        "colab": {}
      },
      "source": [
        "display.display(display.Image(filename=williamsburg_bridge))\n",
        "display.display(display.HTML('<a \"href=https://commons.wikimedia.org/wiki/File:New_East_River_Bridge_from_Brooklyn_det.4a09796u.jpg\">From Wikimedia</a>'))"
      ],
      "execution_count": 0,
      "outputs": []
    },
    {
      "cell_type": "markdown",
      "metadata": {
        "colab_type": "text",
        "id": "VSOgJSwoN5TQ"
      },
      "source": [
        "### Write the TFRecord file"
      ]
    },
    {
      "cell_type": "code",
      "metadata": {
        "colab_type": "code",
        "id": "kC4TS1ZEONHr",
        "colab": {}
      },
      "source": [
        "img_labels = {cat_in_snow : 0,\n",
        "              williamsburg_bridge : 1,}"
      ],
      "execution_count": 0,
      "outputs": []
    },
    {
      "cell_type": "code",
      "metadata": {
        "colab_type": "code",
        "id": "c5njMSYNEhNZ",
        "colab": {}
      },
      "source": [
        "# This is an example, just using the williamsburg_bridge image.\n",
        "img_str = open(williamsburg_bridge, 'rb').read()\n",
        "\n",
        "label = img_labels[williamsburg_bridge]\n",
        "\n",
        "# Create a dictionary with features that may be relevant.\n",
        "def img_example(img_str, label):\n",
        "  image_shape = tf.image.decode_jpeg(img_str).shape\n",
        "\n",
        "  feature = {'height': _int64_feature(image_shape[0]),\n",
        "      'width': _int64_feature(image_shape[1]),\n",
        "      'depth': _int64_feature(image_shape[2]),\n",
        "      'label': _int64_feature(label),\n",
        "      'image_raw': _bytes_feature(img_str),\n",
        "  }\n",
        "  return Example(features=Features(feature=feature))\n",
        "\n",
        "for line in str(img_example(img_str, label)).split('\\n')[:15]:\n",
        "  print(line)\n",
        "print('...')"
      ],
      "execution_count": 0,
      "outputs": []
    },
    {
      "cell_type": "markdown",
      "metadata": {
        "colab_type": "text",
        "id": "2G_o3O9MN0Qx"
      },
      "source": [
        "> Note:All of the features are now stored in the `tf.Example` message. "
      ]
    },
    {
      "cell_type": "markdown",
      "metadata": {
        "id": "uVr0OzVzfcxH",
        "colab_type": "text"
      },
      "source": [
        "####Functionalize the code above and write the example messages to a file named `images.tfrecords`:"
      ]
    },
    {
      "cell_type": "code",
      "metadata": {
        "colab_type": "code",
        "id": "qcw06lQCOCZU",
        "colab": {}
      },
      "source": [
        "# Write the raw image files to `images.tfrecords`.\n",
        "# First, process the two images into `tf.Example` messages.\n",
        "# Then, write to a `.tfrecords` file.\n",
        "record_file = 'images.tfrecords'\n",
        "with TFRecordWriter(record_file) as writer:\n",
        "  for filename, label in img_labels.items():\n",
        "    img_str = open(filename, 'rb').read()\n",
        "    tf_example = img_example(img_str, label)\n",
        "    writer.write(tf_example.SerializeToString())"
      ],
      "execution_count": 0,
      "outputs": []
    },
    {
      "cell_type": "code",
      "metadata": {
        "id": "w07IuNcIf9Tw",
        "colab_type": "code",
        "colab": {}
      },
      "source": [
        "!du -sh {record_file}"
      ],
      "execution_count": 0,
      "outputs": []
    },
    {
      "cell_type": "markdown",
      "metadata": {
        "id": "v457C_tZf_GJ",
        "colab_type": "text"
      },
      "source": [
        "### Read from TFRecord file"
      ]
    },
    {
      "cell_type": "code",
      "metadata": {
        "colab_type": "code",
        "id": "M6Cnfd3cTKHN",
        "colab": {}
      },
      "source": [
        "raw_image_dataset = TFRecordDataset('images.tfrecords')\n",
        "\n",
        "# Create a dictionary describing the features.\n",
        "image_feature_description = {\n",
        "    'height': tf.io.FixedLenFeature([], tf.int64),\n",
        "    'width': tf.io.FixedLenFeature([], tf.int64),\n",
        "    'depth': tf.io.FixedLenFeature([], tf.int64),\n",
        "    'label': tf.io.FixedLenFeature([], tf.int64),\n",
        "    'image_raw': tf.io.FixedLenFeature([], tf.string),\n",
        "}\n",
        "\n"
      ],
      "execution_count": 0,
      "outputs": []
    },
    {
      "cell_type": "code",
      "metadata": {
        "id": "FfYT8k8DgKS8",
        "colab_type": "code",
        "colab": {}
      },
      "source": [
        "def _parse_image_function(example_proto):\n",
        "  # Parse the input tf.Example proto using the dictionary above.\n",
        "  return tf.io.parse_single_example(example_proto, image_feature_description)\n",
        "\n"
      ],
      "execution_count": 0,
      "outputs": []
    },
    {
      "cell_type": "code",
      "metadata": {
        "id": "jpZN2_QLgLuQ",
        "colab_type": "code",
        "colab": {}
      },
      "source": [
        "parsed_image_dataset = raw_image_dataset.map(_parse_image_function)\n",
        "parsed_image_dataset"
      ],
      "execution_count": 0,
      "outputs": []
    },
    {
      "cell_type": "markdown",
      "metadata": {
        "colab_type": "text",
        "id": "0PEEFPk4NEg1"
      },
      "source": [
        "Recover the images from the TFRecord file:"
      ]
    },
    {
      "cell_type": "code",
      "metadata": {
        "colab_type": "code",
        "id": "yZf8jOyEIjSF",
        "colab": {}
      },
      "source": [
        "for image_features in parsed_image_dataset:\n",
        "  image_raw = image_features['image_raw'].numpy()\n",
        "  display.display(display.Image(data=image_raw))"
      ],
      "execution_count": 0,
      "outputs": []
    }
  ]
}