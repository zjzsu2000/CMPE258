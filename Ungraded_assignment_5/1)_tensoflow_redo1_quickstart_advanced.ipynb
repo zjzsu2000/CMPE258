{
  "nbformat": 4,
  "nbformat_minor": 0,
  "metadata": {
    "colab": {
      "name": "1) tensoflow_redo1_quickstart_advanced.ipynb",
      "provenance": [],
      "collapsed_sections": [],
      "toc_visible": true,
      "include_colab_link": true
    },
    "kernelspec": {
      "display_name": "Python 3",
      "language": "python",
      "name": "python3"
    },
    "accelerator": "GPU"
  },
  "cells": [
    {
      "cell_type": "markdown",
      "metadata": {
        "id": "view-in-github",
        "colab_type": "text"
      },
      "source": [
        "<a href=\"https://colab.research.google.com/github/zjzsu2000/CMPE258/blob/master/Ungraded_assignment_5/1)_tensoflow_redo1_quickstart_advanced.ipynb\" target=\"_parent\"><img src=\"https://colab.research.google.com/assets/colab-badge.svg\" alt=\"Open In Colab\"/></a>"
      ]
    },
    {
      "cell_type": "markdown",
      "metadata": {
        "colab_type": "text",
        "id": "rX8mhOLljYeM"
      },
      "source": [
        "#####Ref:https://www.tensorflow.org/tutorials/quickstart/advanced"
      ]
    },
    {
      "cell_type": "markdown",
      "metadata": {
        "colab_type": "text",
        "id": "3wF5wszaj97Y"
      },
      "source": [
        "# Redo_ TensorFlow_2_quickstart_advanced"
      ]
    },
    {
      "cell_type": "markdown",
      "metadata": {
        "colab_type": "text",
        "id": "QS7DDTiZGRTo"
      },
      "source": [
        "##Import TensorFlow"
      ]
    },
    {
      "cell_type": "code",
      "metadata": {
        "colab_type": "code",
        "id": "0trJmd6DjqBZ",
        "colab": {}
      },
      "source": [
        "import tensorflow as tf\n",
        "from tensorflow import keras\n",
        "from tensorflow.keras.layers import Dense, Flatten, Conv2D\n",
        "from tensorflow.keras import Model"
      ],
      "execution_count": 0,
      "outputs": []
    },
    {
      "cell_type": "markdown",
      "metadata": {
        "colab_type": "text",
        "id": "7NAbSZiaoJ4z"
      },
      "source": [
        "##Load MNIST dataset "
      ]
    },
    {
      "cell_type": "code",
      "metadata": {
        "colab_type": "code",
        "id": "JqFRS6K07jJs",
        "colab": {}
      },
      "source": [
        "data = tf.keras.datasets.mnist\n",
        "\n",
        "(X_train, y_train), (X_test, y_test) = data.load_data()\n"
      ],
      "execution_count": 0,
      "outputs": []
    },
    {
      "cell_type": "code",
      "metadata": {
        "id": "ZBgHjXEydAQA",
        "colab_type": "code",
        "colab": {}
      },
      "source": [
        "#scaling\n",
        "X_train, X_test = X_train / 255.0, X_test / 255.0\n"
      ],
      "execution_count": 0,
      "outputs": []
    },
    {
      "cell_type": "code",
      "metadata": {
        "id": "Zum03HdudVGb",
        "colab_type": "code",
        "colab": {}
      },
      "source": [
        "# Add  channels dimension\n",
        "X_train = X_train[..., tf.newaxis]\n",
        "X_test = X_test[..., tf.newaxis]"
      ],
      "execution_count": 0,
      "outputs": []
    },
    {
      "cell_type": "markdown",
      "metadata": {
        "colab_type": "text",
        "id": "k1Evqx0S22r_"
      },
      "source": [
        "##Batch and shuffle the dataset:"
      ]
    },
    {
      "cell_type": "code",
      "metadata": {
        "colab_type": "code",
        "id": "8Iu_quO024c2",
        "colab": {}
      },
      "source": [
        "train = tf.data.Dataset.from_tensor_slices((X_train, y_train)).shuffle(10000).batch(32)\n",
        "\n",
        "test = tf.data.Dataset.from_tensor_slices((X_test, y_test)).batch(32)"
      ],
      "execution_count": 0,
      "outputs": []
    },
    {
      "cell_type": "markdown",
      "metadata": {
        "colab_type": "text",
        "id": "BPZ68wASog_I"
      },
      "source": [
        "##Build model"
      ]
    },
    {
      "cell_type": "code",
      "metadata": {
        "colab_type": "code",
        "id": "h3IKyzTCDNGo",
        "colab": {}
      },
      "source": [
        "class BiuldModel(Model):\n",
        "  def __init__(self):\n",
        "    super(BiuldModel, self).__init__()\n",
        "    self.conv_layer = Conv2D(32,3,activation='relu')\n",
        "    self.flatten_layer = Flatten()\n",
        "    self.dense1 = Dense(128,activation='relu')\n",
        "    self.dense2 = Dense(10)\n",
        "\n",
        "  def call(self, X):\n",
        "    X = self.conv_layer(X)\n",
        "    X = self.flatten_layer(X)\n",
        "    X = self.dense1(X)\n",
        "    return self.dense2(X)"
      ],
      "execution_count": 0,
      "outputs": []
    },
    {
      "cell_type": "markdown",
      "metadata": {
        "id": "kKtOuT85eIJa",
        "colab_type": "text"
      },
      "source": [
        "## Create instance"
      ]
    },
    {
      "cell_type": "code",
      "metadata": {
        "id": "_dQWOrbreG-X",
        "colab_type": "code",
        "colab": {}
      },
      "source": [
        "model = BiuldModel()"
      ],
      "execution_count": 0,
      "outputs": []
    },
    {
      "cell_type": "markdown",
      "metadata": {
        "colab_type": "text",
        "id": "uGih-c2LgbJu"
      },
      "source": [
        "##Choose optimizer and loss function"
      ]
    },
    {
      "cell_type": "code",
      "metadata": {
        "colab_type": "code",
        "id": "u48C9WQ774n4",
        "colab": {}
      },
      "source": [
        "loss = keras.losses.SparseCategoricalCrossentropy(from_logits=True)\n",
        "\n",
        "optimizer = keras.optimizers.Adam()"
      ],
      "execution_count": 0,
      "outputs": []
    },
    {
      "cell_type": "markdown",
      "metadata": {
        "colab_type": "text",
        "id": "JB6A1vcigsIe"
      },
      "source": [
        "## Select metrics"
      ]
    },
    {
      "cell_type": "code",
      "metadata": {
        "colab_type": "code",
        "id": "N0MqHFb4F_qn",
        "colab": {}
      },
      "source": [
        "train_loss = keras.metrics.Mean(name='train_loss')\n",
        "train_accuracy =keras.metrics.SparseCategoricalAccuracy(name='train_accuracy')\n",
        "test_loss = keras.metrics.Mean(name='test_loss')\n",
        "test_accuracy = keras.metrics.SparseCategoricalAccuracy(name='test_accuracy')"
      ],
      "execution_count": 0,
      "outputs": []
    },
    {
      "cell_type": "markdown",
      "metadata": {
        "colab_type": "text",
        "id": "ix4mEL65on-w"
      },
      "source": [
        "## Train the model by using `tf.GradientTape`"
      ]
    },
    {
      "cell_type": "markdown",
      "metadata": {
        "id": "qNWqDr3ehZkp",
        "colab_type": "text"
      },
      "source": [
        "###Train_step function"
      ]
    },
    {
      "cell_type": "code",
      "metadata": {
        "colab_type": "code",
        "id": "OZACiVqA8KQV",
        "colab": {}
      },
      "source": [
        "def train_step(imags, labels):\n",
        "  with tf.GradientTape() as tape:  \n",
        "    preds_train = model(imags, training=True)\n",
        "    loss_train = loss(labels, preds_train)\n",
        "  grads = tape.gradient(loss_train, model.trainable_variables)\n",
        "  optimizer.apply_gradients(zip(grads, model.trainable_variables))\n",
        "\n",
        "  train_loss(loss_train)\n",
        "  train_accuracy(labels, preds_train)"
      ],
      "execution_count": 0,
      "outputs": []
    },
    {
      "cell_type": "markdown",
      "metadata": {
        "colab_type": "text",
        "id": "Z8YT7UmFgpjV"
      },
      "source": [
        " ### model test function"
      ]
    },
    {
      "cell_type": "code",
      "metadata": {
        "colab_type": "code",
        "id": "xIKdEzHAJGt7",
        "colab": {}
      },
      "source": [
        "def test_step(imags, labels): \n",
        "  preds_test = model(imags, training=False)\n",
        "  loss_test = loss(labels, preds_test)\n",
        "\n",
        "  test_loss(loss_test)\n",
        "  test_accuracy(labels, preds_test)"
      ],
      "execution_count": 0,
      "outputs": []
    },
    {
      "cell_type": "code",
      "metadata": {
        "colab_type": "code",
        "id": "i-2pkctU_Ci7",
        "colab": {}
      },
      "source": [
        "EPOCHS = 10\n",
        "\n",
        "for epoch in range(EPOCHS):\n",
        "  # Reset the metrics at the start of the next epoch\n",
        "  train_loss.reset_states()\n",
        "  train_accuracy.reset_states()\n",
        "  test_loss.reset_states()\n",
        "  test_accuracy.reset_states()\n",
        "  for imgs, labels in train:\n",
        "    train_step(imgs, labels)\n",
        "\n",
        "  for test_imgs, test_labels in test:\n",
        "    test_step(test_imgs, test_labels)\n",
        "\n",
        "  str_temp = 'Epoch Num {}, Loss: {}, Accuracy: {}, Test Loss: {}, Test Accuracy: {}'\n",
        "  print(str_temp.format(epoch + 1,train_loss.result(),train_accuracy.result() * 100,\n",
        "                        test_loss.result(),test_accuracy.result() * 100))"
      ],
      "execution_count": 0,
      "outputs": []
    },
    {
      "cell_type": "markdown",
      "metadata": {
        "colab_type": "text",
        "id": "T4JfEh7kvx6m"
      },
      "source": [
        "## The image classifier is now trained to ~98.6% accuracy."
      ]
    }
  ]
}