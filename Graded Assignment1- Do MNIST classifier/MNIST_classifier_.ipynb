{
  "nbformat": 4,
  "nbformat_minor": 0,
  "metadata": {
    "colab": {
      "name": "MNIST classifier .ipynb",
      "provenance": [],
      "private_outputs": true,
      "collapsed_sections": [],
      "include_colab_link": true
    },
    "kernelspec": {
      "name": "python3",
      "display_name": "Python 3"
    },
    "accelerator": "GPU"
  },
  "cells": [
    {
      "cell_type": "markdown",
      "metadata": {
        "id": "view-in-github",
        "colab_type": "text"
      },
      "source": [
        "<a href=\"https://colab.research.google.com/github/zjzsu2000/CMPE258/blob/master/Graded%20Assignment1-%20Do%20MNIST%20classifier/MNIST_classifier_.ipynb\" target=\"_parent\"><img src=\"https://colab.research.google.com/assets/colab-badge.svg\" alt=\"Open In Colab\"/></a>"
      ]
    },
    {
      "cell_type": "markdown",
      "metadata": {
        "colab_type": "text",
        "id": "jYysdyb-CaWM"
      },
      "source": [
        "# Do MNIST classifier using numpy and python "
      ]
    },
    {
      "cell_type": "code",
      "metadata": {
        "colab_type": "code",
        "id": "jL3OqFKZ9dFg",
        "colab": {}
      },
      "source": [
        "try:\n",
        "  # %tensorflow_version only exists in Colab.\n",
        "  %tensorflow_version 2.x\n",
        "except Exception:\n",
        "  pass\n"
      ],
      "execution_count": 0,
      "outputs": []
    },
    {
      "cell_type": "code",
      "metadata": {
        "colab_type": "code",
        "id": "dzLKpmZICaWN",
        "colab": {}
      },
      "source": [
        "from __future__ import absolute_import, division, print_function, unicode_literals\n",
        "\n",
        "# TensorFlow and tf.keras\n",
        "import tensorflow as tf\n",
        "from tensorflow import keras\n",
        "\n",
        "# Helper libraries\n",
        "import numpy as np\n",
        "import matplotlib.pyplot as plt\n",
        "\n",
        "print(tf.__version__)"
      ],
      "execution_count": 0,
      "outputs": []
    },
    {
      "cell_type": "markdown",
      "metadata": {
        "colab_type": "text",
        "id": "yR0EdgrLCaWR"
      },
      "source": [
        "## Import the dataset:MNIST database of handwritten digits\n",
        "\n",
        "Dataset of 60,000 28x28 grayscale images of the 10 digits, along with a test set of 10,000 images.\n",
        "\n",
        "https://keras.io/datasets/#mnist-database-of-handwritten-digits"
      ]
    },
    {
      "cell_type": "code",
      "metadata": {
        "colab_type": "code",
        "id": "7MqDQO0KCaWS",
        "colab": {}
      },
      "source": [
        "from tensorflow.keras.datasets import mnist\n",
        "\n",
        "(train_images, train_labels), (test_images, test_labels) = mnist.load_data()"
      ],
      "execution_count": 0,
      "outputs": []
    },
    {
      "cell_type": "code",
      "metadata": {
        "id": "I-TMEUE_LyJw",
        "colab_type": "code",
        "colab": {}
      },
      "source": [
        "train_labels"
      ],
      "execution_count": 0,
      "outputs": []
    },
    {
      "cell_type": "code",
      "metadata": {
        "id": "e3_xYi7PmjKI",
        "colab_type": "code",
        "colab": {}
      },
      "source": [
        "np.int8(test_labels)"
      ],
      "execution_count": 0,
      "outputs": []
    },
    {
      "cell_type": "code",
      "metadata": {
        "colab_type": "code",
        "id": "IjnLH5S2CaWx",
        "colab": {}
      },
      "source": [
        "class_names = ['0', '1', '2', '3', '4',\n",
        "               '5', '6', '7', '8', '9']"
      ],
      "execution_count": 0,
      "outputs": []
    },
    {
      "cell_type": "markdown",
      "metadata": {
        "colab_type": "text",
        "id": "Brm0b_KACaWX"
      },
      "source": [
        "## Explore the data\n",
        "\n",
        "Dataset of 60,000 28x28 grayscale images of the 10 digits, along with a test set of 10,000 images."
      ]
    },
    {
      "cell_type": "code",
      "metadata": {
        "colab_type": "code",
        "id": "zW5k_xz1CaWX",
        "colab": {}
      },
      "source": [
        "train_images.shape"
      ],
      "execution_count": 0,
      "outputs": []
    },
    {
      "cell_type": "markdown",
      "metadata": {
        "colab_type": "text",
        "id": "cIAcvQqMCaWf"
      },
      "source": [
        "Likewise, there are 60,000 labels in the training set:"
      ]
    },
    {
      "cell_type": "code",
      "metadata": {
        "colab_type": "code",
        "id": "TRFYHB2mCaWb",
        "colab": {}
      },
      "source": [
        "len(train_labels)"
      ],
      "execution_count": 0,
      "outputs": []
    },
    {
      "cell_type": "markdown",
      "metadata": {
        "colab_type": "text",
        "id": "YSlYxFuRCaWk"
      },
      "source": [
        "Each label is an integer between 0 and 9:"
      ]
    },
    {
      "cell_type": "code",
      "metadata": {
        "colab_type": "code",
        "id": "XKnCTHz4CaWg",
        "colab": {}
      },
      "source": [
        "train_labels"
      ],
      "execution_count": 0,
      "outputs": []
    },
    {
      "cell_type": "markdown",
      "metadata": {
        "colab_type": "text",
        "id": "TMPI88iZpO2T"
      },
      "source": [
        "There are 10,000 images in the test set. Again, each image is represented as 28*28 pixels:"
      ]
    },
    {
      "cell_type": "code",
      "metadata": {
        "colab_type": "code",
        "id": "2KFnYlcwCaWl",
        "colab": {}
      },
      "source": [
        "test_images.shape"
      ],
      "execution_count": 0,
      "outputs": []
    },
    {
      "cell_type": "markdown",
      "metadata": {
        "colab_type": "text",
        "id": "rd0A0Iu0CaWq"
      },
      "source": [
        "And the test set contains 10,000 images labels:"
      ]
    },
    {
      "cell_type": "code",
      "metadata": {
        "colab_type": "code",
        "id": "iJmPr5-ACaWn",
        "colab": {}
      },
      "source": [
        "len(test_labels)"
      ],
      "execution_count": 0,
      "outputs": []
    },
    {
      "cell_type": "markdown",
      "metadata": {
        "colab_type": "text",
        "id": "ES6uQoLKCaWr"
      },
      "source": [
        "## Preprocess the data\n",
        "#Part F:Scaling the input \n",
        "# scaling the input to 255"
      ]
    },
    {
      "cell_type": "code",
      "metadata": {
        "colab_type": "code",
        "id": "m4VEw8Ud9Quh",
        "colab": {}
      },
      "source": [
        "plt.figure()\n",
        "plt.imshow(train_images[0])\n",
        "plt.colorbar()\n",
        "plt.grid(False)\n",
        "plt.show()"
      ],
      "execution_count": 0,
      "outputs": []
    },
    {
      "cell_type": "markdown",
      "metadata": {
        "colab_type": "text",
        "id": "Wz7l27Lz9S1P"
      },
      "source": [
        "Scale these values to a range of 0 to 1 before feeding them to the neural network model. "
      ]
    },
    {
      "cell_type": "code",
      "metadata": {
        "id": "mI2UW1iXp6hD",
        "colab_type": "code",
        "colab": {}
      },
      "source": [
        "np.random.seed(1)"
      ],
      "execution_count": 0,
      "outputs": []
    },
    {
      "cell_type": "code",
      "metadata": {
        "id": "EsmLRWBboCpU",
        "colab_type": "code",
        "colab": {}
      },
      "source": [
        "images, labels = (train_images[0:5000].reshape(5000,28*28) / 255), train_labels[0:5000]"
      ],
      "execution_count": 0,
      "outputs": []
    },
    {
      "cell_type": "code",
      "metadata": {
        "id": "Aaw2EydPp48l",
        "colab_type": "code",
        "colab": {}
      },
      "source": [
        "one_hot_labels = np.zeros((len(labels), 10))\n",
        "\n",
        "# assigning 1 to where the label would be for that particular array\n",
        "# for example, if the array \n",
        "for i,l in enumerate(labels):\n",
        "  one_hot_labels[i][l] = 1\n",
        "labels = one_hot_labels\n",
        "\n",
        "import sys, numpy as np\n",
        "\n",
        "test_img = test_images.reshape(len(test_images), 28*28) / 255\n",
        "test_label = np.zeros((len(test_labels), 10))\n",
        "\n",
        "for i,l in enumerate(test_labels):\n",
        "    test_label[i][l] = 1"
      ],
      "execution_count": 0,
      "outputs": []
    },
    {
      "cell_type": "code",
      "metadata": {
        "id": "PkRe_O7EjqC_",
        "colab_type": "code",
        "colab": {}
      },
      "source": [
        "images.shape"
      ],
      "execution_count": 0,
      "outputs": []
    },
    {
      "cell_type": "code",
      "metadata": {
        "id": "t9qh-aaEoUp-",
        "colab_type": "code",
        "colab": {}
      },
      "source": [
        "labels"
      ],
      "execution_count": 0,
      "outputs": []
    },
    {
      "cell_type": "markdown",
      "metadata": {
        "colab_type": "text",
        "id": "Ee638AlnCaWz"
      },
      "source": [
        "To verify that the data is in the correct format and ready to build and train the network, let's display the first 25 images from the *training set* and display the class name below each image."
      ]
    },
    {
      "cell_type": "code",
      "metadata": {
        "colab_type": "code",
        "id": "oZTImqg_CaW1",
        "colab": {}
      },
      "source": [
        "plt.figure(figsize=(10,10))\n",
        "for i in range(25):\n",
        "    plt.subplot(5,5,i+1)\n",
        "    plt.xticks([])\n",
        "    plt.yticks([])\n",
        "    plt.grid(False)\n",
        "    plt.imshow(train_images[i], cmap=plt.cm.binary)\n",
        "    plt.xlabel(class_names[train_labels[i]])\n",
        "plt.show()"
      ],
      "execution_count": 0,
      "outputs": []
    },
    {
      "cell_type": "markdown",
      "metadata": {
        "id": "RCqfp_yqjS4r",
        "colab_type": "text"
      },
      "source": [
        "#Using the numpy to def the functions"
      ]
    },
    {
      "cell_type": "code",
      "metadata": {
        "id": "1e98OoJukEz4",
        "colab_type": "code",
        "colab": {}
      },
      "source": [
        "import numpy as np\n",
        "np.random.seed(1)"
      ],
      "execution_count": 0,
      "outputs": []
    },
    {
      "cell_type": "code",
      "metadata": {
        "id": "tx0wf7C8kRhe",
        "colab_type": "code",
        "colab": {}
      },
      "source": [
        " #return x if x > 0, else return 0\n",
        "def relu(x):\n",
        "      return (x>=0)*x\n",
        "\n",
        "# returns 1 if input > 0, else return 0\n",
        "def relu2deriv(r1Output):\n",
        "      return r1Output>=0"
      ],
      "execution_count": 0,
      "outputs": []
    },
    {
      "cell_type": "markdown",
      "metadata": {
        "id": "vqa-iFAcWn1L",
        "colab_type": "text"
      },
      "source": [
        "* Part A:Mini batch \n",
        "* Part B:Random weight initializations \n",
        "* Part C:Data Augmentation \n",
        "* Part D:Using 3 or more layers for training \n",
        "* Part E:Using Relu activation function\n",
        "* Part G:Using appropriate learning rate\n",
        "* Part H:Testing and training accuracy (plotting results with confusion matrix)\n",
        "\n"
      ]
    },
    {
      "cell_type": "code",
      "metadata": {
        "id": "KVWCYsLgXkK4",
        "colab_type": "code",
        "colab": {}
      },
      "source": [
        "from keras.preprocessing.image import ImageDataGenerator"
      ],
      "execution_count": 0,
      "outputs": []
    },
    {
      "cell_type": "code",
      "metadata": {
        "id": "-l0AgJFWYAGN",
        "colab_type": "code",
        "colab": {}
      },
      "source": [
        "train_images = train_images.reshape(-1,28,28,1) # reshape the train_images dataset in 3 dimensions"
      ],
      "execution_count": 0,
      "outputs": []
    },
    {
      "cell_type": "code",
      "metadata": {
        "id": "ZWeMQ8W7gQF-",
        "colab_type": "code",
        "colab": {}
      },
      "source": [
        "train_images.shape"
      ],
      "execution_count": 0,
      "outputs": []
    },
    {
      "cell_type": "code",
      "metadata": {
        "id": "PEk1XE7Rg10_",
        "colab_type": "code",
        "colab": {}
      },
      "source": [
        ""
      ],
      "execution_count": 0,
      "outputs": []
    },
    {
      "cell_type": "code",
      "metadata": {
        "id": "8DarNiatZuUd",
        "colab_type": "code",
        "colab": {}
      },
      "source": [
        "datagenerator = ImageDataGenerator(featurewise_center=False,samplewise_center=False, featurewise_std_normalization=False, \n",
        "                                   samplewise_std_normalization=False, zca_whitening=False, \n",
        "                                   rotation_range=10, zoom_range = 0.1, width_shift_range=0.2, \n",
        "                                    height_shift_range=0.1, horizontal_flip=False, vertical_flip=False) "
      ],
      "execution_count": 0,
      "outputs": []
    },
    {
      "cell_type": "code",
      "metadata": {
        "id": "RyEnDqmIa3EX",
        "colab_type": "code",
        "colab": {}
      },
      "source": [
        "datagenerator.fit(train_images)"
      ],
      "execution_count": 0,
      "outputs": []
    },
    {
      "cell_type": "code",
      "metadata": {
        "id": "6h2TlcKda9gF",
        "colab_type": "code",
        "colab": {}
      },
      "source": [
        "from matplotlib import pyplot\n",
        "\n",
        "for X_batch, y_batch in datagenerator.flow(train_images, train_labels, batch_size=9):\n",
        "\t# create a grid of 3x3 images\n",
        "\tfor i in range(0, 9):\n",
        "\t\tpyplot.subplot(330 + 1 + i)\n",
        "\t\tpyplot.imshow(X_batch[i].reshape(28, 28), cmap=pyplot.get_cmap('gray'))\n",
        "\n",
        "\tpyplot.show()\n",
        "\tbreak"
      ],
      "execution_count": 0,
      "outputs": []
    },
    {
      "cell_type": "code",
      "metadata": {
        "id": "z0-5JvCRZo0R",
        "colab_type": "code",
        "colab": {}
      },
      "source": [
        "batchSize=100 # batch size\n",
        "alpha=0.001 # learning rate\n",
        "iterations=300 # number of iterations\n",
        "pixelsPerImage=28*28 # pixels per image\n",
        "numLabels=10 # number of labels\n",
        "hiddenSize=100 # hidden size\n",
        "weights_0_1 = 0.2 * np.random.random((pixelsPerImage, hiddenSize)) - 0.1 # weights from layer 0 to 1\n",
        "weights_1_2=0.2*np.random.random((hiddenSize,numLabels))-0.1 # weights from layer 1 to 2"
      ],
      "execution_count": 0,
      "outputs": []
    },
    {
      "cell_type": "code",
      "metadata": {
        "id": "cvpUsh5yrmOG",
        "colab_type": "code",
        "colab": {}
      },
      "source": [
        "testErrList = np.array([])\n",
        "testAccList = np.array([])\n",
        "trainErrList = np.array([])\n",
        "trainAccList = np.array([])"
      ],
      "execution_count": 0,
      "outputs": []
    },
    {
      "cell_type": "code",
      "metadata": {
        "id": "MOwikup5Za4k",
        "colab_type": "code",
        "colab": {}
      },
      "source": [
        "for i in range(iterations):\n",
        "  error,correctCnt=(0.0, 0)\n",
        "  for j in range(int(len(images)/batchSize)):\n",
        "    batchStart,batchEnd=((j*batchSize),((j+1)*batchSize))\n",
        "    layer_0=images[batchStart:batchEnd]\n",
        "    layer_1=relu(np.dot(layer_0,weights_0_1))\n",
        "    dropoutMask=np.random.randint(2,size=layer_1.shape)\n",
        "    layer_2=np.dot(layer_1,weights_1_2)\n",
        "    error+=np.sum((labels[batchStart:batchEnd]-layer_2)**2)\n",
        "    for k in range(batchSize):\n",
        "      # counting # of the correct predicts\n",
        "      correctCnt+=int(np.argmax(layer_2[k:k+1])==np.argmax(labels[batchStart+k:batchStart+k+1]))          \n",
        "      # difference predicted and actual \n",
        "      layer_2_delta = (labels[batchStart:batchEnd] - layer_2) / batchSize\n",
        "      # backprop & adjust weights then add dropout mask\n",
        "      layer_1_delta = layer_2_delta.dot(weights_1_2.T) * relu2deriv(layer_1)\n",
        "      layer_1_delta *= dropoutMask  \n",
        "      weights_1_2 += alpha * layer_1.T.dot(layer_2_delta)\n",
        "      weights_0_1 += alpha * layer_0.T.dot(layer_1_delta)        \n",
        "    \n",
        "  if (i%10 == 0):\n",
        "    testError, testCorrectCnt= (0.0, 0)\n",
        "    for j in range(len(test_img)):\n",
        "      layer_0 = test_img[j:j+1]\n",
        "      layer_1 = relu(np.dot(layer_0, weights_0_1))\n",
        "      layer_2 = np.dot(layer_1, weights_1_2)\n",
        "      testError += np.sum((test_label[j:j+1] - layer_2) ** 2)\n",
        "      testCorrectCnt += int(np.argmax(layer_2) == np.argmax(test_label[j:j+1]))\n",
        "     \n",
        "    testErrList = np.append(testErrList, [testError/ float(len(test_img))])\n",
        "    testAccList = np.append(testAccList, [testCorrectCnt / float(len(test_img))])\n",
        "    trainErrList = np.append(trainErrList, [error/float(len(images))])\n",
        "    trainAccList = np.append(trainAccList, [correctCnt/float(len(images))])\n",
        "    print(\"\\n Iamge:\"+str(i)+ \" Testing Error:\" + str(testError/ float(len(test_img)))[0:5] +\\\n",
        "                     \" Testing Accuracy:\" + str(testCorrectCnt/ float(len(test_img)))+\\\n",
        "                     \" Training Error:\" + str(error/float(len(images)))[0:5] +\\\n",
        "                     \" Training Accuracy:\" + str(correctCnt/float(len(images))))"
      ],
      "execution_count": 0,
      "outputs": []
    },
    {
      "cell_type": "markdown",
      "metadata": {
        "id": "gofDXnpbNrR-",
        "colab_type": "text"
      },
      "source": [
        "#plot the result"
      ]
    },
    {
      "cell_type": "code",
      "metadata": {
        "id": "81LVAJF7rT90",
        "colab_type": "code",
        "colab": {}
      },
      "source": [
        "import matplotlib.pyplot as plt\n",
        "\n",
        "plt.title('Training Result Plotting\\n(Yellow for Accuracy&Blue for Error)')\n",
        "plt.plot(trainAccList, color='y')\n",
        "plt.plot(trainErrList, color='b')\n",
        "plt.show()\n",
        "\n"
      ],
      "execution_count": 0,
      "outputs": []
    },
    {
      "cell_type": "code",
      "metadata": {
        "id": "znIbGUreBzTe",
        "colab_type": "code",
        "colab": {}
      },
      "source": [
        "plt.title('Testing Result Plotting\\n(Yellow for Accuracy&Blue for Error)')\n",
        "plt.plot(testAccList, color='y')\n",
        "plt.plot(testErrList, color='b')\n",
        "plt.show()\n"
      ],
      "execution_count": 0,
      "outputs": []
    },
    {
      "cell_type": "code",
      "metadata": {
        "id": "FYzliSpcyqI4",
        "colab_type": "code",
        "colab": {}
      },
      "source": [
        "plt.title('Training & Testing Result Plotting\\n(Yellow for TrainingAccuracy&Blue for TestingError)')\n",
        "plt.plot(trainAccList, color='y')\n",
        "plt.plot(testAccList, color='b')\n",
        "plt.show()"
      ],
      "execution_count": 0,
      "outputs": []
    },
    {
      "cell_type": "markdown",
      "metadata": {
        "colab_type": "text",
        "id": "59veuiEZCaW4"
      },
      "source": [
        "# Confusion matrix \n"
      ]
    },
    {
      "cell_type": "code",
      "metadata": {
        "id": "Ik_pjlpwUBKh",
        "colab_type": "code",
        "colab": {}
      },
      "source": [
        "from sklearn.metrics import confusion_matrix"
      ],
      "execution_count": 0,
      "outputs": []
    },
    {
      "cell_type": "markdown",
      "metadata": {
        "id": "OvkcBv4yVG8Q",
        "colab_type": "text"
      },
      "source": [
        "Predict the values from the test_img(validation dataset)\n"
      ]
    },
    {
      "cell_type": "code",
      "metadata": {
        "id": "Rw30uJmBUfTM",
        "colab_type": "code",
        "colab": {}
      },
      "source": [
        "y_pred = np.array([])\n",
        "for i in range(len(test_img)):\n",
        "  layer_0 = test_img[i:i+1]\n",
        "  layer_1 = relu(np.dot(layer_0, weights_0_1))\n",
        "  layer_2 = np.dot(layer_1, weights_1_2)\n",
        "  y_pred = np.append(y_pred, np.argmax(layer_2))"
      ],
      "execution_count": 0,
      "outputs": []
    },
    {
      "cell_type": "code",
      "metadata": {
        "id": "oEVJ_Rn7WMFv",
        "colab_type": "code",
        "colab": {}
      },
      "source": [
        "y_test=test_labels"
      ],
      "execution_count": 0,
      "outputs": []
    },
    {
      "cell_type": "code",
      "metadata": {
        "id": "Q_6XB9kAUTkl",
        "colab_type": "code",
        "colab": {}
      },
      "source": [
        "# compute the confusion matrix\n",
        "confusionMatrix=confusion_matrix(y_test, y_pred) "
      ],
      "execution_count": 0,
      "outputs": []
    },
    {
      "cell_type": "code",
      "metadata": {
        "id": "nGyMY79vXjLB",
        "colab_type": "code",
        "colab": {}
      },
      "source": [
        "confusionMatrix"
      ],
      "execution_count": 0,
      "outputs": []
    },
    {
      "cell_type": "code",
      "metadata": {
        "id": "TudnS1UmWq6L",
        "colab_type": "code",
        "colab": {}
      },
      "source": [
        "classes=range(10)\n",
        "cmap=plt.cm.Reds\n",
        "plt.imshow(confusionMatrix, interpolation='nearest', cmap=cmap)\n",
        "plt.title('Confusion matrix')\n",
        "plt.colorbar()\n",
        "tick_marks = np.arange(len(classes))\n",
        "plt.xticks(tick_marks, classes, rotation=45)\n",
        "plt.yticks(tick_marks, classes)\n",
        "thres = confusionMatrix.max() / 2.\n",
        "import itertools\n",
        "for i, j in itertools.product(range(confusionMatrix.shape[0]), range(confusionMatrix.shape[1])):\n",
        "  plt.text(j, i, confusionMatrix[i, j], horizontalalignment=\"center\", color=\"white\" if confusionMatrix[i, j] > thres else \"blue\")\n",
        "  #plt.tight_layout()\n",
        "  plt.ylabel('True')\n",
        "  plt.xlabel('Predicted')"
      ],
      "execution_count": 0,
      "outputs": []
    },
    {
      "cell_type": "markdown",
      "metadata": {
        "colab_type": "text",
        "id": "Z4P4zIV7E28Z"
      },
      "source": [
        "## Errors \n"
      ]
    },
    {
      "cell_type": "code",
      "metadata": {
        "id": "-RgecHA0anlZ",
        "colab_type": "code",
        "colab": {}
      },
      "source": [
        "errors = (y_pred-y_test!=0)\n",
        "\n",
        "yPredErrors = y_pred[errors]\n",
        "yTestErrors = y_test[errors]\n"
      ],
      "execution_count": 0,
      "outputs": []
    },
    {
      "cell_type": "code",
      "metadata": {
        "id": "G-lGDl2HbnKB",
        "colab_type": "code",
        "colab": {}
      },
      "source": [
        "yPredErrorsProb = np.max(yPredErrors)\n",
        "print(yPredErrorsProb)"
      ],
      "execution_count": 0,
      "outputs": []
    },
    {
      "cell_type": "code",
      "metadata": {
        "id": "ZyZv5bEJb-cY",
        "colab_type": "code",
        "colab": {}
      },
      "source": [
        "TPErrors = np.take(yPredErrors, yTestErrors)\n",
        "print(TPErrors)"
      ],
      "execution_count": 0,
      "outputs": []
    },
    {
      "cell_type": "code",
      "metadata": {
        "id": "RY8X1FdHc1Gx",
        "colab_type": "code",
        "colab": {}
      },
      "source": [
        "deltaPredTrueErrors = yPredErrorsProb - TPErrors\n",
        "print(deltaPredTrueErrors)"
      ],
      "execution_count": 0,
      "outputs": []
    },
    {
      "cell_type": "markdown",
      "metadata": {
        "id": "uewwd55OdUwT",
        "colab_type": "text"
      },
      "source": [
        "Sorted it"
      ]
    },
    {
      "cell_type": "code",
      "metadata": {
        "id": "wXpcMbJudIHT",
        "colab_type": "code",
        "colab": {}
      },
      "source": [
        "deltaPredTrueErrors=np.argsort(deltaPredTrueErrors)\n",
        "print(deltaPredTrueErrors)"
      ],
      "execution_count": 0,
      "outputs": []
    },
    {
      "cell_type": "code",
      "metadata": {
        "id": "ZKrV9l5xdfh2",
        "colab_type": "code",
        "colab": {}
      },
      "source": [
        "topErrors = deltaPredTrueErrors[-8:]\n"
      ],
      "execution_count": 0,
      "outputs": []
    },
    {
      "cell_type": "markdown",
      "metadata": {
        "id": "g9_-Vg3dd05K",
        "colab_type": "text"
      },
      "source": [
        "# Show the top 8 errors"
      ]
    },
    {
      "cell_type": "code",
      "metadata": {
        "id": "xNDYRSzKeGpe",
        "colab_type": "code",
        "colab": {}
      },
      "source": [
        "imageErrors = test_img[errors]"
      ],
      "execution_count": 0,
      "outputs": []
    },
    {
      "cell_type": "code",
      "metadata": {
        "id": "1663_2zEbXaQ",
        "colab_type": "code",
        "colab": {}
      },
      "source": [
        "n = 0\n",
        "fig, ax = plt.subplots(2,4,sharex=True,sharey=True)\n",
        "for row in range(2):\n",
        "  for col in range(4):\n",
        "    error = topErrors[n]\n",
        "    ax[row,col].imshow((imageErrors[error]).reshape((28,28)))\n",
        "    ax[row,col].set_title(\"Predicted :{}\\nTrue :{}\".format(yPredErrors[error],yTestErrors[error]))\n",
        "    n += 1"
      ],
      "execution_count": 0,
      "outputs": []
    }
  ]
}