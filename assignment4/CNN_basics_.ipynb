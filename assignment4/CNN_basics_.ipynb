{
  "nbformat": 4,
  "nbformat_minor": 0,
  "metadata": {
    "colab": {
      "name": "CNN basics .ipynb",
      "provenance": [],
      "collapsed_sections": [],
      "include_colab_link": true
    },
    "kernelspec": {
      "name": "python3",
      "display_name": "Python 3"
    }
  },
  "cells": [
    {
      "cell_type": "markdown",
      "metadata": {
        "id": "view-in-github",
        "colab_type": "text"
      },
      "source": [
        "<a href=\"https://colab.research.google.com/github/zjzsu2000/CMPE258/blob/master/assignment4/CNN_basics_.ipynb\" target=\"_parent\"><img src=\"https://colab.research.google.com/assets/colab-badge.svg\" alt=\"Open In Colab\"/></a>"
      ]
    },
    {
      "cell_type": "markdown",
      "metadata": {
        "id": "2eefZhQMYihc",
        "colab_type": "text"
      },
      "source": [
        "#CNN basics : use KERAS and from scratch (not using existing architecture shipped models) write basic LeNet (mnist) and VGG-16 model (cifar100)  and RESNET (only 8 layers - not 52) architectures - run on gpu - train and report all the stats \n"
      ]
    },
    {
      "cell_type": "code",
      "metadata": {
        "id": "82EZ7MEdYOsz",
        "colab_type": "code",
        "colab": {}
      },
      "source": [
        "import numpy as np\n",
        "from tensorflow.keras.datasets import mnist\n",
        "\n",
        "np.random.seed(1)\n",
        "\n",
        "# loading the mnist data into training and testing data\n",
        "(x_train, y_train), (x_test, y_test) = mnist.load_data()\n",
        "\n",
        "# getting the first 1000 data and reshaping the dataset for the first 1000\n",
        "# scaling the input to 255\n",
        "# img, labels = (x_train[0:1000].reshape(1000,28*28) / 255), y_train[0:1000]\n",
        "# img = np.expand_dims(img, axis=-1)\n",
        "img, labels = (x_train[0:1000].reshape(1000,28,28,1), y_train[0:1000])\n",
        "\n",
        "\n",
        "# creating an array of zeros \n",
        "one_hot_labels = np.zeros((len(labels), 10))\n",
        "\n",
        "\n",
        "# assigning 1 to where the label would be for that particular array\n",
        "# for example, if the array \n",
        "for i,l in enumerate(labels):\n",
        "  one_hot_labels[i][l] = 1\n",
        "labels = one_hot_labels\n",
        "\n",
        "import sys, numpy as np\n",
        "\n",
        "test_img = x_test.reshape(len(x_test), 28, 28,1)\n",
        "test_label = np.zeros((len(y_test), 10))\n",
        "\n",
        "for i,l in enumerate(y_test):\n",
        "    test_label[i][l] = 1\n",
        "\n",
        "# LeNet architecture takes in 32x32 and mnist dataset is 28x28\n",
        "# Pad images with 0s\n",
        "\n",
        "img = np.pad(img, ((0,0),(2,2),(2,2),(0,0)), 'constant')\n",
        "test_img = np.pad(test_img, ((0,0),(2,2),(2,2),(0,0)), 'constant')"
      ],
      "execution_count": 0,
      "outputs": []
    },
    {
      "cell_type": "code",
      "metadata": {
        "id": "yV9l7UXCbCBK",
        "colab_type": "code",
        "outputId": "122eb7e1-a3d6-4b62-90bc-4393c71e8bc2",
        "colab": {
          "base_uri": "https://localhost:8080/",
          "height": 282
        }
      },
      "source": [
        "from matplotlib import pyplot\n",
        "\n",
        "pyplot.imshow(x_train[0].reshape(28,28))\n"
      ],
      "execution_count": 0,
      "outputs": [
        {
          "output_type": "execute_result",
          "data": {
            "text/plain": [
              "<matplotlib.image.AxesImage at 0x7f137a6300b8>"
            ]
          },
          "metadata": {
            "tags": []
          },
          "execution_count": 62
        },
        {
          "output_type": "display_data",
          "data": {
            "image/png": "[encoded data removed]",
            "text/plain": [
              "<Figure size 432x288 with 1 Axes>"
            ]
          },
          "metadata": {
            "tags": [],
            "needs_background": "light"
          }
        }
      ]
    },
    {
      "cell_type": "markdown",
      "metadata": {
        "id": "qPeRpI7aesDA",
        "colab_type": "text"
      },
      "source": [
        "### Architecture\n",
        "Convolutional #1 outputs 28x28x6\n",
        "\n",
        "Activation any activation function, we will relu\n",
        "Pooling #1 The output shape should be 14x14x6.\n",
        "\n",
        "Convolutional #2 outputs 10x10x16.\n",
        "\n",
        "Activation any activation function, we will relu\n",
        "Pooling #2 outputs 5x5x16.\n",
        "\n",
        "Flatten Flatten the output shape of the final pooling layer\n",
        "Fully Connected #1 outputs 120\n",
        "\n",
        "Activation any activation function, we will relu\n",
        "Fully Connected #2 outputs 84\n",
        "\n",
        "Activation any activation function, we will relu\n",
        "Fully Connected (Logits) #3 outpute 10"
      ]
    },
    {
      "cell_type": "code",
      "metadata": {
        "id": "1tEGycdWfDN0",
        "colab_type": "code",
        "outputId": "0027aab8-9581-46a0-c679-af388dff9775",
        "colab": {
          "base_uri": "https://localhost:8080/",
          "height": 432
        }
      },
      "source": [
        "import keras\n",
        "import keras.layers as layers\n",
        "from keras.layers import Dense, Conv2D, MaxPool2D , Flatten, BatchNormalization, Activation\n",
        "from keras.models import Sequential\n",
        "\n",
        "\n",
        "def create_model():\n",
        "  model = keras.Sequential()\n",
        "\n",
        "  model.add(layers.Conv2D(filters=6, kernel_size=(3, 3), activation='relu', input_shape=(32,32,1)))\n",
        "  model.add(layers.AveragePooling2D())\n",
        "\n",
        "  model.add(layers.Conv2D(filters=16, kernel_size=(3, 3), activation='relu'))\n",
        "  model.add(layers.AveragePooling2D())\n",
        "\n",
        "  model.add(layers.Flatten())\n",
        "\n",
        "  model.add(layers.Dense(units=120, activation='relu'))\n",
        "\n",
        "  model.add(layers.Dense(units=84, activation='relu'))\n",
        "\n",
        "  model.add(layers.Dense(units=10, activation = 'softmax'))\n",
        "\n",
        "  return model\n",
        "\n",
        "model = create_model()\n",
        "model.summary()"
      ],
      "execution_count": 0,
      "outputs": [
        {
          "output_type": "stream",
          "text": [
            "Model: \"sequential_9\"\n",
            "_________________________________________________________________\n",
            "Layer (type)                 Output Shape              Param #   \n",
            "=================================================================\n",
            "conv2d_16 (Conv2D)           (None, 30, 30, 6)         60        \n",
            "_________________________________________________________________\n",
            "average_pooling2d_15 (Averag (None, 15, 15, 6)         0         \n",
            "_________________________________________________________________\n",
            "conv2d_17 (Conv2D)           (None, 13, 13, 16)        880       \n",
            "_________________________________________________________________\n",
            "average_pooling2d_16 (Averag (None, 6, 6, 16)          0         \n",
            "_________________________________________________________________\n",
            "flatten_8 (Flatten)          (None, 576)               0         \n",
            "_________________________________________________________________\n",
            "dense_22 (Dense)             (None, 120)               69240     \n",
            "_________________________________________________________________\n",
            "dense_23 (Dense)             (None, 84)                10164     \n",
            "_________________________________________________________________\n",
            "dense_24 (Dense)             (None, 10)                850       \n",
            "=================================================================\n",
            "Total params: 81,194\n",
            "Trainable params: 81,194\n",
            "Non-trainable params: 0\n",
            "_________________________________________________________________\n"
          ],
          "name": "stdout"
        }
      ]
    },
    {
      "cell_type": "code",
      "metadata": {
        "id": "qDNplZKPQjQE",
        "colab_type": "code",
        "outputId": "bbdd006b-beae-42e0-da5a-4a504306adc3",
        "colab": {
          "base_uri": "https://localhost:8080/",
          "height": 35
        }
      },
      "source": [
        "test_img.shape"
      ],
      "execution_count": 0,
      "outputs": [
        {
          "output_type": "execute_result",
          "data": {
            "text/plain": [
              "(10000, 32, 32, 1)"
            ]
          },
          "metadata": {
            "tags": []
          },
          "execution_count": 110
        }
      ]
    },
    {
      "cell_type": "code",
      "metadata": {
        "id": "D4bmjaaae3B2",
        "colab_type": "code",
        "outputId": "4cd49fcf-73be-4f4e-fe5d-e8a93db90777",
        "colab": {
          "base_uri": "https://localhost:8080/",
          "height": 225
        }
      },
      "source": [
        "# create tensorboard\n",
        "import tensorflow as tf\n",
        "import datetime\n",
        "from keras.optimizers import Adam\n",
        "from keras.callbacks import EarlyStopping, TensorBoard\n",
        "\n",
        "opt = Adam(lr=0.001)\n",
        "model.compile(optimizer=opt, loss=keras.losses.binary_crossentropy, metrics=['accuracy'])\n",
        "              \n",
        "\n",
        "log_dir=\"logs/letnet-keras\" \n",
        "tensorboard_callback = TensorBoard(log_dir=log_dir, histogram_freq=1)\n",
        "\n",
        "model.fit(x=img, \n",
        "          y=labels, \n",
        "          epochs=5, \n",
        "          validation_data=(test_img, test_label), \n",
        "          callbacks=[tensorboard_callback])"
      ],
      "execution_count": 0,
      "outputs": [
        {
          "output_type": "stream",
          "text": [
            "Train on 1000 samples, validate on 10000 samples\n",
            "Epoch 1/5\n",
            "1000/1000 [==============================] - 3s 3ms/step - loss: 0.9300 - accuracy: 0.8672 - val_loss: 0.2665 - val_accuracy: 0.9219\n",
            "Epoch 2/5\n",
            "1000/1000 [==============================] - 3s 3ms/step - loss: 0.1393 - accuracy: 0.9545 - val_loss: 0.1130 - val_accuracy: 0.9618\n",
            "Epoch 3/5\n",
            "1000/1000 [==============================] - 3s 3ms/step - loss: 0.0633 - accuracy: 0.9790 - val_loss: 0.0753 - val_accuracy: 0.9736\n",
            "Epoch 4/5\n",
            "1000/1000 [==============================] - 3s 3ms/step - loss: 0.0363 - accuracy: 0.9883 - val_loss: 0.0663 - val_accuracy: 0.9770\n",
            "Epoch 5/5\n",
            "1000/1000 [==============================] - 3s 3ms/step - loss: 0.0214 - accuracy: 0.9939 - val_loss: 0.0589 - val_accuracy: 0.9800\n"
          ],
          "name": "stdout"
        },
        {
          "output_type": "execute_result",
          "data": {
            "text/plain": [
              "<keras.callbacks.callbacks.History at 0x7f137a2ccfd0>"
            ]
          },
          "metadata": {
            "tags": []
          },
          "execution_count": 111
        }
      ]
    },
    {
      "cell_type": "code",
      "metadata": {
        "id": "EPqz_Y1dD5Po",
        "colab_type": "code",
        "outputId": "b65adf8f-9e4a-4a39-8899-04128ff78e81",
        "colab": {
          "base_uri": "https://localhost:8080/",
          "height": 1000
        }
      },
      "source": [
        "!tensorboard dev upload --logdir ./logs \\\n",
        "  --name \"MNIST Classification using LeNet with Keras\""
      ],
      "execution_count": 0,
      "outputs": [
        {
          "output_type": "stream",
          "text": [
            "2020-05-04 06:01:55.683798: I tensorflow/stream_executor/platform/default/dso_loader.cc:44] Successfully opened dynamic library libcudart.so.10.1\n",
            "\n",
            "***** TensorBoard Uploader *****\n",
            "\n",
            "This will upload your TensorBoard logs to https://tensorboard.dev/ from\n",
            "the following directory:\n",
            "\n",
            "./logs\n",
            "\n",
            "This TensorBoard will be visible to everyone. Do not upload sensitive\n",
            "data.\n",
            "\n",
            "Your use of this service is subject to Google's Terms of Service\n",
            "<https://policies.google.com/terms> and Privacy Policy\n",
            "<https://policies.google.com/privacy>, and TensorBoard.dev's Terms of Service\n",
            "<https://tensorboard.dev/policy/terms/>.\n",
            "\n",
            "This notice will not be shown again while you are logged into the uploader.\n",
            "To log out, run `tensorboard dev auth revoke`.\n",
            "\n",
            "Continue? (yes/NO) yes\n",
            "\n",
            "Please visit this URL to authorize this application: https://accounts.google.com/o/oauth2/auth?response_type=code&client_id=373649185512-8v619h5kft38l4456nm2dj4ubeqsrvh6.apps.googleusercontent.com&redirect_uri=urn%3Aietf%3Awg%3Aoauth%3A2.0%3Aoob&scope=openid+https%3A%2F%2Fwww.googleapis.com%2Fauth%2Fuserinfo.email&state=tMulrCoJRCl1jlbjlEHfn3maXtpieZ&prompt=consent&access_type=offline\n",
            "Enter the authorization code: 4/zQHGt5gUs0Z2QP-2hQ_7bQR0R6zkiEYV6fcGcg5ls3s1MjulE6zsSGE\n",
            "\n",
            "Data for the \"graphs\" plugin is now uploaded to TensorBoard.dev! Note that uploaded data is public. If you do not want to upload data for this plugin, use the \"--plugins\" command line argument.\n",
            "Upload started and will continue reading any new data as it's added\n",
            "to the logdir. To stop uploading, press Ctrl-C.\n",
            "View your TensorBoard live at: https://tensorboard.dev/experiment/fzXuGVo1S6C1xCLKSmPECw/\n",
            "\n",
            "Upload stopped. View your TensorBoard at https://tensorboard.dev/experiment/fzXuGVo1S6C1xCLKSmPECw/\n",
            "Traceback (most recent call last):\n",
            "  File \"/usr/local/bin/tensorboard\", line 8, in <module>\n",
            "    sys.exit(run_main())\n",
            "  File \"/usr/local/lib/python3.6/dist-packages/tensorboard/main.py\", line 75, in run_main\n",
            "    app.run(tensorboard.main, flags_parser=tensorboard.configure)\n",
            "  File \"/usr/local/lib/python3.6/dist-packages/absl/app.py\", line 299, in run\n",
            "    _run_main(main, args)\n",
            "  File \"/usr/local/lib/python3.6/dist-packages/absl/app.py\", line 250, in _run_main\n",
            "    sys.exit(main(argv))\n",
            "  File \"/usr/local/lib/python3.6/dist-packages/tensorboard/program.py\", line 289, in main\n",
            "    return runner(self.flags) or 0\n",
            "  File \"/usr/local/lib/python3.6/dist-packages/tensorboard/uploader/uploader_main.py\", line 633, in run\n",
            "    return _run(flags)\n",
            "  File \"/usr/local/lib/python3.6/dist-packages/tensorboard/uploader/uploader_main.py\", line 163, in _run\n",
            "    intent.execute(server_info, channel)\n",
            "  File \"/usr/local/lib/python3.6/dist-packages/grpc/_channel.py\", line 1433, in __exit__\n",
            "    self._close()\n",
            "  File \"/usr/local/lib/python3.6/dist-packages/grpc/_channel.py\", line 1421, in _close\n",
            "    self._channel.close(cygrpc.StatusCode.cancelled, 'Channel closed!')\n",
            "  File \"src/python/grpcio/grpc/_cython/_cygrpc/channel.pyx.pxi\", line 513, in grpc._cython.cygrpc.Channel.close\n",
            "  File \"src/python/grpcio/grpc/_cython/_cygrpc/channel.pyx.pxi\", line 397, in grpc._cython.cygrpc._close\n",
            "  File \"src/python/grpcio/grpc/_cython/_cygrpc/channel.pyx.pxi\", line 427, in grpc._cython.cygrpc._close\n",
            "  File \"/usr/lib/python3.6/threading.py\", line 357, in notify_all\n",
            "    def notify_all(self):\n",
            "KeyboardInterrupt\n"
          ],
          "name": "stdout"
        }
      ]
    },
    {
      "cell_type": "code",
      "metadata": {
        "id": "P2C1T6V2RlLG",
        "colab_type": "code",
        "colab": {}
      },
      "source": [
        ""
      ],
      "execution_count": 0,
      "outputs": []
    }
  ]
}