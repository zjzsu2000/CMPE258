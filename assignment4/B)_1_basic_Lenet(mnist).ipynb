{
  "nbformat": 4,
  "nbformat_minor": 0,
  "metadata": {
    "colab": {
      "name": "B) 1_basic Lenet(mnist).ipynb",
      "provenance": [],
      "collapsed_sections": [],
      "machine_shape": "hm",
      "include_colab_link": true
    },
    "kernelspec": {
      "name": "python3",
      "display_name": "Python 3"
    },
    "accelerator": "GPU"
  },
  "cells": [
    {
      "cell_type": "markdown",
      "metadata": {
        "id": "view-in-github",
        "colab_type": "text"
      },
      "source": [
        "<a href=\"https://colab.research.google.com/github/zjzsu2000/CMPE258/blob/master/assignment4/B)_1_basic_Lenet(mnist).ipynb\" target=\"_parent\"><img src=\"https://colab.research.google.com/assets/colab-badge.svg\" alt=\"Open In Colab\"/></a>"
      ]
    },
    {
      "cell_type": "markdown",
      "metadata": {
        "id": "ZLFkH7Zi9kt2",
        "colab_type": "text"
      },
      "source": [
        "# Graded Assignment 4 : CNNs"
      ]
    },
    {
      "cell_type": "markdown",
      "metadata": {
        "id": "uBYtgQDI9qPE",
        "colab_type": "text"
      },
      "source": [
        "b) CNN basics : use pytorch and from scratch (not using existing architecture shipped models)  write basic LeNet (mnist) and VGG-16 model (cifar100) and and RESNET (only 8 layers - not 52)  architectures - run on gpu  (use .cuda instruction) - train and report all the stats"
      ]
    },
    {
      "cell_type": "markdown",
      "metadata": {
        "id": "TAzy7P-8MZmu",
        "colab_type": "text"
      },
      "source": [
        "# B) 1_basic Lenet(mnist)"
      ]
    },
    {
      "cell_type": "code",
      "metadata": {
        "id": "cSMhian3Zxrl",
        "colab_type": "code",
        "colab": {}
      },
      "source": [
        "import argparse\n",
        "import torch\n",
        "from torch import nn,optim\n",
        "from torch.nn import functional as F\n",
        "from torchvision import datasets, transforms\n",
        "from torch.optim.lr_scheduler import StepLR\n",
        "from torch.nn import Module,Conv2d,Dropout2d,Linear"
      ],
      "execution_count": 0,
      "outputs": []
    },
    {
      "cell_type": "markdown",
      "metadata": {
        "id": "QdSeKlf8Mdci",
        "colab_type": "text"
      },
      "source": [
        "# Network definition"
      ]
    },
    {
      "cell_type": "code",
      "metadata": {
        "id": "yvvjlQE4ZqiG",
        "colab_type": "code",
        "colab": {}
      },
      "source": [
        "class LeNet(Module):\n",
        "    def __init__(self):\n",
        "        super(LeNet, self).__init__()\n",
        "        self.conv1 = Conv2d(1, 32, 3, 1)\n",
        "        self.conv2 = Conv2d(32, 64, 3, 1)\n",
        "        self.dropout1 = Dropout2d(0.25)\n",
        "        self.dropout2 = Dropout2d(0.5)\n",
        "        self.fc1 = Linear(9216, 128)\n",
        "        self.fc2 = Linear(128, 10)\n",
        "\n",
        "    def forward(self, x):\n",
        "        x = self.conv1(x)\n",
        "        x = F.relu(x)\n",
        "        x = self.conv2(x)\n",
        "        x = F.relu(x)\n",
        "        x = F.max_pool2d(x, 2)\n",
        "        x = self.dropout1(x)\n",
        "        x = torch.flatten(x, 1)\n",
        "        x = self.fc1(x)\n",
        "        x = F.relu(x)\n",
        "        x = self.dropout2(x)\n",
        "        x = self.fc2(x)\n",
        "        output = F.log_softmax(x, dim=1)\n",
        "        return output"
      ],
      "execution_count": 0,
      "outputs": []
    },
    {
      "cell_type": "markdown",
      "metadata": {
        "id": "anhsrOwyMh0W",
        "colab_type": "text"
      },
      "source": [
        "## load data (use GPU)"
      ]
    },
    {
      "cell_type": "code",
      "metadata": {
        "id": "nP17W3baZvOf",
        "colab_type": "code",
        "outputId": "5a66e5a4-c6db-4300-8cf5-68866993b30b",
        "colab": {
          "base_uri": "https://localhost:8080/",
          "height": 50
        }
      },
      "source": [
        "torch.manual_seed(42)\n",
        "use_cuda = torch.cuda.is_available()\n",
        "print(use_cuda)\n",
        "\n",
        "device = torch.device(\"cuda\" if use_cuda else \"cpu\")\n",
        "\n",
        "device"
      ],
      "execution_count": 7,
      "outputs": [
        {
          "output_type": "stream",
          "text": [
            "True\n"
          ],
          "name": "stdout"
        },
        {
          "output_type": "execute_result",
          "data": {
            "text/plain": [
              "device(type='cuda')"
            ]
          },
          "metadata": {
            "tags": []
          },
          "execution_count": 7
        }
      ]
    },
    {
      "cell_type": "code",
      "metadata": {
        "id": "27z6zfKwAl-Q",
        "colab_type": "code",
        "colab": {}
      },
      "source": [
        "args = {'num_workers': 1, 'pin_memory': True} if use_cuda else {}\n",
        "train_loader = torch.utils.data.DataLoader(datasets.MNIST\n",
        "                   ('../data', train=True, download=True,\n",
        "                       transform=transforms.Compose([transforms.ToTensor(),\n",
        "                       transforms.Normalize((0.1307,), (0.3081,))])),\n",
        "                batch_size=batch_size, shuffle=True, **args)\n",
        "\n",
        "\n",
        "test_loader = torch.utils.data.DataLoader(datasets.MNIST('../data', train=False, \n",
        "               transform=transforms.Compose([transforms.ToTensor(),\n",
        "                               transforms.Normalize((0.1307,), (0.3081,))])),\n",
        "                batch_size=test_batch_size, shuffle=True, **args)\n",
        "\n"
      ],
      "execution_count": 0,
      "outputs": []
    },
    {
      "cell_type": "markdown",
      "metadata": {
        "id": "mPWpW667B4rT",
        "colab_type": "text"
      },
      "source": [
        "###Fit model"
      ]
    },
    {
      "cell_type": "code",
      "metadata": {
        "id": "oS9im2o8FDPy",
        "colab_type": "code",
        "colab": {}
      },
      "source": [
        "batch_size = 64\n",
        "test_batch_size = 1000\n",
        "epochs = 10\n",
        "gamma = 0.7\n",
        "lr = 0.01\n",
        "log_interval = 100"
      ],
      "execution_count": 0,
      "outputs": []
    },
    {
      "cell_type": "code",
      "metadata": {
        "id": "vKSGTY-sB7q7",
        "colab_type": "code",
        "colab": {}
      },
      "source": [
        "model = LeNet().to(device)\n",
        "optimizer = optim.Adadelta(model.parameters(), lr=lr)\n",
        "\n",
        "scheduler = StepLR(optimizer, step_size=1, gamma=gamma)"
      ],
      "execution_count": 0,
      "outputs": []
    },
    {
      "cell_type": "code",
      "metadata": {
        "id": "GSgud8wgHomo",
        "colab_type": "code",
        "colab": {
          "base_uri": "https://localhost:8080/",
          "height": 166
        },
        "outputId": "2f12bf4f-1467-4aa8-adfc-9ec1d4ff9be0"
      },
      "source": [
        "!pip install tensorboardX"
      ],
      "execution_count": 34,
      "outputs": [
        {
          "output_type": "stream",
          "text": [
            "Collecting tensorboardX\n",
            "\u001b[?25l  Downloading https://files.pythonhosted.org/packages/35/f1/5843425495765c8c2dd0784a851a93ef204d314fc87bcc2bbb9f662a3ad1/tensorboardX-2.0-py2.py3-none-any.whl (195kB)\n",
            "\r\u001b[K     |█▊                              | 10kB 30.4MB/s eta 0:00:01\r\u001b[K     |███▍                            | 20kB 2.9MB/s eta 0:00:01\r\u001b[K     |█████                           | 30kB 4.2MB/s eta 0:00:01\r\u001b[K     |██████▊                         | 40kB 5.5MB/s eta 0:00:01\r\u001b[K     |████████▍                       | 51kB 3.5MB/s eta 0:00:01\r\u001b[K     |██████████                      | 61kB 4.1MB/s eta 0:00:01\r\u001b[K     |███████████▊                    | 71kB 4.7MB/s eta 0:00:01\r\u001b[K     |█████████████▍                  | 81kB 5.4MB/s eta 0:00:01\r\u001b[K     |███████████████                 | 92kB 4.2MB/s eta 0:00:01\r\u001b[K     |████████████████▊               | 102kB 4.6MB/s eta 0:00:01\r\u001b[K     |██████████████████▍             | 112kB 4.6MB/s eta 0:00:01\r\u001b[K     |████████████████████            | 122kB 4.6MB/s eta 0:00:01\r\u001b[K     |█████████████████████▊          | 133kB 4.6MB/s eta 0:00:01\r\u001b[K     |███████████████████████▌        | 143kB 4.6MB/s eta 0:00:01\r\u001b[K     |█████████████████████████▏      | 153kB 4.6MB/s eta 0:00:01\r\u001b[K     |██████████████████████████▉     | 163kB 4.6MB/s eta 0:00:01\r\u001b[K     |████████████████████████████▌   | 174kB 4.6MB/s eta 0:00:01\r\u001b[K     |██████████████████████████████▏ | 184kB 4.6MB/s eta 0:00:01\r\u001b[K     |███████████████████████████████▉| 194kB 4.6MB/s eta 0:00:01\r\u001b[K     |████████████████████████████████| 204kB 4.6MB/s \n",
            "\u001b[?25hRequirement already satisfied: numpy in /usr/local/lib/python3.6/dist-packages (from tensorboardX) (1.18.4)\n",
            "Requirement already satisfied: protobuf>=3.8.0 in /usr/local/lib/python3.6/dist-packages (from tensorboardX) (3.10.0)\n",
            "Requirement already satisfied: six in /usr/local/lib/python3.6/dist-packages (from tensorboardX) (1.12.0)\n",
            "Requirement already satisfied: setuptools in /usr/local/lib/python3.6/dist-packages (from protobuf>=3.8.0->tensorboardX) (46.3.0)\n",
            "Installing collected packages: tensorboardX\n",
            "Successfully installed tensorboardX-2.0\n"
          ],
          "name": "stdout"
        }
      ]
    },
    {
      "cell_type": "code",
      "metadata": {
        "id": "okDwpIJhHjv-",
        "colab_type": "code",
        "colab": {}
      },
      "source": [
        "import torchvision\n",
        "from torch.autograd import Variable\n",
        "from tensorboardX import SummaryWriter"
      ],
      "execution_count": 0,
      "outputs": []
    },
    {
      "cell_type": "markdown",
      "metadata": {
        "id": "xthc5WpfMnnM",
        "colab_type": "text"
      },
      "source": [
        "# Training "
      ]
    },
    {
      "cell_type": "code",
      "metadata": {
        "id": "ZKjJJMezFhvp",
        "colab_type": "code",
        "colab": {
          "base_uri": "https://localhost:8080/",
          "height": 416
        },
        "outputId": "f54fd496-1c2b-4f43-a8d7-9a0e5259be0d"
      },
      "source": [
        "pip install tensorboard"
      ],
      "execution_count": 25,
      "outputs": [
        {
          "output_type": "stream",
          "text": [
            "Requirement already satisfied: tensorboard in /usr/local/lib/python3.6/dist-packages (2.2.1)\n",
            "Requirement already satisfied: google-auth<2,>=1.6.3 in /usr/local/lib/python3.6/dist-packages (from tensorboard) (1.7.2)\n",
            "Requirement already satisfied: werkzeug>=0.11.15 in /usr/local/lib/python3.6/dist-packages (from tensorboard) (1.0.1)\n",
            "Requirement already satisfied: absl-py>=0.4 in /usr/local/lib/python3.6/dist-packages (from tensorboard) (0.9.0)\n",
            "Requirement already satisfied: requests<3,>=2.21.0 in /usr/local/lib/python3.6/dist-packages (from tensorboard) (2.23.0)\n",
            "Requirement already satisfied: markdown>=2.6.8 in /usr/local/lib/python3.6/dist-packages (from tensorboard) (3.2.1)\n",
            "Requirement already satisfied: protobuf>=3.6.0 in /usr/local/lib/python3.6/dist-packages (from tensorboard) (3.10.0)\n",
            "Requirement already satisfied: setuptools>=41.0.0 in /usr/local/lib/python3.6/dist-packages (from tensorboard) (46.3.0)\n",
            "Requirement already satisfied: tensorboard-plugin-wit>=1.6.0 in /usr/local/lib/python3.6/dist-packages (from tensorboard) (1.6.0.post3)\n",
            "Requirement already satisfied: wheel>=0.26; python_version >= \"3\" in /usr/local/lib/python3.6/dist-packages (from tensorboard) (0.34.2)\n",
            "Requirement already satisfied: google-auth-oauthlib<0.5,>=0.4.1 in /usr/local/lib/python3.6/dist-packages (from tensorboard) (0.4.1)\n",
            "Requirement already satisfied: numpy>=1.12.0 in /usr/local/lib/python3.6/dist-packages (from tensorboard) (1.18.4)\n",
            "Requirement already satisfied: six>=1.10.0 in /usr/local/lib/python3.6/dist-packages (from tensorboard) (1.12.0)\n",
            "Requirement already satisfied: grpcio>=1.24.3 in /usr/local/lib/python3.6/dist-packages (from tensorboard) (1.28.1)\n",
            "Requirement already satisfied: pyasn1-modules>=0.2.1 in /usr/local/lib/python3.6/dist-packages (from google-auth<2,>=1.6.3->tensorboard) (0.2.8)\n",
            "Requirement already satisfied: rsa<4.1,>=3.1.4 in /usr/local/lib/python3.6/dist-packages (from google-auth<2,>=1.6.3->tensorboard) (4.0)\n",
            "Requirement already satisfied: cachetools<3.2,>=2.0.0 in /usr/local/lib/python3.6/dist-packages (from google-auth<2,>=1.6.3->tensorboard) (3.1.1)\n",
            "Requirement already satisfied: idna<3,>=2.5 in /usr/local/lib/python3.6/dist-packages (from requests<3,>=2.21.0->tensorboard) (2.9)\n",
            "Requirement already satisfied: chardet<4,>=3.0.2 in /usr/local/lib/python3.6/dist-packages (from requests<3,>=2.21.0->tensorboard) (3.0.4)\n",
            "Requirement already satisfied: certifi>=2017.4.17 in /usr/local/lib/python3.6/dist-packages (from requests<3,>=2.21.0->tensorboard) (2020.4.5.1)\n",
            "Requirement already satisfied: urllib3!=1.25.0,!=1.25.1,<1.26,>=1.21.1 in /usr/local/lib/python3.6/dist-packages (from requests<3,>=2.21.0->tensorboard) (1.24.3)\n",
            "Requirement already satisfied: requests-oauthlib>=0.7.0 in /usr/local/lib/python3.6/dist-packages (from google-auth-oauthlib<0.5,>=0.4.1->tensorboard) (1.3.0)\n",
            "Requirement already satisfied: pyasn1<0.5.0,>=0.4.6 in /usr/local/lib/python3.6/dist-packages (from pyasn1-modules>=0.2.1->google-auth<2,>=1.6.3->tensorboard) (0.4.8)\n",
            "Requirement already satisfied: oauthlib>=3.0.0 in /usr/local/lib/python3.6/dist-packages (from requests-oauthlib>=0.7.0->google-auth-oauthlib<0.5,>=0.4.1->tensorboard) (3.1.0)\n"
          ],
          "name": "stdout"
        }
      ]
    },
    {
      "cell_type": "code",
      "metadata": {
        "id": "UevP4irYFq_0",
        "colab_type": "code",
        "colab": {}
      },
      "source": [
        "from torch.utils.tensorboard import SummaryWriter \n",
        "log_dir=\"logs/LENET-Pytorch-mnist\"       \n",
        "writer = SummaryWriter(log_dir)"
      ],
      "execution_count": 0,
      "outputs": []
    },
    {
      "cell_type": "code",
      "metadata": {
        "id": "jbaILO_CGKXE",
        "colab_type": "code",
        "colab": {
          "base_uri": "https://localhost:8080/",
          "height": 100
        },
        "outputId": "903e97cb-83cd-4e37-8432-65a9dcd28903"
      },
      "source": [
        "tensorboard --logdir=/log_dir/ --port 6006"
      ],
      "execution_count": 30,
      "outputs": [
        {
          "output_type": "display_data",
          "data": {
            "text/plain": [
              "ERROR: Failed to launch TensorBoard (exited with 255).\n",
              "Contents of stderr:\n",
              "2020-05-18 23:22:56.368914: I tensorflow/stream_executor/platform/default/dso_loader.cc:44] Successfully opened dynamic library libcudart.so.10.1\n",
              "E0518 23:22:57.961052 140140586674048 program.py:311] TensorBoard could not bind to port 6006, it was already in use\n",
              "ERROR: TensorBoard could not bind to port 6006, it was already in use"
            ]
          },
          "metadata": {
            "tags": []
          }
        }
      ]
    },
    {
      "cell_type": "code",
      "metadata": {
        "id": "YRaamSWfDUEH",
        "colab_type": "code",
        "colab": {}
      },
      "source": [
        "def training(log_interval, model, device, train_loader, optimizer, epoch):\n",
        "    model.train()\n",
        "    for batch_idx, (data, target) in enumerate(train_loader):\n",
        "        data, target = data.to(device), target.to(device)\n",
        "        optimizer.zero_grad()\n",
        "        output = model(data)\n",
        "        loss = F.nll_loss(output, target)\n",
        "        loss.backward()\n",
        "        optimizer.step()\n",
        "        if batch_idx % log_interval == 0:\n",
        "            print('Train Epoch: {} [{}/{} ({:.0f}%)]\\tLoss: {:.6f}'.format\n",
        "                  (epoch, batch_idx * len(data), len(train_loader.dataset),\n",
        "                  100. * batch_idx / len(train_loader), loss.item()))\n",
        "\n",
        "\n"
      ],
      "execution_count": 0,
      "outputs": []
    },
    {
      "cell_type": "code",
      "metadata": {
        "id": "wq8MTfugCaP_",
        "colab_type": "code",
        "colab": {
          "base_uri": "https://localhost:8080/",
          "height": 1000
        },
        "outputId": "317e3005-3eef-498c-b706-8581db3d006c"
      },
      "source": [
        "for epoch in range(1, epochs + 1):\n",
        "   training(log_interval, model, device, train_loader, optimizer, epoch)   \n",
        "   scheduler.step()\n",
        "\n",
        "   torch.save(model.state_dict(), \"mnist_cnn_lenet_pytorch.pt\")"
      ],
      "execution_count": 24,
      "outputs": [
        {
          "output_type": "stream",
          "text": [
            "Train Epoch: 1 [0/60000 (0%)]\tLoss: 0.413098\n",
            "Train Epoch: 1 [6400/60000 (11%)]\tLoss: 0.337891\n",
            "Train Epoch: 1 [12800/60000 (21%)]\tLoss: 0.244960\n",
            "Train Epoch: 1 [19200/60000 (32%)]\tLoss: 0.336138\n",
            "Train Epoch: 1 [25600/60000 (43%)]\tLoss: 0.173782\n",
            "Train Epoch: 1 [32000/60000 (53%)]\tLoss: 0.281404\n",
            "Train Epoch: 1 [38400/60000 (64%)]\tLoss: 0.315838\n",
            "Train Epoch: 1 [44800/60000 (75%)]\tLoss: 0.172990\n",
            "Train Epoch: 1 [51200/60000 (85%)]\tLoss: 0.221431\n",
            "Train Epoch: 1 [57600/60000 (96%)]\tLoss: 0.440308\n",
            "Train Epoch: 2 [0/60000 (0%)]\tLoss: 0.313301\n",
            "Train Epoch: 2 [6400/60000 (11%)]\tLoss: 0.247516\n",
            "Train Epoch: 2 [12800/60000 (21%)]\tLoss: 0.300868\n",
            "Train Epoch: 2 [19200/60000 (32%)]\tLoss: 0.130253\n",
            "Train Epoch: 2 [25600/60000 (43%)]\tLoss: 0.324525\n",
            "Train Epoch: 2 [32000/60000 (53%)]\tLoss: 0.384089\n",
            "Train Epoch: 2 [38400/60000 (64%)]\tLoss: 0.191285\n",
            "Train Epoch: 2 [44800/60000 (75%)]\tLoss: 0.179453\n",
            "Train Epoch: 2 [51200/60000 (85%)]\tLoss: 0.218266\n",
            "Train Epoch: 2 [57600/60000 (96%)]\tLoss: 0.207432\n",
            "Train Epoch: 3 [0/60000 (0%)]\tLoss: 0.516729\n",
            "Train Epoch: 3 [6400/60000 (11%)]\tLoss: 0.130828\n",
            "Train Epoch: 3 [12800/60000 (21%)]\tLoss: 0.306616\n",
            "Train Epoch: 3 [19200/60000 (32%)]\tLoss: 0.166781\n",
            "Train Epoch: 3 [25600/60000 (43%)]\tLoss: 0.283727\n",
            "Train Epoch: 3 [32000/60000 (53%)]\tLoss: 0.284235\n",
            "Train Epoch: 3 [38400/60000 (64%)]\tLoss: 0.232063\n",
            "Train Epoch: 3 [44800/60000 (75%)]\tLoss: 0.181469\n",
            "Train Epoch: 3 [51200/60000 (85%)]\tLoss: 0.307364\n",
            "Train Epoch: 3 [57600/60000 (96%)]\tLoss: 0.439382\n",
            "Train Epoch: 4 [0/60000 (0%)]\tLoss: 0.187843\n",
            "Train Epoch: 4 [6400/60000 (11%)]\tLoss: 0.249640\n",
            "Train Epoch: 4 [12800/60000 (21%)]\tLoss: 0.448269\n",
            "Train Epoch: 4 [19200/60000 (32%)]\tLoss: 0.434725\n",
            "Train Epoch: 4 [25600/60000 (43%)]\tLoss: 0.276964\n",
            "Train Epoch: 4 [32000/60000 (53%)]\tLoss: 0.141974\n",
            "Train Epoch: 4 [38400/60000 (64%)]\tLoss: 0.135020\n",
            "Train Epoch: 4 [44800/60000 (75%)]\tLoss: 0.245855\n",
            "Train Epoch: 4 [51200/60000 (85%)]\tLoss: 0.244636\n",
            "Train Epoch: 4 [57600/60000 (96%)]\tLoss: 0.186546\n",
            "Train Epoch: 5 [0/60000 (0%)]\tLoss: 0.241067\n",
            "Train Epoch: 5 [6400/60000 (11%)]\tLoss: 0.177421\n",
            "Train Epoch: 5 [12800/60000 (21%)]\tLoss: 0.472349\n",
            "Train Epoch: 5 [19200/60000 (32%)]\tLoss: 0.146627\n",
            "Train Epoch: 5 [25600/60000 (43%)]\tLoss: 0.163731\n",
            "Train Epoch: 5 [32000/60000 (53%)]\tLoss: 0.149741\n",
            "Train Epoch: 5 [38400/60000 (64%)]\tLoss: 0.114770\n",
            "Train Epoch: 5 [44800/60000 (75%)]\tLoss: 0.375635\n",
            "Train Epoch: 5 [51200/60000 (85%)]\tLoss: 0.215938\n",
            "Train Epoch: 5 [57600/60000 (96%)]\tLoss: 0.127396\n",
            "Train Epoch: 6 [0/60000 (0%)]\tLoss: 0.121911\n",
            "Train Epoch: 6 [6400/60000 (11%)]\tLoss: 0.226905\n",
            "Train Epoch: 6 [12800/60000 (21%)]\tLoss: 0.111410\n",
            "Train Epoch: 6 [19200/60000 (32%)]\tLoss: 0.230686\n",
            "Train Epoch: 6 [25600/60000 (43%)]\tLoss: 0.201962\n",
            "Train Epoch: 6 [32000/60000 (53%)]\tLoss: 0.146079\n",
            "Train Epoch: 6 [38400/60000 (64%)]\tLoss: 0.543248\n",
            "Train Epoch: 6 [44800/60000 (75%)]\tLoss: 0.303456\n",
            "Train Epoch: 6 [51200/60000 (85%)]\tLoss: 0.400587\n",
            "Train Epoch: 6 [57600/60000 (96%)]\tLoss: 0.325957\n",
            "Train Epoch: 7 [0/60000 (0%)]\tLoss: 0.335749\n",
            "Train Epoch: 7 [6400/60000 (11%)]\tLoss: 0.235332\n",
            "Train Epoch: 7 [12800/60000 (21%)]\tLoss: 0.347198\n",
            "Train Epoch: 7 [19200/60000 (32%)]\tLoss: 0.263946\n",
            "Train Epoch: 7 [25600/60000 (43%)]\tLoss: 0.123559\n",
            "Train Epoch: 7 [32000/60000 (53%)]\tLoss: 0.229313\n",
            "Train Epoch: 7 [38400/60000 (64%)]\tLoss: 0.271030\n",
            "Train Epoch: 7 [44800/60000 (75%)]\tLoss: 0.174622\n",
            "Train Epoch: 7 [51200/60000 (85%)]\tLoss: 0.243257\n",
            "Train Epoch: 7 [57600/60000 (96%)]\tLoss: 0.189904\n",
            "Train Epoch: 8 [0/60000 (0%)]\tLoss: 0.208656\n",
            "Train Epoch: 8 [6400/60000 (11%)]\tLoss: 0.219416\n",
            "Train Epoch: 8 [12800/60000 (21%)]\tLoss: 0.258263\n",
            "Train Epoch: 8 [19200/60000 (32%)]\tLoss: 0.169255\n",
            "Train Epoch: 8 [25600/60000 (43%)]\tLoss: 0.132274\n",
            "Train Epoch: 8 [32000/60000 (53%)]\tLoss: 0.190809\n",
            "Train Epoch: 8 [38400/60000 (64%)]\tLoss: 0.223429\n",
            "Train Epoch: 8 [44800/60000 (75%)]\tLoss: 0.225916\n",
            "Train Epoch: 8 [51200/60000 (85%)]\tLoss: 0.326607\n",
            "Train Epoch: 8 [57600/60000 (96%)]\tLoss: 0.383134\n",
            "Train Epoch: 9 [0/60000 (0%)]\tLoss: 0.301390\n",
            "Train Epoch: 9 [6400/60000 (11%)]\tLoss: 0.189181\n",
            "Train Epoch: 9 [12800/60000 (21%)]\tLoss: 0.226282\n",
            "Train Epoch: 9 [19200/60000 (32%)]\tLoss: 0.130408\n",
            "Train Epoch: 9 [25600/60000 (43%)]\tLoss: 0.194459\n",
            "Train Epoch: 9 [32000/60000 (53%)]\tLoss: 0.279029\n",
            "Train Epoch: 9 [38400/60000 (64%)]\tLoss: 0.267389\n",
            "Train Epoch: 9 [44800/60000 (75%)]\tLoss: 0.153869\n",
            "Train Epoch: 9 [51200/60000 (85%)]\tLoss: 0.206877\n",
            "Train Epoch: 9 [57600/60000 (96%)]\tLoss: 0.288091\n",
            "Train Epoch: 10 [0/60000 (0%)]\tLoss: 0.210549\n",
            "Train Epoch: 10 [6400/60000 (11%)]\tLoss: 0.369950\n",
            "Train Epoch: 10 [12800/60000 (21%)]\tLoss: 0.219102\n",
            "Train Epoch: 10 [19200/60000 (32%)]\tLoss: 0.311690\n",
            "Train Epoch: 10 [25600/60000 (43%)]\tLoss: 0.194772\n",
            "Train Epoch: 10 [32000/60000 (53%)]\tLoss: 0.217554\n",
            "Train Epoch: 10 [38400/60000 (64%)]\tLoss: 0.335928\n",
            "Train Epoch: 10 [44800/60000 (75%)]\tLoss: 0.215362\n",
            "Train Epoch: 10 [51200/60000 (85%)]\tLoss: 0.274596\n",
            "Train Epoch: 10 [57600/60000 (96%)]\tLoss: 0.207969\n"
          ],
          "name": "stdout"
        }
      ]
    },
    {
      "cell_type": "markdown",
      "metadata": {
        "id": "G-F8oIoBE3tk",
        "colab_type": "text"
      },
      "source": [
        "## Testing"
      ]
    },
    {
      "cell_type": "code",
      "metadata": {
        "id": "NDqClo75FIMc",
        "colab_type": "code",
        "colab": {}
      },
      "source": [
        "def testing(model, device, test_loader):\n",
        "    model.eval()\n",
        "    test_loss = 0\n",
        "    correct = 0\n",
        "    with torch.no_grad():\n",
        "        for data, target in test_loader:\n",
        "            data, target = data.to(device), target.to(device)\n",
        "            output = model(data)\n",
        "            test_loss += F.nll_loss(output, target, reduction='sum').item()  \n",
        "            pred = output.argmax(dim=1, keepdim=True) \n",
        "            correct += pred.eq(target.view_as(pred)).sum().item()\n",
        "\n",
        "    test_loss /= len(test_loader.dataset)\n",
        "\n",
        "    print('\\nTest dataset: Average loss: {:.4f}, Accuracy: {}/{} ({:.0f}%)\\n'.format(\n",
        "        test_loss, correct, len(test_loader.dataset),\n",
        "        100. * correct / len(test_loader.dataset)))"
      ],
      "execution_count": 0,
      "outputs": []
    },
    {
      "cell_type": "code",
      "metadata": {
        "id": "I4A583gSE1h0",
        "colab_type": "code",
        "colab": {
          "base_uri": "https://localhost:8080/",
          "height": 66
        },
        "outputId": "d877a32c-3599-4032-99a6-c5407963bcc7"
      },
      "source": [
        "testing(model, device, test_loader)"
      ],
      "execution_count": 48,
      "outputs": [
        {
          "output_type": "stream",
          "text": [
            "\n",
            "Test dataset: Average loss: 0.1715, Accuracy: 9497/10000 (95%)\n",
            "\n"
          ],
          "name": "stdout"
        }
      ]
    },
    {
      "cell_type": "code",
      "metadata": {
        "id": "1SxwiXTxH1zf",
        "colab_type": "code",
        "colab": {}
      },
      "source": [
        "log_dir=\"logs/LENET-Pytorch-mnist\"   \n",
        "writer = SummaryWriter(log_dir=log_dir, comment='LENET-Pytorch-mnist')\n",
        "writer.add_graph(model,train_loader)"
      ],
      "execution_count": 0,
      "outputs": []
    },
    {
      "cell_type": "code",
      "metadata": {
        "id": "24FS-4HGDrc0",
        "colab_type": "code",
        "colab": {}
      },
      "source": [
        "%load_ext tensorboard\n",
        "\n",
        "%tensorboard --logdir logs"
      ],
      "execution_count": 0,
      "outputs": []
    }
  ]
}