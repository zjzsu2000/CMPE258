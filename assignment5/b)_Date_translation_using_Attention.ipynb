{
  "nbformat": 4,
  "nbformat_minor": 0,
  "metadata": {
    "coursera": {
      "course_slug": "nlp-sequence-models",
      "graded_item_id": "n16CQ",
      "launcher_item_id": "npjGi"
    },
    "kernelspec": {
      "display_name": "Python 3",
      "language": "python",
      "name": "python3"
    },
    "language_info": {
      "codemirror_mode": {
        "name": "ipython",
        "version": 3
      },
      "file_extension": ".py",
      "mimetype": "text/x-python",
      "name": "python",
      "nbconvert_exporter": "python",
      "pygments_lexer": "ipython3",
      "version": "3.6.0"
    },
    "colab": {
      "name": "b) Date_translation_using_Attention.ipynb",
      "provenance": [],
      "toc_visible": true,
      "include_colab_link": true
    }
  },
  "cells": [
    {
      "cell_type": "markdown",
      "metadata": {
        "id": "view-in-github",
        "colab_type": "text"
      },
      "source": [
        "<a href=\"https://colab.research.google.com/github/zjzsu2000/CMPE258/blob/master/assignment5/b)_Date_translation_using_Attention.ipynb\" target=\"_parent\"><img src=\"https://colab.research.google.com/assets/colab-badge.svg\" alt=\"Open In Colab\"/></a>"
      ]
    },
    {
      "cell_type": "markdown",
      "metadata": {
        "id": "u228UHDgw6Ja",
        "colab_type": "text"
      },
      "source": [
        "# Optional Graded assignment 5 \n",
        "\n",
        "\n"
      ]
    },
    {
      "cell_type": "markdown",
      "metadata": {
        "id": "RaWu_Bz42VUd",
        "colab_type": "text"
      },
      "source": [
        "#  b)date translation using Attention"
      ]
    },
    {
      "cell_type": "code",
      "metadata": {
        "id": "5y-0gSFSxw2m",
        "colab_type": "code",
        "colab": {
          "base_uri": "https://localhost:8080/",
          "height": 150
        },
        "outputId": "820d31e9-8334-4800-991d-feacd7c6bb29"
      },
      "source": [
        "! pip install faker"
      ],
      "execution_count": 6,
      "outputs": [
        {
          "output_type": "stream",
          "text": [
            "Collecting faker\n",
            "\u001b[?25l  Downloading https://files.pythonhosted.org/packages/1c/9d/39cc13537ba25a7819bd566d0b0cddfa5570579c194756ac3aff57256dcd/Faker-4.1.0-py3-none-any.whl (1.0MB)\n",
            "\u001b[K     |████████████████████████████████| 1.0MB 2.7MB/s \n",
            "\u001b[?25hRequirement already satisfied: python-dateutil>=2.4 in /usr/local/lib/python3.6/dist-packages (from faker) (2.8.1)\n",
            "Requirement already satisfied: text-unidecode==1.3 in /usr/local/lib/python3.6/dist-packages (from faker) (1.3)\n",
            "Requirement already satisfied: six>=1.5 in /usr/local/lib/python3.6/dist-packages (from python-dateutil>=2.4->faker) (1.12.0)\n",
            "Installing collected packages: faker\n",
            "Successfully installed faker-4.1.0\n"
          ],
          "name": "stdout"
        }
      ]
    },
    {
      "cell_type": "code",
      "metadata": {
        "id": "CuvfpGSRx5HZ",
        "colab_type": "code",
        "colab": {
          "base_uri": "https://localhost:8080/",
          "height": 66
        },
        "outputId": "d71076a8-6bbc-4735-874e-4661898479ff"
      },
      "source": [
        "pip install np_utils"
      ],
      "execution_count": 13,
      "outputs": [
        {
          "output_type": "stream",
          "text": [
            "Requirement already satisfied: np_utils in /usr/local/lib/python3.6/dist-packages (0.5.12.1)\n",
            "Requirement already satisfied: numpy>=1.0 in /usr/local/lib/python3.6/dist-packages (from np_utils) (1.18.4)\n",
            "Requirement already satisfied: future>=0.16 in /usr/local/lib/python3.6/dist-packages (from np_utils) (0.16.0)\n"
          ],
          "name": "stdout"
        }
      ]
    },
    {
      "cell_type": "code",
      "metadata": {
        "id": "3k4w3UdBw6Je",
        "colab_type": "code",
        "colab": {}
      },
      "source": [
        "import random\n",
        "import numpy as np\n",
        "import keras.backend as K\n",
        "from keras.optimizers import Adam\n",
        "from keras.utils import to_categorical\n",
        "from keras.models import load_model, Model\n",
        "from keras.layers import Bidirectional, Concatenate, Permute, Dot, Input, LSTM \n",
        "from keras.layers import Multiply,RepeatVector, Dense, Activation, Lambda\n",
        "from faker import Faker\n",
        "from tqdm import tqdm\n",
        "from babel.dates import format_date\n",
        "from nmt_utils import *\n",
        "import matplotlib.pyplot as plt\n",
        "%matplotlib inline"
      ],
      "execution_count": 0,
      "outputs": []
    },
    {
      "cell_type": "markdown",
      "metadata": {
        "id": "MKleE_Anw6Jo",
        "colab_type": "text"
      },
      "source": [
        "## 1 - Translating human readable dates into machine readable dates\n",
        "\n"
      ]
    },
    {
      "cell_type": "markdown",
      "metadata": {
        "id": "KRxlERWgw6Jp",
        "colab_type": "text"
      },
      "source": [
        "### 1.1 - Dataset\n",
        "\n"
      ]
    },
    {
      "cell_type": "code",
      "metadata": {
        "id": "EM8NILCUw6Jq",
        "colab_type": "code",
        "outputId": "e5b30f4b-f6dd-4807-89a5-4d931c89eaa7",
        "colab": {}
      },
      "source": [
        "m = 10000\n",
        "dataset, human_vocab, machine_vocab, inv_machine_vocab = load_dataset(m)"
      ],
      "execution_count": 0,
      "outputs": [
        {
          "output_type": "stream",
          "text": [
            "100%|██████████| 10000/10000 [00:01<00:00, 6631.04it/s]\n"
          ],
          "name": "stderr"
        }
      ]
    },
    {
      "cell_type": "code",
      "metadata": {
        "id": "AMO73XAww6Ju",
        "colab_type": "code",
        "outputId": "f614ad65-a1d1-4e82-9efa-3e7f39573c84",
        "colab": {}
      },
      "source": [
        "dataset[:10]"
      ],
      "execution_count": 0,
      "outputs": [
        {
          "output_type": "execute_result",
          "data": {
            "text/plain": [
              "[('9 may 1998', '1998-05-09'),\n",
              " ('10.09.70', '1970-09-10'),\n",
              " ('4/28/90', '1990-04-28'),\n",
              " ('thursday january 26 1995', '1995-01-26'),\n",
              " ('monday march 7 1983', '1983-03-07'),\n",
              " ('sunday may 22 1988', '1988-05-22'),\n",
              " ('tuesday july 8 2008', '2008-07-08'),\n",
              " ('08 sep 1999', '1999-09-08'),\n",
              " ('1 jan 1981', '1981-01-01'),\n",
              " ('monday may 22 1995', '1995-05-22')]"
            ]
          },
          "metadata": {
            "tags": []
          },
          "execution_count": 3
        }
      ]
    },
    {
      "cell_type": "code",
      "metadata": {
        "id": "2QzNeGQfw6Jx",
        "colab_type": "code",
        "outputId": "afb1ec4c-d00f-4948-d290-9cbdc74417a8",
        "colab": {}
      },
      "source": [
        "Tx = 30\n",
        "Ty = 10\n",
        "X, Y, Xoh, Yoh = preprocess_data(dataset, human_vocab, machine_vocab, Tx, Ty)\n",
        "\n",
        "print(\"X.shape:\", X.shape)\n",
        "print(\"Y.shape:\", Y.shape)\n",
        "print(\"Xoh.shape:\", Xoh.shape)\n",
        "print(\"Yoh.shape:\", Yoh.shape)"
      ],
      "execution_count": 0,
      "outputs": [
        {
          "output_type": "stream",
          "text": [
            "X.shape: (10000, 30)\n",
            "Y.shape: (10000, 10)\n",
            "Xoh.shape: (10000, 30, 37)\n",
            "Yoh.shape: (10000, 10, 11)\n"
          ],
          "name": "stdout"
        }
      ]
    },
    {
      "cell_type": "code",
      "metadata": {
        "id": "Q1KTfQRtw6J4",
        "colab_type": "code",
        "outputId": "5fafc2e2-ba09-4621-8817-743bebfa1415",
        "colab": {}
      },
      "source": [
        "index = 0\n",
        "print(\"Source date:\", dataset[index][0])\n",
        "print(\"Target date:\", dataset[index][1])\n",
        "print()\n",
        "print(\"Source after preprocessing (indices):\", X[index])\n",
        "print(\"Target after preprocessing (indices):\", Y[index])\n",
        "print()\n",
        "print(\"Source after preprocessing (one-hot):\", Xoh[index])\n",
        "print(\"Target after preprocessing (one-hot):\", Yoh[index])"
      ],
      "execution_count": 0,
      "outputs": [
        {
          "output_type": "stream",
          "text": [
            "Source date: 9 may 1998\n",
            "Target date: 1998-05-09\n",
            "\n",
            "Source after preprocessing (indices): [12  0 24 13 34  0  4 12 12 11 36 36 36 36 36 36 36 36 36 36 36 36 36 36 36\n",
            " 36 36 36 36 36]\n",
            "Target after preprocessing (indices): [ 2 10 10  9  0  1  6  0  1 10]\n",
            "\n",
            "Source after preprocessing (one-hot): [[ 0.  0.  0. ...,  0.  0.  0.]\n",
            " [ 1.  0.  0. ...,  0.  0.  0.]\n",
            " [ 0.  0.  0. ...,  0.  0.  0.]\n",
            " ..., \n",
            " [ 0.  0.  0. ...,  0.  0.  1.]\n",
            " [ 0.  0.  0. ...,  0.  0.  1.]\n",
            " [ 0.  0.  0. ...,  0.  0.  1.]]\n",
            "Target after preprocessing (one-hot): [[ 0.  0.  1.  0.  0.  0.  0.  0.  0.  0.  0.]\n",
            " [ 0.  0.  0.  0.  0.  0.  0.  0.  0.  0.  1.]\n",
            " [ 0.  0.  0.  0.  0.  0.  0.  0.  0.  0.  1.]\n",
            " [ 0.  0.  0.  0.  0.  0.  0.  0.  0.  1.  0.]\n",
            " [ 1.  0.  0.  0.  0.  0.  0.  0.  0.  0.  0.]\n",
            " [ 0.  1.  0.  0.  0.  0.  0.  0.  0.  0.  0.]\n",
            " [ 0.  0.  0.  0.  0.  0.  1.  0.  0.  0.  0.]\n",
            " [ 1.  0.  0.  0.  0.  0.  0.  0.  0.  0.  0.]\n",
            " [ 0.  1.  0.  0.  0.  0.  0.  0.  0.  0.  0.]\n",
            " [ 0.  0.  0.  0.  0.  0.  0.  0.  0.  0.  1.]]\n"
          ],
          "name": "stdout"
        }
      ]
    },
    {
      "cell_type": "markdown",
      "metadata": {
        "id": "eHC5ELa3w6J6",
        "colab_type": "text"
      },
      "source": [
        "## 2 - Neural machine translation with attention\n",
        "\n",
        "\n",
        "\n",
        "### 2.1 - Attention mechanism\n"
      ]
    },
    {
      "cell_type": "code",
      "metadata": {
        "id": "YOZ__PGSw6J7",
        "colab_type": "code",
        "colab": {}
      },
      "source": [
        "repeator = RepeatVector(Tx)\n",
        "concatenator = Concatenate(axis=-1)\n",
        "densor1 = Dense(10, activation = \"tanh\")\n",
        "densor2 = Dense(1, activation = \"relu\")\n",
        "activator = Activation(softmax, name='attention_weights')\n",
        "dotor = Dot(axes = 1)"
      ],
      "execution_count": 0,
      "outputs": []
    },
    {
      "cell_type": "code",
      "metadata": {
        "id": "NyLA0oJaw6KA",
        "colab_type": "code",
        "colab": {}
      },
      "source": [
        "def one_step_attention(a, s_prev):\n",
        "    s_prev = repeator(s_prev)\n",
        "    concat = concatenator([a, s_prev])\n",
        "    e = densor1(concat)\n",
        "    e = densor2(e)\n",
        "    alphas = activator(e)\n",
        "    context = dotor([alphas, a])     \n",
        "    return context"
      ],
      "execution_count": 0,
      "outputs": []
    },
    {
      "cell_type": "code",
      "metadata": {
        "id": "cMpYmKTfw6KG",
        "colab_type": "code",
        "colab": {}
      },
      "source": [
        "n_a = 32\n",
        "n_s = 64\n",
        "post_activation_LSTM_cell = LSTM(n_s, return_state = True)\n",
        "output_layer = Dense(len(machine_vocab), activation=softmax)"
      ],
      "execution_count": 0,
      "outputs": []
    },
    {
      "cell_type": "code",
      "metadata": {
        "id": "YNJBCJVWw6KJ",
        "colab_type": "code",
        "colab": {}
      },
      "source": [
        "def model(Tx, Ty, n_a, n_s, human_vocab_size, machine_vocab_size):\n",
        "    X = Input(shape=(Tx, human_vocab_size))\n",
        "    s0 = Input(shape=(n_s,), name='s0')\n",
        "    c0 = Input(shape=(n_s,), name='c0')\n",
        "    s = s0\n",
        "    c = c0\n",
        "     \n",
        "    outputs = []\n",
        "    \n",
        "    a = Bidirectional(LSTM(n_a, return_sequences=True))(X)\n",
        "    \n",
        "    for t in range(Ty):          \n",
        "        context = one_step_attention(a, s)\n",
        "        s, _, c = post_activation_LSTM_cell(context, initial_state = [s, c])\n",
        "        out = output_layer(s)\n",
        "        outputs.append(out)\n",
        "    model = Model(inputs = [X, s0, c0], outputs = outputs)\n",
        "\n",
        "    return model"
      ],
      "execution_count": 0,
      "outputs": []
    },
    {
      "cell_type": "code",
      "metadata": {
        "id": "ZfeSxFrIw6KM",
        "colab_type": "code",
        "colab": {}
      },
      "source": [
        "model = model(Tx, Ty, n_a, n_s, len(human_vocab), len(machine_vocab))"
      ],
      "execution_count": 0,
      "outputs": []
    },
    {
      "cell_type": "code",
      "metadata": {
        "id": "64BevKXSw6KP",
        "colab_type": "code",
        "outputId": "4c675be6-16eb-4732-f331-1a2e2c0b173f",
        "colab": {}
      },
      "source": [
        "model.summary()"
      ],
      "execution_count": 0,
      "outputs": [
        {
          "output_type": "stream",
          "text": [
            "____________________________________________________________________________________________________\n",
            "Layer (type)                     Output Shape          Param #     Connected to                     \n",
            "====================================================================================================\n",
            "input_1 (InputLayer)             (None, 30, 37)        0                                            \n",
            "____________________________________________________________________________________________________\n",
            "s0 (InputLayer)                  (None, 64)            0                                            \n",
            "____________________________________________________________________________________________________\n",
            "bidirectional_1 (Bidirectional)  (None, 30, 64)        17920       input_1[0][0]                    \n",
            "____________________________________________________________________________________________________\n",
            "repeat_vector_1 (RepeatVector)   (None, 30, 64)        0           s0[0][0]                         \n",
            "                                                                   lstm_1[0][0]                     \n",
            "                                                                   lstm_1[1][0]                     \n",
            "                                                                   lstm_1[2][0]                     \n",
            "                                                                   lstm_1[3][0]                     \n",
            "                                                                   lstm_1[4][0]                     \n",
            "                                                                   lstm_1[5][0]                     \n",
            "                                                                   lstm_1[6][0]                     \n",
            "                                                                   lstm_1[7][0]                     \n",
            "                                                                   lstm_1[8][0]                     \n",
            "____________________________________________________________________________________________________\n",
            "concatenate_1 (Concatenate)      (None, 30, 128)       0           bidirectional_1[0][0]            \n",
            "                                                                   repeat_vector_1[0][0]            \n",
            "                                                                   bidirectional_1[0][0]            \n",
            "                                                                   repeat_vector_1[1][0]            \n",
            "                                                                   bidirectional_1[0][0]            \n",
            "                                                                   repeat_vector_1[2][0]            \n",
            "                                                                   bidirectional_1[0][0]            \n",
            "                                                                   repeat_vector_1[3][0]            \n",
            "                                                                   bidirectional_1[0][0]            \n",
            "                                                                   repeat_vector_1[4][0]            \n",
            "                                                                   bidirectional_1[0][0]            \n",
            "                                                                   repeat_vector_1[5][0]            \n",
            "                                                                   bidirectional_1[0][0]            \n",
            "                                                                   repeat_vector_1[6][0]            \n",
            "                                                                   bidirectional_1[0][0]            \n",
            "                                                                   repeat_vector_1[7][0]            \n",
            "                                                                   bidirectional_1[0][0]            \n",
            "                                                                   repeat_vector_1[8][0]            \n",
            "                                                                   bidirectional_1[0][0]            \n",
            "                                                                   repeat_vector_1[9][0]            \n",
            "____________________________________________________________________________________________________\n",
            "dense_1 (Dense)                  (None, 30, 10)        1290        concatenate_1[0][0]              \n",
            "                                                                   concatenate_1[1][0]              \n",
            "                                                                   concatenate_1[2][0]              \n",
            "                                                                   concatenate_1[3][0]              \n",
            "                                                                   concatenate_1[4][0]              \n",
            "                                                                   concatenate_1[5][0]              \n",
            "                                                                   concatenate_1[6][0]              \n",
            "                                                                   concatenate_1[7][0]              \n",
            "                                                                   concatenate_1[8][0]              \n",
            "                                                                   concatenate_1[9][0]              \n",
            "____________________________________________________________________________________________________\n",
            "dense_2 (Dense)                  (None, 30, 1)         11          dense_1[0][0]                    \n",
            "                                                                   dense_1[1][0]                    \n",
            "                                                                   dense_1[2][0]                    \n",
            "                                                                   dense_1[3][0]                    \n",
            "                                                                   dense_1[4][0]                    \n",
            "                                                                   dense_1[5][0]                    \n",
            "                                                                   dense_1[6][0]                    \n",
            "                                                                   dense_1[7][0]                    \n",
            "                                                                   dense_1[8][0]                    \n",
            "                                                                   dense_1[9][0]                    \n",
            "____________________________________________________________________________________________________\n",
            "attention_weights (Activation)   (None, 30, 1)         0           dense_2[0][0]                    \n",
            "                                                                   dense_2[1][0]                    \n",
            "                                                                   dense_2[2][0]                    \n",
            "                                                                   dense_2[3][0]                    \n",
            "                                                                   dense_2[4][0]                    \n",
            "                                                                   dense_2[5][0]                    \n",
            "                                                                   dense_2[6][0]                    \n",
            "                                                                   dense_2[7][0]                    \n",
            "                                                                   dense_2[8][0]                    \n",
            "                                                                   dense_2[9][0]                    \n",
            "____________________________________________________________________________________________________\n",
            "dot_1 (Dot)                      (None, 1, 64)         0           attention_weights[0][0]          \n",
            "                                                                   bidirectional_1[0][0]            \n",
            "                                                                   attention_weights[1][0]          \n",
            "                                                                   bidirectional_1[0][0]            \n",
            "                                                                   attention_weights[2][0]          \n",
            "                                                                   bidirectional_1[0][0]            \n",
            "                                                                   attention_weights[3][0]          \n",
            "                                                                   bidirectional_1[0][0]            \n",
            "                                                                   attention_weights[4][0]          \n",
            "                                                                   bidirectional_1[0][0]            \n",
            "                                                                   attention_weights[5][0]          \n",
            "                                                                   bidirectional_1[0][0]            \n",
            "                                                                   attention_weights[6][0]          \n",
            "                                                                   bidirectional_1[0][0]            \n",
            "                                                                   attention_weights[7][0]          \n",
            "                                                                   bidirectional_1[0][0]            \n",
            "                                                                   attention_weights[8][0]          \n",
            "                                                                   bidirectional_1[0][0]            \n",
            "                                                                   attention_weights[9][0]          \n",
            "                                                                   bidirectional_1[0][0]            \n",
            "____________________________________________________________________________________________________\n",
            "c0 (InputLayer)                  (None, 64)            0                                            \n",
            "____________________________________________________________________________________________________\n",
            "lstm_1 (LSTM)                    [(None, 64), (None, 6 33024       dot_1[0][0]                      \n",
            "                                                                   s0[0][0]                         \n",
            "                                                                   c0[0][0]                         \n",
            "                                                                   dot_1[1][0]                      \n",
            "                                                                   lstm_1[0][0]                     \n",
            "                                                                   lstm_1[0][2]                     \n",
            "                                                                   dot_1[2][0]                      \n",
            "                                                                   lstm_1[1][0]                     \n",
            "                                                                   lstm_1[1][2]                     \n",
            "                                                                   dot_1[3][0]                      \n",
            "                                                                   lstm_1[2][0]                     \n",
            "                                                                   lstm_1[2][2]                     \n",
            "                                                                   dot_1[4][0]                      \n",
            "                                                                   lstm_1[3][0]                     \n",
            "                                                                   lstm_1[3][2]                     \n",
            "                                                                   dot_1[5][0]                      \n",
            "                                                                   lstm_1[4][0]                     \n",
            "                                                                   lstm_1[4][2]                     \n",
            "                                                                   dot_1[6][0]                      \n",
            "                                                                   lstm_1[5][0]                     \n",
            "                                                                   lstm_1[5][2]                     \n",
            "                                                                   dot_1[7][0]                      \n",
            "                                                                   lstm_1[6][0]                     \n",
            "                                                                   lstm_1[6][2]                     \n",
            "                                                                   dot_1[8][0]                      \n",
            "                                                                   lstm_1[7][0]                     \n",
            "                                                                   lstm_1[7][2]                     \n",
            "                                                                   dot_1[9][0]                      \n",
            "                                                                   lstm_1[8][0]                     \n",
            "                                                                   lstm_1[8][2]                     \n",
            "____________________________________________________________________________________________________\n",
            "dense_3 (Dense)                  (None, 11)            715         lstm_1[0][0]                     \n",
            "                                                                   lstm_1[1][0]                     \n",
            "                                                                   lstm_1[2][0]                     \n",
            "                                                                   lstm_1[3][0]                     \n",
            "                                                                   lstm_1[4][0]                     \n",
            "                                                                   lstm_1[5][0]                     \n",
            "                                                                   lstm_1[6][0]                     \n",
            "                                                                   lstm_1[7][0]                     \n",
            "                                                                   lstm_1[8][0]                     \n",
            "                                                                   lstm_1[9][0]                     \n",
            "====================================================================================================\n",
            "Total params: 52,960\n",
            "Trainable params: 52,960\n",
            "Non-trainable params: 0\n",
            "____________________________________________________________________________________________________\n"
          ],
          "name": "stdout"
        }
      ]
    },
    {
      "cell_type": "code",
      "metadata": {
        "id": "SJ_9aHsuw6KS",
        "colab_type": "code",
        "colab": {}
      },
      "source": [
        "out = model.compile(optimizer=Adam(lr=0.005, beta_1=0.9, beta_2=0.999, decay=0.01),\n",
        "                    metrics=['accuracy'],\n",
        "                    loss='categorical_crossentropy')\n",
        "out"
      ],
      "execution_count": 0,
      "outputs": []
    },
    {
      "cell_type": "code",
      "metadata": {
        "id": "uKk85p91w6KY",
        "colab_type": "code",
        "colab": {}
      },
      "source": [
        "s0 = np.zeros((m, n_s))\n",
        "c0 = np.zeros((m, n_s))\n",
        "outputs = list(Yoh.swapaxes(0,1))"
      ],
      "execution_count": 0,
      "outputs": []
    },
    {
      "cell_type": "code",
      "metadata": {
        "id": "hODkvEQBw6Kb",
        "colab_type": "code",
        "outputId": "1eeeae54-7a56-4d70-9a75-820422ce8448",
        "colab": {}
      },
      "source": [
        "model.fit([Xoh, s0, c0], outputs, epochs=1, batch_size=100)"
      ],
      "execution_count": 0,
      "outputs": [
        {
          "output_type": "stream",
          "text": [
            "Epoch 1/1\n",
            "10000/10000 [==============================] - 37s - loss: 17.6637 - dense_3_loss_1: 1.4564 - dense_3_loss_2: 1.1931 - dense_3_loss_3: 1.8566 - dense_3_loss_4: 2.7559 - dense_3_loss_5: 0.9145 - dense_3_loss_6: 1.3650 - dense_3_loss_7: 2.7363 - dense_3_loss_8: 1.0627 - dense_3_loss_9: 1.7362 - dense_3_loss_10: 2.5870 - dense_3_acc_1: 0.3589 - dense_3_acc_2: 0.5990 - dense_3_acc_3: 0.2796 - dense_3_acc_4: 0.0705 - dense_3_acc_5: 0.9524 - dense_3_acc_6: 0.2643 - dense_3_acc_7: 0.0386 - dense_3_acc_8: 0.9143 - dense_3_acc_9: 0.2431 - dense_3_acc_10: 0.1049    \n"
          ],
          "name": "stdout"
        },
        {
          "output_type": "execute_result",
          "data": {
            "text/plain": [
              "<keras.callbacks.History at 0x7f618f92d9b0>"
            ]
          },
          "metadata": {
            "tags": []
          },
          "execution_count": 14
        }
      ]
    },
    {
      "cell_type": "code",
      "metadata": {
        "id": "G04wEkdHw6Kg",
        "colab_type": "code",
        "colab": {}
      },
      "source": [
        "model.load_weights('models/model.h5')"
      ],
      "execution_count": 0,
      "outputs": []
    },
    {
      "cell_type": "code",
      "metadata": {
        "id": "KfWv2teCw6Ki",
        "colab_type": "code",
        "outputId": "d8c6573b-adf0-495f-8941-f89ae8584888",
        "colab": {}
      },
      "source": [
        "EXAMPLES = ['3 May 1979', '5 April 09', '21th of August 2016', 'Tue 10 Jul 2007', 'Saturday May 9 2018', 'March 3 2001', 'March 3rd 2001', '1 March 2001']\n",
        "for example in EXAMPLES:\n",
        "    \n",
        "    source = string_to_int(example, Tx, human_vocab)\n",
        "    source = np.array(list(map(lambda x: to_categorical(x, num_classes=len(human_vocab)), source))).swapaxes(0,1)\n",
        "    prediction = model.predict([source, s0, c0])\n",
        "    prediction = np.argmax(prediction, axis = -1)\n",
        "    output = [inv_machine_vocab[int(i)] for i in prediction]\n",
        "    \n",
        "    print(\"source:\", example)\n",
        "    print(\"output:\", ''.join(output))"
      ],
      "execution_count": 0,
      "outputs": [
        {
          "output_type": "stream",
          "text": [
            "source: 3 May 1979\n",
            "output: 1979-05-03\n",
            "source: 5 April 09\n",
            "output: 2009-05-05\n",
            "source: 21th of August 2016\n",
            "output: 2016-08-21\n",
            "source: Tue 10 Jul 2007\n",
            "output: 2007-07-10\n",
            "source: Saturday May 9 2018\n",
            "output: 2018-05-09\n",
            "source: March 3 2001\n",
            "output: 2001-03-03\n",
            "source: March 3rd 2001\n",
            "output: 2001-03-03\n",
            "source: 1 March 2001\n",
            "output: 2001-03-01\n"
          ],
          "name": "stdout"
        }
      ]
    },
    {
      "cell_type": "markdown",
      "metadata": {
        "id": "CSE8QOeqw6Km",
        "colab_type": "text"
      },
      "source": [
        "You can also change these examples to test with your own examples. The next part will give you a better sense on what the attention mechanism is doing--i.e., what part of the input the network is paying attention to when generating a particular output character. "
      ]
    },
    {
      "cell_type": "markdown",
      "metadata": {
        "id": "oCqr8eKtw6Kn",
        "colab_type": "text"
      },
      "source": [
        "## 3 - Visualizing Attentio\n",
        "\n"
      ]
    },
    {
      "cell_type": "markdown",
      "metadata": {
        "id": "j054Zvs5w6Kn",
        "colab_type": "text"
      },
      "source": [
        "### 3.1 - Getting the activations from the network\n"
      ]
    },
    {
      "cell_type": "code",
      "metadata": {
        "id": "QNgN-eSSw6Ko",
        "colab_type": "code",
        "outputId": "659f00be-af43-47bf-eb50-35d7661733b9",
        "colab": {}
      },
      "source": [
        "model.summary()"
      ],
      "execution_count": 0,
      "outputs": [
        {
          "output_type": "stream",
          "text": [
            "____________________________________________________________________________________________________\n",
            "Layer (type)                     Output Shape          Param #     Connected to                     \n",
            "====================================================================================================\n",
            "input_1 (InputLayer)             (None, 30, 37)        0                                            \n",
            "____________________________________________________________________________________________________\n",
            "s0 (InputLayer)                  (None, 64)            0                                            \n",
            "____________________________________________________________________________________________________\n",
            "bidirectional_1 (Bidirectional)  (None, 30, 64)        17920       input_1[0][0]                    \n",
            "____________________________________________________________________________________________________\n",
            "repeat_vector_1 (RepeatVector)   (None, 30, 64)        0           s0[0][0]                         \n",
            "                                                                   lstm_1[0][0]                     \n",
            "                                                                   lstm_1[1][0]                     \n",
            "                                                                   lstm_1[2][0]                     \n",
            "                                                                   lstm_1[3][0]                     \n",
            "                                                                   lstm_1[4][0]                     \n",
            "                                                                   lstm_1[5][0]                     \n",
            "                                                                   lstm_1[6][0]                     \n",
            "                                                                   lstm_1[7][0]                     \n",
            "                                                                   lstm_1[8][0]                     \n",
            "____________________________________________________________________________________________________\n",
            "concatenate_1 (Concatenate)      (None, 30, 128)       0           bidirectional_1[0][0]            \n",
            "                                                                   repeat_vector_1[0][0]            \n",
            "                                                                   bidirectional_1[0][0]            \n",
            "                                                                   repeat_vector_1[1][0]            \n",
            "                                                                   bidirectional_1[0][0]            \n",
            "                                                                   repeat_vector_1[2][0]            \n",
            "                                                                   bidirectional_1[0][0]            \n",
            "                                                                   repeat_vector_1[3][0]            \n",
            "                                                                   bidirectional_1[0][0]            \n",
            "                                                                   repeat_vector_1[4][0]            \n",
            "                                                                   bidirectional_1[0][0]            \n",
            "                                                                   repeat_vector_1[5][0]            \n",
            "                                                                   bidirectional_1[0][0]            \n",
            "                                                                   repeat_vector_1[6][0]            \n",
            "                                                                   bidirectional_1[0][0]            \n",
            "                                                                   repeat_vector_1[7][0]            \n",
            "                                                                   bidirectional_1[0][0]            \n",
            "                                                                   repeat_vector_1[8][0]            \n",
            "                                                                   bidirectional_1[0][0]            \n",
            "                                                                   repeat_vector_1[9][0]            \n",
            "____________________________________________________________________________________________________\n",
            "dense_1 (Dense)                  (None, 30, 10)        1290        concatenate_1[0][0]              \n",
            "                                                                   concatenate_1[1][0]              \n",
            "                                                                   concatenate_1[2][0]              \n",
            "                                                                   concatenate_1[3][0]              \n",
            "                                                                   concatenate_1[4][0]              \n",
            "                                                                   concatenate_1[5][0]              \n",
            "                                                                   concatenate_1[6][0]              \n",
            "                                                                   concatenate_1[7][0]              \n",
            "                                                                   concatenate_1[8][0]              \n",
            "                                                                   concatenate_1[9][0]              \n",
            "____________________________________________________________________________________________________\n",
            "dense_2 (Dense)                  (None, 30, 1)         11          dense_1[0][0]                    \n",
            "                                                                   dense_1[1][0]                    \n",
            "                                                                   dense_1[2][0]                    \n",
            "                                                                   dense_1[3][0]                    \n",
            "                                                                   dense_1[4][0]                    \n",
            "                                                                   dense_1[5][0]                    \n",
            "                                                                   dense_1[6][0]                    \n",
            "                                                                   dense_1[7][0]                    \n",
            "                                                                   dense_1[8][0]                    \n",
            "                                                                   dense_1[9][0]                    \n",
            "____________________________________________________________________________________________________\n",
            "attention_weights (Activation)   (None, 30, 1)         0           dense_2[0][0]                    \n",
            "                                                                   dense_2[1][0]                    \n",
            "                                                                   dense_2[2][0]                    \n",
            "                                                                   dense_2[3][0]                    \n",
            "                                                                   dense_2[4][0]                    \n",
            "                                                                   dense_2[5][0]                    \n",
            "                                                                   dense_2[6][0]                    \n",
            "                                                                   dense_2[7][0]                    \n",
            "                                                                   dense_2[8][0]                    \n",
            "                                                                   dense_2[9][0]                    \n",
            "____________________________________________________________________________________________________\n",
            "dot_1 (Dot)                      (None, 1, 64)         0           attention_weights[0][0]          \n",
            "                                                                   bidirectional_1[0][0]            \n",
            "                                                                   attention_weights[1][0]          \n",
            "                                                                   bidirectional_1[0][0]            \n",
            "                                                                   attention_weights[2][0]          \n",
            "                                                                   bidirectional_1[0][0]            \n",
            "                                                                   attention_weights[3][0]          \n",
            "                                                                   bidirectional_1[0][0]            \n",
            "                                                                   attention_weights[4][0]          \n",
            "                                                                   bidirectional_1[0][0]            \n",
            "                                                                   attention_weights[5][0]          \n",
            "                                                                   bidirectional_1[0][0]            \n",
            "                                                                   attention_weights[6][0]          \n",
            "                                                                   bidirectional_1[0][0]            \n",
            "                                                                   attention_weights[7][0]          \n",
            "                                                                   bidirectional_1[0][0]            \n",
            "                                                                   attention_weights[8][0]          \n",
            "                                                                   bidirectional_1[0][0]            \n",
            "                                                                   attention_weights[9][0]          \n",
            "                                                                   bidirectional_1[0][0]            \n",
            "____________________________________________________________________________________________________\n",
            "c0 (InputLayer)                  (None, 64)            0                                            \n",
            "____________________________________________________________________________________________________\n",
            "lstm_1 (LSTM)                    [(None, 64), (None, 6 33024       dot_1[0][0]                      \n",
            "                                                                   s0[0][0]                         \n",
            "                                                                   c0[0][0]                         \n",
            "                                                                   dot_1[1][0]                      \n",
            "                                                                   lstm_1[0][0]                     \n",
            "                                                                   lstm_1[0][2]                     \n",
            "                                                                   dot_1[2][0]                      \n",
            "                                                                   lstm_1[1][0]                     \n",
            "                                                                   lstm_1[1][2]                     \n",
            "                                                                   dot_1[3][0]                      \n",
            "                                                                   lstm_1[2][0]                     \n",
            "                                                                   lstm_1[2][2]                     \n",
            "                                                                   dot_1[4][0]                      \n",
            "                                                                   lstm_1[3][0]                     \n",
            "                                                                   lstm_1[3][2]                     \n",
            "                                                                   dot_1[5][0]                      \n",
            "                                                                   lstm_1[4][0]                     \n",
            "                                                                   lstm_1[4][2]                     \n",
            "                                                                   dot_1[6][0]                      \n",
            "                                                                   lstm_1[5][0]                     \n",
            "                                                                   lstm_1[5][2]                     \n",
            "                                                                   dot_1[7][0]                      \n",
            "                                                                   lstm_1[6][0]                     \n",
            "                                                                   lstm_1[6][2]                     \n",
            "                                                                   dot_1[8][0]                      \n",
            "                                                                   lstm_1[7][0]                     \n",
            "                                                                   lstm_1[7][2]                     \n",
            "                                                                   dot_1[9][0]                      \n",
            "                                                                   lstm_1[8][0]                     \n",
            "                                                                   lstm_1[8][2]                     \n",
            "____________________________________________________________________________________________________\n",
            "dense_3 (Dense)                  (None, 11)            715         lstm_1[0][0]                     \n",
            "                                                                   lstm_1[1][0]                     \n",
            "                                                                   lstm_1[2][0]                     \n",
            "                                                                   lstm_1[3][0]                     \n",
            "                                                                   lstm_1[4][0]                     \n",
            "                                                                   lstm_1[5][0]                     \n",
            "                                                                   lstm_1[6][0]                     \n",
            "                                                                   lstm_1[7][0]                     \n",
            "                                                                   lstm_1[8][0]                     \n",
            "                                                                   lstm_1[9][0]                     \n",
            "====================================================================================================\n",
            "Total params: 52,960\n"
          ],
          "name": "stdout"
        },
        {
          "output_type": "stream",
          "text": [
            "Trainable params: 52,960\n",
            "Non-trainable params: 0\n",
            "____________________________________________________________________________________________________\n"
          ],
          "name": "stdout"
        }
      ]
    },
    {
      "cell_type": "code",
      "metadata": {
        "scrolled": false,
        "id": "ZJeRgtrHw6Kq",
        "colab_type": "code",
        "outputId": "de00dc95-6e23-40ce-f688-968765861f3d",
        "colab": {}
      },
      "source": [
        "attention_map = plot_attention_map(model, human_vocab, inv_machine_vocab, \"Tuesday 09 Oct 1993\", num = 7, n_s = 64)"
      ],
      "execution_count": 0,
      "outputs": [
        {
          "output_type": "display_data",
          "data": {
            "text/plain": [
              "<matplotlib.figure.Figure at 0x7f616c63cfd0>"
            ]
          },
          "metadata": {
            "tags": []
          }
        },
        {
          "output_type": "display_data",
          "data": {
            "image/png": "[encoded data removed]",
            "text/plain": [
              "<matplotlib.figure.Figure at 0x7f61808c7cf8>"
            ]
          },
          "metadata": {
            "tags": []
          }
        }
      ]
    }
  ]
}