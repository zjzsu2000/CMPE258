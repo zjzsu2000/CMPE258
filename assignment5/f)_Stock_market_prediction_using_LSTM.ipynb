{
  "nbformat": 4,
  "nbformat_minor": 0,
  "metadata": {
    "kernelspec": {
      "name": "python3",
      "display_name": "Python 3"
    },
    "colab": {
      "name": "f) Stock market prediction using LSTM.ipynb",
      "provenance": [],
      "machine_shape": "hm",
      "include_colab_link": true
    },
    "accelerator": "TPU"
  },
  "cells": [
    {
      "cell_type": "markdown",
      "metadata": {
        "id": "view-in-github",
        "colab_type": "text"
      },
      "source": [
        "<a href=\"https://colab.research.google.com/github/zjzsu2000/CMPE258/blob/master/assignment5/f)_Stock_market_prediction_using_LSTM.ipynb\" target=\"_parent\"><img src=\"https://colab.research.google.com/assets/colab-badge.svg\" alt=\"Open In Colab\"/></a>"
      ]
    },
    {
      "cell_type": "markdown",
      "metadata": {
        "id": "V7jYBHQo-sSb",
        "colab_type": "text"
      },
      "source": [
        "# Optional Graded assignment 5\n",
        "# f) Stock market prediction using LSTM"
      ]
    },
    {
      "cell_type": "code",
      "metadata": {
        "id": "tkgE1-lW-k1r",
        "colab_type": "code",
        "colab": {}
      },
      "source": [
        "from keras.layers import Dense, Activation, Dropout\n",
        "from keras.layers import LSTM\n",
        "from keras.models import Sequential\n",
        "import time\n",
        "import warnings\n",
        "import numpy as np\n",
        "from numpy import newaxis\n",
        "import matplotlib.pyplot as plt"
      ],
      "execution_count": 0,
      "outputs": []
    },
    {
      "cell_type": "code",
      "metadata": {
        "id": "upYlteiYApyJ",
        "colab_type": "code",
        "colab": {}
      },
      "source": [
        "def load_data(filename, seq_len, normalise_window):\n",
        "    f = open(filename, 'r').read()\n",
        "    data = f.split('\\n')\n",
        "    sequence_length = seq_len + 1\n",
        "    result = []\n",
        "    for index in range(len(data) - sequence_length):\n",
        "        result.append(data[index: index + sequence_length])\n",
        "    \n",
        "    if normalise_window:\n",
        "        result = normalise_windows(result)\n",
        "\n",
        "    result = np.array(result)\n",
        "\n",
        "    row = round(0.9 * result.shape[0])\n",
        "    train = result[:int(row), :]\n",
        "    np.random.shuffle(train)\n",
        "    x_train = train[:, :-1]\n",
        "    y_train = train[:, -1]\n",
        "    x_test = result[int(row):, :-1]\n",
        "    y_test = result[int(row):, -1]\n",
        "\n",
        "    x_train = np.reshape(x_train, (x_train.shape[0], x_train.shape[1], 1))\n",
        "    x_test = np.reshape(x_test, (x_test.shape[0], x_test.shape[1], 1))  \n",
        "\n",
        "    return [x_train, y_train, x_test, y_test]\n",
        "\n",
        "def normalise_windows(window_data):\n",
        "    normalised_data = []\n",
        "    for window in window_data:\n",
        "        normalised_window = [((float(p) / float(window[0])) - 1) for p in window]\n",
        "        normalised_data.append(normalised_window)\n",
        "    return normalised_data"
      ],
      "execution_count": 0,
      "outputs": []
    },
    {
      "cell_type": "code",
      "metadata": {
        "id": "g7Xsu51UDfVh",
        "colab_type": "code",
        "colab": {
          "base_uri": "https://localhost:8080/",
          "height": 120
        },
        "outputId": "095ef920-45f7-4dd1-d4f4-4d4e85d3c8e0"
      },
      "source": [
        "from google.colab import drive\n",
        "drive.mount('/content/drive')"
      ],
      "execution_count": 17,
      "outputs": [
        {
          "output_type": "stream",
          "text": [
            "Go to this URL in a browser: https://accounts.google.com/o/oauth2/auth?client_id=947318989803-6bn6qk8qdgf4n4g3pfee6491hc0brc4i.apps.googleusercontent.com&redirect_uri=urn%3aietf%3awg%3aoauth%3a2.0%3aoob&response_type=code&scope=email%20https%3a%2f%2fwww.googleapis.com%2fauth%2fdocs.test%20https%3a%2f%2fwww.googleapis.com%2fauth%2fdrive%20https%3a%2f%2fwww.googleapis.com%2fauth%2fdrive.photos.readonly%20https%3a%2f%2fwww.googleapis.com%2fauth%2fpeopleapi.readonly\n",
            "\n",
            "Enter your authorization code:\n",
            "··········\n",
            "Mounted at /content/drive\n"
          ],
          "name": "stdout"
        }
      ]
    },
    {
      "cell_type": "code",
      "metadata": {
        "id": "X5LwIE2GEeAe",
        "colab_type": "code",
        "colab": {}
      },
      "source": [
        "root_dir = '/content/drive/My Drive/'\n",
        "base_dir = root_dir + 'CMPE258/assignment/'\n",
        "data_dir_me=base_dir+'data/'"
      ],
      "execution_count": 0,
      "outputs": []
    },
    {
      "cell_type": "code",
      "metadata": {
        "id": "qylgH6bu-k1y",
        "colab_type": "code",
        "colab": {}
      },
      "source": [
        "X_train, y_train, X_test, y_test = load_data(data_dir_me+'sp500.csv', 50, True)"
      ],
      "execution_count": 0,
      "outputs": []
    },
    {
      "cell_type": "code",
      "metadata": {
        "id": "xmV5umeq-k13",
        "colab_type": "code",
        "outputId": "12a759be-cb79-4566-ff0b-cf32a376f2fc",
        "colab": {
          "base_uri": "https://localhost:8080/",
          "height": 33
        }
      },
      "source": [
        "model = Sequential([LSTM(return_sequences=True, input_shape=(None, 1), units=50),\n",
        "                    Dropout(0.2),\n",
        "                    LSTM(input_shape=(None, 1), return_sequences=True, units=50),\n",
        "                    LSTM(100, return_sequences=False),\n",
        "                    Dropout(0.2),Dense(units=1),\n",
        "                    Activation('linear')])\n",
        "\n",
        "start = time.time()\n",
        "model.compile(loss='mse', optimizer='rmsprop')\n",
        "print('compilation time : ', time.time() - start)"
      ],
      "execution_count": 23,
      "outputs": [
        {
          "output_type": "stream",
          "text": [
            "compilation time :  0.008912801742553711\n"
          ],
          "name": "stdout"
        }
      ]
    },
    {
      "cell_type": "code",
      "metadata": {
        "id": "52iFLN8xCi9O",
        "colab_type": "code",
        "colab": {
          "base_uri": "https://localhost:8080/",
          "height": 383
        },
        "outputId": "46f3fd88-8f7f-4349-da24-4d9268cb7c22"
      },
      "source": [
        "model.summary()"
      ],
      "execution_count": 24,
      "outputs": [
        {
          "output_type": "stream",
          "text": [
            "Model: \"sequential_6\"\n",
            "_________________________________________________________________\n",
            "Layer (type)                 Output Shape              Param #   \n",
            "=================================================================\n",
            "lstm_14 (LSTM)               (None, None, 50)          10400     \n",
            "_________________________________________________________________\n",
            "dropout_11 (Dropout)         (None, None, 50)          0         \n",
            "_________________________________________________________________\n",
            "lstm_15 (LSTM)               (None, None, 50)          20200     \n",
            "_________________________________________________________________\n",
            "lstm_16 (LSTM)               (None, 100)               60400     \n",
            "_________________________________________________________________\n",
            "dropout_12 (Dropout)         (None, 100)               0         \n",
            "_________________________________________________________________\n",
            "dense_6 (Dense)              (None, 1)                 101       \n",
            "_________________________________________________________________\n",
            "activation_6 (Activation)    (None, 1)                 0         \n",
            "=================================================================\n",
            "Total params: 91,101\n",
            "Trainable params: 91,101\n",
            "Non-trainable params: 0\n",
            "_________________________________________________________________\n"
          ],
          "name": "stdout"
        }
      ]
    },
    {
      "cell_type": "code",
      "metadata": {
        "id": "mwu_P3qfDMWQ",
        "colab_type": "code",
        "colab": {
          "base_uri": "https://localhost:8080/",
          "height": 83
        },
        "outputId": "842b945f-67f3-40be-aef8-1e4769e16c12"
      },
      "source": [
        "#Step 3 Train the model\n",
        "model.fit(X_train,y_train,batch_size=512,epochs=1,validation_split=0.05)"
      ],
      "execution_count": 62,
      "outputs": [
        {
          "output_type": "stream",
          "text": [
            "Train on 3523 samples, validate on 186 samples\n",
            "Epoch 1/1\n",
            "3523/3523 [==============================] - 3s 933us/step - loss: 2.6294e-04 - val_loss: 1.7486e-04\n"
          ],
          "name": "stdout"
        },
        {
          "output_type": "execute_result",
          "data": {
            "text/plain": [
              "<keras.callbacks.callbacks.History at 0x7f48d618bd68>"
            ]
          },
          "metadata": {
            "tags": []
          },
          "execution_count": 62
        }
      ]
    },
    {
      "cell_type": "code",
      "metadata": {
        "id": "vELgIGcUFIvw",
        "colab_type": "code",
        "colab": {}
      },
      "source": [
        "def predict_sequences_multiple(model, data, window_size, prediction_len):   \n",
        "    prediction_seqs = []\n",
        "    for i in range(int(len(data)/prediction_len)):\n",
        "        curr_frame = data[i*prediction_len]\n",
        "        predicted = []\n",
        "        for j in range(0,prediction_len):\n",
        "            predicted.append(model.predict(curr_frame[newaxis,:,:])[0,0])\n",
        "            curr_frame = curr_frame[1:]\n",
        "            curr_frame = np.insert(curr_frame, [window_size-1], predicted[-1], axis=0)\n",
        "        prediction_seqs.append(predicted)\n",
        "    return prediction_seqs"
      ],
      "execution_count": 0,
      "outputs": []
    },
    {
      "cell_type": "code",
      "metadata": {
        "id": "FSTebCrhDMhE",
        "colab_type": "code",
        "colab": {}
      },
      "source": [
        "predictions = predict_sequences_multiple(model, X_test, 50, 50)"
      ],
      "execution_count": 0,
      "outputs": []
    },
    {
      "cell_type": "code",
      "metadata": {
        "id": "3OMelRfYFVm6",
        "colab_type": "code",
        "colab": {}
      },
      "source": [
        "def plot_results_multiple(predicted_data, true_data, prediction_len):\n",
        "    fig = plt.figure(facecolor='white')\n",
        "    ax = fig.add_subplot(111)\n",
        "    ax.plot(true_data, label='True Data')\n",
        "    for i, data in enumerate(predicted_data):\n",
        "        padding = [None for p in range(i * prediction_len)]\n",
        "        plt.plot(padding + data, label='Prediction')\n",
        "        plt.legend()\n",
        "    plt.show()"
      ],
      "execution_count": 0,
      "outputs": []
    },
    {
      "cell_type": "code",
      "metadata": {
        "id": "8uNQ4WivH1HR",
        "colab_type": "code",
        "colab": {
          "base_uri": "https://localhost:8080/",
          "height": 1000
        },
        "outputId": "3b9bd70f-1bdd-48aa-84b2-55821325bf2b"
      },
      "source": [
        "predictions"
      ],
      "execution_count": 56,
      "outputs": [
        {
          "output_type": "execute_result",
          "data": {
            "text/plain": [
              "[[0.079611234,\n",
              "  0.080553055,\n",
              "  0.08150719,\n",
              "  0.082546994,\n",
              "  0.08371138,\n",
              "  0.08501281,\n",
              "  0.08644435,\n",
              "  0.08799327,\n",
              "  0.0896396,\n",
              "  0.09136371,\n",
              "  0.09314627,\n",
              "  0.09497212,\n",
              "  0.09682803,\n",
              "  0.098703586,\n",
              "  0.100591846,\n",
              "  0.10248712,\n",
              "  0.10438723,\n",
              "  0.106288746,\n",
              "  0.10819044,\n",
              "  0.11009189,\n",
              "  0.111992,\n",
              "  0.113891155,\n",
              "  0.11578887,\n",
              "  0.11768493,\n",
              "  0.119580045,\n",
              "  0.12147422,\n",
              "  0.12336698,\n",
              "  0.12525848,\n",
              "  0.12714879,\n",
              "  0.12903775,\n",
              "  0.13092542,\n",
              "  0.13281177,\n",
              "  0.13469656,\n",
              "  0.13657986,\n",
              "  0.13846134,\n",
              "  0.14034086,\n",
              "  0.1422186,\n",
              "  0.14409438,\n",
              "  0.14596778,\n",
              "  0.14783895,\n",
              "  0.14970808,\n",
              "  0.15157473,\n",
              "  0.15343906,\n",
              "  0.15530106,\n",
              "  0.15716006,\n",
              "  0.15901601,\n",
              "  0.16086921,\n",
              "  0.1627194,\n",
              "  0.16456674,\n",
              "  0.16641085],\n",
              " [0.03570718,\n",
              "  0.037824735,\n",
              "  0.039943986,\n",
              "  0.042041186,\n",
              "  0.04410503,\n",
              "  0.04613073,\n",
              "  0.048120223,\n",
              "  0.050079234,\n",
              "  0.052013367,\n",
              "  0.053928412,\n",
              "  0.05582952,\n",
              "  0.057720896,\n",
              "  0.059606083,\n",
              "  0.06148805,\n",
              "  0.063368864,\n",
              "  0.06524919,\n",
              "  0.06713081,\n",
              "  0.06901357,\n",
              "  0.07089677,\n",
              "  0.07278051,\n",
              "  0.07466632,\n",
              "  0.076553956,\n",
              "  0.078443006,\n",
              "  0.08033348,\n",
              "  0.08222538,\n",
              "  0.08411744,\n",
              "  0.08601038,\n",
              "  0.08790394,\n",
              "  0.089797646,\n",
              "  0.09169253,\n",
              "  0.09358796,\n",
              "  0.0954846,\n",
              "  0.09738209,\n",
              "  0.09927918,\n",
              "  0.10117695,\n",
              "  0.10307402,\n",
              "  0.10497043,\n",
              "  0.106867194,\n",
              "  0.10876337,\n",
              "  0.11065971,\n",
              "  0.11255597,\n",
              "  0.11445125,\n",
              "  0.11634617,\n",
              "  0.118240125,\n",
              "  0.120133415,\n",
              "  0.122025974,\n",
              "  0.12391771,\n",
              "  0.12580861,\n",
              "  0.12769821,\n",
              "  0.1295867],\n",
              " [0.016736954,\n",
              "  0.01714402,\n",
              "  0.017674103,\n",
              "  0.01838566,\n",
              "  0.019298885,\n",
              "  0.020409483,\n",
              "  0.021697298,\n",
              "  0.023134701,\n",
              "  0.024693448,\n",
              "  0.026345164,\n",
              "  0.028067205,\n",
              "  0.029839098,\n",
              "  0.031644925,\n",
              "  0.033474334,\n",
              "  0.035318065,\n",
              "  0.037171442,\n",
              "  0.0390299,\n",
              "  0.040892076,\n",
              "  0.042755816,\n",
              "  0.044621084,\n",
              "  0.046487734,\n",
              "  0.04835601,\n",
              "  0.050225183,\n",
              "  0.052095212,\n",
              "  0.053965848,\n",
              "  0.0558384,\n",
              "  0.057712574,\n",
              "  0.05958805,\n",
              "  0.061464746,\n",
              "  0.06334324,\n",
              "  0.06522317,\n",
              "  0.06710449,\n",
              "  0.06898714,\n",
              "  0.07087159,\n",
              "  0.07275732,\n",
              "  0.074644186,\n",
              "  0.07653238,\n",
              "  0.07842231,\n",
              "  0.080312796,\n",
              "  0.08220432,\n",
              "  0.084096596,\n",
              "  0.08598968,\n",
              "  0.08788345,\n",
              "  0.08977822,\n",
              "  0.091673456,\n",
              "  0.0935694,\n",
              "  0.09546624,\n",
              "  0.09736277,\n",
              "  0.09925945,\n",
              "  0.10115692],\n",
              " [0.023567945,\n",
              "  0.023900215,\n",
              "  0.02455829,\n",
              "  0.025506206,\n",
              "  0.026697341,\n",
              "  0.028083622,\n",
              "  0.02961994,\n",
              "  0.03126835,\n",
              "  0.03299709,\n",
              "  0.034781527,\n",
              "  0.036603,\n",
              "  0.038447853,\n",
              "  0.040307004,\n",
              "  0.042174626,\n",
              "  0.04404572,\n",
              "  0.04591873,\n",
              "  0.047792725,\n",
              "  0.049666725,\n",
              "  0.051540833,\n",
              "  0.05341504,\n",
              "  0.055290177,\n",
              "  0.057165965,\n",
              "  0.0590429,\n",
              "  0.060920723,\n",
              "  0.06279911,\n",
              "  0.064678825,\n",
              "  0.066560365,\n",
              "  0.06844342,\n",
              "  0.07032749,\n",
              "  0.072212815,\n",
              "  0.07409898,\n",
              "  0.07598681,\n",
              "  0.07787552,\n",
              "  0.07976546,\n",
              "  0.08165681,\n",
              "  0.08354923,\n",
              "  0.08544244,\n",
              "  0.087337345,\n",
              "  0.0892325,\n",
              "  0.091127716,\n",
              "  0.09302347,\n",
              "  0.09491976,\n",
              "  0.096816145,\n",
              "  0.09871358,\n",
              "  0.10061096,\n",
              "  0.10250774,\n",
              "  0.10440418,\n",
              "  0.10630059,\n",
              "  0.10819707,\n",
              "  0.11009307],\n",
              " [-0.0555297,\n",
              "  -0.05641683,\n",
              "  -0.05706934,\n",
              "  -0.057389144,\n",
              "  -0.057343207,\n",
              "  -0.05694281,\n",
              "  -0.056226026,\n",
              "  -0.055243645,\n",
              "  -0.05404764,\n",
              "  -0.052686635,\n",
              "  -0.051203113,\n",
              "  -0.04963196,\n",
              "  -0.048000496,\n",
              "  -0.046329327,\n",
              "  -0.044632427,\n",
              "  -0.042920154,\n",
              "  -0.041199826,\n",
              "  -0.039474066,\n",
              "  -0.037745833,\n",
              "  -0.036015976,\n",
              "  -0.034285184,\n",
              "  -0.032553338,\n",
              "  -0.030819695,\n",
              "  -0.02908371,\n",
              "  -0.027344447,\n",
              "  -0.02560138,\n",
              "  -0.023854285,\n",
              "  -0.022104554,\n",
              "  -0.020354278,\n",
              "  -0.018601976,\n",
              "  -0.016846064,\n",
              "  -0.015086121,\n",
              "  -0.013321254,\n",
              "  -0.011554125,\n",
              "  -0.0097836135,\n",
              "  -0.008008943,\n",
              "  -0.0062321927,\n",
              "  -0.0044512143,\n",
              "  -0.0026671528,\n",
              "  -0.00087992474,\n",
              "  0.0009108946,\n",
              "  0.002704408,\n",
              "  0.0045009395,\n",
              "  0.0063010505,\n",
              "  0.008105246,\n",
              "  0.009912258,\n",
              "  0.011722921,\n",
              "  0.013536563,\n",
              "  0.015353234,\n",
              "  0.017172769],\n",
              " [0.12821355,\n",
              "  0.12849393,\n",
              "  0.12893647,\n",
              "  0.1295953,\n",
              "  0.13048425,\n",
              "  0.13159202,\n",
              "  0.13289362,\n",
              "  0.13435589,\n",
              "  0.1359456,\n",
              "  0.13763249,\n",
              "  0.13939005,\n",
              "  0.14119732,\n",
              "  0.14303721,\n",
              "  0.14489642,\n",
              "  0.1467667,\n",
              "  0.1486421,\n",
              "  0.15051864,\n",
              "  0.15239385,\n",
              "  0.15426534,\n",
              "  0.15613262,\n",
              "  0.15799618,\n",
              "  0.15985584,\n",
              "  0.16171084,\n",
              "  0.16356204,\n",
              "  0.16540962,\n",
              "  0.16725285,\n",
              "  0.16909227,\n",
              "  0.17092828,\n",
              "  0.17276052,\n",
              "  0.17458896,\n",
              "  0.17641407,\n",
              "  0.17823493,\n",
              "  0.18005176,\n",
              "  0.18186505,\n",
              "  0.18367428,\n",
              "  0.18547814,\n",
              "  0.18727754,\n",
              "  0.18907174,\n",
              "  0.1908616,\n",
              "  0.19264665,\n",
              "  0.1944271,\n",
              "  0.19620273,\n",
              "  0.19797345,\n",
              "  0.19973895,\n",
              "  0.20149964,\n",
              "  0.20325448,\n",
              "  0.2050045,\n",
              "  0.2067495,\n",
              "  0.20848782,\n",
              "  0.21022087],\n",
              " [-0.05382652,\n",
              "  -0.05377491,\n",
              "  -0.053329624,\n",
              "  -0.05254887,\n",
              "  -0.051497854,\n",
              "  -0.0502373,\n",
              "  -0.048820373,\n",
              "  -0.04728923,\n",
              "  -0.045678686,\n",
              "  -0.044016447,\n",
              "  -0.042321365,\n",
              "  -0.040606588,\n",
              "  -0.038879935,\n",
              "  -0.037146863,\n",
              "  -0.035411257,\n",
              "  -0.03367365,\n",
              "  -0.03193468,\n",
              "  -0.030194215,\n",
              "  -0.028453097,\n",
              "  -0.02671004,\n",
              "  -0.024964225,\n",
              "  -0.02321615,\n",
              "  -0.021466076,\n",
              "  -0.019713864,\n",
              "  -0.017957535,\n",
              "  -0.016199201,\n",
              "  -0.014436613,\n",
              "  -0.012671006,\n",
              "  -0.010901675,\n",
              "  -0.009129481,\n",
              "  -0.0073549645,\n",
              "  -0.005576136,\n",
              "  -0.0037946599,\n",
              "  -0.002009173,\n",
              "  -0.00022064731,\n",
              "  0.0015700657,\n",
              "  0.0033644328,\n",
              "  0.0051631955,\n",
              "  0.006964865,\n",
              "  0.008769641,\n",
              "  0.010578437,\n",
              "  0.0123907495,\n",
              "  0.0142058,\n",
              "  0.01602362,\n",
              "  0.017844796,\n",
              "  0.01966777,\n",
              "  0.021492954,\n",
              "  0.023320511,\n",
              "  0.02515155,\n",
              "  0.02698562],\n",
              " [0.106103726,\n",
              "  0.10676602,\n",
              "  0.10749993,\n",
              "  0.10837373,\n",
              "  0.10941797,\n",
              "  0.11063555,\n",
              "  0.11201113,\n",
              "  0.113523506,\n",
              "  0.11514727,\n",
              "  0.11685762,\n",
              "  0.11863258,\n",
              "  0.12045436,\n",
              "  0.12230724,\n",
              "  0.12418038,\n",
              "  0.1260649,\n",
              "  0.12795608,\n",
              "  0.12984999,\n",
              "  0.13174382,\n",
              "  0.13363603,\n",
              "  0.13552597,\n",
              "  0.13741335,\n",
              "  0.13929811,\n",
              "  0.14118047,\n",
              "  0.14306007,\n",
              "  0.14493686,\n",
              "  0.14681055,\n",
              "  0.1486814,\n",
              "  0.15055004,\n",
              "  0.15241572,\n",
              "  0.15427904,\n",
              "  0.15614012,\n",
              "  0.15799774,\n",
              "  0.15985312,\n",
              "  0.16170523,\n",
              "  0.16355437,\n",
              "  0.16539976,\n",
              "  0.16724153,\n",
              "  0.16908011,\n",
              "  0.17091535,\n",
              "  0.17274678,\n",
              "  0.17457467,\n",
              "  0.17639875,\n",
              "  0.17821936,\n",
              "  0.18003592,\n",
              "  0.18184848,\n",
              "  0.18365672,\n",
              "  0.18546061,\n",
              "  0.18726043,\n",
              "  0.18905585,\n",
              "  0.19084626]]"
            ]
          },
          "metadata": {
            "tags": []
          },
          "execution_count": 56
        }
      ]
    },
    {
      "cell_type": "code",
      "metadata": {
        "id": "VCYedvHgFPH5",
        "colab_type": "code",
        "colab": {
          "base_uri": "https://localhost:8080/",
          "height": 264
        },
        "outputId": "05e68d88-2931-4c29-be51-98e81e4b2905"
      },
      "source": [
        "plot_results_multiple(predictions, y_test, 50)"
      ],
      "execution_count": 67,
      "outputs": [
        {
          "output_type": "display_data",
          "data": {
            "image/png": "[encoded data removed]",
            "text/plain": [
              "<Figure size 432x288 with 1 Axes>"
            ]
          },
          "metadata": {
            "tags": []
          }
        }
      ]
    },
    {
      "cell_type": "code",
      "metadata": {
        "id": "1dG2uaSj-k1-",
        "colab_type": "code",
        "outputId": "626ca948-e36e-436a-fa92-80b9c8999d4e",
        "colab": {
          "base_uri": "https://localhost:8080/",
          "height": 716
        }
      },
      "source": [
        "model.fit(X_train,y_train,batch_size=128,epochs=20,validation_split=0.05)"
      ],
      "execution_count": 61,
      "outputs": [
        {
          "output_type": "stream",
          "text": [
            "Train on 3523 samples, validate on 186 samples\n",
            "Epoch 1/20\n",
            "3523/3523 [==============================] - 6s 2ms/step - loss: 6.3854e-04 - val_loss: 4.9037e-04\n",
            "Epoch 2/20\n",
            "3523/3523 [==============================] - 6s 2ms/step - loss: 5.7233e-04 - val_loss: 4.2217e-04\n",
            "Epoch 3/20\n",
            "3523/3523 [==============================] - 6s 2ms/step - loss: 5.0924e-04 - val_loss: 4.0099e-04\n",
            "Epoch 4/20\n",
            "3523/3523 [==============================] - 6s 2ms/step - loss: 4.7745e-04 - val_loss: 4.0220e-04\n",
            "Epoch 5/20\n",
            "3523/3523 [==============================] - 6s 2ms/step - loss: 4.4244e-04 - val_loss: 3.2620e-04\n",
            "Epoch 6/20\n",
            "3523/3523 [==============================] - 6s 2ms/step - loss: 4.2320e-04 - val_loss: 2.9454e-04\n",
            "Epoch 7/20\n",
            "3523/3523 [==============================] - 6s 2ms/step - loss: 3.8585e-04 - val_loss: 2.6123e-04\n",
            "Epoch 8/20\n",
            "3523/3523 [==============================] - 5s 2ms/step - loss: 3.4683e-04 - val_loss: 2.3134e-04\n",
            "Epoch 9/20\n",
            "3523/3523 [==============================] - 6s 2ms/step - loss: 3.3640e-04 - val_loss: 2.2070e-04\n",
            "Epoch 10/20\n",
            "3523/3523 [==============================] - 6s 2ms/step - loss: 3.0409e-04 - val_loss: 2.5909e-04\n",
            "Epoch 11/20\n",
            "3523/3523 [==============================] - 6s 2ms/step - loss: 3.0856e-04 - val_loss: 2.3317e-04\n",
            "Epoch 12/20\n",
            "3523/3523 [==============================] - 6s 2ms/step - loss: 2.9881e-04 - val_loss: 1.8690e-04\n",
            "Epoch 13/20\n",
            "3523/3523 [==============================] - 6s 2ms/step - loss: 2.8725e-04 - val_loss: 2.8923e-04\n",
            "Epoch 14/20\n",
            "3523/3523 [==============================] - 6s 2ms/step - loss: 2.7790e-04 - val_loss: 1.7003e-04\n",
            "Epoch 15/20\n",
            "3523/3523 [==============================] - 6s 2ms/step - loss: 2.7551e-04 - val_loss: 2.7192e-04\n",
            "Epoch 16/20\n",
            "3523/3523 [==============================] - 6s 2ms/step - loss: 2.7746e-04 - val_loss: 1.6990e-04\n",
            "Epoch 17/20\n",
            "3523/3523 [==============================] - 6s 2ms/step - loss: 2.7224e-04 - val_loss: 2.0055e-04\n",
            "Epoch 18/20\n",
            "3523/3523 [==============================] - 6s 2ms/step - loss: 2.5613e-04 - val_loss: 2.5871e-04\n",
            "Epoch 19/20\n",
            "3523/3523 [==============================] - 6s 2ms/step - loss: 2.5567e-04 - val_loss: 1.8996e-04\n",
            "Epoch 20/20\n",
            "3523/3523 [==============================] - 6s 2ms/step - loss: 2.3469e-04 - val_loss: 1.6185e-04\n"
          ],
          "name": "stdout"
        },
        {
          "output_type": "execute_result",
          "data": {
            "text/plain": [
              "<keras.callbacks.callbacks.History at 0x7f48d60d6e80>"
            ]
          },
          "metadata": {
            "tags": []
          },
          "execution_count": 61
        }
      ]
    },
    {
      "cell_type": "code",
      "metadata": {
        "id": "X1Y0Y0MzIDLP",
        "colab_type": "code",
        "colab": {}
      },
      "source": [
        "predictions2 = predict_sequences_multiple(model, X_test, 50, 50)"
      ],
      "execution_count": 0,
      "outputs": []
    },
    {
      "cell_type": "code",
      "metadata": {
        "id": "78Xr9tQ7Jhrk",
        "colab_type": "code",
        "colab": {
          "base_uri": "https://localhost:8080/",
          "height": 265
        },
        "outputId": "d7389239-9d19-4e68-9ec6-c2704cfd3686"
      },
      "source": [
        "plot_results_multiple(predictions2, y_test, 50)"
      ],
      "execution_count": 69,
      "outputs": [
        {
          "output_type": "display_data",
          "data": {
            "image/png": "[encoded data removed]",
            "text/plain": [
              "<Figure size 432x288 with 1 Axes>"
            ]
          },
          "metadata": {
            "tags": []
          }
        }
      ]
    },
    {
      "cell_type": "code",
      "metadata": {
        "id": "KsYCAjymIPEe",
        "colab_type": "code",
        "colab": {}
      },
      "source": [
        "def predict_point_by_point(model, data):\n",
        "    #Predict each timestep given the last sequence of true data, in effect only predicting 1 step ahead each time\n",
        "    predicted = model.predict(data)\n",
        "    predicted = np.reshape(predicted, (predicted.size,))\n",
        "    return predicted"
      ],
      "execution_count": 0,
      "outputs": []
    },
    {
      "cell_type": "code",
      "metadata": {
        "id": "y1GRlm5uJwQs",
        "colab_type": "code",
        "colab": {}
      },
      "source": [
        "predictions3 = predict_point_by_point(model, X_test)"
      ],
      "execution_count": 0,
      "outputs": []
    },
    {
      "cell_type": "code",
      "metadata": {
        "id": "Uyx1Uh_Y-k2I",
        "colab_type": "code",
        "colab": {}
      },
      "source": [
        "def plot_results_points(predicted_data, true_data):\n",
        "    fig = plt.figure(facecolor='white')\n",
        "    ax = fig.add_subplot(111)\n",
        "    ax.plot(true_data, label='True Data')\n",
        "    ax.plot(predicted_data, label='Prediction')    \n",
        "    plt.show()"
      ],
      "execution_count": 0,
      "outputs": []
    },
    {
      "cell_type": "code",
      "metadata": {
        "id": "Klgnf9txLKwa",
        "colab_type": "code",
        "colab": {
          "base_uri": "https://localhost:8080/",
          "height": 265
        },
        "outputId": "308e67a5-d0ec-4e35-998d-a7f49e71d573"
      },
      "source": [
        "plot_results_points(predictions3,y_test)"
      ],
      "execution_count": 81,
      "outputs": [
        {
          "output_type": "display_data",
          "data": {
            "image/png": "[encoded data removed]",
            "text/plain": [
              "<Figure size 432x288 with 1 Axes>"
            ]
          },
          "metadata": {
            "tags": []
          }
        }
      ]
    }
  ]
}