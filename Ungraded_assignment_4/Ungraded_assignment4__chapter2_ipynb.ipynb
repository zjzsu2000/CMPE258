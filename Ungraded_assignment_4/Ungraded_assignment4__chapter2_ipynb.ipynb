{
  "nbformat": 4,
  "nbformat_minor": 0,
  "metadata": {
    "colab": {
      "name": "Ungraded_assignment4_ chapter2.ipynb.ipynb",
      "provenance": [],
      "collapsed_sections": [],
      "toc_visible": true,
      "include_colab_link": true
    },
    "kernelspec": {
      "name": "python3",
      "display_name": "Python 3"
    },
    "accelerator": "GPU"
  },
  "cells": [
    {
      "cell_type": "markdown",
      "metadata": {
        "id": "view-in-github",
        "colab_type": "text"
      },
      "source": [
        "<a href=\"https://colab.research.google.com/github/zjzsu2000/CMPE258/blob/master/Ungraded_assignment_4/Ungraded_assignment4__chapter2_ipynb.ipynb\" target=\"_parent\"><img src=\"https://colab.research.google.com/assets/colab-badge.svg\" alt=\"Open In Colab\"/></a>"
      ]
    },
    {
      "cell_type": "markdown",
      "metadata": {
        "id": "laZW-xXGq3en",
        "colab_type": "text"
      },
      "source": [
        "#Tensor Fundamentals"
      ]
    },
    {
      "cell_type": "code",
      "metadata": {
        "id": "YFZf2HmXrtL0",
        "colab_type": "code",
        "colab": {}
      },
      "source": [
        "import torch"
      ],
      "execution_count": 0,
      "outputs": []
    },
    {
      "cell_type": "code",
      "metadata": {
        "id": "86KCSe-gr0bs",
        "colab_type": "code",
        "outputId": "719cb182-b58c-45a2-d3cf-22d99c027ec2",
        "colab": {
          "base_uri": "https://localhost:8080/",
          "height": 33
        }
      },
      "source": [
        "torch.version.__version__"
      ],
      "execution_count": 2,
      "outputs": [
        {
          "output_type": "execute_result",
          "data": {
            "text/plain": [
              "'1.5.0+cu101'"
            ]
          },
          "metadata": {
            "tags": []
          },
          "execution_count": 2
        }
      ]
    },
    {
      "cell_type": "code",
      "metadata": {
        "id": "rpGnMkyUXzPX",
        "colab_type": "code",
        "colab": {}
      },
      "source": [
        "a = torch.ones(3,3)"
      ],
      "execution_count": 0,
      "outputs": []
    },
    {
      "cell_type": "code",
      "metadata": {
        "id": "sVlHrRT5X1St",
        "colab_type": "code",
        "outputId": "03586df4-dd8e-43b7-e1b7-e4804c83fa3b",
        "colab": {
          "base_uri": "https://localhost:8080/",
          "height": 66
        }
      },
      "source": [
        "print(a)"
      ],
      "execution_count": 5,
      "outputs": [
        {
          "output_type": "stream",
          "text": [
            "tensor([[1., 1., 1.],\n",
            "        [1., 1., 1.],\n",
            "        [1., 1., 1.]])\n"
          ],
          "name": "stdout"
        }
      ]
    },
    {
      "cell_type": "code",
      "metadata": {
        "id": "okpN-yC7X2Vs",
        "colab_type": "code",
        "colab": {}
      },
      "source": [
        "a = torch.ones(2,3)"
      ],
      "execution_count": 0,
      "outputs": []
    },
    {
      "cell_type": "code",
      "metadata": {
        "id": "MN7OHdTYX6r8",
        "colab_type": "code",
        "outputId": "af038019-b3f2-49cf-e7ff-09358dfd8b19",
        "colab": {
          "base_uri": "https://localhost:8080/",
          "height": 50
        }
      },
      "source": [
        "print(a)"
      ],
      "execution_count": 7,
      "outputs": [
        {
          "output_type": "stream",
          "text": [
            "tensor([[1., 1., 1.],\n",
            "        [1., 1., 1.]])\n"
          ],
          "name": "stdout"
        }
      ]
    },
    {
      "cell_type": "code",
      "metadata": {
        "id": "wGKaxJnWX6_k",
        "colab_type": "code",
        "colab": {}
      },
      "source": [
        "a = torch.empty(2,4)"
      ],
      "execution_count": 0,
      "outputs": []
    },
    {
      "cell_type": "code",
      "metadata": {
        "id": "6T8FOAlsYFxm",
        "colab_type": "code",
        "outputId": "814f1495-d5ad-4f36-a427-85dff876442f",
        "colab": {
          "base_uri": "https://localhost:8080/",
          "height": 50
        }
      },
      "source": [
        "torch.ones_like(a)"
      ],
      "execution_count": 9,
      "outputs": [
        {
          "output_type": "execute_result",
          "data": {
            "text/plain": [
              "tensor([[1., 1., 1., 1.],\n",
              "        [1., 1., 1., 1.]])"
            ]
          },
          "metadata": {
            "tags": []
          },
          "execution_count": 9
        }
      ]
    },
    {
      "cell_type": "code",
      "metadata": {
        "id": "W5rePJseYGO9",
        "colab_type": "code",
        "colab": {}
      },
      "source": [
        "a[1] = 3"
      ],
      "execution_count": 0,
      "outputs": []
    },
    {
      "cell_type": "code",
      "metadata": {
        "id": "O0pLTszJYiW9",
        "colab_type": "code",
        "outputId": "b00fcf30-5190-444e-d92b-09676485edc6",
        "colab": {
          "base_uri": "https://localhost:8080/",
          "height": 50
        }
      },
      "source": [
        "torch.ones_like(a)"
      ],
      "execution_count": 11,
      "outputs": [
        {
          "output_type": "execute_result",
          "data": {
            "text/plain": [
              "tensor([[1., 1., 1., 1.],\n",
              "        [1., 1., 1., 1.]])"
            ]
          },
          "metadata": {
            "tags": []
          },
          "execution_count": 11
        }
      ]
    },
    {
      "cell_type": "code",
      "metadata": {
        "id": "pP2725c6Ylye",
        "colab_type": "code",
        "outputId": "4296801a-9415-44b3-b514-900799721836",
        "colab": {
          "base_uri": "https://localhost:8080/",
          "height": 50
        }
      },
      "source": [
        "print(a)\n"
      ],
      "execution_count": 13,
      "outputs": [
        {
          "output_type": "stream",
          "text": [
            "tensor([[1.7495e-37, 0.0000e+00, 3.3631e-44, 0.0000e+00],\n",
            "        [3.0000e+00, 3.0000e+00, 3.0000e+00, 3.0000e+00]])\n"
          ],
          "name": "stdout"
        }
      ]
    },
    {
      "cell_type": "code",
      "metadata": {
        "id": "UXpLCzD9YnDC",
        "colab_type": "code",
        "colab": {}
      },
      "source": [
        "b = torch.ones(2,4)"
      ],
      "execution_count": 0,
      "outputs": []
    },
    {
      "cell_type": "code",
      "metadata": {
        "id": "szbeIHfyYpny",
        "colab_type": "code",
        "outputId": "2aa7e651-c37a-4297-d13e-76ab976091ad",
        "colab": {
          "base_uri": "https://localhost:8080/",
          "height": 50
        }
      },
      "source": [
        "a + b"
      ],
      "execution_count": 15,
      "outputs": [
        {
          "output_type": "execute_result",
          "data": {
            "text/plain": [
              "tensor([[1., 1., 1., 1.],\n",
              "        [4., 4., 4., 4.]])"
            ]
          },
          "metadata": {
            "tags": []
          },
          "execution_count": 15
        }
      ]
    },
    {
      "cell_type": "code",
      "metadata": {
        "id": "FiWQOHpuYrDD",
        "colab_type": "code",
        "colab": {}
      },
      "source": [
        "points = torch.tensor([[1.0, 4.0], [2.0, 5.0], [3.0, 6.0]])"
      ],
      "execution_count": 0,
      "outputs": []
    },
    {
      "cell_type": "code",
      "metadata": {
        "id": "cc-0WhE9Y1g0",
        "colab_type": "code",
        "outputId": "b16a4cb5-247b-443c-a8a7-c0d9674db033",
        "colab": {
          "base_uri": "https://localhost:8080/",
          "height": 33
        }
      },
      "source": [
        "points.shape"
      ],
      "execution_count": 24,
      "outputs": [
        {
          "output_type": "execute_result",
          "data": {
            "text/plain": [
              "torch.Size([3, 2])"
            ]
          },
          "metadata": {
            "tags": []
          },
          "execution_count": 24
        }
      ]
    },
    {
      "cell_type": "code",
      "metadata": {
        "id": "Jz9Z8PGYYz6E",
        "colab_type": "code",
        "outputId": "90d13921-69a0-4bb2-b817-812e74bda5df",
        "colab": {
          "base_uri": "https://localhost:8080/",
          "height": 66
        }
      },
      "source": [
        "print(points)"
      ],
      "execution_count": 25,
      "outputs": [
        {
          "output_type": "stream",
          "text": [
            "tensor([[1., 4.],\n",
            "        [2., 5.],\n",
            "        [3., 6.]])\n"
          ],
          "name": "stdout"
        }
      ]
    },
    {
      "cell_type": "markdown",
      "metadata": {
        "id": "ivWwdiAMZFVt",
        "colab_type": "text"
      },
      "source": [
        "##2.2 Access Elements"
      ]
    },
    {
      "cell_type": "code",
      "metadata": {
        "id": "slZwHP2SY7Mk",
        "colab_type": "code",
        "outputId": "16b510a2-df9e-47c4-9987-a837aed411d3",
        "colab": {
          "base_uri": "https://localhost:8080/",
          "height": 33
        }
      },
      "source": [
        "points[0, 1]"
      ],
      "execution_count": 26,
      "outputs": [
        {
          "output_type": "execute_result",
          "data": {
            "text/plain": [
              "tensor(4.)"
            ]
          },
          "metadata": {
            "tags": []
          },
          "execution_count": 26
        }
      ]
    },
    {
      "cell_type": "code",
      "metadata": {
        "id": "AH5PMD1oZOB5",
        "colab_type": "code",
        "outputId": "5f97ff3a-48d7-4f5e-a4d4-942c49156fc7",
        "colab": {
          "base_uri": "https://localhost:8080/",
          "height": 33
        }
      },
      "source": [
        "points[0]"
      ],
      "execution_count": 27,
      "outputs": [
        {
          "output_type": "execute_result",
          "data": {
            "text/plain": [
              "tensor([1., 4.])"
            ]
          },
          "metadata": {
            "tags": []
          },
          "execution_count": 27
        }
      ]
    },
    {
      "cell_type": "code",
      "metadata": {
        "id": "BXVZenu6SwdP",
        "colab_type": "code",
        "colab": {
          "base_uri": "https://localhost:8080/",
          "height": 33
        },
        "outputId": "36babd6d-2080-4287-925e-52e8795b662c"
      },
      "source": [
        "points[2]"
      ],
      "execution_count": 28,
      "outputs": [
        {
          "output_type": "execute_result",
          "data": {
            "text/plain": [
              "tensor([3., 6.])"
            ]
          },
          "metadata": {
            "tags": []
          },
          "execution_count": 28
        }
      ]
    },
    {
      "cell_type": "code",
      "metadata": {
        "id": "6xzMHQ5uS0MP",
        "colab_type": "code",
        "colab": {
          "base_uri": "https://localhost:8080/",
          "height": 33
        },
        "outputId": "0429a493-13ea-4ce5-9fe5-1a0d819287fa"
      },
      "source": [
        "points[2,1]"
      ],
      "execution_count": 29,
      "outputs": [
        {
          "output_type": "execute_result",
          "data": {
            "text/plain": [
              "tensor(6.)"
            ]
          },
          "metadata": {
            "tags": []
          },
          "execution_count": 29
        }
      ]
    },
    {
      "cell_type": "markdown",
      "metadata": {
        "id": "wPs8Px8ErAGt",
        "colab_type": "text"
      },
      "source": [
        "## 2.3 Size, storage offset, and strides"
      ]
    },
    {
      "cell_type": "markdown",
      "metadata": {
        "id": "zyeMuFHTZZz3",
        "colab_type": "text"
      },
      "source": [
        "###  Storage of Tensors"
      ]
    },
    {
      "cell_type": "code",
      "metadata": {
        "id": "O69fXNS5ZRHw",
        "colab_type": "code",
        "outputId": "0d24df16-96c2-49c9-aa09-72ef7c8e3a7c",
        "colab": {
          "base_uri": "https://localhost:8080/",
          "height": 133
        }
      },
      "source": [
        "points.storage()"
      ],
      "execution_count": 30,
      "outputs": [
        {
          "output_type": "execute_result",
          "data": {
            "text/plain": [
              " 1.0\n",
              " 4.0\n",
              " 2.0\n",
              " 5.0\n",
              " 3.0\n",
              " 6.0\n",
              "[torch.FloatStorage of size 6]"
            ]
          },
          "metadata": {
            "tags": []
          },
          "execution_count": 30
        }
      ]
    },
    {
      "cell_type": "markdown",
      "metadata": {
        "id": "E79NqXAdZk8h",
        "colab_type": "text"
      },
      "source": [
        "Index storage Manually"
      ]
    },
    {
      "cell_type": "code",
      "metadata": {
        "id": "LOySP99qZc4a",
        "colab_type": "code",
        "outputId": "4474c57f-287e-434d-fb12-4253ae49bd76",
        "colab": {
          "base_uri": "https://localhost:8080/",
          "height": 33
        }
      },
      "source": [
        "points_storage = points.storage()\n",
        "points_storage[0]"
      ],
      "execution_count": 31,
      "outputs": [
        {
          "output_type": "execute_result",
          "data": {
            "text/plain": [
              "1.0"
            ]
          },
          "metadata": {
            "tags": []
          },
          "execution_count": 31
        }
      ]
    },
    {
      "cell_type": "code",
      "metadata": {
        "id": "wHmqhm-9ZmjQ",
        "colab_type": "code",
        "outputId": "af824a7b-279e-4b90-b118-3a998df7327d",
        "colab": {
          "base_uri": "https://localhost:8080/",
          "height": 33
        }
      },
      "source": [
        "points.storage()[1]"
      ],
      "execution_count": 32,
      "outputs": [
        {
          "output_type": "execute_result",
          "data": {
            "text/plain": [
              "4.0"
            ]
          },
          "metadata": {
            "tags": []
          },
          "execution_count": 32
        }
      ]
    },
    {
      "cell_type": "code",
      "metadata": {
        "id": "LO63LRgtZopQ",
        "colab_type": "code",
        "outputId": "dc73abcc-5464-48e0-a6bc-4d21a097a185",
        "colab": {
          "base_uri": "https://localhost:8080/",
          "height": 33
        }
      },
      "source": [
        "points.storage()[5]"
      ],
      "execution_count": 33,
      "outputs": [
        {
          "output_type": "execute_result",
          "data": {
            "text/plain": [
              "6.0"
            ]
          },
          "metadata": {
            "tags": []
          },
          "execution_count": 33
        }
      ]
    },
    {
      "cell_type": "code",
      "metadata": {
        "id": "LVptTlGBrQkM",
        "colab_type": "code",
        "outputId": "dd7a2766-3ed1-48a6-eecc-5965614729ab",
        "colab": {
          "base_uri": "https://localhost:8080/",
          "height": 33
        }
      },
      "source": [
        "points[1]"
      ],
      "execution_count": 36,
      "outputs": [
        {
          "output_type": "execute_result",
          "data": {
            "text/plain": [
              "tensor([2., 5.])"
            ]
          },
          "metadata": {
            "tags": []
          },
          "execution_count": 36
        }
      ]
    },
    {
      "cell_type": "code",
      "metadata": {
        "id": "-bopy6GJeRwC",
        "colab_type": "code",
        "outputId": "555dd6c9-73af-49a7-bd2a-266d4fefc9af",
        "colab": {
          "base_uri": "https://localhost:8080/",
          "height": 33
        }
      },
      "source": [
        "second_point = points[1]\n",
        "second_point.storage_offset()"
      ],
      "execution_count": 37,
      "outputs": [
        {
          "output_type": "execute_result",
          "data": {
            "text/plain": [
              "2"
            ]
          },
          "metadata": {
            "tags": []
          },
          "execution_count": 37
        }
      ]
    },
    {
      "cell_type": "code",
      "metadata": {
        "id": "GLMbDy5MeT5a",
        "colab_type": "code",
        "outputId": "5769515d-ea0a-4d5f-aacf-e3a26d5c3a7f",
        "colab": {
          "base_uri": "https://localhost:8080/",
          "height": 33
        }
      },
      "source": [
        "second_point.size()"
      ],
      "execution_count": 38,
      "outputs": [
        {
          "output_type": "execute_result",
          "data": {
            "text/plain": [
              "torch.Size([2])"
            ]
          },
          "metadata": {
            "tags": []
          },
          "execution_count": 38
        }
      ]
    },
    {
      "cell_type": "markdown",
      "metadata": {
        "id": "KV6XM3EHqw5o",
        "colab_type": "text"
      },
      "source": [
        "### Stride ,offset"
      ]
    },
    {
      "cell_type": "code",
      "metadata": {
        "id": "iUqKLkHFeXUi",
        "colab_type": "code",
        "outputId": "ab00bade-ace1-4606-9718-338529d79fcb",
        "colab": {
          "base_uri": "https://localhost:8080/",
          "height": 33
        }
      },
      "source": [
        "points.stride()"
      ],
      "execution_count": 40,
      "outputs": [
        {
          "output_type": "execute_result",
          "data": {
            "text/plain": [
              "(2, 1)"
            ]
          },
          "metadata": {
            "tags": []
          },
          "execution_count": 40
        }
      ]
    },
    {
      "cell_type": "code",
      "metadata": {
        "id": "7EPX_jzFrDnZ",
        "colab_type": "code",
        "outputId": "6378e3df-7053-480e-8da3-555c3a1abbdd",
        "colab": {
          "base_uri": "https://localhost:8080/",
          "height": 33
        }
      },
      "source": [
        "second_point.storage_offset()"
      ],
      "execution_count": 41,
      "outputs": [
        {
          "output_type": "execute_result",
          "data": {
            "text/plain": [
              "2"
            ]
          },
          "metadata": {
            "tags": []
          },
          "execution_count": 41
        }
      ]
    },
    {
      "cell_type": "code",
      "metadata": {
        "id": "X5IthBCSrKeL",
        "colab_type": "code",
        "outputId": "b4d95b91-c2ba-449d-8819-d1fe74343c35",
        "colab": {
          "base_uri": "https://localhost:8080/",
          "height": 33
        }
      },
      "source": [
        "second_point.stride()"
      ],
      "execution_count": 42,
      "outputs": [
        {
          "output_type": "execute_result",
          "data": {
            "text/plain": [
              "(1,)"
            ]
          },
          "metadata": {
            "tags": []
          },
          "execution_count": 42
        }
      ]
    },
    {
      "cell_type": "markdown",
      "metadata": {
        "id": "tynjMYAwrYOv",
        "colab_type": "text"
      },
      "source": [
        "### Change subTensor will affect the Original tensors"
      ]
    },
    {
      "cell_type": "code",
      "metadata": {
        "id": "Qy9fPOhWrMhM",
        "colab_type": "code",
        "outputId": "1007bda1-99f2-4dc2-c108-3c8c60fdc649",
        "colab": {
          "base_uri": "https://localhost:8080/",
          "height": 66
        }
      },
      "source": [
        "points"
      ],
      "execution_count": 43,
      "outputs": [
        {
          "output_type": "execute_result",
          "data": {
            "text/plain": [
              "tensor([[1., 4.],\n",
              "        [2., 5.],\n",
              "        [3., 6.]])"
            ]
          },
          "metadata": {
            "tags": []
          },
          "execution_count": 43
        }
      ]
    },
    {
      "cell_type": "code",
      "metadata": {
        "id": "xPqDRdMPrdcx",
        "colab_type": "code",
        "outputId": "df28a258-147f-4b23-d6ee-92e28ed316f7",
        "colab": {
          "base_uri": "https://localhost:8080/",
          "height": 33
        }
      },
      "source": [
        "second_point"
      ],
      "execution_count": 44,
      "outputs": [
        {
          "output_type": "execute_result",
          "data": {
            "text/plain": [
              "tensor([2., 5.])"
            ]
          },
          "metadata": {
            "tags": []
          },
          "execution_count": 44
        }
      ]
    },
    {
      "cell_type": "code",
      "metadata": {
        "id": "DaSq2NAVrf3q",
        "colab_type": "code",
        "colab": {}
      },
      "source": [
        "second_point[0] = 10.0"
      ],
      "execution_count": 0,
      "outputs": []
    },
    {
      "cell_type": "code",
      "metadata": {
        "id": "D48XcKVOrgXT",
        "colab_type": "code",
        "outputId": "33dd5d7c-ae30-4228-9196-1c657c6921cc",
        "colab": {
          "base_uri": "https://localhost:8080/",
          "height": 33
        }
      },
      "source": [
        "second_point"
      ],
      "execution_count": 46,
      "outputs": [
        {
          "output_type": "execute_result",
          "data": {
            "text/plain": [
              "tensor([10.,  5.])"
            ]
          },
          "metadata": {
            "tags": []
          },
          "execution_count": 46
        }
      ]
    },
    {
      "cell_type": "code",
      "metadata": {
        "id": "uwM8xhkrrhYq",
        "colab_type": "code",
        "outputId": "6c6c3589-7eb0-4914-a8dc-994c1cb7bad1",
        "colab": {
          "base_uri": "https://localhost:8080/",
          "height": 66
        }
      },
      "source": [
        "points"
      ],
      "execution_count": 47,
      "outputs": [
        {
          "output_type": "execute_result",
          "data": {
            "text/plain": [
              "tensor([[ 1.,  4.],\n",
              "        [10.,  5.],\n",
              "        [ 3.,  6.]])"
            ]
          },
          "metadata": {
            "tags": []
          },
          "execution_count": 47
        }
      ]
    },
    {
      "cell_type": "markdown",
      "metadata": {
        "id": "paDQT1YCrmAm",
        "colab_type": "text"
      },
      "source": [
        "### Clone Subtensor, which will not change original Tensor"
      ]
    },
    {
      "cell_type": "code",
      "metadata": {
        "id": "phhTxmnWriLi",
        "colab_type": "code",
        "colab": {}
      },
      "source": [
        "points = torch.tensor([[1.0, 4.0], [2.0, 5.0], [3.0, 6.0]])\n",
        "second_point = points[1].clone()\n"
      ],
      "execution_count": 0,
      "outputs": []
    },
    {
      "cell_type": "code",
      "metadata": {
        "id": "q1tWilZTURsU",
        "colab_type": "code",
        "colab": {
          "base_uri": "https://localhost:8080/",
          "height": 66
        },
        "outputId": "73ed74c1-cb93-4976-85e0-3a6a40c95814"
      },
      "source": [
        "second_point[0] = 10.0\n",
        "points"
      ],
      "execution_count": 51,
      "outputs": [
        {
          "output_type": "execute_result",
          "data": {
            "text/plain": [
              "tensor([[1., 4.],\n",
              "        [2., 5.],\n",
              "        [3., 6.]])"
            ]
          },
          "metadata": {
            "tags": []
          },
          "execution_count": 51
        }
      ]
    },
    {
      "cell_type": "markdown",
      "metadata": {
        "id": "7dOtvhHvrzMn",
        "colab_type": "text"
      },
      "source": [
        "##Transpose"
      ]
    },
    {
      "cell_type": "code",
      "metadata": {
        "id": "LIy4ZXkersJ7",
        "colab_type": "code",
        "colab": {}
      },
      "source": [
        "points_transpose = points.t()"
      ],
      "execution_count": 0,
      "outputs": []
    },
    {
      "cell_type": "code",
      "metadata": {
        "id": "HFmHmwcMr2Wt",
        "colab_type": "code",
        "outputId": "3ed23326-3789-484b-c2e0-6648ef2ec1c1",
        "colab": {
          "base_uri": "https://localhost:8080/",
          "height": 50
        }
      },
      "source": [
        "points_transpose"
      ],
      "execution_count": 53,
      "outputs": [
        {
          "output_type": "execute_result",
          "data": {
            "text/plain": [
              "tensor([[1., 2., 3.],\n",
              "        [4., 5., 6.]])"
            ]
          },
          "metadata": {
            "tags": []
          },
          "execution_count": 53
        }
      ]
    },
    {
      "cell_type": "markdown",
      "metadata": {
        "id": "N5wZ7zT9r6dv",
        "colab_type": "text"
      },
      "source": [
        "### Points and Points Transpose share the Storage"
      ]
    },
    {
      "cell_type": "code",
      "metadata": {
        "id": "GJvNAoFLr3RV",
        "colab_type": "code",
        "outputId": "58e4876d-0414-40f6-fa08-ae07058e6dde",
        "colab": {
          "base_uri": "https://localhost:8080/",
          "height": 33
        }
      },
      "source": [
        "id(points.storage()) == id(points_transpose.storage())"
      ],
      "execution_count": 55,
      "outputs": [
        {
          "output_type": "execute_result",
          "data": {
            "text/plain": [
              "True"
            ]
          },
          "metadata": {
            "tags": []
          },
          "execution_count": 55
        }
      ]
    },
    {
      "cell_type": "markdown",
      "metadata": {
        "id": "CYZ31I-asCHF",
        "colab_type": "text"
      },
      "source": [
        "### Points and Points Transpose differe in shape and Stride"
      ]
    },
    {
      "cell_type": "code",
      "metadata": {
        "id": "G74uUEPor9dO",
        "colab_type": "code",
        "outputId": "676070b2-a550-49be-8b0f-033baa212bbb",
        "colab": {
          "base_uri": "https://localhost:8080/",
          "height": 33
        }
      },
      "source": [
        "points.stride()"
      ],
      "execution_count": 56,
      "outputs": [
        {
          "output_type": "execute_result",
          "data": {
            "text/plain": [
              "(2, 1)"
            ]
          },
          "metadata": {
            "tags": []
          },
          "execution_count": 56
        }
      ]
    },
    {
      "cell_type": "code",
      "metadata": {
        "id": "kz91nd1PsIBI",
        "colab_type": "code",
        "outputId": "d0765d91-58d6-4a49-cb5f-552f44a9436f",
        "colab": {
          "base_uri": "https://localhost:8080/",
          "height": 33
        }
      },
      "source": [
        "points_transpose.stride()"
      ],
      "execution_count": 57,
      "outputs": [
        {
          "output_type": "execute_result",
          "data": {
            "text/plain": [
              "(1, 2)"
            ]
          },
          "metadata": {
            "tags": []
          },
          "execution_count": 57
        }
      ]
    },
    {
      "cell_type": "code",
      "metadata": {
        "id": "41_tu8pgsJWn",
        "colab_type": "code",
        "outputId": "5eda9e17-ea33-43ce-aba4-efee456becef",
        "colab": {
          "base_uri": "https://localhost:8080/",
          "height": 33
        }
      },
      "source": [
        "points.shape"
      ],
      "execution_count": 59,
      "outputs": [
        {
          "output_type": "execute_result",
          "data": {
            "text/plain": [
              "torch.Size([3, 2])"
            ]
          },
          "metadata": {
            "tags": []
          },
          "execution_count": 59
        }
      ]
    },
    {
      "cell_type": "code",
      "metadata": {
        "id": "3wrrhS_rsNrw",
        "colab_type": "code",
        "outputId": "b620edbc-655f-447b-e5b9-f1dd19642391",
        "colab": {
          "base_uri": "https://localhost:8080/",
          "height": 33
        }
      },
      "source": [
        "points_transpose.shape"
      ],
      "execution_count": 61,
      "outputs": [
        {
          "output_type": "execute_result",
          "data": {
            "text/plain": [
              "torch.Size([2, 3])"
            ]
          },
          "metadata": {
            "tags": []
          },
          "execution_count": 61
        }
      ]
    },
    {
      "cell_type": "markdown",
      "metadata": {
        "id": "JiTDVyCWsXVu",
        "colab_type": "text"
      },
      "source": [
        "## 2.4 Numerical Types"
      ]
    },
    {
      "cell_type": "code",
      "metadata": {
        "id": "2O8Sh9UisPwZ",
        "colab_type": "code",
        "colab": {}
      },
      "source": [
        "double_points = torch.ones(10, 2, dtype=torch.double)"
      ],
      "execution_count": 0,
      "outputs": []
    },
    {
      "cell_type": "code",
      "metadata": {
        "id": "BJIRyvEisbh-",
        "colab_type": "code",
        "colab": {}
      },
      "source": [
        "short_points = torch.tensor([[1, 2], [3, 4]], dtype=torch.short)"
      ],
      "execution_count": 0,
      "outputs": []
    },
    {
      "cell_type": "code",
      "metadata": {
        "id": "mXgbUxfksdAm",
        "colab_type": "code",
        "outputId": "6c38fac1-0d81-49b9-c1ed-aebc444fc6a2",
        "colab": {
          "base_uri": "https://localhost:8080/",
          "height": 33
        }
      },
      "source": [
        "double_points.dtype"
      ],
      "execution_count": 64,
      "outputs": [
        {
          "output_type": "execute_result",
          "data": {
            "text/plain": [
              "torch.float64"
            ]
          },
          "metadata": {
            "tags": []
          },
          "execution_count": 64
        }
      ]
    },
    {
      "cell_type": "code",
      "metadata": {
        "id": "BCyZiredsfIG",
        "colab_type": "code",
        "outputId": "7a510a00-b6c7-43e1-c538-92765a315ce3",
        "colab": {
          "base_uri": "https://localhost:8080/",
          "height": 33
        }
      },
      "source": [
        "short_points.dtype"
      ],
      "execution_count": 65,
      "outputs": [
        {
          "output_type": "execute_result",
          "data": {
            "text/plain": [
              "torch.int16"
            ]
          },
          "metadata": {
            "tags": []
          },
          "execution_count": 65
        }
      ]
    },
    {
      "cell_type": "markdown",
      "metadata": {
        "id": "yE0DoD64sou3",
        "colab_type": "text"
      },
      "source": [
        "### Cast dtypes"
      ]
    },
    {
      "cell_type": "code",
      "metadata": {
        "id": "rqcGgoIIsgnO",
        "colab_type": "code",
        "colab": {}
      },
      "source": [
        "double_points = torch.zeros(10, 2).double()"
      ],
      "execution_count": 0,
      "outputs": []
    },
    {
      "cell_type": "code",
      "metadata": {
        "id": "rujioevOsqJv",
        "colab_type": "code",
        "outputId": "c9b3aace-d8f2-44c9-806d-24f1b78b9162",
        "colab": {
          "base_uri": "https://localhost:8080/",
          "height": 33
        }
      },
      "source": [
        "double_points.dtype"
      ],
      "execution_count": 67,
      "outputs": [
        {
          "output_type": "execute_result",
          "data": {
            "text/plain": [
              "torch.float64"
            ]
          },
          "metadata": {
            "tags": []
          },
          "execution_count": 67
        }
      ]
    },
    {
      "cell_type": "code",
      "metadata": {
        "id": "aXcc2pxiWp_5",
        "colab_type": "code",
        "colab": {}
      },
      "source": [
        "shourt_points = torch.zeros(10, 2).short()"
      ],
      "execution_count": 0,
      "outputs": []
    },
    {
      "cell_type": "code",
      "metadata": {
        "id": "HWW7NOz7WvNy",
        "colab_type": "code",
        "colab": {
          "base_uri": "https://localhost:8080/",
          "height": 33
        },
        "outputId": "acf1e6ba-67a3-429b-8b87-b11d27aac3dc"
      },
      "source": [
        "shourt_points.dtype"
      ],
      "execution_count": 76,
      "outputs": [
        {
          "output_type": "execute_result",
          "data": {
            "text/plain": [
              "torch.int16"
            ]
          },
          "metadata": {
            "tags": []
          },
          "execution_count": 76
        }
      ]
    },
    {
      "cell_type": "code",
      "metadata": {
        "id": "8wfWOaYcW2To",
        "colab_type": "code",
        "colab": {}
      },
      "source": [
        "double_points = torch.zeros(10, 2).to(torch.double)\n",
        "short_points = torch.ones(10, 2).to(dtype=torch.short)"
      ],
      "execution_count": 0,
      "outputs": []
    },
    {
      "cell_type": "code",
      "metadata": {
        "id": "_5I0op1zW4w7",
        "colab_type": "code",
        "colab": {
          "base_uri": "https://localhost:8080/",
          "height": 33
        },
        "outputId": "cdabe2c0-c4e2-4fa0-eebf-d92e6374780b"
      },
      "source": [
        "double_points.dtype\n"
      ],
      "execution_count": 80,
      "outputs": [
        {
          "output_type": "execute_result",
          "data": {
            "text/plain": [
              "torch.float64"
            ]
          },
          "metadata": {
            "tags": []
          },
          "execution_count": 80
        }
      ]
    },
    {
      "cell_type": "code",
      "metadata": {
        "id": "E_VofozpW8Q4",
        "colab_type": "code",
        "colab": {
          "base_uri": "https://localhost:8080/",
          "height": 33
        },
        "outputId": "f9481c51-e598-4bb5-f1c4-47d6ef216bac"
      },
      "source": [
        "shourt_points.dtype"
      ],
      "execution_count": 81,
      "outputs": [
        {
          "output_type": "execute_result",
          "data": {
            "text/plain": [
              "torch.int16"
            ]
          },
          "metadata": {
            "tags": []
          },
          "execution_count": 81
        }
      ]
    },
    {
      "cell_type": "code",
      "metadata": {
        "id": "uZnJEaB2XCLt",
        "colab_type": "code",
        "colab": {}
      },
      "source": [
        "points = torch.randn(10, 2) # randn initializes the tensor elements to random numbers between 0 and 1.\n",
        "short_points = points.type(torch.short)"
      ],
      "execution_count": 0,
      "outputs": []
    },
    {
      "cell_type": "code",
      "metadata": {
        "id": "WiTSuatbXK35",
        "colab_type": "code",
        "colab": {
          "base_uri": "https://localhost:8080/",
          "height": 183
        },
        "outputId": "152dbb59-f097-4bb5-c961-c6b4acbb15bd"
      },
      "source": [
        "short_points"
      ],
      "execution_count": 83,
      "outputs": [
        {
          "output_type": "execute_result",
          "data": {
            "text/plain": [
              "tensor([[ 2,  0],\n",
              "        [ 0,  1],\n",
              "        [ 0,  0],\n",
              "        [ 1,  0],\n",
              "        [ 0,  0],\n",
              "        [ 0,  0],\n",
              "        [ 0,  2],\n",
              "        [-1,  0],\n",
              "        [ 0,  1],\n",
              "        [ 0,  2]], dtype=torch.int16)"
            ]
          },
          "metadata": {
            "tags": []
          },
          "execution_count": 83
        }
      ]
    },
    {
      "cell_type": "markdown",
      "metadata": {
        "id": "A1yQwzTjXRLc",
        "colab_type": "text"
      },
      "source": [
        "## 2.5 Indexing **tensors**"
      ]
    },
    {
      "cell_type": "code",
      "metadata": {
        "id": "FOATslJTXSZV",
        "colab_type": "code",
        "colab": {
          "base_uri": "https://localhost:8080/",
          "height": 133
        },
        "outputId": "51fa357c-171e-45a4-d90e-390926868e1f"
      },
      "source": [
        "#list\n",
        "some_list = list(range(6))\n",
        "print(some_list) \n",
        "print(some_list[:]) #all\n",
        "print(some_list[1:4]) # From element 1 inclusive to element 4 exclusive \n",
        "print(some_list[1:]) # From element 1 inclusive to the end of the list\n",
        "print(some_list[:4]) # From the start of the list to element 4 exclusive\n",
        "print(some_list[:-1]) # From the start of the list to to element 4 exclusive one before the last element\n",
        "print(some_list[1:4:2]) # From element 1 inclusive to element 4 exclusive in steps of 2"
      ],
      "execution_count": 96,
      "outputs": [
        {
          "output_type": "stream",
          "text": [
            "[0, 1, 2, 3, 4, 5]\n",
            "[0, 1, 2, 3, 4, 5]\n",
            "[1, 2, 3]\n",
            "[1, 2, 3, 4, 5]\n",
            "[0, 1, 2, 3]\n",
            "[0, 1, 2, 3, 4]\n",
            "[1, 3]\n"
          ],
          "name": "stdout"
        }
      ]
    },
    {
      "cell_type": "markdown",
      "metadata": {
        "id": "xNMX_GGxY8BT",
        "colab_type": "text"
      },
      "source": [
        "To achieve your goal, you can use the same notation for PyTorch tensors, with the added benefit that as in NumPy and in other Python scientific libraries, we can use range indexing for each dimension of the tensor:"
      ]
    },
    {
      "cell_type": "code",
      "metadata": {
        "id": "Ltay9RtBY2sz",
        "colab_type": "code",
        "colab": {
          "base_uri": "https://localhost:8080/",
          "height": 166
        },
        "outputId": "6869c093-c5c4-46da-a677-56514ef7f390"
      },
      "source": [
        "#tensor\n",
        "#All rows after first, implicitly all columns\n",
        "points[1:] \n"
      ],
      "execution_count": 93,
      "outputs": [
        {
          "output_type": "execute_result",
          "data": {
            "text/plain": [
              "tensor([[ 0.5842,  1.7409],\n",
              "        [-0.2202,  0.4330],\n",
              "        [ 1.0882,  0.7176],\n",
              "        [ 0.3518, -0.1499],\n",
              "        [ 0.7377, -0.5782],\n",
              "        [-0.1283,  2.3164],\n",
              "        [-1.0313,  0.8476],\n",
              "        [-0.6358,  1.2805],\n",
              "        [-0.5836,  2.1517]])"
            ]
          },
          "metadata": {
            "tags": []
          },
          "execution_count": 93
        }
      ]
    },
    {
      "cell_type": "code",
      "metadata": {
        "id": "s83GaKiNZG6U",
        "colab_type": "code",
        "colab": {
          "base_uri": "https://localhost:8080/",
          "height": 166
        },
        "outputId": "8cef04e9-52a4-4a0a-f08c-a97a87fe013f"
      },
      "source": [
        "#All rows All rows after first, implicitly all columns after first,all columns\n",
        "points[1:, :]"
      ],
      "execution_count": 94,
      "outputs": [
        {
          "output_type": "execute_result",
          "data": {
            "text/plain": [
              "tensor([[ 0.5842,  1.7409],\n",
              "        [-0.2202,  0.4330],\n",
              "        [ 1.0882,  0.7176],\n",
              "        [ 0.3518, -0.1499],\n",
              "        [ 0.7377, -0.5782],\n",
              "        [-0.1283,  2.3164],\n",
              "        [-1.0313,  0.8476],\n",
              "        [-0.6358,  1.2805],\n",
              "        [-0.5836,  2.1517]])"
            ]
          },
          "metadata": {
            "tags": []
          },
          "execution_count": 94
        }
      ]
    },
    {
      "cell_type": "code",
      "metadata": {
        "id": "aX6lzqXNZIfk",
        "colab_type": "code",
        "colab": {
          "base_uri": "https://localhost:8080/",
          "height": 50
        },
        "outputId": "472da94b-60c7-4ee9-d489-3d22614ec1f6"
      },
      "source": [
        "#All rows after first, first column\n",
        "points[1:, 0]"
      ],
      "execution_count": 95,
      "outputs": [
        {
          "output_type": "execute_result",
          "data": {
            "text/plain": [
              "tensor([ 0.5842, -0.2202,  1.0882,  0.3518,  0.7377, -0.1283, -1.0313, -0.6358,\n",
              "        -0.5836])"
            ]
          },
          "metadata": {
            "tags": []
          },
          "execution_count": 95
        }
      ]
    },
    {
      "cell_type": "markdown",
      "metadata": {
        "id": "v4cvxGK4aXah",
        "colab_type": "text"
      },
      "source": [
        "In addition to using ranges, PyTorch features a powerful form of indexing called advanced indexing."
      ]
    },
    {
      "cell_type": "markdown",
      "metadata": {
        "id": "FHlOSDdFtmjI",
        "colab_type": "text"
      },
      "source": [
        "## 2.6 NumPy interoperability"
      ]
    },
    {
      "cell_type": "code",
      "metadata": {
        "id": "_mMbOWIZsrqw",
        "colab_type": "code",
        "colab": {}
      },
      "source": [
        "points = torch.ones(4, 5)"
      ],
      "execution_count": 0,
      "outputs": []
    },
    {
      "cell_type": "code",
      "metadata": {
        "id": "9m9pELiOvSL0",
        "colab_type": "code",
        "colab": {}
      },
      "source": [
        "points_np = points.numpy()"
      ],
      "execution_count": 0,
      "outputs": []
    },
    {
      "cell_type": "code",
      "metadata": {
        "id": "5ImmPo6mvTwr",
        "colab_type": "code",
        "outputId": "f470d1ff-1319-453c-bda5-b30cf45e9b65",
        "colab": {
          "base_uri": "https://localhost:8080/",
          "height": 83
        }
      },
      "source": [
        "points_np"
      ],
      "execution_count": 110,
      "outputs": [
        {
          "output_type": "execute_result",
          "data": {
            "text/plain": [
              "array([[1., 1., 1., 1., 1.],\n",
              "       [1., 1., 1., 1., 1.],\n",
              "       [1., 1., 1., 1., 1.],\n",
              "       [1., 1., 1., 1., 1.]], dtype=float32)"
            ]
          },
          "metadata": {
            "tags": []
          },
          "execution_count": 110
        }
      ]
    },
    {
      "cell_type": "markdown",
      "metadata": {
        "id": "5xbiQcJNvevy",
        "colab_type": "text"
      },
      "source": [
        "### Convert NumPy array to PyTorch tensor"
      ]
    },
    {
      "cell_type": "code",
      "metadata": {
        "id": "5E92PUXUvUuD",
        "colab_type": "code",
        "colab": {}
      },
      "source": [
        "points = torch.from_numpy(points_np)"
      ],
      "execution_count": 0,
      "outputs": []
    },
    {
      "cell_type": "code",
      "metadata": {
        "id": "vn_JxkVdvcto",
        "colab_type": "code",
        "outputId": "a244c80f-6982-4a82-984e-45364af72643",
        "colab": {
          "base_uri": "https://localhost:8080/",
          "height": 83
        }
      },
      "source": [
        "points"
      ],
      "execution_count": 112,
      "outputs": [
        {
          "output_type": "execute_result",
          "data": {
            "text/plain": [
              "tensor([[1., 1., 1., 1., 1.],\n",
              "        [1., 1., 1., 1., 1.],\n",
              "        [1., 1., 1., 1., 1.],\n",
              "        [1., 1., 1., 1., 1.]])"
            ]
          },
          "metadata": {
            "tags": []
          },
          "execution_count": 112
        }
      ]
    },
    {
      "cell_type": "markdown",
      "metadata": {
        "id": "uuRSG1UVbBtE",
        "colab_type": "text"
      },
      "source": [
        "## 2.7 Serializing tensors\n",
        "\n",
        "save your points tensor\n",
        "to a ourpoints.t file:\n",
        "#"
      ]
    },
    {
      "cell_type": "code",
      "metadata": {
        "id": "q-4WfUZIbXM_",
        "colab_type": "code",
        "colab": {
          "base_uri": "https://localhost:8080/",
          "height": 120
        },
        "outputId": "b54a2ac2-852e-4c92-cc82-b87a47bdfdba"
      },
      "source": [
        "from google.colab import drive\n",
        "drive.mount('/content/drive')"
      ],
      "execution_count": 98,
      "outputs": [
        {
          "output_type": "stream",
          "text": [
            "Go to this URL in a browser: https://accounts.google.com/o/oauth2/auth?client_id=947318989803-6bn6qk8qdgf4n4g3pfee6491hc0brc4i.apps.googleusercontent.com&redirect_uri=urn%3aietf%3awg%3aoauth%3a2.0%3aoob&response_type=code&scope=email%20https%3a%2f%2fwww.googleapis.com%2fauth%2fdocs.test%20https%3a%2f%2fwww.googleapis.com%2fauth%2fdrive%20https%3a%2f%2fwww.googleapis.com%2fauth%2fdrive.photos.readonly%20https%3a%2f%2fwww.googleapis.com%2fauth%2fpeopleapi.readonly\n",
            "\n",
            "Enter your authorization code:\n",
            "··········\n",
            "Mounted at /content/drive\n"
          ],
          "name": "stdout"
        }
      ]
    },
    {
      "cell_type": "code",
      "metadata": {
        "id": "vO_DZV9IcAel",
        "colab_type": "code",
        "colab": {}
      },
      "source": [
        "root_dir = '/content/drive/My Drive/'\n",
        "base_dir = root_dir + 'CMPE258/assignment/'\n",
        "data_dir_me=base_dir+'data/'"
      ],
      "execution_count": 0,
      "outputs": []
    },
    {
      "cell_type": "code",
      "metadata": {
        "id": "skZNAS4bbBBV",
        "colab_type": "code",
        "colab": {}
      },
      "source": [
        "with open(data_dir_me+'ourpoints.t','wb') as f:\n",
        "  torch.save(points, f)\n"
      ],
      "execution_count": 0,
      "outputs": []
    },
    {
      "cell_type": "markdown",
      "metadata": {
        "id": "yfGujttpcLe3",
        "colab_type": "text"
      },
      "source": [
        "Loading your points back"
      ]
    },
    {
      "cell_type": "code",
      "metadata": {
        "id": "YXhhLYZUcNJN",
        "colab_type": "code",
        "colab": {}
      },
      "source": [
        "points = torch.load(data_dir_me+'ourpoints.t')"
      ],
      "execution_count": 0,
      "outputs": []
    },
    {
      "cell_type": "code",
      "metadata": {
        "id": "W8Spc3xtcXPI",
        "colab_type": "code",
        "colab": {
          "base_uri": "https://localhost:8080/",
          "height": 83
        },
        "outputId": "018de4cd-311d-4681-ea78-1a093c93d255"
      },
      "source": [
        "points"
      ],
      "execution_count": 115,
      "outputs": [
        {
          "output_type": "execute_result",
          "data": {
            "text/plain": [
              "tensor([[1., 1., 1., 1., 1.],\n",
              "        [1., 1., 1., 1., 1.],\n",
              "        [1., 1., 1., 1., 1.],\n",
              "        [1., 1., 1., 1., 1.]])"
            ]
          },
          "metadata": {
            "tags": []
          },
          "execution_count": 115
        }
      ]
    },
    {
      "cell_type": "code",
      "metadata": {
        "id": "hjIhPRAfcwC8",
        "colab_type": "code",
        "colab": {}
      },
      "source": [
        "with open(data_dir_me+'ourpoints.t','rb') as f:\n",
        "  points = torch.load(f)  "
      ],
      "execution_count": 0,
      "outputs": []
    },
    {
      "cell_type": "code",
      "metadata": {
        "id": "cxG8UO35dIxc",
        "colab_type": "code",
        "colab": {
          "base_uri": "https://localhost:8080/",
          "height": 83
        },
        "outputId": "d28dd3f5-877f-4868-e2b7-7b89bddb3c97"
      },
      "source": [
        "points"
      ],
      "execution_count": 119,
      "outputs": [
        {
          "output_type": "execute_result",
          "data": {
            "text/plain": [
              "tensor([[1., 1., 1., 1., 1.],\n",
              "        [1., 1., 1., 1., 1.],\n",
              "        [1., 1., 1., 1., 1.],\n",
              "        [1., 1., 1., 1., 1.]])"
            ]
          },
          "metadata": {
            "tags": []
          },
          "execution_count": 119
        }
      ]
    },
    {
      "cell_type": "markdown",
      "metadata": {
        "id": "lj2ytVzmdgY1",
        "colab_type": "text"
      },
      "source": [
        "Use the HDF5 format and library.\n",
        "HDF5 is a portable, widely supported format for representing serialized multidimensional arrays, organized in a nested key-value dictionary. Python supports HDF5 through the h5py library7, which accepts and returns data under the form of NumPy arrays."
      ]
    },
    {
      "cell_type": "code",
      "metadata": {
        "id": "WkY1G6cUdftw",
        "colab_type": "code",
        "colab": {
          "base_uri": "https://localhost:8080/",
          "height": 66
        },
        "outputId": "eea34e01-3fb2-47f1-f5f7-fa1cf385bdd2"
      },
      "source": [
        "!pip install h5py"
      ],
      "execution_count": 123,
      "outputs": [
        {
          "output_type": "stream",
          "text": [
            "Requirement already satisfied: h5py in /usr/local/lib/python3.6/dist-packages (2.10.0)\n",
            "Requirement already satisfied: numpy>=1.7 in /usr/local/lib/python3.6/dist-packages (from h5py) (1.18.4)\n",
            "Requirement already satisfied: six in /usr/local/lib/python3.6/dist-packages (from h5py) (1.12.0)\n"
          ],
          "name": "stdout"
        }
      ]
    },
    {
      "cell_type": "code",
      "metadata": {
        "id": "h4J2xLk9dzZb",
        "colab_type": "code",
        "colab": {}
      },
      "source": [
        "import h5py"
      ],
      "execution_count": 0,
      "outputs": []
    },
    {
      "cell_type": "code",
      "metadata": {
        "id": "B8nbzFjEd2WU",
        "colab_type": "code",
        "colab": {}
      },
      "source": [
        "f = h5py.File(data_dir_me+'ourpoints.hdf5', 'w')\n",
        "dset = f.create_dataset('coords', data=points.numpy())\n",
        "f.close()"
      ],
      "execution_count": 0,
      "outputs": []
    },
    {
      "cell_type": "markdown",
      "metadata": {
        "id": "0zlwC2MBeKn1",
        "colab_type": "text"
      },
      "source": [
        "Here, 'coords' is a key into the HDF5 file. You can have other keys, even nested ones.\n",
        "One interesting thing in HDF5 is that you can index the data set while on disk and access only the elements you’re interested in. Suppose that you want to load only the last two points in your data set:"
      ]
    },
    {
      "cell_type": "code",
      "metadata": {
        "id": "_3ilqjoGeNIf",
        "colab_type": "code",
        "colab": {
          "base_uri": "https://localhost:8080/",
          "height": 33
        },
        "outputId": "1e9cd526-8768-4726-d407-476c95eac91a"
      },
      "source": [
        "f = h5py.File(data_dir_me+'ourpoints.hdf5', 'r')\n",
        "dset = f['coords']\n",
        "dset"
      ],
      "execution_count": 127,
      "outputs": [
        {
          "output_type": "execute_result",
          "data": {
            "text/plain": [
              "<HDF5 dataset \"coords\": shape (4, 5), type \"<f4\">"
            ]
          },
          "metadata": {
            "tags": []
          },
          "execution_count": 127
        }
      ]
    },
    {
      "cell_type": "code",
      "metadata": {
        "id": "ztsEQHQLeWK-",
        "colab_type": "code",
        "colab": {}
      },
      "source": [
        "last_points = dset[1:]"
      ],
      "execution_count": 0,
      "outputs": []
    },
    {
      "cell_type": "code",
      "metadata": {
        "id": "9IyTCnTQeXVc",
        "colab_type": "code",
        "colab": {
          "base_uri": "https://localhost:8080/",
          "height": 66
        },
        "outputId": "3b454b36-7db4-4dac-ceeb-3b47a39adc5f"
      },
      "source": [
        "last_points"
      ],
      "execution_count": 129,
      "outputs": [
        {
          "output_type": "execute_result",
          "data": {
            "text/plain": [
              "array([[1., 1., 1., 1., 1.],\n",
              "       [1., 1., 1., 1., 1.],\n",
              "       [1., 1., 1., 1., 1.]], dtype=float32)"
            ]
          },
          "metadata": {
            "tags": []
          },
          "execution_count": 129
        }
      ]
    },
    {
      "cell_type": "code",
      "metadata": {
        "id": "cOnyFZB2eoX8",
        "colab_type": "code",
        "colab": {}
      },
      "source": [
        "last_points = torch.from_numpy(dset[1:])\n",
        "f.close()# When you finish loading data, close the file"
      ],
      "execution_count": 0,
      "outputs": []
    },
    {
      "cell_type": "code",
      "metadata": {
        "id": "uRsRQe1teyXe",
        "colab_type": "code",
        "colab": {
          "base_uri": "https://localhost:8080/",
          "height": 66
        },
        "outputId": "4baf5cec-46e4-475c-f938-d19602ccb470"
      },
      "source": [
        "last_points"
      ],
      "execution_count": 131,
      "outputs": [
        {
          "output_type": "execute_result",
          "data": {
            "text/plain": [
              "tensor([[1., 1., 1., 1., 1.],\n",
              "        [1., 1., 1., 1., 1.],\n",
              "        [1., 1., 1., 1., 1.]])"
            ]
          },
          "metadata": {
            "tags": []
          },
          "execution_count": 131
        }
      ]
    },
    {
      "cell_type": "markdown",
      "metadata": {
        "id": "zfOTQ5RnvvJe",
        "colab_type": "text"
      },
      "source": [
        "## 2.8 Moving tensors to the GPU\n",
        "\n",
        "One last point about PyTorch tensors is related to computing on the GPU. Every Torch tensor can be transferred to a GPUs to perform fast, massively parallel computations.All operations to be performed on the tensor are carried out by GPU-specific routines that come with PyTorch.\n",
        "\n"
      ]
    },
    {
      "cell_type": "code",
      "metadata": {
        "id": "JM9YvKi5v4Qo",
        "colab_type": "code",
        "colab": {}
      },
      "source": [
        "points_gpu = torch.tensor([[1.0, 4.0], [2.0, 5.0], [3.0, 6.0]],\n",
        "device='cuda')"
      ],
      "execution_count": 0,
      "outputs": []
    },
    {
      "cell_type": "code",
      "metadata": {
        "id": "Vc4VqQaZfpzX",
        "colab_type": "code",
        "colab": {
          "base_uri": "https://localhost:8080/",
          "height": 66
        },
        "outputId": "223c9872-c7ae-4420-e51e-4b5e83e47640"
      },
      "source": [
        "points_gpu"
      ],
      "execution_count": 136,
      "outputs": [
        {
          "output_type": "execute_result",
          "data": {
            "text/plain": [
              "tensor([[1., 4.],\n",
              "        [2., 5.],\n",
              "        [3., 6.]], device='cuda:0')"
            ]
          },
          "metadata": {
            "tags": []
          },
          "execution_count": 136
        }
      ]
    },
    {
      "cell_type": "markdown",
      "metadata": {
        "id": "NeOasYoRweqs",
        "colab_type": "text"
      },
      "source": [
        "OR"
      ]
    },
    {
      "cell_type": "code",
      "metadata": {
        "id": "mhHL4dDHv6CB",
        "colab_type": "code",
        "colab": {}
      },
      "source": [
        "points_gpu = points.to(device='cuda')"
      ],
      "execution_count": 0,
      "outputs": []
    },
    {
      "cell_type": "code",
      "metadata": {
        "id": "ArYja5OUfole",
        "colab_type": "code",
        "colab": {
          "base_uri": "https://localhost:8080/",
          "height": 83
        },
        "outputId": "16bc1e8c-ed23-4aa0-edc4-e5d982b926ac"
      },
      "source": [
        "points_gpu"
      ],
      "execution_count": 138,
      "outputs": [
        {
          "output_type": "execute_result",
          "data": {
            "text/plain": [
              "tensor([[1., 1., 1., 1., 1.],\n",
              "        [1., 1., 1., 1., 1.],\n",
              "        [1., 1., 1., 1., 1.],\n",
              "        [1., 1., 1., 1., 1.]], device='cuda:0')"
            ]
          },
          "metadata": {
            "tags": []
          },
          "execution_count": 138
        }
      ]
    },
    {
      "cell_type": "markdown",
      "metadata": {
        "id": "7LnFOPmGfccb",
        "colab_type": "text"
      },
      "source": [
        "This code returns a new tensor that has the same numerical data but is stored in the RAM of the GPU rather than in regular system RAM."
      ]
    },
    {
      "cell_type": "markdown",
      "metadata": {
        "id": "awulazP8f57P",
        "colab_type": "text"
      },
      "source": [
        "In case your machine has more than one GPU, you can decide which GPU to allocate\n",
        "the tensor to by passing a zero-based integer identifying the GPU on the\n",
        "machine:"
      ]
    },
    {
      "cell_type": "code",
      "metadata": {
        "id": "Pwfs4hQygBIw",
        "colab_type": "code",
        "colab": {
          "base_uri": "https://localhost:8080/",
          "height": 83
        },
        "outputId": "c3819cbd-23e2-4183-ae5f-195a4fc084e6"
      },
      "source": [
        "points_gpu = points.to(device='cuda:0')\n",
        "points_gpu"
      ],
      "execution_count": 142,
      "outputs": [
        {
          "output_type": "execute_result",
          "data": {
            "text/plain": [
              "tensor([[1., 1., 1., 1., 1.],\n",
              "        [1., 1., 1., 1., 1.],\n",
              "        [1., 1., 1., 1., 1.],\n",
              "        [1., 1., 1., 1., 1.]], device='cuda:0')"
            ]
          },
          "metadata": {
            "tags": []
          },
          "execution_count": 142
        }
      ]
    },
    {
      "cell_type": "code",
      "metadata": {
        "id": "nNQpa8EpgNQF",
        "colab_type": "code",
        "colab": {}
      },
      "source": [
        "points = 2 * points #performed on the CPU\n"
      ],
      "execution_count": 0,
      "outputs": []
    },
    {
      "cell_type": "code",
      "metadata": {
        "id": "QhfLD0HTgOaN",
        "colab_type": "code",
        "colab": {}
      },
      "source": [
        "points_gpu = 2 * points.to(device='cuda') #performed on the GPU"
      ],
      "execution_count": 0,
      "outputs": []
    },
    {
      "cell_type": "code",
      "metadata": {
        "id": "TBBRYRpaghbQ",
        "colab_type": "code",
        "colab": {}
      },
      "source": [
        "points_gpu = points_gpu + 4 #performed on the GPU"
      ],
      "execution_count": 0,
      "outputs": []
    },
    {
      "cell_type": "markdown",
      "metadata": {
        "id": "O1ZAHk4rgpdU",
        "colab_type": "text"
      },
      "source": [
        "To move the tensor back to the\n",
        "CPU, you need to provide a cpu argument to the to method:"
      ]
    },
    {
      "cell_type": "code",
      "metadata": {
        "id": "pv5Cn4tigucf",
        "colab_type": "code",
        "colab": {}
      },
      "source": [
        "points_cpu = points_gpu.to(device='cpu')"
      ],
      "execution_count": 0,
      "outputs": []
    },
    {
      "cell_type": "code",
      "metadata": {
        "id": "mzctgXwXgukA",
        "colab_type": "code",
        "colab": {
          "base_uri": "https://localhost:8080/",
          "height": 83
        },
        "outputId": "e1ef860e-e0fa-4988-ef17-086b045440dc"
      },
      "source": [
        "#shorthand methods cpu and cuda instead of the to method to achieve the same goal\n",
        "\n",
        "points_gpu = points.cuda()\n",
        "points_gpu"
      ],
      "execution_count": 152,
      "outputs": [
        {
          "output_type": "execute_result",
          "data": {
            "text/plain": [
              "tensor([[2., 2., 2., 2., 2.],\n",
              "        [2., 2., 2., 2., 2.],\n",
              "        [2., 2., 2., 2., 2.],\n",
              "        [2., 2., 2., 2., 2.]], device='cuda:0')"
            ]
          },
          "metadata": {
            "tags": []
          },
          "execution_count": 152
        }
      ]
    },
    {
      "cell_type": "code",
      "metadata": {
        "id": "fUk2WLIfhARA",
        "colab_type": "code",
        "colab": {
          "base_uri": "https://localhost:8080/",
          "height": 83
        },
        "outputId": "72f0154e-32bf-4e8a-f509-97ec6da452e7"
      },
      "source": [
        "points_gpu = points.cuda(0)\n",
        "points_gpu"
      ],
      "execution_count": 153,
      "outputs": [
        {
          "output_type": "execute_result",
          "data": {
            "text/plain": [
              "tensor([[2., 2., 2., 2., 2.],\n",
              "        [2., 2., 2., 2., 2.],\n",
              "        [2., 2., 2., 2., 2.],\n",
              "        [2., 2., 2., 2., 2.]], device='cuda:0')"
            ]
          },
          "metadata": {
            "tags": []
          },
          "execution_count": 153
        }
      ]
    },
    {
      "cell_type": "code",
      "metadata": {
        "id": "NodBJgC0hBV5",
        "colab_type": "code",
        "colab": {
          "base_uri": "https://localhost:8080/",
          "height": 83
        },
        "outputId": "9c690898-1fa2-496e-dd8a-76865cbce786"
      },
      "source": [
        "points_cpu = points_gpu.cpu()\n",
        "points_cpu\n"
      ],
      "execution_count": 156,
      "outputs": [
        {
          "output_type": "execute_result",
          "data": {
            "text/plain": [
              "tensor([[2., 2., 2., 2., 2.],\n",
              "        [2., 2., 2., 2., 2.],\n",
              "        [2., 2., 2., 2., 2.],\n",
              "        [2., 2., 2., 2., 2.]])"
            ]
          },
          "metadata": {
            "tags": []
          },
          "execution_count": 156
        }
      ]
    },
    {
      "cell_type": "markdown",
      "metadata": {
        "id": "YTUzAlF_hOh_",
        "colab_type": "text"
      },
      "source": [
        "when you use the to method, you can change the placement\n",
        "and the data type simultaneously by providing device and dtype as arguments.\n"
      ]
    },
    {
      "cell_type": "markdown",
      "metadata": {
        "id": "wS_kzgglf6GM",
        "colab_type": "text"
      },
      "source": [
        "## 2.9 The tensor API\n",
        "http://pytorch.org/docs."
      ]
    },
    {
      "cell_type": "code",
      "metadata": {
        "id": "ihjfNcDVhxnn",
        "colab_type": "code",
        "colab": {
          "base_uri": "https://localhost:8080/",
          "height": 66
        },
        "outputId": "9f1d4617-1489-4bee-c386-e045ddad6281"
      },
      "source": [
        "a = torch.ones(3, 2)\n",
        "a_t = torch.transpose(a, 0, 1)\n",
        "print(a)"
      ],
      "execution_count": 159,
      "outputs": [
        {
          "output_type": "stream",
          "text": [
            "tensor([[1., 1.],\n",
            "        [1., 1.],\n",
            "        [1., 1.]])\n"
          ],
          "name": "stdout"
        }
      ]
    },
    {
      "cell_type": "code",
      "metadata": {
        "id": "HPJC-8uYh7ye",
        "colab_type": "code",
        "colab": {
          "base_uri": "https://localhost:8080/",
          "height": 50
        },
        "outputId": "ce45db34-509f-4a84-cb4f-e56fe7793226"
      },
      "source": [
        "a_t"
      ],
      "execution_count": 160,
      "outputs": [
        {
          "output_type": "execute_result",
          "data": {
            "text/plain": [
              "tensor([[1., 1., 1.],\n",
              "        [1., 1., 1.]])"
            ]
          },
          "metadata": {
            "tags": []
          },
          "execution_count": 160
        }
      ]
    },
    {
      "cell_type": "code",
      "metadata": {
        "id": "q0Nu_xqxh-VZ",
        "colab_type": "code",
        "colab": {}
      },
      "source": [
        "a = torch.ones(3, 2)\n",
        "a_t = a.transpose(0, 1)"
      ],
      "execution_count": 0,
      "outputs": []
    },
    {
      "cell_type": "code",
      "metadata": {
        "id": "hAbZNuXoiD2M",
        "colab_type": "code",
        "colab": {
          "base_uri": "https://localhost:8080/",
          "height": 50
        },
        "outputId": "d0b1ffe1-b9e1-479d-a523-3ec2dc706736"
      },
      "source": [
        "a_t"
      ],
      "execution_count": 162,
      "outputs": [
        {
          "output_type": "execute_result",
          "data": {
            "text/plain": [
              "tensor([[1., 1., 1.],\n",
              "        [1., 1., 1.]])"
            ]
          },
          "metadata": {
            "tags": []
          },
          "execution_count": 162
        }
      ]
    },
    {
      "cell_type": "markdown",
      "metadata": {
        "id": "YQuQZEwyiQwd",
        "colab_type": "text"
      },
      "source": [
        "No difference exists between the two forms, which can be used interchangeably.\n",
        "A caveat, though: a small number of operations exist only as methods of the tensor object. They’re recognizable by the trailing underscore in their name, such as zero_, which indicates that the method operates in-place by modifying the input instead of creating a new output tensor and returning it. The zero_ method, for example, zeros out all the elements of the input. Any method without the trailing underscore leaves the source tensor unchanged and returns a new tensor:"
      ]
    },
    {
      "cell_type": "code",
      "metadata": {
        "id": "bt6r2H9viUAB",
        "colab_type": "code",
        "colab": {
          "base_uri": "https://localhost:8080/",
          "height": 66
        },
        "outputId": "8251ac2d-88e2-45ab-a493-c0c5f4538974"
      },
      "source": [
        "a.zero_()\n",
        "a"
      ],
      "execution_count": 163,
      "outputs": [
        {
          "output_type": "execute_result",
          "data": {
            "text/plain": [
              "tensor([[0., 0.],\n",
              "        [0., 0.],\n",
              "        [0., 0.]])"
            ]
          },
          "metadata": {
            "tags": []
          },
          "execution_count": 163
        }
      ]
    },
    {
      "cell_type": "code",
      "metadata": {
        "id": "9uRXhl_Sij3J",
        "colab_type": "code",
        "colab": {}
      },
      "source": [
        ""
      ],
      "execution_count": 0,
      "outputs": []
    },
    {
      "cell_type": "markdown",
      "metadata": {
        "id": "68QUT9yPikF5",
        "colab_type": "text"
      },
      "source": [
        "# Exercises"
      ]
    },
    {
      "cell_type": "markdown",
      "metadata": {
        "id": "y-5Hw77wiodz",
        "colab_type": "text"
      },
      "source": [
        "## Create a tensor a from list(range(9)). Predict then check what the size, offset,and strides are."
      ]
    },
    {
      "cell_type": "code",
      "metadata": {
        "id": "6DLHa3d8is5U",
        "colab_type": "code",
        "colab": {
          "base_uri": "https://localhost:8080/",
          "height": 33
        },
        "outputId": "f198e228-318b-4704-c941-f4cba409c125"
      },
      "source": [
        "a=list(range(9))\n",
        "a\n"
      ],
      "execution_count": 170,
      "outputs": [
        {
          "output_type": "execute_result",
          "data": {
            "text/plain": [
              "[0, 1, 2, 3, 4, 5, 6, 7, 8]"
            ]
          },
          "metadata": {
            "tags": []
          },
          "execution_count": 170
        }
      ]
    },
    {
      "cell_type": "code",
      "metadata": {
        "id": "na4ijfWjjIK1",
        "colab_type": "code",
        "colab": {}
      },
      "source": [
        "ponits=torch.tensor(a)"
      ],
      "execution_count": 0,
      "outputs": []
    },
    {
      "cell_type": "code",
      "metadata": {
        "id": "73W5Bvs6kaNb",
        "colab_type": "code",
        "colab": {
          "base_uri": "https://localhost:8080/",
          "height": 33
        },
        "outputId": "50760e1c-3678-459f-9002-1a573f30b120"
      },
      "source": [
        "ponits"
      ],
      "execution_count": 178,
      "outputs": [
        {
          "output_type": "execute_result",
          "data": {
            "text/plain": [
              "tensor([0, 1, 2, 3, 4, 5, 6, 7, 8])"
            ]
          },
          "metadata": {
            "tags": []
          },
          "execution_count": 178
        }
      ]
    },
    {
      "cell_type": "code",
      "metadata": {
        "id": "yO2P-TCika5J",
        "colab_type": "code",
        "colab": {
          "base_uri": "https://localhost:8080/",
          "height": 33
        },
        "outputId": "45777878-ba3e-4070-c50f-f1de9e4a9bb5"
      },
      "source": [
        "ponits.shape"
      ],
      "execution_count": 186,
      "outputs": [
        {
          "output_type": "execute_result",
          "data": {
            "text/plain": [
              "torch.Size([9])"
            ]
          },
          "metadata": {
            "tags": []
          },
          "execution_count": 186
        }
      ]
    },
    {
      "cell_type": "code",
      "metadata": {
        "id": "4wdNS2YZkglU",
        "colab_type": "code",
        "colab": {
          "base_uri": "https://localhost:8080/",
          "height": 33
        },
        "outputId": "18916cfd-a2bf-48f6-bdb1-7fd2cdcc9fa1"
      },
      "source": [
        "ponits.storage_offset()"
      ],
      "execution_count": 183,
      "outputs": [
        {
          "output_type": "execute_result",
          "data": {
            "text/plain": [
              "0"
            ]
          },
          "metadata": {
            "tags": []
          },
          "execution_count": 183
        }
      ]
    },
    {
      "cell_type": "code",
      "metadata": {
        "id": "YzWS9VWZk-H1",
        "colab_type": "code",
        "colab": {
          "base_uri": "https://localhost:8080/",
          "height": 33
        },
        "outputId": "686ab0d9-2c98-41e5-c61b-bc2be592e356"
      },
      "source": [
        "ponits.stride()"
      ],
      "execution_count": 185,
      "outputs": [
        {
          "output_type": "execute_result",
          "data": {
            "text/plain": [
              "(1,)"
            ]
          },
          "metadata": {
            "tags": []
          },
          "execution_count": 185
        }
      ]
    },
    {
      "cell_type": "markdown",
      "metadata": {
        "id": "7CLRzKRvlWQ9",
        "colab_type": "text"
      },
      "source": [
        "## Create a tensor b = a.view(3, 3). What is the value of b[1,1]?"
      ]
    },
    {
      "cell_type": "code",
      "metadata": {
        "id": "f97__Fbdlaho",
        "colab_type": "code",
        "colab": {}
      },
      "source": [
        "points2 = ponits.view(3,3)"
      ],
      "execution_count": 0,
      "outputs": []
    },
    {
      "cell_type": "code",
      "metadata": {
        "id": "ej1kxYUumJ1O",
        "colab_type": "code",
        "colab": {
          "base_uri": "https://localhost:8080/",
          "height": 66
        },
        "outputId": "bf734044-8b12-41a3-9c0a-4259ec7c1596"
      },
      "source": [
        "points2"
      ],
      "execution_count": 199,
      "outputs": [
        {
          "output_type": "execute_result",
          "data": {
            "text/plain": [
              "tensor([[0, 1, 2],\n",
              "        [3, 4, 5],\n",
              "        [6, 7, 8]])"
            ]
          },
          "metadata": {
            "tags": []
          },
          "execution_count": 199
        }
      ]
    },
    {
      "cell_type": "code",
      "metadata": {
        "id": "t3mOT5BFmLXG",
        "colab_type": "code",
        "colab": {
          "base_uri": "https://localhost:8080/",
          "height": 33
        },
        "outputId": "521f2236-acdb-477b-bb47-0082b169aae6"
      },
      "source": [
        "points2[1,1]"
      ],
      "execution_count": 200,
      "outputs": [
        {
          "output_type": "execute_result",
          "data": {
            "text/plain": [
              "tensor(4)"
            ]
          },
          "metadata": {
            "tags": []
          },
          "execution_count": 200
        }
      ]
    },
    {
      "cell_type": "markdown",
      "metadata": {
        "id": "ZKOuF9nwmRnf",
        "colab_type": "text"
      },
      "source": [
        "## Create a tensor c = b[1:,1:]. Predict then check what the size, offset, and strides are."
      ]
    },
    {
      "cell_type": "code",
      "metadata": {
        "id": "C9C_NwD5mQxl",
        "colab_type": "code",
        "colab": {}
      },
      "source": [
        "c=points2[1:,1:]"
      ],
      "execution_count": 0,
      "outputs": []
    },
    {
      "cell_type": "code",
      "metadata": {
        "id": "npXhfZ7hmji6",
        "colab_type": "code",
        "colab": {
          "base_uri": "https://localhost:8080/",
          "height": 50
        },
        "outputId": "220e83c0-42d4-41af-ea65-943013c5412a"
      },
      "source": [
        "c"
      ],
      "execution_count": 202,
      "outputs": [
        {
          "output_type": "execute_result",
          "data": {
            "text/plain": [
              "tensor([[4, 5],\n",
              "        [7, 8]])"
            ]
          },
          "metadata": {
            "tags": []
          },
          "execution_count": 202
        }
      ]
    },
    {
      "cell_type": "code",
      "metadata": {
        "id": "IbyHwtWImcej",
        "colab_type": "code",
        "colab": {
          "base_uri": "https://localhost:8080/",
          "height": 33
        },
        "outputId": "7b69d943-e39d-4747-e2b2-7705fa69d113"
      },
      "source": [
        "c.shape"
      ],
      "execution_count": 203,
      "outputs": [
        {
          "output_type": "execute_result",
          "data": {
            "text/plain": [
              "torch.Size([2, 2])"
            ]
          },
          "metadata": {
            "tags": []
          },
          "execution_count": 203
        }
      ]
    },
    {
      "cell_type": "code",
      "metadata": {
        "id": "ED1LCH5Zmfwn",
        "colab_type": "code",
        "colab": {
          "base_uri": "https://localhost:8080/",
          "height": 33
        },
        "outputId": "e98b986f-020c-4021-fd4e-d6b27c712c07"
      },
      "source": [
        "c.storage_offset()"
      ],
      "execution_count": 204,
      "outputs": [
        {
          "output_type": "execute_result",
          "data": {
            "text/plain": [
              "4"
            ]
          },
          "metadata": {
            "tags": []
          },
          "execution_count": 204
        }
      ]
    },
    {
      "cell_type": "code",
      "metadata": {
        "id": "nMOANTCtmv41",
        "colab_type": "code",
        "colab": {
          "base_uri": "https://localhost:8080/",
          "height": 33
        },
        "outputId": "38da11df-a38e-4dc1-d949-487b69b609cc"
      },
      "source": [
        "c.stride()"
      ],
      "execution_count": 205,
      "outputs": [
        {
          "output_type": "execute_result",
          "data": {
            "text/plain": [
              "(3, 1)"
            ]
          },
          "metadata": {
            "tags": []
          },
          "execution_count": 205
        }
      ]
    },
    {
      "cell_type": "markdown",
      "metadata": {
        "id": "5i04GVR5o354",
        "colab_type": "text"
      },
      "source": [
        "## Pick a mathematical operation like cosine or square root. Can you find a corresponding function in the torch library?"
      ]
    },
    {
      "cell_type": "markdown",
      "metadata": {
        "id": "K4KeNP57ntDa",
        "colab_type": "text"
      },
      "source": [
        "[res] torch.cos([res,] x)\n",
        "\n",
        "y=torch.cos(x) returns a new tensor with the cosine of the elements of x.\n",
        "\n",
        "x:cos() replaces all elements in-place with the cosine of the elements of x."
      ]
    },
    {
      "cell_type": "code",
      "metadata": {
        "id": "0OFZWhgOnLNr",
        "colab_type": "code",
        "colab": {}
      },
      "source": [
        "k = torch.rand(10,10)\n",
        "d=torch.cos(k)"
      ],
      "execution_count": 0,
      "outputs": []
    },
    {
      "cell_type": "code",
      "metadata": {
        "id": "Fox-Ts6moreK",
        "colab_type": "code",
        "colab": {
          "base_uri": "https://localhost:8080/",
          "height": 350
        },
        "outputId": "684083f3-4cc4-4467-d14d-0b3768fc6f53"
      },
      "source": [
        "k"
      ],
      "execution_count": 220,
      "outputs": [
        {
          "output_type": "execute_result",
          "data": {
            "text/plain": [
              "tensor([[0.7858, 0.1320, 0.2265, 0.4890, 0.8511, 0.4676, 0.5435, 0.5065, 0.5492,\n",
              "         0.2659],\n",
              "        [0.8580, 0.2166, 0.8840, 0.0196, 0.2575, 0.4717, 0.2190, 0.1386, 0.5936,\n",
              "         0.6763],\n",
              "        [0.9547, 0.9802, 0.0292, 0.1925, 0.6326, 0.2736, 0.8223, 0.9924, 0.5018,\n",
              "         0.4749],\n",
              "        [0.3358, 0.7169, 0.8469, 0.1960, 0.1983, 0.3658, 0.0315, 0.9224, 0.0783,\n",
              "         0.6227],\n",
              "        [0.6558, 0.4957, 0.0566, 0.7787, 0.2124, 0.7790, 0.2243, 0.5502, 0.9781,\n",
              "         0.5971],\n",
              "        [0.6237, 0.7794, 0.7465, 0.8335, 0.3850, 0.2958, 0.7079, 0.6305, 0.9680,\n",
              "         0.5526],\n",
              "        [0.8008, 0.6798, 0.3953, 0.8892, 0.2845, 0.2776, 0.8628, 0.0524, 0.1132,\n",
              "         0.0334],\n",
              "        [0.3806, 0.8995, 0.5047, 0.2532, 0.3131, 0.2261, 0.4299, 0.0818, 0.7824,\n",
              "         0.4470],\n",
              "        [0.5383, 0.7300, 0.0617, 0.1534, 0.6065, 0.3729, 0.7372, 0.8177, 0.1181,\n",
              "         0.3043],\n",
              "        [0.4366, 0.5531, 0.8415, 0.8917, 0.7501, 0.7207, 0.8232, 0.0431, 0.9507,\n",
              "         0.9690]])"
            ]
          },
          "metadata": {
            "tags": []
          },
          "execution_count": 220
        }
      ]
    },
    {
      "cell_type": "code",
      "metadata": {
        "id": "VAzmLw-PopXQ",
        "colab_type": "code",
        "colab": {
          "base_uri": "https://localhost:8080/",
          "height": 350
        },
        "outputId": "5aa9ade4-7582-404f-823e-70be64b4e188"
      },
      "source": [
        "d"
      ],
      "execution_count": 221,
      "outputs": [
        {
          "output_type": "execute_result",
          "data": {
            "text/plain": [
              "tensor([[0.7068, 0.9913, 0.9745, 0.8828, 0.6592, 0.8926, 0.8559, 0.8745, 0.8529,\n",
              "         0.9648],\n",
              "        [0.6540, 0.9766, 0.6340, 0.9998, 0.9670, 0.8908, 0.9761, 0.9904, 0.8289,\n",
              "         0.7799],\n",
              "        [0.5779, 0.5569, 0.9996, 0.9815, 0.8065, 0.9628, 0.6805, 0.5467, 0.8767,\n",
              "         0.8893],\n",
              "        [0.9441, 0.7539, 0.6623, 0.9809, 0.9804, 0.9338, 0.9995, 0.6039, 0.9969,\n",
              "         0.8123],\n",
              "        [0.7926, 0.8796, 0.9984, 0.7118, 0.9775, 0.7116, 0.9749, 0.8524, 0.5586,\n",
              "         0.8270],\n",
              "        [0.8117, 0.7114, 0.7341, 0.6723, 0.9268, 0.9566, 0.7597, 0.8077, 0.5669,\n",
              "         0.8512],\n",
              "        [0.6961, 0.7777, 0.9229, 0.6301, 0.9598, 0.9617, 0.6503, 0.9986, 0.9936,\n",
              "         0.9994],\n",
              "        [0.9285, 0.6220, 0.8753, 0.9681, 0.9514, 0.9745, 0.9090, 0.9967, 0.7092,\n",
              "         0.9017],\n",
              "        [0.8586, 0.7452, 0.9981, 0.9883, 0.8217, 0.9313, 0.7403, 0.6839, 0.9930,\n",
              "         0.9541],\n",
              "        [0.9062, 0.8509, 0.6663, 0.6281, 0.7316, 0.7513, 0.6799, 0.9991, 0.5812,\n",
              "         0.5662]])"
            ]
          },
          "metadata": {
            "tags": []
          },
          "execution_count": 221
        }
      ]
    },
    {
      "cell_type": "markdown",
      "metadata": {
        "id": "loTSEi0ko89_",
        "colab_type": "text"
      },
      "source": [
        "square root."
      ]
    },
    {
      "cell_type": "markdown",
      "metadata": {
        "id": "hLscAyARpHQO",
        "colab_type": "text"
      },
      "source": [
        "[res] torch.sqrt([res,] x)\n",
        "\n",
        "y=torch.sqrt(x) returns a new tensor with the square root of the elements of x.\n",
        "\n",
        "x:sqrt() replaces all elements in-place with the square root of the elements of x."
      ]
    },
    {
      "cell_type": "code",
      "metadata": {
        "id": "Jq0rJbLLo8N3",
        "colab_type": "code",
        "colab": {}
      },
      "source": [
        "e = torch.sqrt(k)"
      ],
      "execution_count": 0,
      "outputs": []
    },
    {
      "cell_type": "code",
      "metadata": {
        "id": "K0a9FBrmpOO_",
        "colab_type": "code",
        "colab": {
          "base_uri": "https://localhost:8080/",
          "height": 350
        },
        "outputId": "a604806f-e9ad-43f1-aa54-c9e7bce8580b"
      },
      "source": [
        "e"
      ],
      "execution_count": 223,
      "outputs": [
        {
          "output_type": "execute_result",
          "data": {
            "text/plain": [
              "tensor([[0.8864, 0.3634, 0.4759, 0.6993, 0.9225, 0.6838, 0.7372, 0.7117, 0.7411,\n",
              "         0.5157],\n",
              "        [0.9263, 0.4654, 0.9402, 0.1400, 0.5075, 0.6868, 0.4680, 0.3724, 0.7705,\n",
              "         0.8224],\n",
              "        [0.9771, 0.9900, 0.1709, 0.4387, 0.7954, 0.5230, 0.9068, 0.9962, 0.7084,\n",
              "         0.6891],\n",
              "        [0.5795, 0.8467, 0.9203, 0.4427, 0.4453, 0.6048, 0.1774, 0.9604, 0.2798,\n",
              "         0.7891],\n",
              "        [0.8098, 0.7041, 0.2379, 0.8824, 0.4609, 0.8826, 0.4737, 0.7418, 0.9890,\n",
              "         0.7727],\n",
              "        [0.7898, 0.8828, 0.8640, 0.9130, 0.6204, 0.5438, 0.8414, 0.7940, 0.9839,\n",
              "         0.7434],\n",
              "        [0.8949, 0.8245, 0.6287, 0.9430, 0.5334, 0.5269, 0.9289, 0.2289, 0.3365,\n",
              "         0.1828],\n",
              "        [0.6169, 0.9484, 0.7104, 0.5032, 0.5596, 0.4755, 0.6557, 0.2860, 0.8845,\n",
              "         0.6686],\n",
              "        [0.7337, 0.8544, 0.2485, 0.3916, 0.7788, 0.6107, 0.8586, 0.9043, 0.3437,\n",
              "         0.5516],\n",
              "        [0.6608, 0.7437, 0.9173, 0.9443, 0.8661, 0.8490, 0.9073, 0.2076, 0.9750,\n",
              "         0.9844]])"
            ]
          },
          "metadata": {
            "tags": []
          },
          "execution_count": 223
        }
      ]
    },
    {
      "cell_type": "markdown",
      "metadata": {
        "id": "HG6KUjqAql4b",
        "colab_type": "text"
      },
      "source": [
        "## function that operates in-place"
      ]
    },
    {
      "cell_type": "code",
      "metadata": {
        "id": "BNMZVW3dpRAr",
        "colab_type": "code",
        "colab": {
          "base_uri": "https://localhost:8080/",
          "height": 350
        },
        "outputId": "50f71a06-7e49-4a9e-f6bf-5e592cd0ecec"
      },
      "source": [
        "k.cos_()"
      ],
      "execution_count": 230,
      "outputs": [
        {
          "output_type": "execute_result",
          "data": {
            "text/plain": [
              "tensor([[0.7068, 0.9913, 0.9745, 0.8828, 0.6592, 0.8926, 0.8559, 0.8745, 0.8529,\n",
              "         0.9648],\n",
              "        [0.6540, 0.9766, 0.6340, 0.9998, 0.9670, 0.8908, 0.9761, 0.9904, 0.8289,\n",
              "         0.7799],\n",
              "        [0.5779, 0.5569, 0.9996, 0.9815, 0.8065, 0.9628, 0.6805, 0.5467, 0.8767,\n",
              "         0.8893],\n",
              "        [0.9441, 0.7539, 0.6623, 0.9809, 0.9804, 0.9338, 0.9995, 0.6039, 0.9969,\n",
              "         0.8123],\n",
              "        [0.7926, 0.8796, 0.9984, 0.7118, 0.9775, 0.7116, 0.9749, 0.8524, 0.5586,\n",
              "         0.8270],\n",
              "        [0.8117, 0.7114, 0.7341, 0.6723, 0.9268, 0.9566, 0.7597, 0.8077, 0.5669,\n",
              "         0.8512],\n",
              "        [0.6961, 0.7777, 0.9229, 0.6301, 0.9598, 0.9617, 0.6503, 0.9986, 0.9936,\n",
              "         0.9994],\n",
              "        [0.9285, 0.6220, 0.8753, 0.9681, 0.9514, 0.9745, 0.9090, 0.9967, 0.7092,\n",
              "         0.9017],\n",
              "        [0.8586, 0.7452, 0.9981, 0.9883, 0.8217, 0.9313, 0.7403, 0.6839, 0.9930,\n",
              "         0.9541],\n",
              "        [0.9062, 0.8509, 0.6663, 0.6281, 0.7316, 0.7513, 0.6799, 0.9991, 0.5812,\n",
              "         0.5662]])"
            ]
          },
          "metadata": {
            "tags": []
          },
          "execution_count": 230
        }
      ]
    },
    {
      "cell_type": "code",
      "metadata": {
        "id": "ABWKy71IpaC3",
        "colab_type": "code",
        "colab": {
          "base_uri": "https://localhost:8080/",
          "height": 350
        },
        "outputId": "b7e7d9fd-1df7-41c4-d72a-b7ad13792f42"
      },
      "source": [
        "k.sqrt_()"
      ],
      "execution_count": 231,
      "outputs": [
        {
          "output_type": "execute_result",
          "data": {
            "text/plain": [
              "tensor([[0.8407, 0.9956, 0.9871, 0.9396, 0.8119, 0.9448, 0.9252, 0.9351, 0.9235,\n",
              "         0.9823],\n",
              "        [0.8087, 0.9883, 0.7963, 0.9999, 0.9834, 0.9438, 0.9880, 0.9952, 0.9104,\n",
              "         0.8831],\n",
              "        [0.7602, 0.7462, 0.9998, 0.9907, 0.8980, 0.9812, 0.8249, 0.7394, 0.9363,\n",
              "         0.9430],\n",
              "        [0.9717, 0.8683, 0.8138, 0.9904, 0.9902, 0.9664, 0.9998, 0.7771, 0.9985,\n",
              "         0.9013],\n",
              "        [0.8903, 0.9379, 0.9992, 0.8437, 0.9887, 0.8436, 0.9874, 0.9233, 0.7474,\n",
              "         0.9094],\n",
              "        [0.9009, 0.8434, 0.8568, 0.8199, 0.9627, 0.9780, 0.8716, 0.8987, 0.7529,\n",
              "         0.9226],\n",
              "        [0.8343, 0.8819, 0.9607, 0.7938, 0.9797, 0.9807, 0.8064, 0.9993, 0.9968,\n",
              "         0.9997],\n",
              "        [0.9636, 0.7887, 0.9356, 0.9839, 0.9754, 0.9872, 0.9534, 0.9983, 0.8422,\n",
              "         0.9496],\n",
              "        [0.9266, 0.8632, 0.9990, 0.9941, 0.9065, 0.9650, 0.8604, 0.8270, 0.9965,\n",
              "         0.9768],\n",
              "        [0.9519, 0.9224, 0.8163, 0.7925, 0.8554, 0.8668, 0.8245, 0.9995, 0.7623,\n",
              "         0.7524]])"
            ]
          },
          "metadata": {
            "tags": []
          },
          "execution_count": 231
        }
      ]
    }
  ]
}