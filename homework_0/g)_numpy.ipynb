{
  "nbformat": 4,
  "nbformat_minor": 0,
  "metadata": {
    "colab": {
      "name": "g) numpy.ipynb",
      "provenance": [],
      "private_outputs": true,
      "collapsed_sections": [],
      "authorship_tag": "ABX9TyOHtE9SwcooKmrrzh6rn2y1",
      "include_colab_link": true
    },
    "kernelspec": {
      "name": "python3",
      "display_name": "Python 3"
    },
    "accelerator": "GPU"
  },
  "cells": [
    {
      "cell_type": "markdown",
      "metadata": {
        "id": "view-in-github",
        "colab_type": "text"
      },
      "source": [
        "<a href=\"https://colab.research.google.com/github/zjzsu2000/CMPE258/blob/master/homework_0/g)_numpy.ipynb\" target=\"_parent\"><img src=\"https://colab.research.google.com/assets/colab-badge.svg\" alt=\"Open In Colab\"/></a>"
      ]
    },
    {
      "cell_type": "code",
      "metadata": {
        "id": "ulSpG08cnoy7",
        "colab_type": "code",
        "colab": {}
      },
      "source": [
        "import numpy as np\n",
        "import pandas as pd"
      ],
      "execution_count": 0,
      "outputs": []
    },
    {
      "cell_type": "code",
      "metadata": {
        "id": "SUEALRxCoHMv",
        "colab_type": "code",
        "colab": {}
      },
      "source": [
        "a = np.arange(25).reshape(5,5)\n",
        "b = np.arange(5)\n",
        "c = np.arange(6).reshape(2,3)"
      ],
      "execution_count": 0,
      "outputs": []
    },
    {
      "cell_type": "code",
      "metadata": {
        "id": "D-kUgm6EolBZ",
        "colab_type": "code",
        "colab": {}
      },
      "source": [
        "np.einsum('ii', a)\n",
        "\n",
        "np.einsum(a, [0,0])\n",
        "\n",
        "np.trace(a)"
      ],
      "execution_count": 0,
      "outputs": []
    },
    {
      "cell_type": "code",
      "metadata": {
        "id": "XmNnIBLAovqP",
        "colab_type": "code",
        "colab": {}
      },
      "source": [
        "np.einsum('ii->i', a)\n",
        "\n",
        "np.einsum(a, [0,0], [0])\n",
        "\n",
        "np.diag(a)"
      ],
      "execution_count": 0,
      "outputs": []
    },
    {
      "cell_type": "code",
      "metadata": {
        "id": "ke6PjOkBov5h",
        "colab_type": "code",
        "colab": {}
      },
      "source": [
        "np.einsum('ij->i', a)\n",
        "\n",
        "np.einsum(a, [0,1], [0])\n",
        "\n",
        "np.sum(a, axis=1)"
      ],
      "execution_count": 0,
      "outputs": []
    },
    {
      "cell_type": "code",
      "metadata": {
        "id": "rR9UnzZ6owDa",
        "colab_type": "code",
        "colab": {}
      },
      "source": [
        "np.einsum('...j->...', a)\n",
        "\n",
        "np.einsum(a, [Ellipsis,1], [Ellipsis])"
      ],
      "execution_count": 0,
      "outputs": []
    },
    {
      "cell_type": "code",
      "metadata": {
        "id": "cWp3D7ASo50S",
        "colab_type": "code",
        "colab": {}
      },
      "source": [
        ""
      ],
      "execution_count": 0,
      "outputs": []
    },
    {
      "cell_type": "code",
      "metadata": {
        "id": "bRj9tDI-o58s",
        "colab_type": "code",
        "colab": {}
      },
      "source": [
        "np.einsum('ji', c)\n",
        "\n",
        "\n",
        "\n",
        "np.einsum('ij->ji', c)\n",
        "\n",
        "\n",
        "\n",
        "np.einsum(c, [1,0])\n",
        "\n",
        "\n",
        "\n",
        "np.transpose(c)"
      ],
      "execution_count": 0,
      "outputs": []
    },
    {
      "cell_type": "code",
      "metadata": {
        "id": "SjG2MrNDo9VA",
        "colab_type": "code",
        "colab": {}
      },
      "source": [
        "np.einsum('i,i', b, b)\n",
        "\n",
        "np.einsum(b, [0], b, [0])\n",
        "\n",
        "np.inner(b,b)"
      ],
      "execution_count": 0,
      "outputs": []
    },
    {
      "cell_type": "code",
      "metadata": {
        "id": "li3Nj9INpOUI",
        "colab_type": "code",
        "colab": {}
      },
      "source": [
        "#Matrix vector multiplication:\n",
        "np.einsum('ij,j', a, b)\n",
        "\n",
        "np.einsum(a, [0,1], b, [1])\n",
        "\n",
        "np.dot(a, b)\n",
        "\n",
        "np.einsum('...j,j', a, b)"
      ],
      "execution_count": 0,
      "outputs": []
    },
    {
      "cell_type": "code",
      "metadata": {
        "id": "ZVsSoWgJpWIC",
        "colab_type": "code",
        "colab": {}
      },
      "source": [
        "#Broadcasting and scalar multiplication:\n",
        "np.einsum('..., ...', 3, c)\n",
        "\n",
        "\n",
        "np.einsum(',ij', 3, c)\n",
        "\n",
        "\n",
        "np.einsum(3, [Ellipsis], c, [Ellipsis])\n",
        "\n",
        "\n",
        "np.multiply(3, c)\n"
      ],
      "execution_count": 0,
      "outputs": []
    },
    {
      "cell_type": "markdown",
      "metadata": {
        "id": "pTPKizlrpebX",
        "colab_type": "text"
      },
      "source": [
        "Vector outer product:"
      ]
    },
    {
      "cell_type": "code",
      "metadata": {
        "id": "MKcZ4fuOpcLd",
        "colab_type": "code",
        "colab": {}
      },
      "source": [
        "np.einsum('i,j', np.arange(2)+1, b)\n",
        "\n",
        "\n",
        "np.einsum(np.arange(2)+1, [0], b, [1])\n",
        "\n",
        "\n",
        "np.outer(np.arange(2)+1, b)\n"
      ],
      "execution_count": 0,
      "outputs": []
    },
    {
      "cell_type": "markdown",
      "metadata": {
        "id": "vyO3Cjhsph0j",
        "colab_type": "text"
      },
      "source": [
        "Tensor contraction:"
      ]
    },
    {
      "cell_type": "code",
      "metadata": {
        "id": "lu4FU37xpj9v",
        "colab_type": "code",
        "colab": {}
      },
      "source": [
        "a = np.arange(60.).reshape(3,4,5)\n",
        "b = np.arange(24.).reshape(4,3,2)\n",
        "np.einsum('ijk,jil->kl', a, b)\n"
      ],
      "execution_count": 0,
      "outputs": []
    },
    {
      "cell_type": "code",
      "metadata": {
        "id": "ZuFWjhAjp3Ph",
        "colab_type": "code",
        "colab": {}
      },
      "source": [
        "np.einsum(a, [0,1,2], b, [1,0,3], [2,3])\n"
      ],
      "execution_count": 0,
      "outputs": []
    },
    {
      "cell_type": "code",
      "metadata": {
        "id": "H2DSzU_Kp44e",
        "colab_type": "code",
        "colab": {}
      },
      "source": [
        "np.tensordot(a,b, axes=([1,0],[0,1]))"
      ],
      "execution_count": 0,
      "outputs": []
    },
    {
      "cell_type": "markdown",
      "metadata": {
        "id": "-j-Igcikp6ei",
        "colab_type": "text"
      },
      "source": [
        "Writeable returned arrays (since version 1.10.0):"
      ]
    },
    {
      "cell_type": "code",
      "metadata": {
        "id": "pzZHJxlIp_r5",
        "colab_type": "code",
        "colab": {}
      },
      "source": [
        "a = np.zeros((3, 3))\n",
        "np.einsum('ii->i', a)[:] = 1\n",
        "a"
      ],
      "execution_count": 0,
      "outputs": []
    },
    {
      "cell_type": "markdown",
      "metadata": {
        "id": "_HR9d0xCqDbP",
        "colab_type": "text"
      },
      "source": [
        "Example of ellipsis use:"
      ]
    },
    {
      "cell_type": "code",
      "metadata": {
        "id": "-Uj0Pc7tqIZf",
        "colab_type": "code",
        "colab": {}
      },
      "source": [
        "a = np.arange(6).reshape((3,2))\n",
        "b = np.arange(12).reshape((4,3))\n",
        "np.einsum('ki,jk->ij', a, b)"
      ],
      "execution_count": 0,
      "outputs": []
    },
    {
      "cell_type": "code",
      "metadata": {
        "id": "l7Jlj_sQqLZZ",
        "colab_type": "code",
        "colab": {}
      },
      "source": [
        "np.einsum('ki,...k->i...', a, b)"
      ],
      "execution_count": 0,
      "outputs": []
    },
    {
      "cell_type": "code",
      "metadata": {
        "id": "arApoCg-qNsV",
        "colab_type": "code",
        "colab": {}
      },
      "source": [
        "np.einsum('k...,jk', a, b)"
      ],
      "execution_count": 0,
      "outputs": []
    },
    {
      "cell_type": "code",
      "metadata": {
        "id": "pJg-StwLqOqY",
        "colab_type": "code",
        "colab": {}
      },
      "source": [
        ""
      ],
      "execution_count": 0,
      "outputs": []
    },
    {
      "cell_type": "markdown",
      "metadata": {
        "id": "25R7cRijqUQJ",
        "colab_type": "text"
      },
      "source": [
        "Chained array operations. For more complicated contractions, speed ups might be achieved by repeatedly computing a ‘greedy’ path or pre-computing the ‘optimal’ path and repeatedly applying it, using an einsum_path insertion (since version 1.12.0). Performance improvements can be particularly significant with larger arrays:"
      ]
    },
    {
      "cell_type": "code",
      "metadata": {
        "id": "XPu3YmqGqb4j",
        "colab_type": "code",
        "colab": {}
      },
      "source": [
        "a = np.ones(64).reshape(2,4,8)\n"
      ],
      "execution_count": 0,
      "outputs": []
    },
    {
      "cell_type": "code",
      "metadata": {
        "id": "iGL--Tzqqln7",
        "colab_type": "code",
        "colab": {}
      },
      "source": [
        "for iteration in range(500):\n",
        "    _ = np.einsum('ijk,ilm,njm,nlk,abc->',a,a,a,a,a)"
      ],
      "execution_count": 0,
      "outputs": []
    },
    {
      "cell_type": "code",
      "metadata": {
        "id": "8Pt2k5I2qsrX",
        "colab_type": "code",
        "colab": {}
      },
      "source": [
        "for iteration in range(500):\n",
        "    _ = np.einsum('ijk,ilm,njm,nlk,abc->',a,a,a,a,a, optimize='optimal')"
      ],
      "execution_count": 0,
      "outputs": []
    },
    {
      "cell_type": "code",
      "metadata": {
        "id": "uevwhA5Sqtru",
        "colab_type": "code",
        "colab": {}
      },
      "source": [
        "for iteration in range(500):\n",
        "    _ = np.einsum('ijk,ilm,njm,nlk,abc->',a,a,a,a,a, optimize='greedy')"
      ],
      "execution_count": 0,
      "outputs": []
    },
    {
      "cell_type": "code",
      "metadata": {
        "id": "bGs3oxX0q1mZ",
        "colab_type": "code",
        "colab": {}
      },
      "source": [
        "path = np.einsum_path('ijk,ilm,njm,nlk,abc->',a,a,a,a,a, optimize='optimal')[0]\n",
        "for iteration in range(500):\n",
        "    _ = np.einsum('ijk,ilm,njm,nlk,abc->',a,a,a,a,a, optimize=path)"
      ],
      "execution_count": 0,
      "outputs": []
    },
    {
      "cell_type": "markdown",
      "metadata": {
        "id": "baZDT4lrq_mo",
        "colab_type": "text"
      },
      "source": [
        "numpy.einsum_path(subscripts, *operands, optimize='greedy')"
      ]
    },
    {
      "cell_type": "code",
      "metadata": {
        "id": "p_r_41v7q6KR",
        "colab_type": "code",
        "colab": {}
      },
      "source": [
        "np.random.seed(123)\n",
        "a = np.random.rand(2, 2)\n",
        "b = np.random.rand(2, 5)\n",
        "c = np.random.rand(5, 2)\n",
        "path_info = np.einsum_path('ij,jk,kl->il', a, b, c, optimize='greedy')\n",
        "print(path_info[0])"
      ],
      "execution_count": 0,
      "outputs": []
    },
    {
      "cell_type": "code",
      "metadata": {
        "id": "d79gWB_Nq97m",
        "colab_type": "code",
        "colab": {}
      },
      "source": [
        "print(path_info[1])"
      ],
      "execution_count": 0,
      "outputs": []
    },
    {
      "cell_type": "code",
      "metadata": {
        "id": "vsG1RuBLrLaX",
        "colab_type": "code",
        "colab": {}
      },
      "source": [
        "I = np.random.rand(10, 10, 10, 10)\n",
        "C = np.random.rand(10, 10)\n",
        "path_info = np.einsum_path('ea,fb,abcd,gc,hd->efgh', C, C, I, C, C,\n",
        "                           optimize='greedy')"
      ],
      "execution_count": 0,
      "outputs": []
    },
    {
      "cell_type": "code",
      "metadata": {
        "id": "746G-5LTrPPw",
        "colab_type": "code",
        "colab": {}
      },
      "source": [
        "print(path_info[0])"
      ],
      "execution_count": 0,
      "outputs": []
    },
    {
      "cell_type": "code",
      "metadata": {
        "id": "bkiNdkAMrSwV",
        "colab_type": "code",
        "colab": {}
      },
      "source": [
        "print(path_info[1]) "
      ],
      "execution_count": 0,
      "outputs": []
    }
  ]
}