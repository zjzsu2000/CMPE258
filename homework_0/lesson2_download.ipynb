{
  "nbformat": 4,
  "nbformat_minor": 0,
  "metadata": {
    "kernelspec": {
      "display_name": "Python 3",
      "language": "python",
      "name": "python3"
    },
    "colab": {
      "name": "lesson2-download.ipynb",
      "provenance": [],
      "include_colab_link": true
    }
  },
  "cells": [
    {
      "cell_type": "markdown",
      "metadata": {
        "id": "view-in-github",
        "colab_type": "text"
      },
      "source": [
        "<a href=\"https://colab.research.google.com/github/zjzsu2000/CMPE258/blob/master/homework_0/lesson2_download.ipynb\" target=\"_parent\"><img src=\"https://colab.research.google.com/assets/colab-badge.svg\" alt=\"Open In Colab\"/></a>"
      ]
    },
    {
      "cell_type": "markdown",
      "metadata": {
        "hide_input": false,
        "id": "JL54SvAYdGPQ",
        "colab_type": "text"
      },
      "source": [
        "# Creating your own dataset from Google Images\n",
        "\n",
        "*by: Francisco Ingham and Jeremy Howard. Inspired by [Adrian Rosebrock](https://www.pyimagesearch.com/2017/12/04/how-to-create-a-deep-learning-dataset-using-google-images/)*"
      ]
    },
    {
      "cell_type": "code",
      "metadata": {
        "id": "nhTvY-uJdrZI",
        "colab_type": "code",
        "outputId": "7d126d3e-728b-4432-a211-3a302d863568",
        "colab": {
          "base_uri": "https://localhost:8080/",
          "height": 53
        }
      },
      "source": [
        "  !curl -s https://course.fast.ai/setup/colab | bash"
      ],
      "execution_count": 5,
      "outputs": [
        {
          "output_type": "stream",
          "text": [
            "Updating fastai...\n",
            "Done.\n"
          ],
          "name": "stdout"
        }
      ]
    },
    {
      "cell_type": "code",
      "metadata": {
        "id": "K4J81oR7duKI",
        "colab_type": "code",
        "colab": {}
      },
      "source": [
        "from google.colab import drive\n",
        "drive.mount('/content/gdrive', force_remount=True)\n",
        "root_dir = \"/content/gdrive/My Drive/\"\n",
        "base_dir = root_dir + 'fastai-v3/'"
      ],
      "execution_count": 0,
      "outputs": []
    },
    {
      "cell_type": "markdown",
      "metadata": {
        "hide_input": true,
        "id": "K4J3o9m5dGPX",
        "colab_type": "text"
      },
      "source": [
        "In this tutorial we will see how to easily create an image dataset through Google Images. **Note**: You will have to repeat these steps for any new category you want to Google (e.g once for dogs and once for cats)."
      ]
    },
    {
      "cell_type": "code",
      "metadata": {
        "hide_input": false,
        "id": "QZbk6UdGdGPZ",
        "colab_type": "code",
        "colab": {}
      },
      "source": [
        "from fastai.vision import *"
      ],
      "execution_count": 0,
      "outputs": []
    },
    {
      "cell_type": "markdown",
      "metadata": {
        "id": "D3v7DyYrdGPe",
        "colab_type": "text"
      },
      "source": [
        "## Get a list of URLs"
      ]
    },
    {
      "cell_type": "markdown",
      "metadata": {
        "id": "veFMUy0ZdGPf",
        "colab_type": "text"
      },
      "source": [
        "### Search and scroll"
      ]
    },
    {
      "cell_type": "markdown",
      "metadata": {
        "id": "i2piibR1dGPg",
        "colab_type": "text"
      },
      "source": [
        "Go to [Google Images](http://images.google.com) and search for the images you are interested in. The more specific you are in your Google Search, the better the results and the less manual pruning you will have to do.\n",
        "\n",
        "Scroll down until you've seen all the images you want to download, or until you see a button that says 'Show more results'. All the images you scrolled past are now available to download. To get more, click on the button, and continue scrolling. The maximum number of images Google Images shows is 700.\n",
        "\n",
        "It is a good idea to put things you want to exclude into the search query, for instance if you are searching for the Eurasian wolf, \"canis lupus lupus\", it might be a good idea to exclude other variants:\n",
        "\n",
        "    \"canis lupus lupus\" -dog -arctos -familiaris -baileyi -occidentalis\n",
        "\n",
        "You can also limit your results to show only photos by clicking on Tools and selecting Photos from the Type dropdown."
      ]
    },
    {
      "cell_type": "markdown",
      "metadata": {
        "id": "LZIP4u5TdGPh",
        "colab_type": "text"
      },
      "source": [
        "### Download into file"
      ]
    },
    {
      "cell_type": "markdown",
      "metadata": {
        "id": "YMplZRNNdGPj",
        "colab_type": "text"
      },
      "source": [
        "Now you must run some Javascript code in your browser which will save the URLs of all the images you want for you dataset.\n",
        "\n",
        "In Google Chrome press <kbd>Ctrl</kbd><kbd>Shift</kbd><kbd>j</kbd> on Windows/Linux and <kbd>Cmd</kbd><kbd>Opt</kbd><kbd>j</kbd> on macOS, and a small window the javascript 'Console' will appear. In Firefox press <kbd>Ctrl</kbd><kbd>Shift</kbd><kbd>k</kbd> on Windows/Linux or <kbd>Cmd</kbd><kbd>Opt</kbd><kbd>k</kbd> on macOS. That is where you will paste the JavaScript commands.\n",
        "\n",
        "You will need to get the urls of each of the images. Before running the following commands, you may want to disable ad blocking extensions (uBlock, AdBlockPlus etc.) in Chrome. Otherwise the window.open() command doesn't work. Then you can run the following commands:\n",
        "\n",
        "```javascript\n",
        "urls=Array.from(document.querySelectorAll('.rg_i')).map(el=> el.hasAttribute('data-src')?el.getAttribute('data-src'):el.getAttribute('data-iurl'));\n",
        "window.open('data:text/csv;charset=utf-8,' + escape(urls.join('\\n')));\n",
        "```"
      ]
    },
    {
      "cell_type": "markdown",
      "metadata": {
        "id": "zIRWzTEJdGPl",
        "colab_type": "text"
      },
      "source": [
        "### Create directory and upload urls file into your server"
      ]
    },
    {
      "cell_type": "markdown",
      "metadata": {
        "id": "ZmgpJb-idGPm",
        "colab_type": "text"
      },
      "source": [
        "Choose an appropriate name for your labeled images. You can run these steps multiple times to create different labels."
      ]
    },
    {
      "cell_type": "code",
      "metadata": {
        "id": "V-kSfXLNdGPn",
        "colab_type": "code",
        "colab": {}
      },
      "source": [
        "folder = 'black'\n",
        "file = 'urls_black.csv'"
      ],
      "execution_count": 0,
      "outputs": []
    },
    {
      "cell_type": "code",
      "metadata": {
        "id": "6a8dDIFwdGPr",
        "colab_type": "code",
        "colab": {}
      },
      "source": [
        "folder = 'teddys'\n",
        "file = 'urls_teddys.csv'"
      ],
      "execution_count": 0,
      "outputs": []
    },
    {
      "cell_type": "code",
      "metadata": {
        "id": "Ik53q1cfdGPu",
        "colab_type": "code",
        "colab": {}
      },
      "source": [
        "folder = 'grizzly'\n",
        "file = 'urls_grizzly.csv'"
      ],
      "execution_count": 0,
      "outputs": []
    },
    {
      "cell_type": "markdown",
      "metadata": {
        "id": "qYfXR5xrdGPy",
        "colab_type": "text"
      },
      "source": [
        "You will need to run this cell once per each category."
      ]
    },
    {
      "cell_type": "code",
      "metadata": {
        "id": "urYGXRTLdGPz",
        "colab_type": "code",
        "colab": {}
      },
      "source": [
        "path = Path(base_dir + 'data/bears')\n",
        "dest = path/folder\n",
        "dest.mkdir(parents=True, exist_ok=True)"
      ],
      "execution_count": 0,
      "outputs": []
    },
    {
      "cell_type": "code",
      "metadata": {
        "id": "LdTNywAvdGP4",
        "colab_type": "code",
        "colab": {}
      },
      "source": [
        "path.ls()"
      ],
      "execution_count": 0,
      "outputs": []
    },
    {
      "cell_type": "markdown",
      "metadata": {
        "id": "0YXPLbU4dGP7",
        "colab_type": "text"
      },
      "source": [
        "Finally, upload your urls file. You just need to press 'Upload' in your working directory and select your file, then click 'Upload' for each of the displayed files.\n",
        "\n",
        "![uploaded file](https://github.com/fastai/course-v3/blob/master/nbs/dl1/images/download_images/upload.png?raw=1)"
      ]
    },
    {
      "cell_type": "markdown",
      "metadata": {
        "id": "ARWs3Ks9dGP8",
        "colab_type": "text"
      },
      "source": [
        "## Download images"
      ]
    },
    {
      "cell_type": "markdown",
      "metadata": {
        "id": "Y1MLeP2jdGP9",
        "colab_type": "text"
      },
      "source": [
        "Now you will need to download your images from their respective urls.\n",
        "\n",
        "fast.ai has a function that allows you to do just that. You just have to specify the urls filename as well as the destination folder and this function will download and save all images that can be opened. If they have some problem in being opened, they will not be saved.\n",
        "\n",
        "Let's download our images! Notice you can choose a maximum number of images to be downloaded. In this case we will not download all the urls.\n",
        "\n",
        "You will need to run this line once for every category."
      ]
    },
    {
      "cell_type": "code",
      "metadata": {
        "id": "LmTB0XQXdGP_",
        "colab_type": "code",
        "colab": {}
      },
      "source": [
        "classes = ['teddys','grizzly','black']"
      ],
      "execution_count": 0,
      "outputs": []
    },
    {
      "cell_type": "code",
      "metadata": {
        "id": "d96xhaiYdGQC",
        "colab_type": "code",
        "colab": {}
      },
      "source": [
        "download_images(path/file, dest, max_pics=200)"
      ],
      "execution_count": 0,
      "outputs": []
    },
    {
      "cell_type": "code",
      "metadata": {
        "id": "9eYaccVMdGQF",
        "colab_type": "code",
        "colab": {}
      },
      "source": [
        "# If you have problems download, try with `max_workers=0` to see exceptions:\n",
        "download_images(path/file, dest, max_pics=20, max_workers=0)"
      ],
      "execution_count": 0,
      "outputs": []
    },
    {
      "cell_type": "markdown",
      "metadata": {
        "id": "57pRgBDpdGQI",
        "colab_type": "text"
      },
      "source": [
        "Then we can remove any images that can't be opened:"
      ]
    },
    {
      "cell_type": "code",
      "metadata": {
        "id": "etwXVKmjdGQJ",
        "colab_type": "code",
        "colab": {}
      },
      "source": [
        "for c in classes:\n",
        "    print(c)\n",
        "    verify_images(path/c, delete=True, max_size=500)"
      ],
      "execution_count": 0,
      "outputs": []
    },
    {
      "cell_type": "markdown",
      "metadata": {
        "id": "0oJex9hfdGQL",
        "colab_type": "text"
      },
      "source": [
        "## View data"
      ]
    },
    {
      "cell_type": "code",
      "metadata": {
        "id": "MVO7oom8dGQM",
        "colab_type": "code",
        "colab": {}
      },
      "source": [
        "np.random.seed(42)\n",
        "data = ImageDataBunch.from_folder(path, train=\".\", valid_pct=0.2,\n",
        "        ds_tfms=get_transforms(), size=224, num_workers=4).normalize(imagenet_stats)"
      ],
      "execution_count": 0,
      "outputs": []
    },
    {
      "cell_type": "code",
      "metadata": {
        "id": "fUVXY_wFdGQP",
        "colab_type": "code",
        "colab": {}
      },
      "source": [
        "# If you already cleaned your data, run this cell instead of the one before\n",
        "# np.random.seed(42)\n",
        "# data = ImageDataBunch.from_csv(path, folder=\".\", valid_pct=0.2, csv_labels='cleaned.csv',\n",
        "#         ds_tfms=get_transforms(), size=224, num_workers=4).normalize(imagenet_stats)"
      ],
      "execution_count": 0,
      "outputs": []
    },
    {
      "cell_type": "markdown",
      "metadata": {
        "id": "rEsMli4wdGQS",
        "colab_type": "text"
      },
      "source": [
        "Good! Let's take a look at some of our pictures then."
      ]
    },
    {
      "cell_type": "code",
      "metadata": {
        "id": "THO2oAaTdGQV",
        "colab_type": "code",
        "colab": {}
      },
      "source": [
        "data.classes"
      ],
      "execution_count": 0,
      "outputs": []
    },
    {
      "cell_type": "code",
      "metadata": {
        "id": "D5p82Mn_dGQY",
        "colab_type": "code",
        "colab": {}
      },
      "source": [
        "data.show_batch(rows=3, figsize=(7,8))"
      ],
      "execution_count": 0,
      "outputs": []
    },
    {
      "cell_type": "code",
      "metadata": {
        "id": "zEhlsjfmdGQc",
        "colab_type": "code",
        "colab": {}
      },
      "source": [
        "data.classes, data.c, len(data.train_ds), len(data.valid_ds)"
      ],
      "execution_count": 0,
      "outputs": []
    },
    {
      "cell_type": "markdown",
      "metadata": {
        "id": "bveqP2nbdGQf",
        "colab_type": "text"
      },
      "source": [
        "## Train model"
      ]
    },
    {
      "cell_type": "code",
      "metadata": {
        "id": "rtTQET1ndGQg",
        "colab_type": "code",
        "colab": {}
      },
      "source": [
        "learn = cnn_learner(data, models.resnet34, metrics=error_rate)"
      ],
      "execution_count": 0,
      "outputs": []
    },
    {
      "cell_type": "code",
      "metadata": {
        "id": "uMH7LbMTdGQi",
        "colab_type": "code",
        "colab": {}
      },
      "source": [
        "learn.fit_one_cycle(4)"
      ],
      "execution_count": 0,
      "outputs": []
    },
    {
      "cell_type": "code",
      "metadata": {
        "id": "tS0l2koGdGQl",
        "colab_type": "code",
        "colab": {}
      },
      "source": [
        "learn.save('stage-1')"
      ],
      "execution_count": 0,
      "outputs": []
    },
    {
      "cell_type": "code",
      "metadata": {
        "id": "Ohcp3so9dGQo",
        "colab_type": "code",
        "colab": {}
      },
      "source": [
        "learn.unfreeze()"
      ],
      "execution_count": 0,
      "outputs": []
    },
    {
      "cell_type": "code",
      "metadata": {
        "id": "c5SB0l2UdGQq",
        "colab_type": "code",
        "colab": {}
      },
      "source": [
        "learn.lr_find()"
      ],
      "execution_count": 0,
      "outputs": []
    },
    {
      "cell_type": "code",
      "metadata": {
        "id": "73UzFnmidGQt",
        "colab_type": "code",
        "colab": {}
      },
      "source": [
        "# If the plot is not showing try to give a start and end learning rate\n",
        "# learn.lr_find(start_lr=1e-5, end_lr=1e-1)\n",
        "learn.recorder.plot()"
      ],
      "execution_count": 0,
      "outputs": []
    },
    {
      "cell_type": "code",
      "metadata": {
        "id": "U_nqM4MvdGQw",
        "colab_type": "code",
        "colab": {}
      },
      "source": [
        "learn.fit_one_cycle(2, max_lr=slice(3e-5,3e-4))"
      ],
      "execution_count": 0,
      "outputs": []
    },
    {
      "cell_type": "code",
      "metadata": {
        "id": "YiO8dyp_dGQy",
        "colab_type": "code",
        "colab": {}
      },
      "source": [
        "learn.save('stage-2')"
      ],
      "execution_count": 0,
      "outputs": []
    },
    {
      "cell_type": "markdown",
      "metadata": {
        "id": "MpehQNhedGQ0",
        "colab_type": "text"
      },
      "source": [
        "## Interpretation"
      ]
    },
    {
      "cell_type": "code",
      "metadata": {
        "id": "TZNnGrbsdGQ1",
        "colab_type": "code",
        "colab": {}
      },
      "source": [
        "learn.load('stage-2');"
      ],
      "execution_count": 0,
      "outputs": []
    },
    {
      "cell_type": "code",
      "metadata": {
        "id": "WReyETKDdGQ3",
        "colab_type": "code",
        "colab": {}
      },
      "source": [
        "interp = ClassificationInterpretation.from_learner(learn)"
      ],
      "execution_count": 0,
      "outputs": []
    },
    {
      "cell_type": "code",
      "metadata": {
        "id": "wM-PmMX4dGQ6",
        "colab_type": "code",
        "colab": {}
      },
      "source": [
        "interp.plot_confusion_matrix()"
      ],
      "execution_count": 0,
      "outputs": []
    },
    {
      "cell_type": "markdown",
      "metadata": {
        "id": "dOweazyGdGRD",
        "colab_type": "text"
      },
      "source": [
        "## Cleaning Up\n",
        "\n",
        "Some of our top losses aren't due to bad performance by our model. There are images in our data set that shouldn't be.\n",
        "\n",
        "Using the `ImageCleaner` widget from `fastai.widgets` we can prune our top losses, removing photos that don't belong."
      ]
    },
    {
      "cell_type": "code",
      "metadata": {
        "id": "ur3ctCe8dGRF",
        "colab_type": "code",
        "colab": {}
      },
      "source": [
        "from fastai.widgets import *"
      ],
      "execution_count": 0,
      "outputs": []
    },
    {
      "cell_type": "markdown",
      "metadata": {
        "id": "B77-jThWdGRJ",
        "colab_type": "text"
      },
      "source": [
        "First we need to get the file paths from our top_losses. We can do this with `.from_toplosses`. We then feed the top losses indexes and corresponding dataset to `ImageCleaner`.\n",
        "\n",
        "Notice that the widget will not delete images directly from disk but it will create a new csv file `cleaned.csv` from where you can create a new ImageDataBunch with the corrected labels to continue training your model."
      ]
    },
    {
      "cell_type": "markdown",
      "metadata": {
        "id": "Z-7aY8mvdGRL",
        "colab_type": "text"
      },
      "source": [
        "In order to clean the entire set of images, we need to create a new dataset without the split. The video lecture demostrated the use of the `ds_type` param which no longer has any effect. See [the thread](https://forums.fast.ai/t/duplicate-widget/30975/10) for more details."
      ]
    },
    {
      "cell_type": "code",
      "metadata": {
        "id": "-m_xQ8TGdGRL",
        "colab_type": "code",
        "colab": {}
      },
      "source": [
        "db = (ImageList.from_folder(path)\n",
        "                   .split_none()\n",
        "                   .label_from_folder()\n",
        "                   .transform(get_transforms(), size=224)\n",
        "                   .databunch()\n",
        "     )"
      ],
      "execution_count": 0,
      "outputs": []
    },
    {
      "cell_type": "code",
      "metadata": {
        "id": "46D10yFBdGRO",
        "colab_type": "code",
        "colab": {}
      },
      "source": [
        "# If you already cleaned your data using indexes from `from_toplosses`,\n",
        "# run this cell instead of the one before to proceed with removing duplicates.\n",
        "# Otherwise all the results of the previous step would be overwritten by\n",
        "# the new run of `ImageCleaner`.\n",
        "\n",
        "# db = (ImageList.from_csv(path, 'cleaned.csv', folder='.')\n",
        "#                    .split_none()\n",
        "#                    .label_from_df()\n",
        "#                    .transform(get_transforms(), size=224)\n",
        "#                    .databunch()\n",
        "#      )"
      ],
      "execution_count": 0,
      "outputs": []
    },
    {
      "cell_type": "markdown",
      "metadata": {
        "id": "4Jj8RZH1dGRT",
        "colab_type": "text"
      },
      "source": [
        "Then we create a new learner to use our new databunch with all the images."
      ]
    },
    {
      "cell_type": "code",
      "metadata": {
        "id": "TjcQBEiLdGRV",
        "colab_type": "code",
        "colab": {}
      },
      "source": [
        "learn_cln = cnn_learner(db, models.resnet34, metrics=error_rate)\n",
        "\n",
        "learn_cln.load('stage-2');"
      ],
      "execution_count": 0,
      "outputs": []
    },
    {
      "cell_type": "code",
      "metadata": {
        "id": "CfrUq2y5dGRa",
        "colab_type": "code",
        "colab": {}
      },
      "source": [
        "ds, idxs = DatasetFormatter().from_toplosses(learn_cln)"
      ],
      "execution_count": 0,
      "outputs": []
    },
    {
      "cell_type": "markdown",
      "metadata": {
        "id": "XEjgOpXhdGRd",
        "colab_type": "text"
      },
      "source": [
        "Make sure you're running this notebook in Jupyter Notebook, not Jupyter Lab. That is accessible via [/tree](/tree), not [/lab](/lab). Running the `ImageCleaner` widget in Jupyter Lab is [not currently supported](https://github.com/fastai/fastai/issues/1539)."
      ]
    },
    {
      "cell_type": "code",
      "metadata": {
        "id": "H0Wi5pBDdGRe",
        "colab_type": "code",
        "colab": {}
      },
      "source": [
        "# Don't run this in google colab or any other instances running jupyter lab.\n",
        "# If you do run this on Jupyter Lab, you need to restart your runtime and\n",
        "# runtime state including all local variables will be lost.\n",
        "ImageCleaner(ds, idxs, path)"
      ],
      "execution_count": 0,
      "outputs": []
    },
    {
      "cell_type": "markdown",
      "metadata": {
        "id": "X2a0KVzmdGRj",
        "colab_type": "text"
      },
      "source": [
        "\n",
        "If the code above does not show any GUI(contains images and buttons) rendered by widgets but only text output, that may caused by the configuration problem of ipywidgets. Try the solution in this [link](https://github.com/fastai/fastai/issues/1539#issuecomment-505999861) to solve it.\n"
      ]
    },
    {
      "cell_type": "markdown",
      "metadata": {
        "id": "oZarnZy4dGRj",
        "colab_type": "text"
      },
      "source": [
        "Flag photos for deletion by clicking 'Delete'. Then click 'Next Batch' to delete flagged photos and keep the rest in that row. `ImageCleaner` will show you a new row of images until there are no more to show. In this case, the widget will show you images until there are none left from `top_losses.ImageCleaner(ds, idxs)`"
      ]
    },
    {
      "cell_type": "markdown",
      "metadata": {
        "id": "b1AZFoqYdGRk",
        "colab_type": "text"
      },
      "source": [
        "You can also find duplicates in your dataset and delete them! To do this, you need to run `.from_similars` to get the potential duplicates' ids and then run `ImageCleaner` with `duplicates=True`. The API works in a similar way as with misclassified images: just choose the ones you want to delete and click 'Next Batch' until there are no more images left."
      ]
    },
    {
      "cell_type": "markdown",
      "metadata": {
        "id": "rwb-ir_EdGRl",
        "colab_type": "text"
      },
      "source": [
        "Make sure to recreate the databunch and `learn_cln` from the `cleaned.csv` file. Otherwise the file would be overwritten from scratch, losing all the results from cleaning the data from toplosses."
      ]
    },
    {
      "cell_type": "code",
      "metadata": {
        "id": "AYzCrGgkdGRl",
        "colab_type": "code",
        "colab": {}
      },
      "source": [
        "ds, idxs = DatasetFormatter().from_similars(learn_cln)"
      ],
      "execution_count": 0,
      "outputs": []
    },
    {
      "cell_type": "code",
      "metadata": {
        "id": "XDSJ0VVCdGRs",
        "colab_type": "code",
        "colab": {}
      },
      "source": [
        "ImageCleaner(ds, idxs, path, duplicates=True)"
      ],
      "execution_count": 0,
      "outputs": []
    },
    {
      "cell_type": "markdown",
      "metadata": {
        "id": "KKsYaNE_dGRu",
        "colab_type": "text"
      },
      "source": [
        "Remember to recreate your ImageDataBunch from your `cleaned.csv` to include the changes you made in your data!"
      ]
    },
    {
      "cell_type": "markdown",
      "metadata": {
        "id": "4WVmCqIEdGRv",
        "colab_type": "text"
      },
      "source": [
        "## Putting your model in production"
      ]
    },
    {
      "cell_type": "markdown",
      "metadata": {
        "id": "ktEAXcVadGRw",
        "colab_type": "text"
      },
      "source": [
        "First thing first, let's export the content of our `Learner` object for production:"
      ]
    },
    {
      "cell_type": "code",
      "metadata": {
        "id": "_FvbxNu4dGRw",
        "colab_type": "code",
        "colab": {}
      },
      "source": [
        "learn.export()"
      ],
      "execution_count": 0,
      "outputs": []
    },
    {
      "cell_type": "markdown",
      "metadata": {
        "id": "19Z9704cdGR0",
        "colab_type": "text"
      },
      "source": [
        "This will create a file named 'export.pkl' in the directory where we were working that contains everything we need to deploy our model (the model, the weights but also some metadata like the classes or the transforms/normalization used)."
      ]
    },
    {
      "cell_type": "markdown",
      "metadata": {
        "id": "vgv9jVRcdGR2",
        "colab_type": "text"
      },
      "source": [
        "You probably want to use CPU for inference, except at massive scale (and you almost certainly don't need to train in real-time). If you don't have a GPU that happens automatically. You can test your model on CPU like so:"
      ]
    },
    {
      "cell_type": "code",
      "metadata": {
        "id": "AmzRZhmDdGR3",
        "colab_type": "code",
        "colab": {}
      },
      "source": [
        "defaults.device = torch.device('cpu')"
      ],
      "execution_count": 0,
      "outputs": []
    },
    {
      "cell_type": "code",
      "metadata": {
        "id": "OHOOutO9dGR8",
        "colab_type": "code",
        "colab": {}
      },
      "source": [
        "img = open_image(path/'black'/'00000021.jpg')\n",
        "img"
      ],
      "execution_count": 0,
      "outputs": []
    },
    {
      "cell_type": "markdown",
      "metadata": {
        "id": "uezaFjpVdGR-",
        "colab_type": "text"
      },
      "source": [
        "We create our `Learner` in production enviromnent like this, just make sure that `path` contains the file 'export.pkl' from before."
      ]
    },
    {
      "cell_type": "code",
      "metadata": {
        "id": "nGOSPT-bdGR_",
        "colab_type": "code",
        "colab": {}
      },
      "source": [
        "learn = load_learner(path)"
      ],
      "execution_count": 0,
      "outputs": []
    },
    {
      "cell_type": "code",
      "metadata": {
        "id": "1_XkXNBhdGSB",
        "colab_type": "code",
        "colab": {}
      },
      "source": [
        "pred_class,pred_idx,outputs = learn.predict(img)\n",
        "pred_class"
      ],
      "execution_count": 0,
      "outputs": []
    },
    {
      "cell_type": "markdown",
      "metadata": {
        "id": "v42N0j4WdGSE",
        "colab_type": "text"
      },
      "source": [
        "So you might create a route something like this ([thanks](https://github.com/simonw/cougar-or-not) to Simon Willison for the structure of this code):\n",
        "\n",
        "```python\n",
        "@app.route(\"/classify-url\", methods=[\"GET\"])\n",
        "async def classify_url(request):\n",
        "    bytes = await get_bytes(request.query_params[\"url\"])\n",
        "    img = open_image(BytesIO(bytes))\n",
        "    _,_,losses = learner.predict(img)\n",
        "    return JSONResponse({\n",
        "        \"predictions\": sorted(\n",
        "            zip(cat_learner.data.classes, map(float, losses)),\n",
        "            key=lambda p: p[1],\n",
        "            reverse=True\n",
        "        )\n",
        "    })\n",
        "```\n",
        "\n",
        "(This example is for the [Starlette](https://www.starlette.io/) web app toolkit.)"
      ]
    },
    {
      "cell_type": "markdown",
      "metadata": {
        "id": "7NQTqPdHdGSE",
        "colab_type": "text"
      },
      "source": [
        "## Things that can go wrong"
      ]
    },
    {
      "cell_type": "markdown",
      "metadata": {
        "id": "EJ3xG7zTdGSF",
        "colab_type": "text"
      },
      "source": [
        "- Most of the time things will train fine with the defaults\n",
        "- There's not much you really need to tune (despite what you've heard!)\n",
        "- Most likely are\n",
        "  - Learning rate\n",
        "  - Number of epochs"
      ]
    },
    {
      "cell_type": "markdown",
      "metadata": {
        "id": "izW_3p2VdGSF",
        "colab_type": "text"
      },
      "source": [
        "### Learning rate (LR) too high"
      ]
    },
    {
      "cell_type": "code",
      "metadata": {
        "id": "Uo6rR8TUdGSH",
        "colab_type": "code",
        "colab": {}
      },
      "source": [
        "learn = cnn_learner(data, models.resnet34, metrics=error_rate)"
      ],
      "execution_count": 0,
      "outputs": []
    },
    {
      "cell_type": "code",
      "metadata": {
        "id": "woRz2BwQdGSL",
        "colab_type": "code",
        "colab": {}
      },
      "source": [
        "learn.fit_one_cycle(1, max_lr=0.5)"
      ],
      "execution_count": 0,
      "outputs": []
    },
    {
      "cell_type": "markdown",
      "metadata": {
        "id": "GeFfv7crdGSP",
        "colab_type": "text"
      },
      "source": [
        "### Learning rate (LR) too low"
      ]
    },
    {
      "cell_type": "code",
      "metadata": {
        "id": "Tx8MubrSdGSP",
        "colab_type": "code",
        "colab": {}
      },
      "source": [
        "learn = cnn_learner(data, models.resnet34, metrics=error_rate)"
      ],
      "execution_count": 0,
      "outputs": []
    },
    {
      "cell_type": "markdown",
      "metadata": {
        "id": "RF3fq4GwdGSR",
        "colab_type": "text"
      },
      "source": [
        "Previously we had this result:\n",
        "\n",
        "```\n",
        "Total time: 00:57\n",
        "epoch  train_loss  valid_loss  error_rate\n",
        "1      1.030236    0.179226    0.028369    (00:14)\n",
        "2      0.561508    0.055464    0.014184    (00:13)\n",
        "3      0.396103    0.053801    0.014184    (00:13)\n",
        "4      0.316883    0.050197    0.021277    (00:15)\n",
        "```"
      ]
    },
    {
      "cell_type": "code",
      "metadata": {
        "id": "JhgEvEAMdGSR",
        "colab_type": "code",
        "colab": {}
      },
      "source": [
        "learn.fit_one_cycle(5, max_lr=1e-5)"
      ],
      "execution_count": 0,
      "outputs": []
    },
    {
      "cell_type": "code",
      "metadata": {
        "id": "9LXjsv3VdGST",
        "colab_type": "code",
        "colab": {}
      },
      "source": [
        "learn.recorder.plot_losses()"
      ],
      "execution_count": 0,
      "outputs": []
    },
    {
      "cell_type": "markdown",
      "metadata": {
        "id": "mEGgS6sFdGSU",
        "colab_type": "text"
      },
      "source": [
        "As well as taking a really long time, it's getting too many looks at each image, so may overfit."
      ]
    },
    {
      "cell_type": "markdown",
      "metadata": {
        "id": "a9WCqv1qdGSV",
        "colab_type": "text"
      },
      "source": [
        "### Too few epochs"
      ]
    },
    {
      "cell_type": "code",
      "metadata": {
        "id": "NVFQPVJcdGSW",
        "colab_type": "code",
        "colab": {}
      },
      "source": [
        "learn = cnn_learner(data, models.resnet34, metrics=error_rate, pretrained=False)"
      ],
      "execution_count": 0,
      "outputs": []
    },
    {
      "cell_type": "code",
      "metadata": {
        "id": "4-l4qUqwdGSX",
        "colab_type": "code",
        "colab": {}
      },
      "source": [
        "learn.fit_one_cycle(1)"
      ],
      "execution_count": 0,
      "outputs": []
    },
    {
      "cell_type": "markdown",
      "metadata": {
        "id": "kFKd-VS4dGSZ",
        "colab_type": "text"
      },
      "source": [
        "### Too many epochs"
      ]
    },
    {
      "cell_type": "code",
      "metadata": {
        "id": "07NHFrqhdGSa",
        "colab_type": "code",
        "colab": {}
      },
      "source": [
        "np.random.seed(42)\n",
        "data = ImageDataBunch.from_folder(path, train=\".\", valid_pct=0.9, bs=32, \n",
        "        ds_tfms=get_transforms(do_flip=False, max_rotate=0, max_zoom=1, max_lighting=0, max_warp=0\n",
        "                              ),size=224, num_workers=4).normalize(imagenet_stats)"
      ],
      "execution_count": 0,
      "outputs": []
    },
    {
      "cell_type": "code",
      "metadata": {
        "id": "88_9w6-ldGSd",
        "colab_type": "code",
        "colab": {}
      },
      "source": [
        "learn = cnn_learner(data, models.resnet50, metrics=error_rate, ps=0, wd=0)\n",
        "learn.unfreeze()"
      ],
      "execution_count": 0,
      "outputs": []
    },
    {
      "cell_type": "code",
      "metadata": {
        "id": "FViOZN86dGSg",
        "colab_type": "code",
        "colab": {}
      },
      "source": [
        "learn.fit_one_cycle(40, slice(1e-6,1e-4))"
      ],
      "execution_count": 0,
      "outputs": []
    }
  ]
}