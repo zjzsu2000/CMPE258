{
  "nbformat": 4,
  "nbformat_minor": 0,
  "metadata": {
    "anaconda-cloud": {},
    "kernelspec": {
      "display_name": "Python 3",
      "language": "python",
      "name": "python3"
    },
    "language_info": {
      "codemirror_mode": {
        "name": "ipython",
        "version": 3
      },
      "file_extension": ".py",
      "mimetype": "text/x-python",
      "name": "python",
      "nbconvert_exporter": "python",
      "pygments_lexer": "ipython3",
      "version": "3.5.1"
    },
    "colab": {
      "name": "02.02-The-Basics-Of-NumPy-Arrays.ipynb",
      "provenance": [],
      "include_colab_link": true
    }
  },
  "cells": [
    {
      "cell_type": "markdown",
      "metadata": {
        "id": "view-in-github",
        "colab_type": "text"
      },
      "source": [
        "<a href=\"https://colab.research.google.com/github/zjzsu2000/CMPE258/blob/master/homework_0/02_02_The_Basics_Of_NumPy_Arrays.ipynb\" target=\"_parent\"><img src=\"https://colab.research.google.com/assets/colab-badge.svg\" alt=\"Open In Colab\"/></a>"
      ]
    },
    {
      "cell_type": "markdown",
      "metadata": {
        "id": "foa4XigFrY3m",
        "colab_type": "text"
      },
      "source": [
        "<!--BOOK_INFORMATION-->\n",
        "<img align=\"left\" style=\"padding-right:10px;\" src=\"https://github.com/jakevdp/PythonDataScienceHandbook/blob/master/notebooks/figures/PDSH-cover-small.png?raw=1\">\n",
        "\n",
        "*This notebook contains an excerpt from the [Python Data Science Handbook](http://shop.oreilly.com/product/0636920034919.do) by Jake VanderPlas; the content is available [on GitHub](https://github.com/jakevdp/PythonDataScienceHandbook).*\n",
        "\n",
        "*The text is released under the [CC-BY-NC-ND license](https://creativecommons.org/licenses/by-nc-nd/3.0/us/legalcode), and code is released under the [MIT license](https://opensource.org/licenses/MIT). If you find this content useful, please consider supporting the work by [buying the book](http://shop.oreilly.com/product/0636920034919.do)!*"
      ]
    },
    {
      "cell_type": "markdown",
      "metadata": {
        "id": "zgneHfK_rY30",
        "colab_type": "text"
      },
      "source": [
        "<!--NAVIGATION-->\n",
        "< [Understanding Data Types in Python](02.01-Understanding-Data-Types.ipynb) | [Contents](Index.ipynb) | [Computation on NumPy Arrays: Universal Functions](02.03-Computation-on-arrays-ufuncs.ipynb) >\n",
        "\n",
        "<a href=\"https://colab.research.google.com/github/jakevdp/PythonDataScienceHandbook/blob/master/notebooks/02.02-The-Basics-Of-NumPy-Arrays.ipynb\"><img align=\"left\" src=\"https://colab.research.google.com/assets/colab-badge.svg\" alt=\"Open in Colab\" title=\"Open and Execute in Google Colaboratory\"></a>\n"
      ]
    },
    {
      "cell_type": "markdown",
      "metadata": {
        "id": "d7lpsm9LrY31",
        "colab_type": "text"
      },
      "source": [
        "# The Basics of NumPy Arrays"
      ]
    },
    {
      "cell_type": "markdown",
      "metadata": {
        "id": "UeBs_XUerY33",
        "colab_type": "text"
      },
      "source": [
        "Data manipulation in Python is nearly synonymous with NumPy array manipulation: even newer tools like Pandas ([Chapter 3](03.00-Introduction-to-Pandas.ipynb)) are built around the NumPy array.\n",
        "This section will present several examples of using NumPy array manipulation to access data and subarrays, and to split, reshape, and join the arrays.\n",
        "While the types of operations shown here may seem a bit dry and pedantic, they comprise the building blocks of many other examples used throughout the book.\n",
        "Get to know them well!\n",
        "\n",
        "We'll cover a few categories of basic array manipulations here:\n",
        "\n",
        "- *Attributes of arrays*: Determining the size, shape, memory consumption, and data types of arrays\n",
        "- *Indexing of arrays*: Getting and setting the value of individual array elements\n",
        "- *Slicing of arrays*: Getting and setting smaller subarrays within a larger array\n",
        "- *Reshaping of arrays*: Changing the shape of a given array\n",
        "- *Joining and splitting of arrays*: Combining multiple arrays into one, and splitting one array into many"
      ]
    },
    {
      "cell_type": "markdown",
      "metadata": {
        "id": "vPprMhoOrY37",
        "colab_type": "text"
      },
      "source": [
        "## NumPy Array Attributes"
      ]
    },
    {
      "cell_type": "markdown",
      "metadata": {
        "id": "kfg2hYBXrY38",
        "colab_type": "text"
      },
      "source": [
        "First let's discuss some useful array attributes.\n",
        "We'll start by defining three random arrays, a one-dimensional, two-dimensional, and three-dimensional array.\n",
        "We'll use NumPy's random number generator, which we will *seed* with a set value in order to ensure that the same random arrays are generated each time this code is run:"
      ]
    },
    {
      "cell_type": "code",
      "metadata": {
        "id": "x-TrzxFmrY39",
        "colab_type": "code",
        "colab": {}
      },
      "source": [
        "import numpy as np\n",
        "np.random.seed(0)  # seed for reproducibility\n",
        "\n",
        "x1 = np.random.randint(10, size=6)  # One-dimensional array\n",
        "x2 = np.random.randint(10, size=(3, 4))  # Two-dimensional array\n",
        "x3 = np.random.randint(10, size=(3, 4, 5))  # Three-dimensional array"
      ],
      "execution_count": 0,
      "outputs": []
    },
    {
      "cell_type": "markdown",
      "metadata": {
        "id": "D_izLckRrY4D",
        "colab_type": "text"
      },
      "source": [
        "Each array has attributes ``ndim`` (the number of dimensions), ``shape`` (the size of each dimension), and ``size`` (the total size of the array):"
      ]
    },
    {
      "cell_type": "code",
      "metadata": {
        "id": "0jZvPzknrY4E",
        "colab_type": "code",
        "outputId": "3f6feb37-e401-4b59-c416-a8f1cb966322",
        "colab": {}
      },
      "source": [
        "print(\"x3 ndim: \", x3.ndim)\n",
        "print(\"x3 shape:\", x3.shape)\n",
        "print(\"x3 size: \", x3.size)"
      ],
      "execution_count": 0,
      "outputs": [
        {
          "output_type": "stream",
          "text": [
            "x3 ndim:  3\n",
            "x3 shape: (3, 4, 5)\n",
            "x3 size:  60\n"
          ],
          "name": "stdout"
        }
      ]
    },
    {
      "cell_type": "markdown",
      "metadata": {
        "id": "5Ov964GZrY4S",
        "colab_type": "text"
      },
      "source": [
        "Another useful attribute is the ``dtype``, the data type of the array (which we discussed previously in [Understanding Data Types in Python](02.01-Understanding-Data-Types.ipynb)):"
      ]
    },
    {
      "cell_type": "code",
      "metadata": {
        "id": "PXOdZMf_rY4V",
        "colab_type": "code",
        "outputId": "a3704387-ceb8-4b13-bd18-2b4065106761",
        "colab": {}
      },
      "source": [
        "print(\"dtype:\", x3.dtype)"
      ],
      "execution_count": 0,
      "outputs": [
        {
          "output_type": "stream",
          "text": [
            "dtype: int64\n"
          ],
          "name": "stdout"
        }
      ]
    },
    {
      "cell_type": "markdown",
      "metadata": {
        "id": "gK3Gi-5KrY4b",
        "colab_type": "text"
      },
      "source": [
        "Other attributes include ``itemsize``, which lists the size (in bytes) of each array element, and ``nbytes``, which lists the total size (in bytes) of the array:"
      ]
    },
    {
      "cell_type": "code",
      "metadata": {
        "id": "WbWRaUMQrY4d",
        "colab_type": "code",
        "outputId": "549a3d4d-ccab-4f3b-8afd-4ae8d2e19c3d",
        "colab": {}
      },
      "source": [
        "print(\"itemsize:\", x3.itemsize, \"bytes\")\n",
        "print(\"nbytes:\", x3.nbytes, \"bytes\")"
      ],
      "execution_count": 0,
      "outputs": [
        {
          "output_type": "stream",
          "text": [
            "itemsize: 8 bytes\n",
            "nbytes: 480 bytes\n"
          ],
          "name": "stdout"
        }
      ]
    },
    {
      "cell_type": "markdown",
      "metadata": {
        "id": "-H25OW6crY4j",
        "colab_type": "text"
      },
      "source": [
        "In general, we expect that ``nbytes`` is equal to ``itemsize`` times ``size``."
      ]
    },
    {
      "cell_type": "markdown",
      "metadata": {
        "id": "9BwNwI4srY4l",
        "colab_type": "text"
      },
      "source": [
        "## Array Indexing: Accessing Single Elements"
      ]
    },
    {
      "cell_type": "markdown",
      "metadata": {
        "id": "-vmvJ6YgrY4m",
        "colab_type": "text"
      },
      "source": [
        "If you are familiar with Python's standard list indexing, indexing in NumPy will feel quite familiar.\n",
        "In a one-dimensional array, the $i^{th}$ value (counting from zero) can be accessed by specifying the desired index in square brackets, just as with Python lists:"
      ]
    },
    {
      "cell_type": "code",
      "metadata": {
        "id": "oObIi4_4rY4o",
        "colab_type": "code",
        "outputId": "e376fc96-5aaa-4d07-fa86-15bb492a8620",
        "colab": {}
      },
      "source": [
        "x1"
      ],
      "execution_count": 0,
      "outputs": [
        {
          "output_type": "execute_result",
          "data": {
            "text/plain": [
              "array([5, 0, 3, 3, 7, 9])"
            ]
          },
          "metadata": {
            "tags": []
          },
          "execution_count": 5
        }
      ]
    },
    {
      "cell_type": "code",
      "metadata": {
        "id": "s_1D4pjlrY4x",
        "colab_type": "code",
        "outputId": "e10225fc-eebe-449a-caab-04361f90e411",
        "colab": {}
      },
      "source": [
        "x1[0]"
      ],
      "execution_count": 0,
      "outputs": [
        {
          "output_type": "execute_result",
          "data": {
            "text/plain": [
              "5"
            ]
          },
          "metadata": {
            "tags": []
          },
          "execution_count": 6
        }
      ]
    },
    {
      "cell_type": "code",
      "metadata": {
        "id": "D7odE2G4rY43",
        "colab_type": "code",
        "outputId": "beefecb5-56e4-4545-cb5c-6a34480587ef",
        "colab": {}
      },
      "source": [
        "x1[4]"
      ],
      "execution_count": 0,
      "outputs": [
        {
          "output_type": "execute_result",
          "data": {
            "text/plain": [
              "7"
            ]
          },
          "metadata": {
            "tags": []
          },
          "execution_count": 7
        }
      ]
    },
    {
      "cell_type": "markdown",
      "metadata": {
        "id": "I1UQEKJ7rY4_",
        "colab_type": "text"
      },
      "source": [
        "To index from the end of the array, you can use negative indices:"
      ]
    },
    {
      "cell_type": "code",
      "metadata": {
        "id": "LCTbfq_4rY5A",
        "colab_type": "code",
        "outputId": "65be003d-f49f-483c-c091-deef4cbde17a",
        "colab": {}
      },
      "source": [
        "x1[-1]"
      ],
      "execution_count": 0,
      "outputs": [
        {
          "output_type": "execute_result",
          "data": {
            "text/plain": [
              "9"
            ]
          },
          "metadata": {
            "tags": []
          },
          "execution_count": 8
        }
      ]
    },
    {
      "cell_type": "code",
      "metadata": {
        "id": "YUxxS-aSrY5F",
        "colab_type": "code",
        "outputId": "d354f8d9-3350-42d0-e321-e8f2fa77efd7",
        "colab": {}
      },
      "source": [
        "x1[-2]"
      ],
      "execution_count": 0,
      "outputs": [
        {
          "output_type": "execute_result",
          "data": {
            "text/plain": [
              "7"
            ]
          },
          "metadata": {
            "tags": []
          },
          "execution_count": 9
        }
      ]
    },
    {
      "cell_type": "markdown",
      "metadata": {
        "id": "n2os7mAQrY5K",
        "colab_type": "text"
      },
      "source": [
        "In a multi-dimensional array, items can be accessed using a comma-separated tuple of indices:"
      ]
    },
    {
      "cell_type": "code",
      "metadata": {
        "id": "coVLalOrrY5N",
        "colab_type": "code",
        "outputId": "8ecde0ac-f4bd-454e-b1e6-7990bd4ebffb",
        "colab": {}
      },
      "source": [
        "x2"
      ],
      "execution_count": 0,
      "outputs": [
        {
          "output_type": "execute_result",
          "data": {
            "text/plain": [
              "array([[3, 5, 2, 4],\n",
              "       [7, 6, 8, 8],\n",
              "       [1, 6, 7, 7]])"
            ]
          },
          "metadata": {
            "tags": []
          },
          "execution_count": 10
        }
      ]
    },
    {
      "cell_type": "code",
      "metadata": {
        "id": "GMMXvNekrY5Y",
        "colab_type": "code",
        "outputId": "c97da406-d576-4d17-ed77-527be7502549",
        "colab": {}
      },
      "source": [
        "x2[0, 0]"
      ],
      "execution_count": 0,
      "outputs": [
        {
          "output_type": "execute_result",
          "data": {
            "text/plain": [
              "3"
            ]
          },
          "metadata": {
            "tags": []
          },
          "execution_count": 11
        }
      ]
    },
    {
      "cell_type": "code",
      "metadata": {
        "id": "7IOkikL2rY5p",
        "colab_type": "code",
        "outputId": "05e8375d-e1f9-4fa0-a317-3b287c5d0b81",
        "colab": {}
      },
      "source": [
        "x2[2, 0]"
      ],
      "execution_count": 0,
      "outputs": [
        {
          "output_type": "execute_result",
          "data": {
            "text/plain": [
              "1"
            ]
          },
          "metadata": {
            "tags": []
          },
          "execution_count": 12
        }
      ]
    },
    {
      "cell_type": "code",
      "metadata": {
        "id": "EOeYVZKorY5w",
        "colab_type": "code",
        "outputId": "410782b0-bc7d-4c66-d53b-e07aa53b8861",
        "colab": {}
      },
      "source": [
        "x2[2, -1]"
      ],
      "execution_count": 0,
      "outputs": [
        {
          "output_type": "execute_result",
          "data": {
            "text/plain": [
              "7"
            ]
          },
          "metadata": {
            "tags": []
          },
          "execution_count": 13
        }
      ]
    },
    {
      "cell_type": "markdown",
      "metadata": {
        "id": "sJ6Jb1AArY6D",
        "colab_type": "text"
      },
      "source": [
        "Values can also be modified using any of the above index notation:"
      ]
    },
    {
      "cell_type": "code",
      "metadata": {
        "id": "GKRmTY16rY6G",
        "colab_type": "code",
        "outputId": "489e72f9-b899-462b-a56c-a75a51e98ab1",
        "colab": {}
      },
      "source": [
        "x2[0, 0] = 12\n",
        "x2"
      ],
      "execution_count": 0,
      "outputs": [
        {
          "output_type": "execute_result",
          "data": {
            "text/plain": [
              "array([[12,  5,  2,  4],\n",
              "       [ 7,  6,  8,  8],\n",
              "       [ 1,  6,  7,  7]])"
            ]
          },
          "metadata": {
            "tags": []
          },
          "execution_count": 14
        }
      ]
    },
    {
      "cell_type": "markdown",
      "metadata": {
        "id": "4rdrtzTYrY6i",
        "colab_type": "text"
      },
      "source": [
        "Keep in mind that, unlike Python lists, NumPy arrays have a fixed type.\n",
        "This means, for example, that if you attempt to insert a floating-point value to an integer array, the value will be silently truncated. Don't be caught unaware by this behavior!"
      ]
    },
    {
      "cell_type": "code",
      "metadata": {
        "id": "4MyovafgrY6j",
        "colab_type": "code",
        "outputId": "061658a0-ecbb-4631-fa7d-c3288a999cd6",
        "colab": {}
      },
      "source": [
        "x1[0] = 3.14159  # this will be truncated!\n",
        "x1"
      ],
      "execution_count": 0,
      "outputs": [
        {
          "output_type": "execute_result",
          "data": {
            "text/plain": [
              "array([3, 0, 3, 3, 7, 9])"
            ]
          },
          "metadata": {
            "tags": []
          },
          "execution_count": 15
        }
      ]
    },
    {
      "cell_type": "markdown",
      "metadata": {
        "id": "nZeZt8xhrY60",
        "colab_type": "text"
      },
      "source": [
        "## Array Slicing: Accessing Subarrays"
      ]
    },
    {
      "cell_type": "markdown",
      "metadata": {
        "id": "4wXZDdq1rY66",
        "colab_type": "text"
      },
      "source": [
        "Just as we can use square brackets to access individual array elements, we can also use them to access subarrays with the *slice* notation, marked by the colon (``:``) character.\n",
        "The NumPy slicing syntax follows that of the standard Python list; to access a slice of an array ``x``, use this:\n",
        "``` python\n",
        "x[start:stop:step]\n",
        "```\n",
        "If any of these are unspecified, they default to the values ``start=0``, ``stop=``*``size of dimension``*, ``step=1``.\n",
        "We'll take a look at accessing sub-arrays in one dimension and in multiple dimensions."
      ]
    },
    {
      "cell_type": "markdown",
      "metadata": {
        "id": "1kuNJRbWrY68",
        "colab_type": "text"
      },
      "source": [
        "### One-dimensional subarrays"
      ]
    },
    {
      "cell_type": "code",
      "metadata": {
        "id": "WdeFohgLrY6-",
        "colab_type": "code",
        "outputId": "598ec1ec-c163-4790-bc56-1045d2cc8afc",
        "colab": {}
      },
      "source": [
        "x = np.arange(10)\n",
        "x"
      ],
      "execution_count": 0,
      "outputs": [
        {
          "output_type": "execute_result",
          "data": {
            "text/plain": [
              "array([0, 1, 2, 3, 4, 5, 6, 7, 8, 9])"
            ]
          },
          "metadata": {
            "tags": []
          },
          "execution_count": 16
        }
      ]
    },
    {
      "cell_type": "code",
      "metadata": {
        "id": "kg52EB9rrY7D",
        "colab_type": "code",
        "outputId": "313571f3-ee21-45e2-fb14-bc0d59f92162",
        "colab": {}
      },
      "source": [
        "x[:5]  # first five elements"
      ],
      "execution_count": 0,
      "outputs": [
        {
          "output_type": "execute_result",
          "data": {
            "text/plain": [
              "array([0, 1, 2, 3, 4])"
            ]
          },
          "metadata": {
            "tags": []
          },
          "execution_count": 17
        }
      ]
    },
    {
      "cell_type": "code",
      "metadata": {
        "id": "Qmz39kBsrY7H",
        "colab_type": "code",
        "outputId": "bb9b2d2d-f57d-440b-fb80-6ef654144d11",
        "colab": {}
      },
      "source": [
        "x[5:]  # elements after index 5"
      ],
      "execution_count": 0,
      "outputs": [
        {
          "output_type": "execute_result",
          "data": {
            "text/plain": [
              "array([5, 6, 7, 8, 9])"
            ]
          },
          "metadata": {
            "tags": []
          },
          "execution_count": 18
        }
      ]
    },
    {
      "cell_type": "code",
      "metadata": {
        "id": "5MXw9ZnkrY7O",
        "colab_type": "code",
        "outputId": "0849fae6-84a9-4fbf-d7b7-4351620e6da2",
        "colab": {}
      },
      "source": [
        "x[4:7]  # middle sub-array"
      ],
      "execution_count": 0,
      "outputs": [
        {
          "output_type": "execute_result",
          "data": {
            "text/plain": [
              "array([4, 5, 6])"
            ]
          },
          "metadata": {
            "tags": []
          },
          "execution_count": 19
        }
      ]
    },
    {
      "cell_type": "code",
      "metadata": {
        "id": "DBu_QE4FrY7b",
        "colab_type": "code",
        "outputId": "b6c553be-821f-4c43-ceb0-09cd224bea40",
        "colab": {}
      },
      "source": [
        "x[::2]  # every other element"
      ],
      "execution_count": 0,
      "outputs": [
        {
          "output_type": "execute_result",
          "data": {
            "text/plain": [
              "array([0, 2, 4, 6, 8])"
            ]
          },
          "metadata": {
            "tags": []
          },
          "execution_count": 20
        }
      ]
    },
    {
      "cell_type": "code",
      "metadata": {
        "id": "FcUSO0NArY7l",
        "colab_type": "code",
        "outputId": "9f99c061-00fe-4a9e-f0aa-3f0c9f6e7129",
        "colab": {}
      },
      "source": [
        "x[1::2]  # every other element, starting at index 1"
      ],
      "execution_count": 0,
      "outputs": [
        {
          "output_type": "execute_result",
          "data": {
            "text/plain": [
              "array([1, 3, 5, 7, 9])"
            ]
          },
          "metadata": {
            "tags": []
          },
          "execution_count": 21
        }
      ]
    },
    {
      "cell_type": "markdown",
      "metadata": {
        "id": "0PVlb48crY72",
        "colab_type": "text"
      },
      "source": [
        "A potentially confusing case is when the ``step`` value is negative.\n",
        "In this case, the defaults for ``start`` and ``stop`` are swapped.\n",
        "This becomes a convenient way to reverse an array:"
      ]
    },
    {
      "cell_type": "code",
      "metadata": {
        "id": "wTEFCdiprY73",
        "colab_type": "code",
        "outputId": "98a4ac91-b656-43be-ce2f-ed05e9abc22f",
        "colab": {}
      },
      "source": [
        "x[::-1]  # all elements, reversed"
      ],
      "execution_count": 0,
      "outputs": [
        {
          "output_type": "execute_result",
          "data": {
            "text/plain": [
              "array([9, 8, 7, 6, 5, 4, 3, 2, 1, 0])"
            ]
          },
          "metadata": {
            "tags": []
          },
          "execution_count": 22
        }
      ]
    },
    {
      "cell_type": "code",
      "metadata": {
        "id": "GD3mcUterY78",
        "colab_type": "code",
        "outputId": "e749efb3-741b-418f-9cad-e6ca9ee425e1",
        "colab": {}
      },
      "source": [
        "x[5::-2]  # reversed every other from index 5"
      ],
      "execution_count": 0,
      "outputs": [
        {
          "output_type": "execute_result",
          "data": {
            "text/plain": [
              "array([5, 3, 1])"
            ]
          },
          "metadata": {
            "tags": []
          },
          "execution_count": 23
        }
      ]
    },
    {
      "cell_type": "markdown",
      "metadata": {
        "id": "IqMCAd33rY8G",
        "colab_type": "text"
      },
      "source": [
        "### Multi-dimensional subarrays\n",
        "\n",
        "Multi-dimensional slices work in the same way, with multiple slices separated by commas.\n",
        "For example:"
      ]
    },
    {
      "cell_type": "code",
      "metadata": {
        "id": "qJZOQVrJrY8J",
        "colab_type": "code",
        "outputId": "6cbcba40-8b60-467e-ee7c-70e3652bafa5",
        "colab": {}
      },
      "source": [
        "x2"
      ],
      "execution_count": 0,
      "outputs": [
        {
          "output_type": "execute_result",
          "data": {
            "text/plain": [
              "array([[12,  5,  2,  4],\n",
              "       [ 7,  6,  8,  8],\n",
              "       [ 1,  6,  7,  7]])"
            ]
          },
          "metadata": {
            "tags": []
          },
          "execution_count": 24
        }
      ]
    },
    {
      "cell_type": "code",
      "metadata": {
        "id": "ptFvgFl0rY8N",
        "colab_type": "code",
        "outputId": "e82a792a-bfb8-49fd-b7ad-85b41f1e37d3",
        "colab": {}
      },
      "source": [
        "x2[:2, :3]  # two rows, three columns"
      ],
      "execution_count": 0,
      "outputs": [
        {
          "output_type": "execute_result",
          "data": {
            "text/plain": [
              "array([[12,  5,  2],\n",
              "       [ 7,  6,  8]])"
            ]
          },
          "metadata": {
            "tags": []
          },
          "execution_count": 25
        }
      ]
    },
    {
      "cell_type": "code",
      "metadata": {
        "id": "9neA9nJTrY8S",
        "colab_type": "code",
        "outputId": "072c4bf7-ca2d-4fe9-a28c-fbc4fa8b90b6",
        "colab": {}
      },
      "source": [
        "x2[:3, ::2]  # all rows, every other column"
      ],
      "execution_count": 0,
      "outputs": [
        {
          "output_type": "execute_result",
          "data": {
            "text/plain": [
              "array([[12,  2],\n",
              "       [ 7,  8],\n",
              "       [ 1,  7]])"
            ]
          },
          "metadata": {
            "tags": []
          },
          "execution_count": 26
        }
      ]
    },
    {
      "cell_type": "markdown",
      "metadata": {
        "id": "M6BSii5FrY8Y",
        "colab_type": "text"
      },
      "source": [
        "Finally, subarray dimensions can even be reversed together:"
      ]
    },
    {
      "cell_type": "code",
      "metadata": {
        "id": "-t5iPRfIrY8Z",
        "colab_type": "code",
        "outputId": "96d9f2a8-5ebe-44d2-dd3e-9325dd9f982f",
        "colab": {}
      },
      "source": [
        "x2[::-1, ::-1]"
      ],
      "execution_count": 0,
      "outputs": [
        {
          "output_type": "execute_result",
          "data": {
            "text/plain": [
              "array([[ 7,  7,  6,  1],\n",
              "       [ 8,  8,  6,  7],\n",
              "       [ 4,  2,  5, 12]])"
            ]
          },
          "metadata": {
            "tags": []
          },
          "execution_count": 27
        }
      ]
    },
    {
      "cell_type": "markdown",
      "metadata": {
        "id": "RqCCmVU7rY8c",
        "colab_type": "text"
      },
      "source": [
        "#### Accessing array rows and columns\n",
        "\n",
        "One commonly needed routine is accessing of single rows or columns of an array.\n",
        "This can be done by combining indexing and slicing, using an empty slice marked by a single colon (``:``):"
      ]
    },
    {
      "cell_type": "code",
      "metadata": {
        "id": "1dahl5IQrY8c",
        "colab_type": "code",
        "outputId": "b711ce6f-f63b-4459-9e4c-b44c2943c3ea",
        "colab": {}
      },
      "source": [
        "print(x2[:, 0])  # first column of x2"
      ],
      "execution_count": 0,
      "outputs": [
        {
          "output_type": "stream",
          "text": [
            "[12  7  1]\n"
          ],
          "name": "stdout"
        }
      ]
    },
    {
      "cell_type": "code",
      "metadata": {
        "id": "w9M_GuW7rY8f",
        "colab_type": "code",
        "outputId": "56b3d458-0c4f-43b1-d991-3cb3ebb661d0",
        "colab": {}
      },
      "source": [
        "print(x2[0, :])  # first row of x2"
      ],
      "execution_count": 0,
      "outputs": [
        {
          "output_type": "stream",
          "text": [
            "[12  5  2  4]\n"
          ],
          "name": "stdout"
        }
      ]
    },
    {
      "cell_type": "markdown",
      "metadata": {
        "id": "bSwK9w-VrY8h",
        "colab_type": "text"
      },
      "source": [
        "In the case of row access, the empty slice can be omitted for a more compact syntax:"
      ]
    },
    {
      "cell_type": "code",
      "metadata": {
        "id": "uOep0qO3rY8l",
        "colab_type": "code",
        "outputId": "262e77ff-64e0-4632-86fc-1268ef979566",
        "colab": {}
      },
      "source": [
        "print(x2[0])  # equivalent to x2[0, :]"
      ],
      "execution_count": 0,
      "outputs": [
        {
          "output_type": "stream",
          "text": [
            "[12  5  2  4]\n"
          ],
          "name": "stdout"
        }
      ]
    },
    {
      "cell_type": "markdown",
      "metadata": {
        "id": "Yzr1r_FkrY8r",
        "colab_type": "text"
      },
      "source": [
        "### Subarrays as no-copy views\n",
        "\n",
        "One important–and extremely useful–thing to know about array slices is that they return *views* rather than *copies* of the array data.\n",
        "This is one area in which NumPy array slicing differs from Python list slicing: in lists, slices will be copies.\n",
        "Consider our two-dimensional array from before:"
      ]
    },
    {
      "cell_type": "code",
      "metadata": {
        "id": "a5jUPL5prY8s",
        "colab_type": "code",
        "outputId": "4aaee9e8-2436-418c-c983-fa8a0daeccca",
        "colab": {}
      },
      "source": [
        "print(x2)"
      ],
      "execution_count": 0,
      "outputs": [
        {
          "output_type": "stream",
          "text": [
            "[[12  5  2  4]\n",
            " [ 7  6  8  8]\n",
            " [ 1  6  7  7]]\n"
          ],
          "name": "stdout"
        }
      ]
    },
    {
      "cell_type": "markdown",
      "metadata": {
        "id": "rWIWv_lprY8w",
        "colab_type": "text"
      },
      "source": [
        "Let's extract a $2 \\times 2$ subarray from this:"
      ]
    },
    {
      "cell_type": "code",
      "metadata": {
        "id": "9VSayUDKrY8z",
        "colab_type": "code",
        "outputId": "bc63fa03-2111-4f60-a25f-fa52471d8322",
        "colab": {}
      },
      "source": [
        "x2_sub = x2[:2, :2]\n",
        "print(x2_sub)"
      ],
      "execution_count": 0,
      "outputs": [
        {
          "output_type": "stream",
          "text": [
            "[[12  5]\n",
            " [ 7  6]]\n"
          ],
          "name": "stdout"
        }
      ]
    },
    {
      "cell_type": "markdown",
      "metadata": {
        "id": "mlBXMilNrY89",
        "colab_type": "text"
      },
      "source": [
        "Now if we modify this subarray, we'll see that the original array is changed! Observe:"
      ]
    },
    {
      "cell_type": "code",
      "metadata": {
        "id": "SYGsmfHzrY8_",
        "colab_type": "code",
        "outputId": "31f99db7-f448-40e7-cadc-dc2898c2260b",
        "colab": {}
      },
      "source": [
        "x2_sub[0, 0] = 99\n",
        "print(x2_sub)"
      ],
      "execution_count": 0,
      "outputs": [
        {
          "output_type": "stream",
          "text": [
            "[[99  5]\n",
            " [ 7  6]]\n"
          ],
          "name": "stdout"
        }
      ]
    },
    {
      "cell_type": "code",
      "metadata": {
        "id": "kHqljliRrY9S",
        "colab_type": "code",
        "outputId": "5a40b510-d22d-43af-951d-06ca467391af",
        "colab": {}
      },
      "source": [
        "print(x2)"
      ],
      "execution_count": 0,
      "outputs": [
        {
          "output_type": "stream",
          "text": [
            "[[99  5  2  4]\n",
            " [ 7  6  8  8]\n",
            " [ 1  6  7  7]]\n"
          ],
          "name": "stdout"
        }
      ]
    },
    {
      "cell_type": "markdown",
      "metadata": {
        "id": "EKvgp260rY9g",
        "colab_type": "text"
      },
      "source": [
        "This default behavior is actually quite useful: it means that when we work with large datasets, we can access and process pieces of these datasets without the need to copy the underlying data buffer."
      ]
    },
    {
      "cell_type": "markdown",
      "metadata": {
        "id": "HQSlq_oIrY9l",
        "colab_type": "text"
      },
      "source": [
        "### Creating copies of arrays\n",
        "\n",
        "Despite the nice features of array views, it is sometimes useful to instead explicitly copy the data within an array or a subarray. This can be most easily done with the ``copy()`` method:"
      ]
    },
    {
      "cell_type": "code",
      "metadata": {
        "id": "FyiadTthrY9m",
        "colab_type": "code",
        "outputId": "ad0a37d1-2e4e-4296-8d65-cf027f1029d5",
        "colab": {}
      },
      "source": [
        "x2_sub_copy = x2[:2, :2].copy()\n",
        "print(x2_sub_copy)"
      ],
      "execution_count": 0,
      "outputs": [
        {
          "output_type": "stream",
          "text": [
            "[[99  5]\n",
            " [ 7  6]]\n"
          ],
          "name": "stdout"
        }
      ]
    },
    {
      "cell_type": "markdown",
      "metadata": {
        "id": "l8wM_syZrY9u",
        "colab_type": "text"
      },
      "source": [
        "If we now modify this subarray, the original array is not touched:"
      ]
    },
    {
      "cell_type": "code",
      "metadata": {
        "id": "katw0OmmrY9y",
        "colab_type": "code",
        "outputId": "5b355128-ce56-4e6b-b153-747e9b0c03cb",
        "colab": {}
      },
      "source": [
        "x2_sub_copy[0, 0] = 42\n",
        "print(x2_sub_copy)"
      ],
      "execution_count": 0,
      "outputs": [
        {
          "output_type": "stream",
          "text": [
            "[[42  5]\n",
            " [ 7  6]]\n"
          ],
          "name": "stdout"
        }
      ]
    },
    {
      "cell_type": "code",
      "metadata": {
        "id": "WFAnjcXtrY95",
        "colab_type": "code",
        "outputId": "4732a410-7252-4bfa-f1a3-4114e4fa148f",
        "colab": {}
      },
      "source": [
        "print(x2)"
      ],
      "execution_count": 0,
      "outputs": [
        {
          "output_type": "stream",
          "text": [
            "[[99  5  2  4]\n",
            " [ 7  6  8  8]\n",
            " [ 1  6  7  7]]\n"
          ],
          "name": "stdout"
        }
      ]
    },
    {
      "cell_type": "markdown",
      "metadata": {
        "id": "vRYmKcykrY99",
        "colab_type": "text"
      },
      "source": [
        "## Reshaping of Arrays\n",
        "\n",
        "Another useful type of operation is reshaping of arrays.\n",
        "The most flexible way of doing this is with the ``reshape`` method.\n",
        "For example, if you want to put the numbers 1 through 9 in a $3 \\times 3$ grid, you can do the following:"
      ]
    },
    {
      "cell_type": "code",
      "metadata": {
        "id": "cN3awpg9rY9_",
        "colab_type": "code",
        "outputId": "0a15a2d4-39cf-4516-d429-cfea40b7ce65",
        "colab": {}
      },
      "source": [
        "grid = np.arange(1, 10).reshape((3, 3))\n",
        "print(grid)"
      ],
      "execution_count": 0,
      "outputs": [
        {
          "output_type": "stream",
          "text": [
            "[[1 2 3]\n",
            " [4 5 6]\n",
            " [7 8 9]]\n"
          ],
          "name": "stdout"
        }
      ]
    },
    {
      "cell_type": "markdown",
      "metadata": {
        "id": "ThjgV2GDrY-H",
        "colab_type": "text"
      },
      "source": [
        "Note that for this to work, the size of the initial array must match the size of the reshaped array. \n",
        "Where possible, the ``reshape`` method will use a no-copy view of the initial array, but with non-contiguous memory buffers this is not always the case.\n",
        "\n",
        "Another common reshaping pattern is the conversion of a one-dimensional array into a two-dimensional row or column matrix.\n",
        "This can be done with the ``reshape`` method, or more easily done by making use of the ``newaxis`` keyword within a slice operation:"
      ]
    },
    {
      "cell_type": "code",
      "metadata": {
        "id": "djRurwiyrY-K",
        "colab_type": "code",
        "outputId": "07eb781b-0e32-405b-8088-71ce05ec0105",
        "colab": {}
      },
      "source": [
        "x = np.array([1, 2, 3])\n",
        "\n",
        "# row vector via reshape\n",
        "x.reshape((1, 3))"
      ],
      "execution_count": 0,
      "outputs": [
        {
          "output_type": "execute_result",
          "data": {
            "text/plain": [
              "array([[1, 2, 3]])"
            ]
          },
          "metadata": {
            "tags": []
          },
          "execution_count": 39
        }
      ]
    },
    {
      "cell_type": "code",
      "metadata": {
        "id": "fR2sol_FrY-S",
        "colab_type": "code",
        "outputId": "7e3f745b-c01a-43a0-97d2-31637ea3bc79",
        "colab": {}
      },
      "source": [
        "# row vector via newaxis\n",
        "x[np.newaxis, :]"
      ],
      "execution_count": 0,
      "outputs": [
        {
          "output_type": "execute_result",
          "data": {
            "text/plain": [
              "array([[1, 2, 3]])"
            ]
          },
          "metadata": {
            "tags": []
          },
          "execution_count": 40
        }
      ]
    },
    {
      "cell_type": "code",
      "metadata": {
        "id": "0-T3h--LrY-g",
        "colab_type": "code",
        "outputId": "2ec3727f-f6b6-4f1b-b42c-4bc8136739c3",
        "colab": {}
      },
      "source": [
        "# column vector via reshape\n",
        "x.reshape((3, 1))"
      ],
      "execution_count": 0,
      "outputs": [
        {
          "output_type": "execute_result",
          "data": {
            "text/plain": [
              "array([[1],\n",
              "       [2],\n",
              "       [3]])"
            ]
          },
          "metadata": {
            "tags": []
          },
          "execution_count": 41
        }
      ]
    },
    {
      "cell_type": "code",
      "metadata": {
        "id": "yNPcb-tOrY-m",
        "colab_type": "code",
        "outputId": "181335d4-9085-496b-d364-2555d4dfe648",
        "colab": {}
      },
      "source": [
        "# column vector via newaxis\n",
        "x[:, np.newaxis]"
      ],
      "execution_count": 0,
      "outputs": [
        {
          "output_type": "execute_result",
          "data": {
            "text/plain": [
              "array([[1],\n",
              "       [2],\n",
              "       [3]])"
            ]
          },
          "metadata": {
            "tags": []
          },
          "execution_count": 42
        }
      ]
    },
    {
      "cell_type": "markdown",
      "metadata": {
        "id": "JwvLolZqrY-v",
        "colab_type": "text"
      },
      "source": [
        "We will see this type of transformation often throughout the remainder of the book."
      ]
    },
    {
      "cell_type": "markdown",
      "metadata": {
        "id": "4Fmy4wGZrY-z",
        "colab_type": "text"
      },
      "source": [
        "## Array Concatenation and Splitting\n",
        "\n",
        "All of the preceding routines worked on single arrays. It's also possible to combine multiple arrays into one, and to conversely split a single array into multiple arrays. We'll take a look at those operations here."
      ]
    },
    {
      "cell_type": "markdown",
      "metadata": {
        "id": "wh_wlNjwrY-0",
        "colab_type": "text"
      },
      "source": [
        "### Concatenation of arrays\n",
        "\n",
        "Concatenation, or joining of two arrays in NumPy, is primarily accomplished using the routines ``np.concatenate``, ``np.vstack``, and ``np.hstack``.\n",
        "``np.concatenate`` takes a tuple or list of arrays as its first argument, as we can see here:"
      ]
    },
    {
      "cell_type": "code",
      "metadata": {
        "id": "-vt9Aip7rY-1",
        "colab_type": "code",
        "outputId": "ea6298db-6929-413c-ab30-949c38d77648",
        "colab": {}
      },
      "source": [
        "x = np.array([1, 2, 3])\n",
        "y = np.array([3, 2, 1])\n",
        "np.concatenate([x, y])"
      ],
      "execution_count": 0,
      "outputs": [
        {
          "output_type": "execute_result",
          "data": {
            "text/plain": [
              "array([1, 2, 3, 3, 2, 1])"
            ]
          },
          "metadata": {
            "tags": []
          },
          "execution_count": 43
        }
      ]
    },
    {
      "cell_type": "markdown",
      "metadata": {
        "id": "nSaBGohSrY-5",
        "colab_type": "text"
      },
      "source": [
        "You can also concatenate more than two arrays at once:"
      ]
    },
    {
      "cell_type": "code",
      "metadata": {
        "id": "r_RCVYTWrY-6",
        "colab_type": "code",
        "outputId": "08ac2be8-050c-4ebe-ac45-ae63038b261a",
        "colab": {}
      },
      "source": [
        "z = [99, 99, 99]\n",
        "print(np.concatenate([x, y, z]))"
      ],
      "execution_count": 0,
      "outputs": [
        {
          "output_type": "stream",
          "text": [
            "[ 1  2  3  3  2  1 99 99 99]\n"
          ],
          "name": "stdout"
        }
      ]
    },
    {
      "cell_type": "markdown",
      "metadata": {
        "id": "-Pz2auQerY--",
        "colab_type": "text"
      },
      "source": [
        "It can also be used for two-dimensional arrays:"
      ]
    },
    {
      "cell_type": "code",
      "metadata": {
        "id": "fmsa2DzMrY_A",
        "colab_type": "code",
        "colab": {}
      },
      "source": [
        "grid = np.array([[1, 2, 3],\n",
        "                 [4, 5, 6]])"
      ],
      "execution_count": 0,
      "outputs": []
    },
    {
      "cell_type": "code",
      "metadata": {
        "id": "i0rcMt7brY_D",
        "colab_type": "code",
        "outputId": "2cdd62e9-07ba-4496-9329-8a914b009ffa",
        "colab": {}
      },
      "source": [
        "# concatenate along the first axis\n",
        "np.concatenate([grid, grid])"
      ],
      "execution_count": 0,
      "outputs": [
        {
          "output_type": "execute_result",
          "data": {
            "text/plain": [
              "array([[1, 2, 3],\n",
              "       [4, 5, 6],\n",
              "       [1, 2, 3],\n",
              "       [4, 5, 6]])"
            ]
          },
          "metadata": {
            "tags": []
          },
          "execution_count": 46
        }
      ]
    },
    {
      "cell_type": "code",
      "metadata": {
        "id": "onFqg5qmrY_F",
        "colab_type": "code",
        "outputId": "a3761116-524b-4b53-8536-9a37970b139e",
        "colab": {}
      },
      "source": [
        "# concatenate along the second axis (zero-indexed)\n",
        "np.concatenate([grid, grid], axis=1)"
      ],
      "execution_count": 0,
      "outputs": [
        {
          "output_type": "execute_result",
          "data": {
            "text/plain": [
              "array([[1, 2, 3, 1, 2, 3],\n",
              "       [4, 5, 6, 4, 5, 6]])"
            ]
          },
          "metadata": {
            "tags": []
          },
          "execution_count": 47
        }
      ]
    },
    {
      "cell_type": "markdown",
      "metadata": {
        "id": "4Ky4fajkrY_J",
        "colab_type": "text"
      },
      "source": [
        "For working with arrays of mixed dimensions, it can be clearer to use the ``np.vstack`` (vertical stack) and ``np.hstack`` (horizontal stack) functions:"
      ]
    },
    {
      "cell_type": "code",
      "metadata": {
        "id": "5tNshqj6rY_K",
        "colab_type": "code",
        "outputId": "b06b5277-e02b-43c1-b122-a1868c9395b6",
        "colab": {}
      },
      "source": [
        "x = np.array([1, 2, 3])\n",
        "grid = np.array([[9, 8, 7],\n",
        "                 [6, 5, 4]])\n",
        "\n",
        "# vertically stack the arrays\n",
        "np.vstack([x, grid])"
      ],
      "execution_count": 0,
      "outputs": [
        {
          "output_type": "execute_result",
          "data": {
            "text/plain": [
              "array([[1, 2, 3],\n",
              "       [9, 8, 7],\n",
              "       [6, 5, 4]])"
            ]
          },
          "metadata": {
            "tags": []
          },
          "execution_count": 48
        }
      ]
    },
    {
      "cell_type": "code",
      "metadata": {
        "id": "_1ni3CBorY_O",
        "colab_type": "code",
        "outputId": "8342364f-e5ba-4de4-efbb-b0697ff34ac0",
        "colab": {}
      },
      "source": [
        "# horizontally stack the arrays\n",
        "y = np.array([[99],\n",
        "              [99]])\n",
        "np.hstack([grid, y])"
      ],
      "execution_count": 0,
      "outputs": [
        {
          "output_type": "execute_result",
          "data": {
            "text/plain": [
              "array([[ 9,  8,  7, 99],\n",
              "       [ 6,  5,  4, 99]])"
            ]
          },
          "metadata": {
            "tags": []
          },
          "execution_count": 49
        }
      ]
    },
    {
      "cell_type": "markdown",
      "metadata": {
        "id": "feofqYrKrY_V",
        "colab_type": "text"
      },
      "source": [
        "Similary, ``np.dstack`` will stack arrays along the third axis."
      ]
    },
    {
      "cell_type": "markdown",
      "metadata": {
        "id": "xvH3zY7srY_X",
        "colab_type": "text"
      },
      "source": [
        "### Splitting of arrays\n",
        "\n",
        "The opposite of concatenation is splitting, which is implemented by the functions ``np.split``, ``np.hsplit``, and ``np.vsplit``.  For each of these, we can pass a list of indices giving the split points:"
      ]
    },
    {
      "cell_type": "code",
      "metadata": {
        "id": "xiKbUCF6rY_Y",
        "colab_type": "code",
        "outputId": "84e0fd87-7f18-4058-8c69-2cf9f8ab49cd",
        "colab": {}
      },
      "source": [
        "x = [1, 2, 3, 99, 99, 3, 2, 1]\n",
        "x1, x2, x3 = np.split(x, [3, 5])\n",
        "print(x1, x2, x3)"
      ],
      "execution_count": 0,
      "outputs": [
        {
          "output_type": "stream",
          "text": [
            "[1 2 3] [99 99] [3 2 1]\n"
          ],
          "name": "stdout"
        }
      ]
    },
    {
      "cell_type": "markdown",
      "metadata": {
        "id": "bNyeTKqnrY_h",
        "colab_type": "text"
      },
      "source": [
        "Notice that *N* split-points, leads to *N + 1* subarrays.\n",
        "The related functions ``np.hsplit`` and ``np.vsplit`` are similar:"
      ]
    },
    {
      "cell_type": "code",
      "metadata": {
        "id": "ZJCfiOicrY_i",
        "colab_type": "code",
        "outputId": "6f5d64fb-488c-478f-9102-9f8934639446",
        "colab": {}
      },
      "source": [
        "grid = np.arange(16).reshape((4, 4))\n",
        "grid"
      ],
      "execution_count": 0,
      "outputs": [
        {
          "output_type": "execute_result",
          "data": {
            "text/plain": [
              "array([[ 0,  1,  2,  3],\n",
              "       [ 4,  5,  6,  7],\n",
              "       [ 8,  9, 10, 11],\n",
              "       [12, 13, 14, 15]])"
            ]
          },
          "metadata": {
            "tags": []
          },
          "execution_count": 51
        }
      ]
    },
    {
      "cell_type": "code",
      "metadata": {
        "id": "TrhLGDh9rY_m",
        "colab_type": "code",
        "outputId": "da994755-729b-4515-9717-1c5594de1a5f",
        "colab": {}
      },
      "source": [
        "upper, lower = np.vsplit(grid, [2])\n",
        "print(upper)\n",
        "print(lower)"
      ],
      "execution_count": 0,
      "outputs": [
        {
          "output_type": "stream",
          "text": [
            "[[0 1 2 3]\n",
            " [4 5 6 7]]\n",
            "[[ 8  9 10 11]\n",
            " [12 13 14 15]]\n"
          ],
          "name": "stdout"
        }
      ]
    },
    {
      "cell_type": "code",
      "metadata": {
        "id": "Jx6FXkO2rY_q",
        "colab_type": "code",
        "outputId": "95da20e7-140d-474c-ed7a-49efcd15c776",
        "colab": {}
      },
      "source": [
        "left, right = np.hsplit(grid, [2])\n",
        "print(left)\n",
        "print(right)"
      ],
      "execution_count": 0,
      "outputs": [
        {
          "output_type": "stream",
          "text": [
            "[[ 0  1]\n",
            " [ 4  5]\n",
            " [ 8  9]\n",
            " [12 13]]\n",
            "[[ 2  3]\n",
            " [ 6  7]\n",
            " [10 11]\n",
            " [14 15]]\n"
          ],
          "name": "stdout"
        }
      ]
    },
    {
      "cell_type": "markdown",
      "metadata": {
        "id": "nY8ZZ-kXrY_v",
        "colab_type": "text"
      },
      "source": [
        "Similarly, ``np.dsplit`` will split arrays along the third axis."
      ]
    },
    {
      "cell_type": "markdown",
      "metadata": {
        "id": "pofT6-RRrY_w",
        "colab_type": "text"
      },
      "source": [
        "<!--NAVIGATION-->\n",
        "< [Understanding Data Types in Python](02.01-Understanding-Data-Types.ipynb) | [Contents](Index.ipynb) | [Computation on NumPy Arrays: Universal Functions](02.03-Computation-on-arrays-ufuncs.ipynb) >\n",
        "\n",
        "<a href=\"https://colab.research.google.com/github/jakevdp/PythonDataScienceHandbook/blob/master/notebooks/02.02-The-Basics-Of-NumPy-Arrays.ipynb\"><img align=\"left\" src=\"https://colab.research.google.com/assets/colab-badge.svg\" alt=\"Open in Colab\" title=\"Open and Execute in Google Colaboratory\"></a>\n"
      ]
    }
  ]
}