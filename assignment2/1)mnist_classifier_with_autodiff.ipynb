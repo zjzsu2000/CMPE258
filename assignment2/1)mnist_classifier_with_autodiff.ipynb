{
  "nbformat": 4,
  "nbformat_minor": 0,
  "metadata": {
    "colab": {
      "name": "1)mnist_classifier_with_autodiff.ipynb",
      "provenance": [],
      "collapsed_sections": [],
      "toc_visible": true,
      "include_colab_link": true
    },
    "kernelspec": {
      "name": "python3",
      "display_name": "Python 3"
    },
    "accelerator": "GPU"
  },
  "cells": [
    {
      "cell_type": "markdown",
      "metadata": {
        "id": "view-in-github",
        "colab_type": "text"
      },
      "source": [
        "<a href=\"https://colab.research.google.com/github/zjzsu2000/CMPE258/blob/master/assignment2/1)mnist_classifier_with_autodiff.ipynb\" target=\"_parent\"><img src=\"https://colab.research.google.com/assets/colab-badge.svg\" alt=\"Open In Colab\"/></a>"
      ]
    },
    {
      "cell_type": "code",
      "metadata": {
        "id": "JYYh7PCNpuFf",
        "colab_type": "code",
        "colab": {}
      },
      "source": [
        "try:\n",
        "  # %tensorflow_version only exists in Colab.\n",
        "  %tensorflow_version 2.x\n",
        "except Exception:\n",
        "  pass"
      ],
      "execution_count": 0,
      "outputs": []
    },
    {
      "cell_type": "code",
      "metadata": {
        "id": "4e51vQrUpvAc",
        "colab_type": "code",
        "outputId": "f7e19d95-8a27-4b87-eb5f-930be7f2b7ed",
        "colab": {
          "base_uri": "https://localhost:8080/",
          "height": 33
        }
      },
      "source": [
        "from __future__ import absolute_import, division, print_function, unicode_literals\n",
        "\n",
        "# TensorFlow and tf.keras\n",
        "import tensorflow as tf\n",
        "from tensorflow import keras\n",
        "\n",
        "# Helper libraries\n",
        "import numpy as np\n",
        "import matplotlib.pyplot as plt\n",
        "\n",
        "print(tf.__version__)"
      ],
      "execution_count": 0,
      "outputs": [
        {
          "output_type": "stream",
          "text": [
            "2.2.0-rc3\n"
          ],
          "name": "stdout"
        }
      ]
    },
    {
      "cell_type": "markdown",
      "metadata": {
        "id": "APzS1lj99fXy",
        "colab_type": "text"
      },
      "source": [
        "##Part I) Do write autodiff python  library and based on it , do  mnist classifier"
      ]
    },
    {
      "cell_type": "markdown",
      "metadata": {
        "id": "C3izkkippVqq",
        "colab_type": "text"
      },
      "source": [
        "###AutoDiffTensor"
      ]
    },
    {
      "cell_type": "code",
      "metadata": {
        "id": "vPyc3dXnOOaM",
        "colab_type": "code",
        "colab": {}
      },
      "source": [
        "import numpy as np\n",
        "\n",
        "class AutoDiffTensor (object):\n",
        "    \n",
        "    def __init__(self,dataInput,autodiff=False,creators=None,creationOperation=None,randID=None):\n",
        "        \n",
        "        self.data = np.array(dataInput)\n",
        "        self.autodiff = autodiff\n",
        "        self.grad = None\n",
        "        if(randID is None):\n",
        "            self.randID = np.random.randint(0,10000)\n",
        "        else:\n",
        "            self.randID = randID\n",
        "        \n",
        "        self.creators = creators\n",
        "        self.creationOperation = creationOperation\n",
        "        self.children = {}\n",
        "        if(creators is not None):\n",
        "            for creator in creators:\n",
        "                if(self.randID not in creator.children):\n",
        "                    creator.children[self.randID] = 1\n",
        "                else:\n",
        "                    creator.children[self.randID] += 1\n",
        "\n",
        "    def counted(self):\n",
        "        for randID,count in self.children.items():\n",
        "            if(count  != 0):\n",
        "                return False\n",
        "        return True \n",
        "        \n",
        "    def backWard(self,grad=None, grad_origin=None):\n",
        "        if(self.autodiff==True):\n",
        " \n",
        "            if(grad is None):\n",
        "                grad = AutoDiffTensor(np.ones_like(self.data))\n",
        "\n",
        "            if(grad_origin is not None):\n",
        "                if(self.children[grad_origin.randID] == 0):\n",
        "                    raise Exception(\"can't backprop more than once\")\n",
        "                else:\n",
        "                    self.children[grad_origin.randID] -= 1\n",
        "\n",
        "            if(self.grad is None):\n",
        "                self.grad = grad\n",
        "            else:\n",
        "                self.grad += grad\n",
        "            \n",
        "            # grads must not have their own grads\n",
        "            assert grad.autodiff == False\n",
        "            \n",
        "            \n",
        "            if(self.creators is not None and (self.counted() or grad_origin is None)):\n",
        "\n",
        "                # adding function\n",
        "                if(self.creationOperation == \"add\"):\n",
        "                    self.creators[0].backWard(self.grad, self)\n",
        "                    self.creators[1].backWard(self.grad, self)\n",
        "                    \n",
        "                #  subtracting function\n",
        "                if(self.creationOperation == \"sub\"):\n",
        "                    self.creators[0].backWard(AutoDiffTensor(self.grad.data), self)\n",
        "                    self.creators[1].backWard(AutoDiffTensor(self.grad.__neg__().data), self)\n",
        "\n",
        "                # multiply function\n",
        "                if(self.creationOperation == \"mul\"):\n",
        "                    new = self.grad * self.creators[1]\n",
        "                    self.creators[0].backWard(new , self)\n",
        "                    new = self.grad * self.creators[0]\n",
        "                    self.creators[1].backWard(new, self)                    \n",
        "                    \n",
        "                # matrix multiplication function\n",
        "                if(self.creationOperation == \"mm\"):\n",
        "                    c0 = self.creators[0]\n",
        "                    c1 = self.creators[1]\n",
        "                    new = self.grad.mM(c1.transpose())\n",
        "                    c0.backWard(new)\n",
        "                    new = self.grad.transpose().mM(c0).transpose()\n",
        "                    c1.backWard(new)\n",
        "                    \n",
        "                # transpose \n",
        "                if(self.creationOperation == \"transpose\"):\n",
        "                    self.creators[0].backWard(self.grad.transpose())\n",
        "\n",
        "                if(\"sum\" in self.creationOperation):\n",
        "                    dim = int(self.creationOperation.split(\"_\")[1])\n",
        "                    self.creators[0].backWard(self.grad.expand(dim,self.creators[0].data.shape[dim]))\n",
        "\n",
        "                if(\"expand\" in self.creationOperation):\n",
        "                    dim = int(self.creationOperation.split(\"_\")[1])\n",
        "                    self.creators[0].backWard(self.grad.sum(dim))\n",
        "                    \n",
        "                if(self.creationOperation == \"neg\"):\n",
        "                    self.creators[0].backWard(self.grad.__neg__())\n",
        "                    \n",
        "                if(self.creationOperation == \"sigmoid\"):\n",
        "                    ones = AutoDiffTensor(np.ones_like(self.grad.data))\n",
        "                    self.creators[0].backWard(self.grad * (self * (ones - self)))\n",
        "\n",
        "                if(self.creationOperation == \"relu\"):\n",
        "                    ones = AutoDiffTensor(np.ones_like(self.grad.data))\n",
        "                    self.creators[0].backWard(self.grad * (ones - (self * self)))\n",
        "                \n",
        "                if(self.creationOperation == \"tanh\"):\n",
        "                    ones = AutoDiffTensor(np.ones_like(self.grad.data))\n",
        "                    self.creators[0].backWard(self.grad * (ones - (self * self)))\n",
        "\n",
        "                if(self.creationOperation == \"cross_entropy\"):\n",
        "                    # print(\"Softmax Output\", self.softmax_output)\n",
        "                    # print(\"Target\", self.target_dist)\n",
        "                    dx = self.softmax_output - self.target_dist\n",
        "                    self.creators[0].backWard(AutoDiffTensor(dx))\n",
        "                \n",
        "                if(self.creationOperation == \"index_select\"):\n",
        "                    new_grad = np.zeros_like(self.creators[0].data)\n",
        "                    indices_ = self.index_select_indices.data.flatten()\n",
        "                    grad_ = grad.data.reshape(len(indices_), -1)\n",
        "                    for i in range(len(indices_)):\n",
        "                        new_grad[indices_[i]] += grad_[i]\n",
        "                    self.creators[0].backWard(AutoDiffTensor(new_grad))\n",
        "\n",
        "                    \n",
        "    def __add__(self, other):\n",
        "        if(self.autodiff and other.autodiff):\n",
        "            return AutoDiffTensor(self.data + other.data,\n",
        "                          autodiff=True,\n",
        "                          creators=[self,other],\n",
        "                          creationOperation=\"add\")\n",
        "        return AutoDiffTensor(self.data + other.data)\n",
        "\n",
        "    def __neg__(self):\n",
        "        if(self.autodiff):\n",
        "            return AutoDiffTensor(self.data * -1,\n",
        "                          autodiff=True,\n",
        "                          creators=[self],\n",
        "                          creationOperation=\"neg\")\n",
        "        return AutoDiffTensor(self.data * -1)\n",
        "    \n",
        "    def __sub__(self, other):\n",
        "        if(self.autodiff and other.autodiff):\n",
        "            return AutoDiffTensor(self.data - other.data,\n",
        "                          autodiff=True,\n",
        "                          creators=[self,other],\n",
        "                          creationOperation=\"sub\")\n",
        "        return AutoDiffTensor(self.data - other.data)\n",
        "    \n",
        "    def __mul__(self, other):\n",
        "        if(self.autodiff and other.autodiff):\n",
        "            return AutoDiffTensor(self.data * other.data,\n",
        "                          autodiff=True,\n",
        "                          creators=[self,other],\n",
        "                          creationOperation=\"mul\")\n",
        "        return AutoDiffTensor(self.data * other.data)    \n",
        "\n",
        "    def sum(self, dim):\n",
        "        if(self.autodiff):\n",
        "            return AutoDiffTensor(self.data.sum(dim),\n",
        "                          autodiff=True,\n",
        "                          creators=[self],\n",
        "                          creationOperation=\"sum_\"+str(dim))\n",
        "        return AutoDiffTensor(self.data.sum(dim))\n",
        "    \n",
        "    def expand(self, dim,copies):\n",
        "\n",
        "        trans_cmd = list(range(0,len(self.data.shape)))\n",
        "        trans_cmd.insert(dim,len(self.data.shape))\n",
        "        new_data = self.data.repeat(copies).reshape(list(self.data.shape) + [copies]).transpose(trans_cmd)\n",
        "        \n",
        "        if(self.autodiff):\n",
        "            return AutoDiffTensor(new_data,\n",
        "                          autodiff=True,\n",
        "                          creators=[self],\n",
        "                          creationOperation=\"expand_\"+str(dim))\n",
        "        return AutoDiffTensor(new_data)\n",
        "    \n",
        "    def transpose(self):\n",
        "        if(self.autodiff):\n",
        "            return AutoDiffTensor(self.data.transpose(),\n",
        "                          autodiff=True,\n",
        "                          creators=[self],\n",
        "                          creationOperation=\"transpose\")\n",
        "        \n",
        "        return AutoDiffTensor(self.data.transpose())\n",
        "    \n",
        "    def mM(self, x):\n",
        "        if(self.autodiff):\n",
        "            return AutoDiffTensor(self.data.dot(x.data),\n",
        "                          autodiff=True,\n",
        "                          creators=[self,x],\n",
        "                          creationOperation=\"mm\")\n",
        "        return AutoDiffTensor(self.data.dot(x.data))\n",
        "    \n",
        "    #Sigmoid\n",
        "    def sigmoid(self):\n",
        "        if(self.autodiff):\n",
        "            return AutoDiffTensor(1 / (1 + np.exp(-self.data)),\n",
        "                          autodiff=True,\n",
        "                          creators=[self],\n",
        "                          creationOperation=\"sigmoid\")\n",
        "        return AutoDiffTensor(1 / (1 + np.exp(-self.data)))\n",
        "\n",
        "    #Tanh\n",
        "    def tanh(self):\n",
        "        if(self.autodiff):\n",
        "            return AutoDiffTensor(np.tanh(self.data),\n",
        "                          autodiff=True,\n",
        "                          creators=[self],\n",
        "                          creationOperation=\"tanh\")\n",
        "        return AutoDiffTensor(np.tanh(self.data))\n",
        "\n",
        "    #Rulu\n",
        "    def relu(self):\n",
        "        if(self.autodiff):\n",
        "            return AutoDiffTensor(((self.data > 0) * self.data),\n",
        "                          autodiff=True,\n",
        "                          creators=[self],\n",
        "                          creationOperation=\"relu\")\n",
        "        return AutoDiffTensor(np.tanh(self.data))\n",
        "    \n",
        "    #SelectIndex\n",
        "    def selectIndex(self, indices):\n",
        "\n",
        "        if(self.autodiff):\n",
        "            new = AutoDiffTensor(self.data[indices.data],\n",
        "                         autodiff=True,\n",
        "                         creators=[self],\n",
        "                         creationOperation=\"index_select\")\n",
        "            new.selectIndex = indices\n",
        "            return new\n",
        "        return AutoDiffTensor(self.data[indices.data])\n",
        "    \n",
        "    #CrossEntropy\n",
        "    def crossEntropy(self, target_indices):\n",
        "\n",
        "        temp = np.exp(self.data)\n",
        "        softmax_output = temp / np.sum(temp,\n",
        "                                       axis=len(self.data.shape)-1,\n",
        "                                       keepdims=True)\n",
        "        \n",
        "        t = target_indices.data.flatten()\n",
        "        p = softmax_output.reshape(len(t),-1)\n",
        "        # print(\"P:\", p)\n",
        "        # print(\"T:\", t)\n",
        "        target_dist = np.eye(p.shape[1])[t]\n",
        "        loss = -(np.log(p) * (target_dist)).sum(1).mean()\n",
        "    \n",
        "        if(self.autodiff):\n",
        "            out = AutoDiffTensor(loss,autodiff=True,\n",
        "                         creators=[self],creationOperation=\"cross_entropy\")\n",
        "            out.softmax_output = softmax_output\n",
        "            out.target_dist = target_dist\n",
        "            return out\n",
        "        return AutoDiffTensor(loss)\n",
        "        \n",
        "    \n",
        "    def __repr__(self):\n",
        "        return str(self.data.__repr__())\n",
        "    \n",
        "    def __str__(self):        \n",
        "        return str(self.data.__str__())  \n"
      ],
      "execution_count": 0,
      "outputs": []
    },
    {
      "cell_type": "markdown",
      "metadata": {
        "id": "5wXQgPYmpN2r",
        "colab_type": "text"
      },
      "source": [
        "### Add Layer and subClasses"
      ]
    },
    {
      "cell_type": "markdown",
      "metadata": {
        "id": "eXrntPgbrawA",
        "colab_type": "text"
      },
      "source": [
        "####Layer Class"
      ]
    },
    {
      "cell_type": "code",
      "metadata": {
        "id": "kMHLAgf1nGU6",
        "colab_type": "code",
        "colab": {}
      },
      "source": [
        "class Layer(object):    \n",
        "    def __init__(self):\n",
        "        self.parameters = list()\n",
        "        \n",
        "    def get_parameters(self):\n",
        "        return self.parameters\n",
        "\n",
        "\n"
      ],
      "execution_count": 0,
      "outputs": []
    },
    {
      "cell_type": "markdown",
      "metadata": {
        "id": "0hYdMK5orD2Q",
        "colab_type": "text"
      },
      "source": [
        "####Tanh,Sigmoid,RELU,SoftMax"
      ]
    },
    {
      "cell_type": "code",
      "metadata": {
        "id": "sqK5pawlrBg8",
        "colab_type": "code",
        "colab": {}
      },
      "source": [
        "class Tanh(Layer):\n",
        "    def __init__(self):\n",
        "        super().__init__()\n",
        "    \n",
        "    def forWard(self, input):\n",
        "        return input.tanh()\n",
        "    \n",
        "class Sigmoid(Layer):\n",
        "    def __init__(self):\n",
        "        super().__init__()\n",
        "    \n",
        "    def forWard(self, input):\n",
        "        return input.sigmoid()\n",
        "\n",
        "class Relu(Layer):\n",
        "    def __init__(self):\n",
        "        super().__init__()\n",
        "    \n",
        "    def forWard(self, input):\n",
        "        return input.relu()\n",
        "    \n",
        "\n",
        "class Softmax(Layer):\n",
        "    def __init__(self):\n",
        "        super().__init__()\n",
        "    \n",
        "    def forWard(self, input):\n",
        "        return input.softmax()"
      ],
      "execution_count": 0,
      "outputs": []
    },
    {
      "cell_type": "markdown",
      "metadata": {
        "id": "B9X94SrmpkMi",
        "colab_type": "text"
      },
      "source": [
        "####Linear Layer"
      ]
    },
    {
      "cell_type": "code",
      "metadata": {
        "id": "VkgZOxigpiMI",
        "colab_type": "code",
        "colab": {}
      },
      "source": [
        "\n",
        "class Linear(Layer):\n",
        "\n",
        "    def __init__(self, n_inputs, n_outputs):\n",
        "        super().__init__()\n",
        "        W = np.random.randn(n_inputs, n_outputs) * np.sqrt(2.0/(n_inputs))\n",
        "        self.weight = AutoDiffTensor(W, autodiff=True)\n",
        "        self.bias = AutoDiffTensor(np.zeros(n_outputs), autodiff=True)\n",
        "        \n",
        "        self.parameters.append(self.weight)\n",
        "        self.parameters.append(self.bias)\n",
        "\n",
        "    def forWard(self, input):\n",
        "        return input.mM(self.weight)+self.bias.expand(0,len(input.data))"
      ],
      "execution_count": 0,
      "outputs": []
    },
    {
      "cell_type": "markdown",
      "metadata": {
        "id": "Q3cmLZ9hqn54",
        "colab_type": "text"
      },
      "source": [
        "#### Sequential Layer"
      ]
    },
    {
      "cell_type": "code",
      "metadata": {
        "id": "Uvu7L-IVnPpS",
        "colab_type": "code",
        "colab": {}
      },
      "source": [
        "\n",
        "class Sequential(Layer):\n",
        "    \n",
        "    def __init__(self, layers=list()):\n",
        "        super().__init__()        \n",
        "        self.layers = layers\n",
        "    \n",
        "    def add(self, layer):\n",
        "        self.layers.append(layer)\n",
        "        \n",
        "    def forWard(self, input):\n",
        "        for layer in self.layers:\n",
        "            input = layer.forWard(input)\n",
        "        return input\n",
        "    \n",
        "    def get_parameters(self):\n",
        "        parameters = list()\n",
        "        for layer in self.layers:\n",
        "            parameters += layer.get_parameters()\n",
        "        return parameters\n",
        "\n"
      ],
      "execution_count": 0,
      "outputs": []
    },
    {
      "cell_type": "markdown",
      "metadata": {
        "id": "ENLo5ASmqylM",
        "colab_type": "text"
      },
      "source": [
        "####Embedding Layer"
      ]
    },
    {
      "cell_type": "code",
      "metadata": {
        "id": "M0QJW1zMqigl",
        "colab_type": "code",
        "colab": {}
      },
      "source": [
        "class Embedding(Layer):\n",
        "    \n",
        "    def __init__(self, vocab_size, dim):\n",
        "        super().__init__()\n",
        "        \n",
        "        self.vocab_size = vocab_size\n",
        "        self.dim = dim\n",
        "        \n",
        "        # this random initialiation style is just a convention from word2vec\n",
        "        self.weight = AutoDiffTensor((np.random.rand(vocab_size, dim) - 0.5) / dim)\n",
        "        \n",
        "        self.parameters.append(self.weight)\n",
        "    \n",
        "    def forWard(self, input):\n",
        "        return self.weight.selectIndex(input)"
      ],
      "execution_count": 0,
      "outputs": []
    },
    {
      "cell_type": "markdown",
      "metadata": {
        "id": "Yp9M4JIEnd0M",
        "colab_type": "text"
      },
      "source": [
        "####Loss"
      ]
    },
    {
      "cell_type": "code",
      "metadata": {
        "id": "3HqCtYllnsh5",
        "colab_type": "code",
        "colab": {}
      },
      "source": [
        "class MSELoss(Layer):\n",
        "    def __init__(self):\n",
        "        super().__init__()\n",
        "    \n",
        "    def forWard(self, pred, target):\n",
        "        return ((pred - target)*(pred - target)).sum(0)"
      ],
      "execution_count": 0,
      "outputs": []
    },
    {
      "cell_type": "markdown",
      "metadata": {
        "id": "6L9IO2Zaq240",
        "colab_type": "text"
      },
      "source": [
        "###SGD Optimization"
      ]
    },
    {
      "cell_type": "code",
      "metadata": {
        "id": "o5Nlu2txnaaS",
        "colab_type": "code",
        "colab": {}
      },
      "source": [
        "class SGD(object):\n",
        "    \n",
        "    def __init__(self, parameters, alpha=0.1):\n",
        "        self.parameters = parameters\n",
        "        self.alpha = alpha\n",
        "    \n",
        "    def zero(self):\n",
        "        for parameter in self.parameters:\n",
        "            parameter.grad.data *= 0\n",
        "        \n",
        "    def step(self, zero=True):\n",
        "        \n",
        "        for parameter in self.parameters:\n",
        "            \n",
        "            parameter.data -= parameter.grad.data * self.alpha\n",
        "            \n",
        "            if(zero):\n",
        "                parameter.grad.data *= 0\n"
      ],
      "execution_count": 0,
      "outputs": []
    },
    {
      "cell_type": "markdown",
      "metadata": {
        "id": "RaYNYfQYroBI",
        "colab_type": "text"
      },
      "source": [
        "##Do mnist classifier"
      ]
    },
    {
      "cell_type": "markdown",
      "metadata": {
        "id": "oawcxNSOsHTx",
        "colab_type": "text"
      },
      "source": [
        "#### Import the dataset:MNIST database of handwritten digits\n",
        "\n",
        "Dataset of 60,000 28x28 grayscale images of the 10 digits, along with a test set of 10,000 images.\n",
        "\n",
        "https://keras.io/datasets/#mnist-database-of-handwritten-digits"
      ]
    },
    {
      "cell_type": "code",
      "metadata": {
        "id": "zNhDYCVWsNFP",
        "colab_type": "code",
        "colab": {}
      },
      "source": [
        "from tensorflow.keras.datasets import mnist\n",
        "\n",
        "(train_images, train_labels), (test_images, test_labels) = mnist.load_data()"
      ],
      "execution_count": 0,
      "outputs": []
    },
    {
      "cell_type": "code",
      "metadata": {
        "id": "xrjPxLg_sb88",
        "colab_type": "code",
        "outputId": "dbd8e42a-182e-4a48-f80e-db886e146c2b",
        "colab": {
          "base_uri": "https://localhost:8080/",
          "height": 33
        }
      },
      "source": [
        "train_labels"
      ],
      "execution_count": 0,
      "outputs": [
        {
          "output_type": "execute_result",
          "data": {
            "text/plain": [
              "array([5, 0, 4, ..., 5, 6, 8], dtype=uint8)"
            ]
          },
          "metadata": {
            "tags": []
          },
          "execution_count": 61
        }
      ]
    },
    {
      "cell_type": "code",
      "metadata": {
        "id": "SPbVMdsNsfTC",
        "colab_type": "code",
        "outputId": "4ca28e01-4436-454f-c9de-528f7df3aaa2",
        "colab": {
          "base_uri": "https://localhost:8080/",
          "height": 33
        }
      },
      "source": [
        "np.int8(test_labels)"
      ],
      "execution_count": 0,
      "outputs": [
        {
          "output_type": "execute_result",
          "data": {
            "text/plain": [
              "array([7, 2, 1, ..., 4, 5, 6], dtype=int8)"
            ]
          },
          "metadata": {
            "tags": []
          },
          "execution_count": 62
        }
      ]
    },
    {
      "cell_type": "code",
      "metadata": {
        "id": "VcGU6tMYsmz5",
        "colab_type": "code",
        "colab": {}
      },
      "source": [
        "class_names = ['0', '1', '2', '3', '4',\n",
        "               '5', '6', '7', '8', '9']"
      ],
      "execution_count": 0,
      "outputs": []
    },
    {
      "cell_type": "code",
      "metadata": {
        "id": "fCpcOwKZsuvU",
        "colab_type": "code",
        "outputId": "ba7d6528-e1e4-4972-c83d-5653e50b202d",
        "colab": {
          "base_uri": "https://localhost:8080/",
          "height": 264
        }
      },
      "source": [
        "plt.figure()\n",
        "plt.imshow(train_images[0])\n",
        "plt.colorbar()\n",
        "plt.grid(False)\n",
        "plt.show()"
      ],
      "execution_count": 0,
      "outputs": [
        {
          "output_type": "display_data",
          "data": {
            "image/png": "[encoded data removed]",
            "text/plain": [
              "<Figure size 432x288 with 2 Axes>"
            ]
          },
          "metadata": {
            "tags": [],
            "needs_background": "light"
          }
        }
      ]
    },
    {
      "cell_type": "markdown",
      "metadata": {
        "id": "DWlK_FAat1Zw",
        "colab_type": "text"
      },
      "source": [
        "Scale these values to a range of 0 to 1 before feeding them to the neural network model. "
      ]
    },
    {
      "cell_type": "code",
      "metadata": {
        "id": "9E6QlzrWsyOt",
        "colab_type": "code",
        "colab": {}
      },
      "source": [
        "np.random.seed(1)"
      ],
      "execution_count": 0,
      "outputs": []
    },
    {
      "cell_type": "code",
      "metadata": {
        "id": "OS_gg7prs6XO",
        "colab_type": "code",
        "colab": {}
      },
      "source": [
        "images, labels = (train_images[0:2000].reshape(2000,28*28) / 255), train_labels[0:2000]"
      ],
      "execution_count": 0,
      "outputs": []
    },
    {
      "cell_type": "code",
      "metadata": {
        "id": "HJCPfEW8tXoa",
        "colab_type": "code",
        "colab": {}
      },
      "source": [
        "one_hot_labels = np.zeros((len(labels), 10))"
      ],
      "execution_count": 0,
      "outputs": []
    },
    {
      "cell_type": "code",
      "metadata": {
        "id": "FQlRYeghuD9F",
        "colab_type": "code",
        "colab": {}
      },
      "source": [
        "for i,l in enumerate(labels):\n",
        "  one_hot_labels[i][l] = 1\n",
        "labels = one_hot_labels\n",
        "\n",
        "test_img = test_images.reshape(len(test_images), 28*28) / 255\n",
        "test_label = np.zeros((len(test_labels), 10))\n",
        "\n",
        "for i,l in enumerate(test_labels):\n",
        "    test_label[i][l] = 1"
      ],
      "execution_count": 0,
      "outputs": []
    },
    {
      "cell_type": "code",
      "metadata": {
        "id": "ob6SSOERtjxr",
        "colab_type": "code",
        "outputId": "7ff5d9ac-235d-4487-fabb-1249b7a158eb",
        "colab": {
          "base_uri": "https://localhost:8080/",
          "height": 33
        }
      },
      "source": [
        "images.shape"
      ],
      "execution_count": 0,
      "outputs": [
        {
          "output_type": "execute_result",
          "data": {
            "text/plain": [
              "(2000, 784)"
            ]
          },
          "metadata": {
            "tags": []
          },
          "execution_count": 69
        }
      ]
    },
    {
      "cell_type": "code",
      "metadata": {
        "id": "-mYJEp_TtluF",
        "colab_type": "code",
        "outputId": "550a1d0e-ccc5-4bda-eee1-6c7a8985df85",
        "colab": {
          "base_uri": "https://localhost:8080/",
          "height": 133
        }
      },
      "source": [
        "labels"
      ],
      "execution_count": 0,
      "outputs": [
        {
          "output_type": "execute_result",
          "data": {
            "text/plain": [
              "array([[0., 0., 0., ..., 0., 0., 0.],\n",
              "       [1., 0., 0., ..., 0., 0., 0.],\n",
              "       [0., 0., 0., ..., 0., 0., 0.],\n",
              "       ...,\n",
              "       [0., 0., 0., ..., 0., 0., 0.],\n",
              "       [0., 0., 1., ..., 0., 0., 0.],\n",
              "       [1., 0., 0., ..., 0., 0., 0.]])"
            ]
          },
          "metadata": {
            "tags": []
          },
          "execution_count": 70
        }
      ]
    },
    {
      "cell_type": "markdown",
      "metadata": {
        "id": "C1V0Pc-GtuZk",
        "colab_type": "text"
      },
      "source": [
        "To verify that the data is in the correct format and ready to build and train the network, let's display the first 25 images from the *training set* and display the class name below each image."
      ]
    },
    {
      "cell_type": "code",
      "metadata": {
        "id": "c7qOHTFJtqaN",
        "colab_type": "code",
        "outputId": "09435d29-fd59-4749-d1e8-0194f25a0e0f",
        "colab": {
          "base_uri": "https://localhost:8080/",
          "height": 588
        }
      },
      "source": [
        "plt.figure(figsize=(10,10))\n",
        "for i in range(25):\n",
        "    plt.subplot(5,5,i+1)\n",
        "    plt.xticks([])\n",
        "    plt.yticks([])\n",
        "    plt.grid(False)\n",
        "    plt.imshow(train_images[i], cmap=plt.cm.binary)\n",
        "    plt.xlabel(class_names[train_labels[i]])\n",
        "plt.show()"
      ],
      "execution_count": 0,
      "outputs": [
        {
          "output_type": "display_data",
          "data": {
            "image/png": "[encoded data removed]",
            "text/plain": [
              "<Figure size 720x720 with 25 Axes>"
            ]
          },
          "metadata": {
            "tags": []
          }
        }
      ]
    },
    {
      "cell_type": "code",
      "metadata": {
        "id": "9arHeC289jiv",
        "colab_type": "code",
        "outputId": "5e6f8bb0-e299-47e6-a27c-960156117ca0",
        "colab": {
          "base_uri": "https://localhost:8080/",
          "height": 33
        }
      },
      "source": [
        "p = np.array([[0,1,2,3], [4,5,6,7]])\n",
        "t = 0\n",
        "np.eye(p.shape[1])[t]"
      ],
      "execution_count": 0,
      "outputs": [
        {
          "output_type": "execute_result",
          "data": {
            "text/plain": [
              "array([1., 0., 0., 0.])"
            ]
          },
          "metadata": {
            "tags": []
          },
          "execution_count": 72
        }
      ]
    },
    {
      "cell_type": "code",
      "metadata": {
        "id": "CAIL_WFk-Ns0",
        "colab_type": "code",
        "outputId": "5796469a-96aa-4183-f2b1-af7906756327",
        "colab": {
          "base_uri": "https://localhost:8080/",
          "height": 33
        }
      },
      "source": [
        "p.shape[1]"
      ],
      "execution_count": 0,
      "outputs": [
        {
          "output_type": "execute_result",
          "data": {
            "text/plain": [
              "4"
            ]
          },
          "metadata": {
            "tags": []
          },
          "execution_count": 73
        }
      ]
    },
    {
      "cell_type": "markdown",
      "metadata": {
        "id": "mu7RqLg6u8RY",
        "colab_type": "text"
      },
      "source": [
        "Test"
      ]
    },
    {
      "cell_type": "code",
      "metadata": {
        "id": "1R28Ikjdu2we",
        "colab_type": "code",
        "colab": {}
      },
      "source": [
        "Xtrain=train_images"
      ],
      "execution_count": 0,
      "outputs": []
    },
    {
      "cell_type": "code",
      "metadata": {
        "id": "RysKy-ixory-",
        "colab_type": "code",
        "outputId": "6a4aa274-5397-4228-e507-28c1578dba81",
        "colab": {
          "base_uri": "https://localhost:8080/",
          "height": 1000
        }
      },
      "source": [
        "Xtrain[0]"
      ],
      "execution_count": 0,
      "outputs": [
        {
          "output_type": "execute_result",
          "data": {
            "text/plain": [
              "array([[  0,   0,   0,   0,   0,   0,   0,   0,   0,   0,   0,   0,   0,\n",
              "          0,   0,   0,   0,   0,   0,   0,   0,   0,   0,   0,   0,   0,\n",
              "          0,   0],\n",
              "       [  0,   0,   0,   0,   0,   0,   0,   0,   0,   0,   0,   0,   0,\n",
              "          0,   0,   0,   0,   0,   0,   0,   0,   0,   0,   0,   0,   0,\n",
              "          0,   0],\n",
              "       [  0,   0,   0,   0,   0,   0,   0,   0,   0,   0,   0,   0,   0,\n",
              "          0,   0,   0,   0,   0,   0,   0,   0,   0,   0,   0,   0,   0,\n",
              "          0,   0],\n",
              "       [  0,   0,   0,   0,   0,   0,   0,   0,   0,   0,   0,   0,   0,\n",
              "          0,   0,   0,   0,   0,   0,   0,   0,   0,   0,   0,   0,   0,\n",
              "          0,   0],\n",
              "       [  0,   0,   0,   0,   0,   0,   0,   0,   0,   0,   0,   0,   0,\n",
              "          0,   0,   0,   0,   0,   0,   0,   0,   0,   0,   0,   0,   0,\n",
              "          0,   0],\n",
              "       [  0,   0,   0,   0,   0,   0,   0,   0,   0,   0,   0,   0,   3,\n",
              "         18,  18,  18, 126, 136, 175,  26, 166, 255, 247, 127,   0,   0,\n",
              "          0,   0],\n",
              "       [  0,   0,   0,   0,   0,   0,   0,   0,  30,  36,  94, 154, 170,\n",
              "        253, 253, 253, 253, 253, 225, 172, 253, 242, 195,  64,   0,   0,\n",
              "          0,   0],\n",
              "       [  0,   0,   0,   0,   0,   0,   0,  49, 238, 253, 253, 253, 253,\n",
              "        253, 253, 253, 253, 251,  93,  82,  82,  56,  39,   0,   0,   0,\n",
              "          0,   0],\n",
              "       [  0,   0,   0,   0,   0,   0,   0,  18, 219, 253, 253, 253, 253,\n",
              "        253, 198, 182, 247, 241,   0,   0,   0,   0,   0,   0,   0,   0,\n",
              "          0,   0],\n",
              "       [  0,   0,   0,   0,   0,   0,   0,   0,  80, 156, 107, 253, 253,\n",
              "        205,  11,   0,  43, 154,   0,   0,   0,   0,   0,   0,   0,   0,\n",
              "          0,   0],\n",
              "       [  0,   0,   0,   0,   0,   0,   0,   0,   0,  14,   1, 154, 253,\n",
              "         90,   0,   0,   0,   0,   0,   0,   0,   0,   0,   0,   0,   0,\n",
              "          0,   0],\n",
              "       [  0,   0,   0,   0,   0,   0,   0,   0,   0,   0,   0, 139, 253,\n",
              "        190,   2,   0,   0,   0,   0,   0,   0,   0,   0,   0,   0,   0,\n",
              "          0,   0],\n",
              "       [  0,   0,   0,   0,   0,   0,   0,   0,   0,   0,   0,  11, 190,\n",
              "        253,  70,   0,   0,   0,   0,   0,   0,   0,   0,   0,   0,   0,\n",
              "          0,   0],\n",
              "       [  0,   0,   0,   0,   0,   0,   0,   0,   0,   0,   0,   0,  35,\n",
              "        241, 225, 160, 108,   1,   0,   0,   0,   0,   0,   0,   0,   0,\n",
              "          0,   0],\n",
              "       [  0,   0,   0,   0,   0,   0,   0,   0,   0,   0,   0,   0,   0,\n",
              "         81, 240, 253, 253, 119,  25,   0,   0,   0,   0,   0,   0,   0,\n",
              "          0,   0],\n",
              "       [  0,   0,   0,   0,   0,   0,   0,   0,   0,   0,   0,   0,   0,\n",
              "          0,  45, 186, 253, 253, 150,  27,   0,   0,   0,   0,   0,   0,\n",
              "          0,   0],\n",
              "       [  0,   0,   0,   0,   0,   0,   0,   0,   0,   0,   0,   0,   0,\n",
              "          0,   0,  16,  93, 252, 253, 187,   0,   0,   0,   0,   0,   0,\n",
              "          0,   0],\n",
              "       [  0,   0,   0,   0,   0,   0,   0,   0,   0,   0,   0,   0,   0,\n",
              "          0,   0,   0,   0, 249, 253, 249,  64,   0,   0,   0,   0,   0,\n",
              "          0,   0],\n",
              "       [  0,   0,   0,   0,   0,   0,   0,   0,   0,   0,   0,   0,   0,\n",
              "          0,  46, 130, 183, 253, 253, 207,   2,   0,   0,   0,   0,   0,\n",
              "          0,   0],\n",
              "       [  0,   0,   0,   0,   0,   0,   0,   0,   0,   0,   0,   0,  39,\n",
              "        148, 229, 253, 253, 253, 250, 182,   0,   0,   0,   0,   0,   0,\n",
              "          0,   0],\n",
              "       [  0,   0,   0,   0,   0,   0,   0,   0,   0,   0,  24, 114, 221,\n",
              "        253, 253, 253, 253, 201,  78,   0,   0,   0,   0,   0,   0,   0,\n",
              "          0,   0],\n",
              "       [  0,   0,   0,   0,   0,   0,   0,   0,  23,  66, 213, 253, 253,\n",
              "        253, 253, 198,  81,   2,   0,   0,   0,   0,   0,   0,   0,   0,\n",
              "          0,   0],\n",
              "       [  0,   0,   0,   0,   0,   0,  18, 171, 219, 253, 253, 253, 253,\n",
              "        195,  80,   9,   0,   0,   0,   0,   0,   0,   0,   0,   0,   0,\n",
              "          0,   0],\n",
              "       [  0,   0,   0,   0,  55, 172, 226, 253, 253, 253, 253, 244, 133,\n",
              "         11,   0,   0,   0,   0,   0,   0,   0,   0,   0,   0,   0,   0,\n",
              "          0,   0],\n",
              "       [  0,   0,   0,   0, 136, 253, 253, 253, 212, 135, 132,  16,   0,\n",
              "          0,   0,   0,   0,   0,   0,   0,   0,   0,   0,   0,   0,   0,\n",
              "          0,   0],\n",
              "       [  0,   0,   0,   0,   0,   0,   0,   0,   0,   0,   0,   0,   0,\n",
              "          0,   0,   0,   0,   0,   0,   0,   0,   0,   0,   0,   0,   0,\n",
              "          0,   0],\n",
              "       [  0,   0,   0,   0,   0,   0,   0,   0,   0,   0,   0,   0,   0,\n",
              "          0,   0,   0,   0,   0,   0,   0,   0,   0,   0,   0,   0,   0,\n",
              "          0,   0],\n",
              "       [  0,   0,   0,   0,   0,   0,   0,   0,   0,   0,   0,   0,   0,\n",
              "          0,   0,   0,   0,   0,   0,   0,   0,   0,   0,   0,   0,   0,\n",
              "          0,   0]], dtype=uint8)"
            ]
          },
          "metadata": {
            "tags": []
          },
          "execution_count": 75
        }
      ]
    },
    {
      "cell_type": "code",
      "metadata": {
        "id": "dPcVvJyZO868",
        "colab_type": "code",
        "outputId": "093d2927-2dd2-4de5-84ae-71c4f01cca18",
        "colab": {
          "base_uri": "https://localhost:8080/",
          "height": 230
        }
      },
      "source": [
        "np.random.seed(0)\n",
        "\n",
        "df = AutoDiffTensor(np.array(Xtrain[0]), autodiff=True)\n",
        "y0 = train_labels[0]\n",
        "target = AutoDiffTensor(np.array([y0]*28), autodiff=True)\n",
        "\n",
        "         \n",
        "model = Sequential([Linear(28,28), Relu(), Linear(28,15), Relu(),Linear(15,10)])\n",
        "\n",
        "criterion = crossEntropy()\n",
        "\n",
        "optimiztation = SGD(parameters=model.get_parameters(), alpha=0.1)\n",
        "\n",
        "y_pred = model.forWard(df)\n",
        "\n",
        "loss = criterion.forWard(y_pred, target)\n",
        "  \n",
        "# Learn\n",
        "loss.backWard(AutoDiffTensor(np.ones_like(loss.data)))\n",
        "optimiztation.step()\n",
        "print(y_pred)\n",
        "\n"
      ],
      "execution_count": 0,
      "outputs": [
        {
          "output_type": "error",
          "ename": "NameError",
          "evalue": "ignored",
          "traceback": [
            "\u001b[0;31m---------------------------------------------------------------------------\u001b[0m",
            "\u001b[0;31mNameError\u001b[0m                                 Traceback (most recent call last)",
            "\u001b[0;32m<ipython-input-76-8d629ecd9390>\u001b[0m in \u001b[0;36m<module>\u001b[0;34m()\u001b[0m\n\u001b[1;32m      8\u001b[0m \u001b[0mmodel\u001b[0m \u001b[0;34m=\u001b[0m \u001b[0mSequential\u001b[0m\u001b[0;34m(\u001b[0m\u001b[0;34m[\u001b[0m\u001b[0mLinear\u001b[0m\u001b[0;34m(\u001b[0m\u001b[0;36m28\u001b[0m\u001b[0;34m,\u001b[0m\u001b[0;36m28\u001b[0m\u001b[0;34m)\u001b[0m\u001b[0;34m,\u001b[0m \u001b[0mRelu\u001b[0m\u001b[0;34m(\u001b[0m\u001b[0;34m)\u001b[0m\u001b[0;34m,\u001b[0m \u001b[0mLinear\u001b[0m\u001b[0;34m(\u001b[0m\u001b[0;36m28\u001b[0m\u001b[0;34m,\u001b[0m\u001b[0;36m15\u001b[0m\u001b[0;34m)\u001b[0m\u001b[0;34m,\u001b[0m \u001b[0mRelu\u001b[0m\u001b[0;34m(\u001b[0m\u001b[0;34m)\u001b[0m\u001b[0;34m,\u001b[0m\u001b[0mLinear\u001b[0m\u001b[0;34m(\u001b[0m\u001b[0;36m15\u001b[0m\u001b[0;34m,\u001b[0m\u001b[0;36m10\u001b[0m\u001b[0;34m)\u001b[0m\u001b[0;34m]\u001b[0m\u001b[0;34m)\u001b[0m\u001b[0;34m\u001b[0m\u001b[0;34m\u001b[0m\u001b[0m\n\u001b[1;32m      9\u001b[0m \u001b[0;34m\u001b[0m\u001b[0m\n\u001b[0;32m---> 10\u001b[0;31m \u001b[0mcriterion\u001b[0m \u001b[0;34m=\u001b[0m \u001b[0mcrossEntropy\u001b[0m\u001b[0;34m(\u001b[0m\u001b[0;34m)\u001b[0m\u001b[0;34m\u001b[0m\u001b[0;34m\u001b[0m\u001b[0m\n\u001b[0m\u001b[1;32m     11\u001b[0m \u001b[0;34m\u001b[0m\u001b[0m\n\u001b[1;32m     12\u001b[0m \u001b[0moptimiztation\u001b[0m \u001b[0;34m=\u001b[0m \u001b[0mSGD\u001b[0m\u001b[0;34m(\u001b[0m\u001b[0mparameters\u001b[0m\u001b[0;34m=\u001b[0m\u001b[0mmodel\u001b[0m\u001b[0;34m.\u001b[0m\u001b[0mget_parameters\u001b[0m\u001b[0;34m(\u001b[0m\u001b[0;34m)\u001b[0m\u001b[0;34m,\u001b[0m \u001b[0malpha\u001b[0m\u001b[0;34m=\u001b[0m\u001b[0;36m0.1\u001b[0m\u001b[0;34m)\u001b[0m\u001b[0;34m\u001b[0m\u001b[0;34m\u001b[0m\u001b[0m\n",
            "\u001b[0;31mNameError\u001b[0m: name 'crossEntropy' is not defined"
          ]
        }
      ]
    },
    {
      "cell_type": "code",
      "metadata": {
        "id": "_06H3JV8wsxu",
        "colab_type": "code",
        "colab": {}
      },
      "source": [
        "print(y_train[0])"
      ],
      "execution_count": 0,
      "outputs": []
    },
    {
      "cell_type": "code",
      "metadata": {
        "id": "0lf_MtUexZNi",
        "colab_type": "code",
        "colab": {}
      },
      "source": [
        "print(loss)"
      ],
      "execution_count": 0,
      "outputs": []
    },
    {
      "cell_type": "code",
      "metadata": {
        "id": "jxNWlpOPOsrj",
        "colab_type": "code",
        "colab": {}
      },
      "source": [
        "np.random.seed(0)\n",
        "\n",
        "\n",
        "df2 = AutoDiffTensor(np.array([1,2,1,2]), autodiff=True)\n",
        "\n",
        "target = AutoDiffTensor(np.array([0,1,0,1]), autodiff=True)\n",
        "\n",
        "model = Sequential([Embedding(3,3), Tanh(), Linear(3,4)])\n",
        "criterion = crossEntropy()\n",
        "\n",
        "optimiztation = SGD(parameters=model.get_parameters(), alpha=0.1)\n",
        "\n",
        "for i in range(10):\n",
        "    \n",
        "    # Predict\n",
        "    pred = model.forWard(df2)\n",
        "    \n",
        "    # Compare\n",
        "    loss = criterion.forWard(pred, target)\n",
        "    \n",
        "    # Learn\n",
        "    loss.backWard(AutoDiffTensor(np.ones_like(loss.data)))\n",
        "    optim.step()\n",
        "    print(loss)"
      ],
      "execution_count": 0,
      "outputs": []
    }
  ]
}