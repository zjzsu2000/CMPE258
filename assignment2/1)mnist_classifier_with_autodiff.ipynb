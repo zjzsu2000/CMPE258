{
  "nbformat": 4,
  "nbformat_minor": 0,
  "metadata": {
    "colab": {
      "name": " 1)mnist_classifier_with_autodiff.ipynb",
      "provenance": [],
      "collapsed_sections": [],
      "toc_visible": true,
      "include_colab_link": true
    },
    "kernelspec": {
      "name": "python3",
      "display_name": "Python 3"
    },
    "accelerator": "GPU"
  },
  "cells": [
    {
      "cell_type": "markdown",
      "metadata": {
        "id": "view-in-github",
        "colab_type": "text"
      },
      "source": [
        "<a href=\"https://colab.research.google.com/github/zjzsu2000/CMPE258/blob/master/assignment2/1)mnist_classifier_with_autodiff.ipynb\" target=\"_parent\"><img src=\"https://colab.research.google.com/assets/colab-badge.svg\" alt=\"Open In Colab\"/></a>"
      ]
    },
    {
      "cell_type": "code",
      "metadata": {
        "id": "JYYh7PCNpuFf",
        "colab_type": "code",
        "colab": {}
      },
      "source": [
        "try:\n",
        "  # %tensorflow_version only exists in Colab.\n",
        "  %tensorflow_version 2.x\n",
        "except Exception:\n",
        "  pass"
      ],
      "execution_count": 0,
      "outputs": []
    },
    {
      "cell_type": "code",
      "metadata": {
        "id": "4e51vQrUpvAc",
        "colab_type": "code",
        "outputId": "128867de-0ace-4321-f942-fa969c654d16",
        "colab": {
          "base_uri": "https://localhost:8080/",
          "height": 33
        }
      },
      "source": [
        "from __future__ import absolute_import, division, print_function, unicode_literals\n",
        "\n",
        "# TensorFlow and tf.keras\n",
        "import tensorflow as tf\n",
        "from tensorflow import keras\n",
        "\n",
        "# Helper libraries\n",
        "import numpy as np\n",
        "import matplotlib.pyplot as plt\n",
        "\n",
        "print(tf.__version__)"
      ],
      "execution_count": 4,
      "outputs": [
        {
          "output_type": "stream",
          "text": [
            "2.2.0-rc3\n"
          ],
          "name": "stdout"
        }
      ]
    },
    {
      "cell_type": "markdown",
      "metadata": {
        "id": "APzS1lj99fXy",
        "colab_type": "text"
      },
      "source": [
        "##Part I) Do write autodiff python  library and based on it , do  mnist classifier"
      ]
    },
    {
      "cell_type": "markdown",
      "metadata": {
        "id": "C3izkkippVqq",
        "colab_type": "text"
      },
      "source": [
        "###AutoDiffTensor"
      ]
    },
    {
      "cell_type": "code",
      "metadata": {
        "id": "vPyc3dXnOOaM",
        "colab_type": "code",
        "colab": {}
      },
      "source": [
        "import numpy as np\n",
        "\n",
        "class AutoDiffTensor (object):\n",
        "    \n",
        "    def __init__(self,dataInput,autodiff=False,creators=None,creationOperation=None,randID=None):\n",
        "        \n",
        "        self.data = np.array(dataInput)\n",
        "        self.autodiff = autodiff\n",
        "        self.grad = None\n",
        "        if(randID is None):\n",
        "            self.randID = np.random.randint(0,10000)\n",
        "        else:\n",
        "            self.randID = randID\n",
        "        \n",
        "        self.creators = creators\n",
        "        self.creationOperation = creationOperation\n",
        "        self.children = {}\n",
        "        if(creators is not None):\n",
        "            for creator in creators:\n",
        "                if(self.randID not in creator.children):\n",
        "                    creator.children[self.randID] = 1\n",
        "                else:\n",
        "                    creator.children[self.randID] += 1\n",
        "\n",
        "    def counted(self):\n",
        "        for randID,count in self.children.items():\n",
        "            if(count  != 0):\n",
        "                return False\n",
        "        return True \n",
        "        \n",
        "    def backWard(self,grad=None, grad_origin=None):\n",
        "        if(self.autodiff==True):\n",
        " \n",
        "            if(grad is None):\n",
        "                grad = AutoDiffTensor(np.ones_like(self.data))\n",
        "\n",
        "            if(grad_origin is not None):\n",
        "                if(self.children[grad_origin.randID] == 0):\n",
        "                    raise Exception(\"can't backprop more than once\")\n",
        "                else:\n",
        "                    self.children[grad_origin.randID] -= 1\n",
        "\n",
        "            if(self.grad is None):\n",
        "                self.grad = grad\n",
        "            else:\n",
        "                self.grad += grad\n",
        "            \n",
        "            # grads must not have their own grads\n",
        "            assert grad.autodiff == False\n",
        "            \n",
        "            \n",
        "            if(self.creators is not None and (self.counted() or grad_origin is None)):\n",
        "\n",
        "                # adding function\n",
        "                if(self.creationOperation == \"add\"):\n",
        "                    self.creators[0].backWard(self.grad, self)\n",
        "                    self.creators[1].backWard(self.grad, self)\n",
        "                    \n",
        "                #  subtracting function\n",
        "                if(self.creationOperation == \"sub\"):\n",
        "                    self.creators[0].backWard(AutoDiffTensor(self.grad.data), self)\n",
        "                    self.creators[1].backWard(AutoDiffTensor(self.grad.__neg__().data), self)\n",
        "\n",
        "                # multiply function\n",
        "                if(self.creationOperation == \"mul\"):\n",
        "                    new = self.grad * self.creators[1]\n",
        "                    self.creators[0].backWard(new , self)\n",
        "                    new = self.grad * self.creators[0]\n",
        "                    self.creators[1].backWard(new, self)                    \n",
        "                    \n",
        "                # matrix multiplication function\n",
        "                if(self.creationOperation == \"mm\"):\n",
        "                    c0 = self.creators[0]\n",
        "                    c1 = self.creators[1]\n",
        "                    new = self.grad.mM(c1.transpose())\n",
        "                    c0.backWard(new)\n",
        "                    new = self.grad.transpose().mM(c0).transpose()\n",
        "                    c1.backWard(new)\n",
        "                    \n",
        "                # transpose \n",
        "                if(self.creationOperation == \"transpose\"):\n",
        "                    self.creators[0].backWard(self.grad.transpose())\n",
        "\n",
        "                if(\"sum\" in self.creationOperation):\n",
        "                    dim = int(self.creationOperation.split(\"_\")[1])\n",
        "                    self.creators[0].backWard(self.grad.expand(dim,self.creators[0].data.shape[dim]))\n",
        "\n",
        "                if(\"expand\" in self.creationOperation):\n",
        "                    dim = int(self.creationOperation.split(\"_\")[1])\n",
        "                    self.creators[0].backWard(self.grad.sum(dim))\n",
        "                    \n",
        "                if(self.creationOperation == \"neg\"):\n",
        "                    self.creators[0].backWard(self.grad.__neg__())\n",
        "                    \n",
        "                if(self.creationOperation == \"sigmoid\"):\n",
        "                    ones = AutoDiffTensor(np.ones_like(self.grad.data))\n",
        "                    self.creators[0].backWard(self.grad * (self * (ones - self)))\n",
        "\n",
        "                if(self.creationOperation == \"relu\"):\n",
        "                    ones = AutoDiffTensor(np.ones_like(self.grad.data))\n",
        "                    self.creators[0].backWard(self.grad * (ones - (self * self)))\n",
        "                \n",
        "                if(self.creationOperation == \"tanh\"):\n",
        "                    ones = AutoDiffTensor(np.ones_like(self.grad.data))\n",
        "                    self.creators[0].backWard(self.grad * (ones - (self * self)))\n",
        "\n",
        "                if(self.creationOperation == \"cross_entropy\"):\n",
        "                    # print(\"Softmax Output\", self.softmax_output)\n",
        "                    # print(\"Target\", self.target_dist)\n",
        "                    dx = self.softmax_output - self.target_dist\n",
        "                    self.creators[0].backWard(AutoDiffTensor(dx))\n",
        "                \n",
        "                if(self.creationOperation == \"index_select\"):\n",
        "                    new_grad = np.zeros_like(self.creators[0].data)\n",
        "                    indices_ = self.index_select_indices.data.flatten()\n",
        "                    grad_ = grad.data.reshape(len(indices_), -1)\n",
        "                    for i in range(len(indices_)):\n",
        "                        new_grad[indices_[i]] += grad_[i]\n",
        "                    self.creators[0].backWard(AutoDiffTensor(new_grad))\n",
        "\n",
        "                    \n",
        "    def __add__(self, other):\n",
        "        if(self.autodiff and other.autodiff):\n",
        "            return AutoDiffTensor(self.data + other.data,\n",
        "                          autodiff=True,\n",
        "                          creators=[self,other],\n",
        "                          creationOperation=\"add\")\n",
        "        return AutoDiffTensor(self.data + other.data)\n",
        "\n",
        "    def __neg__(self):\n",
        "        if(self.autodiff):\n",
        "            return AutoDiffTensor(self.data * -1,\n",
        "                          autodiff=True,\n",
        "                          creators=[self],\n",
        "                          creationOperation=\"neg\")\n",
        "        return AutoDiffTensor(self.data * -1)\n",
        "    \n",
        "    def __sub__(self, other):\n",
        "        if(self.autodiff and other.autodiff):\n",
        "            return AutoDiffTensor(self.data - other.data,\n",
        "                          autodiff=True,\n",
        "                          creators=[self,other],\n",
        "                          creationOperation=\"sub\")\n",
        "        return AutoDiffTensor(self.data - other.data)\n",
        "    \n",
        "    def __mul__(self, other):\n",
        "        if(self.autodiff and other.autodiff):\n",
        "            return AutoDiffTensor(self.data * other.data,\n",
        "                          autodiff=True,\n",
        "                          creators=[self,other],\n",
        "                          creationOperation=\"mul\")\n",
        "        return AutoDiffTensor(self.data * other.data)    \n",
        "\n",
        "    def sum(self, dim):\n",
        "        if(self.autodiff):\n",
        "            return AutoDiffTensor(self.data.sum(dim),\n",
        "                          autodiff=True,\n",
        "                          creators=[self],\n",
        "                          creationOperation=\"sum_\"+str(dim))\n",
        "        return AutoDiffTensor(self.data.sum(dim))\n",
        "    \n",
        "    def expand(self, dim,copies):\n",
        "\n",
        "        trans_cmd = list(range(0,len(self.data.shape)))\n",
        "        trans_cmd.insert(dim,len(self.data.shape))\n",
        "        new_data = self.data.repeat(copies).reshape(list(self.data.shape) + [copies]).transpose(trans_cmd)\n",
        "        \n",
        "        if(self.autodiff):\n",
        "            return AutoDiffTensor(new_data,\n",
        "                          autodiff=True,\n",
        "                          creators=[self],\n",
        "                          creationOperation=\"expand_\"+str(dim))\n",
        "        return AutoDiffTensor(new_data)\n",
        "    \n",
        "    def transpose(self):\n",
        "        if(self.autodiff):\n",
        "            return AutoDiffTensor(self.data.transpose(),\n",
        "                          autodiff=True,\n",
        "                          creators=[self],\n",
        "                          creationOperation=\"transpose\")\n",
        "        \n",
        "        return AutoDiffTensor(self.data.transpose())\n",
        "    \n",
        "    def mM(self, x):\n",
        "        if(self.autodiff):\n",
        "            return AutoDiffTensor(self.data.dot(x.data),\n",
        "                          autodiff=True,\n",
        "                          creators=[self,x],\n",
        "                          creationOperation=\"mm\")\n",
        "        return AutoDiffTensor(self.data.dot(x.data))\n",
        "    \n",
        "    #Sigmoid\n",
        "    def sigmoid(self):\n",
        "        if(self.autodiff):\n",
        "            return AutoDiffTensor(1 / (1 + np.exp(-self.data)),\n",
        "                          autodiff=True,\n",
        "                          creators=[self],\n",
        "                          creationOperation=\"sigmoid\")\n",
        "        return AutoDiffTensor(1 / (1 + np.exp(-self.data)))\n",
        "\n",
        "    #Tanh\n",
        "    def tanh(self):\n",
        "        if(self.autodiff):\n",
        "            return AutoDiffTensor(np.tanh(self.data),\n",
        "                          autodiff=True,\n",
        "                          creators=[self],\n",
        "                          creationOperation=\"tanh\")\n",
        "        return AutoDiffTensor(np.tanh(self.data))\n",
        "\n",
        "    #Rulu\n",
        "    def relu(self):\n",
        "        if(self.autodiff):\n",
        "            return AutoDiffTensor(((self.data > 0) * self.data),\n",
        "                          autodiff=True,\n",
        "                          creators=[self],\n",
        "                          creationOperation=\"relu\")\n",
        "        return AutoDiffTensor(np.tanh(self.data))\n",
        "    \n",
        "    #SelectIndex\n",
        "    def selectIndex(self, indices):\n",
        "\n",
        "        if(self.autodiff):\n",
        "            new = AutoDiffTensor(self.data[indices.data],\n",
        "                         autodiff=True,\n",
        "                         creators=[self],\n",
        "                         creationOperation=\"index_select\")\n",
        "            new.selectIndex = indices\n",
        "            return new\n",
        "        return AutoDiffTensor(self.data[indices.data])\n",
        "    \n",
        "    #CrossEntropy\n",
        "    def crossEntropy(self, target_indices):\n",
        "\n",
        "        temp = np.exp(self.data)\n",
        "        softmax_output = temp / np.sum(temp,\n",
        "                                       axis=len(self.data.shape)-1,\n",
        "                                       keepdims=True)\n",
        "        \n",
        "        t = target_indices.data.flatten()\n",
        "        p = softmax_output.reshape(len(t),-1)\n",
        "        # print(\"P:\", p)\n",
        "        # print(\"T:\", t)\n",
        "        target_dist = np.eye(p.shape[1])[t]\n",
        "        loss = -(np.log(p) * (target_dist)).sum(1).mean()\n",
        "    \n",
        "        if(self.autodiff):\n",
        "            out = AutoDiffTensor(loss,autodiff=True,\n",
        "                         creators=[self],creationOperation=\"cross_entropy\")\n",
        "            out.softmax_output = softmax_output\n",
        "            out.target_dist = target_dist\n",
        "            return out\n",
        "        return AutoDiffTensor(loss)\n",
        "        \n",
        "    \n",
        "    def __repr__(self):\n",
        "        return str(self.data.__repr__())\n",
        "    \n",
        "    def __str__(self):        \n",
        "        return str(self.data.__str__())  \n"
      ],
      "execution_count": 0,
      "outputs": []
    },
    {
      "cell_type": "markdown",
      "metadata": {
        "id": "5wXQgPYmpN2r",
        "colab_type": "text"
      },
      "source": [
        "### Add Layer and subClasses"
      ]
    },
    {
      "cell_type": "markdown",
      "metadata": {
        "id": "eXrntPgbrawA",
        "colab_type": "text"
      },
      "source": [
        "####Layer Class"
      ]
    },
    {
      "cell_type": "code",
      "metadata": {
        "id": "kMHLAgf1nGU6",
        "colab_type": "code",
        "colab": {}
      },
      "source": [
        "class Layer(object):    \n",
        "    def __init__(self):\n",
        "        self.parameters = list()\n",
        "        \n",
        "    def get_parameters(self):\n",
        "        return self.parameters\n",
        "\n",
        "\n"
      ],
      "execution_count": 0,
      "outputs": []
    },
    {
      "cell_type": "markdown",
      "metadata": {
        "id": "0hYdMK5orD2Q",
        "colab_type": "text"
      },
      "source": [
        "####Tanh,Sigmoid,RELU,SoftMax"
      ]
    },
    {
      "cell_type": "code",
      "metadata": {
        "id": "sqK5pawlrBg8",
        "colab_type": "code",
        "colab": {}
      },
      "source": [
        "class Tanh(Layer):\n",
        "    def __init__(self):\n",
        "        super().__init__()\n",
        "    \n",
        "    def forWard(self, input):\n",
        "        return input.tanh()\n",
        "    \n",
        "class Sigmoid(Layer):\n",
        "    def __init__(self):\n",
        "        super().__init__()\n",
        "    \n",
        "    def forWard(self, input):\n",
        "        return input.sigmoid()\n",
        "\n",
        "class Relu(Layer):\n",
        "    def __init__(self):\n",
        "        super().__init__()\n",
        "    \n",
        "    def forWard(self, input):\n",
        "        return input.relu()\n",
        "    \n",
        "\n",
        "class Softmax(Layer):\n",
        "    def __init__(self):\n",
        "        super().__init__()\n",
        "    \n",
        "    def forWard(self, input):\n",
        "        return input.softmax()"
      ],
      "execution_count": 0,
      "outputs": []
    },
    {
      "cell_type": "markdown",
      "metadata": {
        "id": "B9X94SrmpkMi",
        "colab_type": "text"
      },
      "source": [
        "####Linear Layer"
      ]
    },
    {
      "cell_type": "code",
      "metadata": {
        "id": "VkgZOxigpiMI",
        "colab_type": "code",
        "colab": {}
      },
      "source": [
        "\n",
        "class Linear(Layer):\n",
        "\n",
        "    def __init__(self, n_inputs, n_outputs):\n",
        "        super().__init__()\n",
        "        W = np.random.randn(n_inputs, n_outputs) * np.sqrt(2.0/(n_inputs))\n",
        "        self.weight = AutoDiffTensor(W, autodiff=True)\n",
        "        self.bias = AutoDiffTensor(np.zeros(n_outputs), autodiff=True)\n",
        "        \n",
        "        self.parameters.append(self.weight)\n",
        "        self.parameters.append(self.bias)\n",
        "\n",
        "    def forWard(self, input):\n",
        "        return input.mM(self.weight)+self.bias.expand(0,len(input.data))"
      ],
      "execution_count": 0,
      "outputs": []
    },
    {
      "cell_type": "markdown",
      "metadata": {
        "id": "Q3cmLZ9hqn54",
        "colab_type": "text"
      },
      "source": [
        "#### Sequential Layer"
      ]
    },
    {
      "cell_type": "code",
      "metadata": {
        "id": "Uvu7L-IVnPpS",
        "colab_type": "code",
        "colab": {}
      },
      "source": [
        "\n",
        "class Sequential(Layer):\n",
        "    \n",
        "    def __init__(self, layers=list()):\n",
        "        super().__init__()        \n",
        "        self.layers = layers\n",
        "    \n",
        "    def add(self, layer):\n",
        "        self.layers.append(layer)\n",
        "        \n",
        "    def forWard(self, input):\n",
        "        for layer in self.layers:\n",
        "            input = layer.forWard(input)\n",
        "        return input\n",
        "    \n",
        "    def get_parameters(self):\n",
        "        parameters = list()\n",
        "        for layer in self.layers:\n",
        "            parameters += layer.get_parameters()\n",
        "        return parameters\n",
        "\n"
      ],
      "execution_count": 0,
      "outputs": []
    },
    {
      "cell_type": "markdown",
      "metadata": {
        "id": "ENLo5ASmqylM",
        "colab_type": "text"
      },
      "source": [
        "####Embedding Layer"
      ]
    },
    {
      "cell_type": "code",
      "metadata": {
        "id": "M0QJW1zMqigl",
        "colab_type": "code",
        "colab": {}
      },
      "source": [
        "class Embedding(Layer):\n",
        "    \n",
        "    def __init__(self, vocab_size, dim):\n",
        "        super().__init__()\n",
        "        self.vocab_size = vocab_size\n",
        "        self.dim = dim               \n",
        "        self.weight = AutoDiffTensor((np.random.rand(vocab_size, dim) - 0.5) / dim)        \n",
        "        self.parameters.append(self.weight)\n",
        "    \n",
        "    def forWard(self, input):\n",
        "        return self.weight.selectIndex(input)"
      ],
      "execution_count": 0,
      "outputs": []
    },
    {
      "cell_type": "markdown",
      "metadata": {
        "id": "Yp9M4JIEnd0M",
        "colab_type": "text"
      },
      "source": [
        "####Loss"
      ]
    },
    {
      "cell_type": "code",
      "metadata": {
        "id": "3HqCtYllnsh5",
        "colab_type": "code",
        "colab": {}
      },
      "source": [
        "class MSELoss(Layer):\n",
        "    def __init__(self):\n",
        "        super().__init__()\n",
        "    \n",
        "    def forWard(self, pred, target):\n",
        "        return ((pred - target)*(pred - target)).sum(0)"
      ],
      "execution_count": 0,
      "outputs": []
    },
    {
      "cell_type": "markdown",
      "metadata": {
        "id": "emd3FZU6ssWi",
        "colab_type": "text"
      },
      "source": [
        "#### CrossEntropyLoss   class"
      ]
    },
    {
      "cell_type": "code",
      "metadata": {
        "id": "pkpuNw4nsdtl",
        "colab_type": "code",
        "colab": {}
      },
      "source": [
        "class CrossEntropy(object):\n",
        "    \n",
        "    def __init__(self):\n",
        "        super().__init__()\n",
        "    \n",
        "    def forWard(self, input, target):\n",
        "        return input.crossEntropy(target)"
      ],
      "execution_count": 0,
      "outputs": []
    },
    {
      "cell_type": "markdown",
      "metadata": {
        "id": "6L9IO2Zaq240",
        "colab_type": "text"
      },
      "source": [
        "###SGD Optimization"
      ]
    },
    {
      "cell_type": "code",
      "metadata": {
        "id": "o5Nlu2txnaaS",
        "colab_type": "code",
        "colab": {}
      },
      "source": [
        "class SGD(object):\n",
        "    \n",
        "    def __init__(self, parameters, alpha=0.1):\n",
        "        self.parameters = parameters\n",
        "        self.alpha = alpha\n",
        "    \n",
        "    def zero(self):\n",
        "        for parameter in self.parameters:\n",
        "            parameter.grad.data *= 0\n",
        "        \n",
        "    def step(self, zero=True):\n",
        "        \n",
        "        for parameter in self.parameters:\n",
        "            \n",
        "            parameter.data -= parameter.grad.data * self.alpha\n",
        "            \n",
        "            if(zero):\n",
        "                parameter.grad.data *= 0\n"
      ],
      "execution_count": 0,
      "outputs": []
    },
    {
      "cell_type": "markdown",
      "metadata": {
        "id": "RaYNYfQYroBI",
        "colab_type": "text"
      },
      "source": [
        "##Do mnist classifier"
      ]
    },
    {
      "cell_type": "markdown",
      "metadata": {
        "id": "oawcxNSOsHTx",
        "colab_type": "text"
      },
      "source": [
        "#### Import the dataset:MNIST database of handwritten digits\n",
        "\n",
        "Dataset of 60,000 28x28 grayscale images of the 10 digits, along with a test set of 10,000 images.\n",
        "\n",
        "https://keras.io/datasets/#mnist-database-of-handwritten-digits"
      ]
    },
    {
      "cell_type": "code",
      "metadata": {
        "id": "zNhDYCVWsNFP",
        "colab_type": "code",
        "outputId": "5233a3a7-24d5-4629-d043-13bf0b02026d",
        "colab": {
          "base_uri": "https://localhost:8080/",
          "height": 50
        }
      },
      "source": [
        "from tensorflow.keras.datasets import mnist\n",
        "\n",
        "(train_images, train_labels), (test_images, test_labels) = mnist.load_data()"
      ],
      "execution_count": 14,
      "outputs": [
        {
          "output_type": "stream",
          "text": [
            "Downloading data from https://storage.googleapis.com/tensorflow/tf-keras-datasets/mnist.npz\n",
            "11493376/11490434 [==============================] - 0s 0us/step\n"
          ],
          "name": "stdout"
        }
      ]
    },
    {
      "cell_type": "code",
      "metadata": {
        "id": "xrjPxLg_sb88",
        "colab_type": "code",
        "outputId": "baec3040-5b4b-4e3b-d299-b168dc2affe6",
        "colab": {
          "base_uri": "https://localhost:8080/",
          "height": 33
        }
      },
      "source": [
        "train_labels"
      ],
      "execution_count": 15,
      "outputs": [
        {
          "output_type": "execute_result",
          "data": {
            "text/plain": [
              "array([5, 0, 4, ..., 5, 6, 8], dtype=uint8)"
            ]
          },
          "metadata": {
            "tags": []
          },
          "execution_count": 15
        }
      ]
    },
    {
      "cell_type": "code",
      "metadata": {
        "id": "SPbVMdsNsfTC",
        "colab_type": "code",
        "outputId": "6ebb2ca9-4886-4a1f-b188-f7b58e3d8c57",
        "colab": {
          "base_uri": "https://localhost:8080/",
          "height": 33
        }
      },
      "source": [
        "np.int8(test_labels)"
      ],
      "execution_count": 16,
      "outputs": [
        {
          "output_type": "execute_result",
          "data": {
            "text/plain": [
              "array([7, 2, 1, ..., 4, 5, 6], dtype=int8)"
            ]
          },
          "metadata": {
            "tags": []
          },
          "execution_count": 16
        }
      ]
    },
    {
      "cell_type": "code",
      "metadata": {
        "id": "VcGU6tMYsmz5",
        "colab_type": "code",
        "colab": {}
      },
      "source": [
        "class_names = ['0', '1', '2', '3', '4',\n",
        "               '5', '6', '7', '8', '9']"
      ],
      "execution_count": 0,
      "outputs": []
    },
    {
      "cell_type": "code",
      "metadata": {
        "id": "fCpcOwKZsuvU",
        "colab_type": "code",
        "outputId": "5cbc514d-7ea8-4eb3-8423-2fab3091ec6c",
        "colab": {
          "base_uri": "https://localhost:8080/",
          "height": 264
        }
      },
      "source": [
        "plt.figure()\n",
        "plt.imshow(train_images[0])\n",
        "plt.colorbar()\n",
        "plt.grid(False)\n",
        "plt.show()"
      ],
      "execution_count": 18,
      "outputs": [
        {
          "output_type": "display_data",
          "data": {
            "image/png": "[encoded data removed]",
            "text/plain": [
              "<Figure size 432x288 with 2 Axes>"
            ]
          },
          "metadata": {
            "tags": [],
            "needs_background": "light"
          }
        }
      ]
    },
    {
      "cell_type": "markdown",
      "metadata": {
        "id": "DWlK_FAat1Zw",
        "colab_type": "text"
      },
      "source": [
        "Scale these values to a range of 0 to 1 before feeding them to the neural network model. "
      ]
    },
    {
      "cell_type": "code",
      "metadata": {
        "id": "9E6QlzrWsyOt",
        "colab_type": "code",
        "colab": {}
      },
      "source": [
        "np.random.seed(1)"
      ],
      "execution_count": 0,
      "outputs": []
    },
    {
      "cell_type": "code",
      "metadata": {
        "id": "OS_gg7prs6XO",
        "colab_type": "code",
        "colab": {}
      },
      "source": [
        "images, labels = (train_images[0:2000].reshape(2000,28*28) / 255), train_labels[0:2000]"
      ],
      "execution_count": 0,
      "outputs": []
    },
    {
      "cell_type": "code",
      "metadata": {
        "id": "HJCPfEW8tXoa",
        "colab_type": "code",
        "colab": {}
      },
      "source": [
        "one_hot_labels = np.zeros((len(labels), 10))"
      ],
      "execution_count": 0,
      "outputs": []
    },
    {
      "cell_type": "code",
      "metadata": {
        "id": "FQlRYeghuD9F",
        "colab_type": "code",
        "colab": {}
      },
      "source": [
        "for i,l in enumerate(labels):\n",
        "  one_hot_labels[i][l] = 1\n",
        "labels = one_hot_labels\n",
        "\n",
        "test_img = test_images.reshape(len(test_images), 28*28) / 255\n",
        "test_label = np.zeros((len(test_labels), 10))\n",
        "\n",
        "for i,l in enumerate(test_labels):\n",
        "    test_label[i][l] = 1"
      ],
      "execution_count": 0,
      "outputs": []
    },
    {
      "cell_type": "code",
      "metadata": {
        "id": "ob6SSOERtjxr",
        "colab_type": "code",
        "outputId": "10edf002-8ce3-4b1e-f8ed-6f2f7e227052",
        "colab": {
          "base_uri": "https://localhost:8080/",
          "height": 33
        }
      },
      "source": [
        "images.shape"
      ],
      "execution_count": 23,
      "outputs": [
        {
          "output_type": "execute_result",
          "data": {
            "text/plain": [
              "(2000, 784)"
            ]
          },
          "metadata": {
            "tags": []
          },
          "execution_count": 23
        }
      ]
    },
    {
      "cell_type": "code",
      "metadata": {
        "id": "-mYJEp_TtluF",
        "colab_type": "code",
        "outputId": "b1ca40d6-8200-4444-f67b-0d283ed326aa",
        "colab": {
          "base_uri": "https://localhost:8080/",
          "height": 133
        }
      },
      "source": [
        "labels"
      ],
      "execution_count": 24,
      "outputs": [
        {
          "output_type": "execute_result",
          "data": {
            "text/plain": [
              "array([[0., 0., 0., ..., 0., 0., 0.],\n",
              "       [1., 0., 0., ..., 0., 0., 0.],\n",
              "       [0., 0., 0., ..., 0., 0., 0.],\n",
              "       ...,\n",
              "       [0., 0., 0., ..., 0., 0., 0.],\n",
              "       [0., 0., 1., ..., 0., 0., 0.],\n",
              "       [1., 0., 0., ..., 0., 0., 0.]])"
            ]
          },
          "metadata": {
            "tags": []
          },
          "execution_count": 24
        }
      ]
    },
    {
      "cell_type": "markdown",
      "metadata": {
        "id": "C1V0Pc-GtuZk",
        "colab_type": "text"
      },
      "source": [
        "To verify that the data is in the correct format and ready to build and train the network, let's display the first 25 images from the *training set* and display the class name below each image."
      ]
    },
    {
      "cell_type": "code",
      "metadata": {
        "id": "c7qOHTFJtqaN",
        "colab_type": "code",
        "outputId": "93463107-3024-45a2-a88d-24c6376e0e68",
        "colab": {
          "base_uri": "https://localhost:8080/",
          "height": 588
        }
      },
      "source": [
        "plt.figure(figsize=(10,10))\n",
        "for i in range(25):\n",
        "    plt.subplot(5,5,i+1)\n",
        "    plt.xticks([])\n",
        "    plt.yticks([])\n",
        "    plt.grid(False)\n",
        "    plt.imshow(train_images[i], cmap=plt.cm.binary)\n",
        "    plt.xlabel(class_names[train_labels[i]])\n",
        "plt.show()"
      ],
      "execution_count": 25,
      "outputs": [
        {
          "output_type": "display_data",
          "data": {
            "image/png": "[encoded data removed]",
            "text/plain": [
              "<Figure size 720x720 with 25 Axes>"
            ]
          },
          "metadata": {
            "tags": []
          }
        }
      ]
    },
    {
      "cell_type": "markdown",
      "metadata": {
        "id": "mu7RqLg6u8RY",
        "colab_type": "text"
      },
      "source": [
        "###Test Xtrain[0]"
      ]
    },
    {
      "cell_type": "code",
      "metadata": {
        "id": "1R28Ikjdu2we",
        "colab_type": "code",
        "colab": {}
      },
      "source": [
        "Xtrain=train_images"
      ],
      "execution_count": 0,
      "outputs": []
    },
    {
      "cell_type": "code",
      "metadata": {
        "id": "RysKy-ixory-",
        "colab_type": "code",
        "outputId": "301616b3-fb2d-40a2-9e50-542fbb3b07f1",
        "colab": {
          "base_uri": "https://localhost:8080/",
          "height": 1000
        }
      },
      "source": [
        "Xtrain[0]"
      ],
      "execution_count": 27,
      "outputs": [
        {
          "output_type": "execute_result",
          "data": {
            "text/plain": [
              "array([[  0,   0,   0,   0,   0,   0,   0,   0,   0,   0,   0,   0,   0,\n",
              "          0,   0,   0,   0,   0,   0,   0,   0,   0,   0,   0,   0,   0,\n",
              "          0,   0],\n",
              "       [  0,   0,   0,   0,   0,   0,   0,   0,   0,   0,   0,   0,   0,\n",
              "          0,   0,   0,   0,   0,   0,   0,   0,   0,   0,   0,   0,   0,\n",
              "          0,   0],\n",
              "       [  0,   0,   0,   0,   0,   0,   0,   0,   0,   0,   0,   0,   0,\n",
              "          0,   0,   0,   0,   0,   0,   0,   0,   0,   0,   0,   0,   0,\n",
              "          0,   0],\n",
              "       [  0,   0,   0,   0,   0,   0,   0,   0,   0,   0,   0,   0,   0,\n",
              "          0,   0,   0,   0,   0,   0,   0,   0,   0,   0,   0,   0,   0,\n",
              "          0,   0],\n",
              "       [  0,   0,   0,   0,   0,   0,   0,   0,   0,   0,   0,   0,   0,\n",
              "          0,   0,   0,   0,   0,   0,   0,   0,   0,   0,   0,   0,   0,\n",
              "          0,   0],\n",
              "       [  0,   0,   0,   0,   0,   0,   0,   0,   0,   0,   0,   0,   3,\n",
              "         18,  18,  18, 126, 136, 175,  26, 166, 255, 247, 127,   0,   0,\n",
              "          0,   0],\n",
              "       [  0,   0,   0,   0,   0,   0,   0,   0,  30,  36,  94, 154, 170,\n",
              "        253, 253, 253, 253, 253, 225, 172, 253, 242, 195,  64,   0,   0,\n",
              "          0,   0],\n",
              "       [  0,   0,   0,   0,   0,   0,   0,  49, 238, 253, 253, 253, 253,\n",
              "        253, 253, 253, 253, 251,  93,  82,  82,  56,  39,   0,   0,   0,\n",
              "          0,   0],\n",
              "       [  0,   0,   0,   0,   0,   0,   0,  18, 219, 253, 253, 253, 253,\n",
              "        253, 198, 182, 247, 241,   0,   0,   0,   0,   0,   0,   0,   0,\n",
              "          0,   0],\n",
              "       [  0,   0,   0,   0,   0,   0,   0,   0,  80, 156, 107, 253, 253,\n",
              "        205,  11,   0,  43, 154,   0,   0,   0,   0,   0,   0,   0,   0,\n",
              "          0,   0],\n",
              "       [  0,   0,   0,   0,   0,   0,   0,   0,   0,  14,   1, 154, 253,\n",
              "         90,   0,   0,   0,   0,   0,   0,   0,   0,   0,   0,   0,   0,\n",
              "          0,   0],\n",
              "       [  0,   0,   0,   0,   0,   0,   0,   0,   0,   0,   0, 139, 253,\n",
              "        190,   2,   0,   0,   0,   0,   0,   0,   0,   0,   0,   0,   0,\n",
              "          0,   0],\n",
              "       [  0,   0,   0,   0,   0,   0,   0,   0,   0,   0,   0,  11, 190,\n",
              "        253,  70,   0,   0,   0,   0,   0,   0,   0,   0,   0,   0,   0,\n",
              "          0,   0],\n",
              "       [  0,   0,   0,   0,   0,   0,   0,   0,   0,   0,   0,   0,  35,\n",
              "        241, 225, 160, 108,   1,   0,   0,   0,   0,   0,   0,   0,   0,\n",
              "          0,   0],\n",
              "       [  0,   0,   0,   0,   0,   0,   0,   0,   0,   0,   0,   0,   0,\n",
              "         81, 240, 253, 253, 119,  25,   0,   0,   0,   0,   0,   0,   0,\n",
              "          0,   0],\n",
              "       [  0,   0,   0,   0,   0,   0,   0,   0,   0,   0,   0,   0,   0,\n",
              "          0,  45, 186, 253, 253, 150,  27,   0,   0,   0,   0,   0,   0,\n",
              "          0,   0],\n",
              "       [  0,   0,   0,   0,   0,   0,   0,   0,   0,   0,   0,   0,   0,\n",
              "          0,   0,  16,  93, 252, 253, 187,   0,   0,   0,   0,   0,   0,\n",
              "          0,   0],\n",
              "       [  0,   0,   0,   0,   0,   0,   0,   0,   0,   0,   0,   0,   0,\n",
              "          0,   0,   0,   0, 249, 253, 249,  64,   0,   0,   0,   0,   0,\n",
              "          0,   0],\n",
              "       [  0,   0,   0,   0,   0,   0,   0,   0,   0,   0,   0,   0,   0,\n",
              "          0,  46, 130, 183, 253, 253, 207,   2,   0,   0,   0,   0,   0,\n",
              "          0,   0],\n",
              "       [  0,   0,   0,   0,   0,   0,   0,   0,   0,   0,   0,   0,  39,\n",
              "        148, 229, 253, 253, 253, 250, 182,   0,   0,   0,   0,   0,   0,\n",
              "          0,   0],\n",
              "       [  0,   0,   0,   0,   0,   0,   0,   0,   0,   0,  24, 114, 221,\n",
              "        253, 253, 253, 253, 201,  78,   0,   0,   0,   0,   0,   0,   0,\n",
              "          0,   0],\n",
              "       [  0,   0,   0,   0,   0,   0,   0,   0,  23,  66, 213, 253, 253,\n",
              "        253, 253, 198,  81,   2,   0,   0,   0,   0,   0,   0,   0,   0,\n",
              "          0,   0],\n",
              "       [  0,   0,   0,   0,   0,   0,  18, 171, 219, 253, 253, 253, 253,\n",
              "        195,  80,   9,   0,   0,   0,   0,   0,   0,   0,   0,   0,   0,\n",
              "          0,   0],\n",
              "       [  0,   0,   0,   0,  55, 172, 226, 253, 253, 253, 253, 244, 133,\n",
              "         11,   0,   0,   0,   0,   0,   0,   0,   0,   0,   0,   0,   0,\n",
              "          0,   0],\n",
              "       [  0,   0,   0,   0, 136, 253, 253, 253, 212, 135, 132,  16,   0,\n",
              "          0,   0,   0,   0,   0,   0,   0,   0,   0,   0,   0,   0,   0,\n",
              "          0,   0],\n",
              "       [  0,   0,   0,   0,   0,   0,   0,   0,   0,   0,   0,   0,   0,\n",
              "          0,   0,   0,   0,   0,   0,   0,   0,   0,   0,   0,   0,   0,\n",
              "          0,   0],\n",
              "       [  0,   0,   0,   0,   0,   0,   0,   0,   0,   0,   0,   0,   0,\n",
              "          0,   0,   0,   0,   0,   0,   0,   0,   0,   0,   0,   0,   0,\n",
              "          0,   0],\n",
              "       [  0,   0,   0,   0,   0,   0,   0,   0,   0,   0,   0,   0,   0,\n",
              "          0,   0,   0,   0,   0,   0,   0,   0,   0,   0,   0,   0,   0,\n",
              "          0,   0]], dtype=uint8)"
            ]
          },
          "metadata": {
            "tags": []
          },
          "execution_count": 27
        }
      ]
    },
    {
      "cell_type": "code",
      "metadata": {
        "id": "dPcVvJyZO868",
        "colab_type": "code",
        "colab": {}
      },
      "source": [
        "np.random.seed(0)\n",
        "train_0=np.array(Xtrain[0])                 \n",
        "y0 = train_labels[0]\n",
        "target_0 = AutoDiffTensor(np.array([y0]*28), autodiff=True)"
      ],
      "execution_count": 0,
      "outputs": []
    },
    {
      "cell_type": "code",
      "metadata": {
        "id": "I9nqgWIC9gwl",
        "colab_type": "code",
        "colab": {}
      },
      "source": [
        "df = AutoDiffTensor(train_0, autodiff=True)\n"
      ],
      "execution_count": 0,
      "outputs": []
    },
    {
      "cell_type": "code",
      "metadata": {
        "id": "OIV7SlAS8i3j",
        "colab_type": "code",
        "colab": {}
      },
      "source": [
        "model = Sequential([Linear(28,28), Relu(), Linear(28,15), Relu(),Linear(15,10)])"
      ],
      "execution_count": 0,
      "outputs": []
    },
    {
      "cell_type": "code",
      "metadata": {
        "id": "yvTtVf6e-KOh",
        "colab_type": "code",
        "colab": {}
      },
      "source": [
        "y0_pred = model.forWard(df)"
      ],
      "execution_count": 0,
      "outputs": []
    },
    {
      "cell_type": "code",
      "metadata": {
        "id": "Cm_tNU19-PlU",
        "colab_type": "code",
        "colab": {}
      },
      "source": [
        "criterion = CrossEntropy()\n",
        "loss_0 = criterion.forWard(y0_pred, target_0)\n",
        "loss_0.backWard(AutoDiffTensor(np.ones_like(loss_0.data)))"
      ],
      "execution_count": 0,
      "outputs": []
    },
    {
      "cell_type": "code",
      "metadata": {
        "id": "emldB6s9-iOT",
        "colab_type": "code",
        "colab": {}
      },
      "source": [
        "optimiztation = SGD(parameters=model.get_parameters(), alpha=0.1)\n",
        "optimiztation.step()"
      ],
      "execution_count": 0,
      "outputs": []
    },
    {
      "cell_type": "code",
      "metadata": {
        "id": "gEsmlRxv88Vd",
        "colab_type": "code",
        "colab": {
          "base_uri": "https://localhost:8080/",
          "height": 1000
        },
        "outputId": "aaccfe8a-2fbc-418d-d800-3db87f5f66bc"
      },
      "source": [
        "print(y0_pred)"
      ],
      "execution_count": 34,
      "outputs": [
        {
          "output_type": "stream",
          "text": [
            "[[ 0.00000000e+00  0.00000000e+00  0.00000000e+00  0.00000000e+00\n",
            "   0.00000000e+00  0.00000000e+00  0.00000000e+00  0.00000000e+00\n",
            "   0.00000000e+00  0.00000000e+00]\n",
            " [ 0.00000000e+00  0.00000000e+00  0.00000000e+00  0.00000000e+00\n",
            "   0.00000000e+00  0.00000000e+00  0.00000000e+00  0.00000000e+00\n",
            "   0.00000000e+00  0.00000000e+00]\n",
            " [ 0.00000000e+00  0.00000000e+00  0.00000000e+00  0.00000000e+00\n",
            "   0.00000000e+00  0.00000000e+00  0.00000000e+00  0.00000000e+00\n",
            "   0.00000000e+00  0.00000000e+00]\n",
            " [ 0.00000000e+00  0.00000000e+00  0.00000000e+00  0.00000000e+00\n",
            "   0.00000000e+00  0.00000000e+00  0.00000000e+00  0.00000000e+00\n",
            "   0.00000000e+00  0.00000000e+00]\n",
            " [ 0.00000000e+00  0.00000000e+00  0.00000000e+00  0.00000000e+00\n",
            "   0.00000000e+00  0.00000000e+00  0.00000000e+00  0.00000000e+00\n",
            "   0.00000000e+00  0.00000000e+00]\n",
            " [ 5.26356391e+01 -1.08262144e+02 -5.42913715e+01 -4.90152352e+01\n",
            "  -1.16336840e+02 -4.43943564e+01 -3.23192790e+01  3.48408165e+01\n",
            "   6.21987125e+01 -7.52233570e+01]\n",
            " [ 2.11561009e+01 -1.17355916e+02 -1.64071536e+02 -9.68243054e+01\n",
            "  -2.44079755e+02 -1.01400858e+02 -1.49593514e+01  8.42076580e+00\n",
            "  -4.59910540e+01 -1.64540634e+01]\n",
            " [-1.48918880e+01 -1.15040864e+02 -1.38659211e+02 -9.45969300e+01\n",
            "  -1.74784786e+02 -6.49599746e+01  5.09756577e+01  2.09274578e+01\n",
            "  -3.98853304e+00 -1.82226273e+01]\n",
            " [-1.43674232e+01 -1.16769835e+02 -1.53187574e+02 -1.20353559e+02\n",
            "  -1.99857361e+02 -7.98641615e+01  5.74915282e+01  1.62553207e+01\n",
            "  -1.65499695e+01 -2.70846710e+01]\n",
            " [-2.06808390e+01 -9.43782908e+01 -6.93334002e+01 -2.46679584e+00\n",
            "  -1.27822936e+02 -6.28731325e+01  2.92685917e+01  1.21739637e+01\n",
            "   2.66205174e+01 -4.85433320e+01]\n",
            " [-1.68850127e+01 -8.20377022e+01 -8.97154894e+01 -7.75285337e+00\n",
            "  -9.94369736e+01 -4.20035783e+01 -2.38452198e+00  6.86341011e+00\n",
            "  -2.62669013e+00  2.32602016e+00]\n",
            " [-2.00710547e+01 -8.88870798e+01 -8.39000381e+01  8.53822228e+00\n",
            "  -7.81329340e+01 -3.23966111e+01  6.83925550e+00  1.36552711e+01\n",
            "   2.03136949e+01  7.72558405e+00]\n",
            " [-2.42090612e+01 -7.14793794e+01 -9.30838456e+01 -1.89522322e+01\n",
            "  -7.93653222e+01 -2.69677195e+01 -7.09988928e+00  1.57408606e+01\n",
            "  -3.34494971e+01  6.36995685e+00]\n",
            " [ 1.20302415e+01 -2.52988715e+01 -9.93354103e+01 -6.68146750e+01\n",
            "  -1.87763533e+01 -6.67610610e+01  2.25298009e+01  6.58459830e+00\n",
            "  -9.64901023e+01  4.39737129e+01]\n",
            " [ 7.64405841e+01 -9.80185531e+00 -4.09755183e+01 -1.26923859e+02\n",
            "  -1.57044854e+02 -5.01764444e+01  7.90066637e+00  5.71468407e+01\n",
            "  -1.33369358e+00 -4.96358756e+01]\n",
            " [ 7.71884429e+01  7.68501285e+00  3.48286668e+01 -7.62508427e+01\n",
            "  -1.40199580e+02 -1.09913178e+01 -5.64538924e+01  6.87895015e+01\n",
            "   1.84680192e+01 -1.00349325e+02]\n",
            " [ 2.30078226e+01 -6.54305855e+01  6.93453691e+00 -1.63801586e+01\n",
            "  -5.72874515e+01  4.05371211e+01 -3.47315686e+01  3.75198922e+01\n",
            "   3.98181456e+01 -4.37765498e+01]\n",
            " [ 1.72853467e+01 -8.71625239e+01 -5.27693750e+00 -4.13921644e+00\n",
            "  -5.82574728e+01  3.18515342e+01 -1.50974690e+01  3.27209662e+01\n",
            "   6.23836882e+01 -3.63323257e+01]\n",
            " [ 2.75034916e+01 -3.83599208e+01  1.46662605e+01 -2.38579472e+01\n",
            "  -4.11360730e+01  4.54291894e+01 -5.53234092e+01  4.27130634e+01\n",
            "   4.37307013e+00 -4.00551350e+01]\n",
            " [ 4.42051548e+01 -1.65866218e+01 -3.09173230e+01 -3.17384212e+01\n",
            "  -4.61563899e+01 -1.14129882e+01 -6.55466049e+01  5.11252405e+01\n",
            "  -4.14456173e+01 -1.19164725e+01]\n",
            " [ 4.87764798e+01 -6.30536195e+01 -1.39587305e+02 -1.08808771e+02\n",
            "  -2.08563479e+02 -1.02876217e+02 -2.27441155e+01  2.16194946e+01\n",
            "  -5.32401037e+01 -1.20104759e+01]\n",
            " [-1.16766490e+00 -4.59966725e+01 -7.97857833e+01 -8.27966618e+01\n",
            "  -1.59597678e+02 -1.01305642e+02  2.99766843e+01 -3.02012204e+01\n",
            "  -1.96169467e+01 -5.53240269e+01]\n",
            " [-4.77096491e+00 -3.97719038e+01  6.06397189e-02 -5.52352960e-01\n",
            "   3.81732222e+01 -7.90175756e+01  1.48065404e+02 -1.28244824e+01\n",
            "   1.38713578e+02 -4.08779816e+01]\n",
            " [ 1.64844784e+02 -5.20355193e+01 -2.33084293e+01  6.21305059e+01\n",
            "   8.88907377e+01 -1.22286117e+02  1.15502062e+02 -4.51241344e+01\n",
            "   3.83149122e+02 -1.17095248e+02]\n",
            " [ 1.79106798e+02 -1.18053317e+02  1.28014498e+01  6.61562415e+01\n",
            "   2.00819858e+02  3.05307125e+01  5.30306018e+01 -1.04835331e+02\n",
            "   3.42813143e+02 -1.10395447e+02]\n",
            " [ 0.00000000e+00  0.00000000e+00  0.00000000e+00  0.00000000e+00\n",
            "   0.00000000e+00  0.00000000e+00  0.00000000e+00  0.00000000e+00\n",
            "   0.00000000e+00  0.00000000e+00]\n",
            " [ 0.00000000e+00  0.00000000e+00  0.00000000e+00  0.00000000e+00\n",
            "   0.00000000e+00  0.00000000e+00  0.00000000e+00  0.00000000e+00\n",
            "   0.00000000e+00  0.00000000e+00]\n",
            " [ 0.00000000e+00  0.00000000e+00  0.00000000e+00  0.00000000e+00\n",
            "   0.00000000e+00  0.00000000e+00  0.00000000e+00  0.00000000e+00\n",
            "   0.00000000e+00  0.00000000e+00]]\n"
          ],
          "name": "stdout"
        }
      ]
    },
    {
      "cell_type": "code",
      "metadata": {
        "id": "_06H3JV8wsxu",
        "colab_type": "code",
        "outputId": "6a62f956-017c-41a4-ea8b-3191a99d05c2",
        "colab": {
          "base_uri": "https://localhost:8080/",
          "height": 33
        }
      },
      "source": [
        "print(train_labels[0])"
      ],
      "execution_count": 35,
      "outputs": [
        {
          "output_type": "stream",
          "text": [
            "5\n"
          ],
          "name": "stdout"
        }
      ]
    },
    {
      "cell_type": "code",
      "metadata": {
        "id": "0lf_MtUexZNi",
        "colab_type": "code",
        "outputId": "22207182-f36a-40d0-b88e-ad030e2987ca",
        "colab": {
          "base_uri": "https://localhost:8080/",
          "height": 33
        }
      },
      "source": [
        "print(loss_0)"
      ],
      "execution_count": 36,
      "outputs": [
        {
          "output_type": "stream",
          "text": [
            "88.72151959737587\n"
          ],
          "name": "stdout"
        }
      ]
    },
    {
      "cell_type": "markdown",
      "metadata": {
        "id": "75hKWK8F_Agz",
        "colab_type": "text"
      },
      "source": [
        "###try again"
      ]
    },
    {
      "cell_type": "code",
      "metadata": {
        "id": "h9wzPUWVAeU6",
        "colab_type": "code",
        "colab": {
          "base_uri": "https://localhost:8080/",
          "height": 1000
        },
        "outputId": "e1cf3b66-219b-4a18-91f7-0a4552f43d91"
      },
      "source": [
        "Xtrain[2]"
      ],
      "execution_count": 37,
      "outputs": [
        {
          "output_type": "execute_result",
          "data": {
            "text/plain": [
              "array([[  0,   0,   0,   0,   0,   0,   0,   0,   0,   0,   0,   0,   0,\n",
              "          0,   0,   0,   0,   0,   0,   0,   0,   0,   0,   0,   0,   0,\n",
              "          0,   0],\n",
              "       [  0,   0,   0,   0,   0,   0,   0,   0,   0,   0,   0,   0,   0,\n",
              "          0,   0,   0,   0,   0,   0,   0,   0,   0,   0,   0,   0,   0,\n",
              "          0,   0],\n",
              "       [  0,   0,   0,   0,   0,   0,   0,   0,   0,   0,   0,   0,   0,\n",
              "          0,   0,   0,   0,   0,   0,   0,   0,   0,   0,   0,   0,   0,\n",
              "          0,   0],\n",
              "       [  0,   0,   0,   0,   0,   0,   0,   0,   0,   0,   0,   0,   0,\n",
              "          0,   0,   0,   0,   0,   0,   0,   0,   0,   0,   0,   0,   0,\n",
              "          0,   0],\n",
              "       [  0,   0,   0,   0,   0,   0,   0,   0,   0,   0,   0,   0,   0,\n",
              "          0,   0,   0,   0,   0,   0,   0,   0,   0,   0,   0,   0,   0,\n",
              "          0,   0],\n",
              "       [  0,   0,   0,   0,   0,   0,   0,   0,   0,   0,   0,   0,   0,\n",
              "          0,   0,   0,   0,   0,   0,   0,  67, 232,  39,   0,   0,   0,\n",
              "          0,   0],\n",
              "       [  0,   0,   0,   0,  62,  81,   0,   0,   0,   0,   0,   0,   0,\n",
              "          0,   0,   0,   0,   0,   0,   0, 120, 180,  39,   0,   0,   0,\n",
              "          0,   0],\n",
              "       [  0,   0,   0,   0, 126, 163,   0,   0,   0,   0,   0,   0,   0,\n",
              "          0,   0,   0,   0,   0,   0,   2, 153, 210,  40,   0,   0,   0,\n",
              "          0,   0],\n",
              "       [  0,   0,   0,   0, 220, 163,   0,   0,   0,   0,   0,   0,   0,\n",
              "          0,   0,   0,   0,   0,   0,  27, 254, 162,   0,   0,   0,   0,\n",
              "          0,   0],\n",
              "       [  0,   0,   0,   0, 222, 163,   0,   0,   0,   0,   0,   0,   0,\n",
              "          0,   0,   0,   0,   0,   0, 183, 254, 125,   0,   0,   0,   0,\n",
              "          0,   0],\n",
              "       [  0,   0,   0,  46, 245, 163,   0,   0,   0,   0,   0,   0,   0,\n",
              "          0,   0,   0,   0,   0,   0, 198, 254,  56,   0,   0,   0,   0,\n",
              "          0,   0],\n",
              "       [  0,   0,   0, 120, 254, 163,   0,   0,   0,   0,   0,   0,   0,\n",
              "          0,   0,   0,   0,   0,  23, 231, 254,  29,   0,   0,   0,   0,\n",
              "          0,   0],\n",
              "       [  0,   0,   0, 159, 254, 120,   0,   0,   0,   0,   0,   0,   0,\n",
              "          0,   0,   0,   0,   0, 163, 254, 216,  16,   0,   0,   0,   0,\n",
              "          0,   0],\n",
              "       [  0,   0,   0, 159, 254,  67,   0,   0,   0,   0,   0,   0,   0,\n",
              "          0,   0,  14,  86, 178, 248, 254,  91,   0,   0,   0,   0,   0,\n",
              "          0,   0],\n",
              "       [  0,   0,   0, 159, 254,  85,   0,   0,   0,  47,  49, 116, 144,\n",
              "        150, 241, 243, 234, 179, 241, 252,  40,   0,   0,   0,   0,   0,\n",
              "          0,   0],\n",
              "       [  0,   0,   0, 150, 253, 237, 207, 207, 207, 253, 254, 250, 240,\n",
              "        198, 143,  91,  28,   5, 233, 250,   0,   0,   0,   0,   0,   0,\n",
              "          0,   0],\n",
              "       [  0,   0,   0,   0, 119, 177, 177, 177, 177, 177,  98,  56,   0,\n",
              "          0,   0,   0,   0, 102, 254, 220,   0,   0,   0,   0,   0,   0,\n",
              "          0,   0],\n",
              "       [  0,   0,   0,   0,   0,   0,   0,   0,   0,   0,   0,   0,   0,\n",
              "          0,   0,   0,   0, 169, 254, 137,   0,   0,   0,   0,   0,   0,\n",
              "          0,   0],\n",
              "       [  0,   0,   0,   0,   0,   0,   0,   0,   0,   0,   0,   0,   0,\n",
              "          0,   0,   0,   0, 169, 254,  57,   0,   0,   0,   0,   0,   0,\n",
              "          0,   0],\n",
              "       [  0,   0,   0,   0,   0,   0,   0,   0,   0,   0,   0,   0,   0,\n",
              "          0,   0,   0,   0, 169, 254,  57,   0,   0,   0,   0,   0,   0,\n",
              "          0,   0],\n",
              "       [  0,   0,   0,   0,   0,   0,   0,   0,   0,   0,   0,   0,   0,\n",
              "          0,   0,   0,   0, 169, 255,  94,   0,   0,   0,   0,   0,   0,\n",
              "          0,   0],\n",
              "       [  0,   0,   0,   0,   0,   0,   0,   0,   0,   0,   0,   0,   0,\n",
              "          0,   0,   0,   0, 169, 254,  96,   0,   0,   0,   0,   0,   0,\n",
              "          0,   0],\n",
              "       [  0,   0,   0,   0,   0,   0,   0,   0,   0,   0,   0,   0,   0,\n",
              "          0,   0,   0,   0, 169, 254, 153,   0,   0,   0,   0,   0,   0,\n",
              "          0,   0],\n",
              "       [  0,   0,   0,   0,   0,   0,   0,   0,   0,   0,   0,   0,   0,\n",
              "          0,   0,   0,   0, 169, 255, 153,   0,   0,   0,   0,   0,   0,\n",
              "          0,   0],\n",
              "       [  0,   0,   0,   0,   0,   0,   0,   0,   0,   0,   0,   0,   0,\n",
              "          0,   0,   0,   0,  96, 254, 153,   0,   0,   0,   0,   0,   0,\n",
              "          0,   0],\n",
              "       [  0,   0,   0,   0,   0,   0,   0,   0,   0,   0,   0,   0,   0,\n",
              "          0,   0,   0,   0,   0,   0,   0,   0,   0,   0,   0,   0,   0,\n",
              "          0,   0],\n",
              "       [  0,   0,   0,   0,   0,   0,   0,   0,   0,   0,   0,   0,   0,\n",
              "          0,   0,   0,   0,   0,   0,   0,   0,   0,   0,   0,   0,   0,\n",
              "          0,   0],\n",
              "       [  0,   0,   0,   0,   0,   0,   0,   0,   0,   0,   0,   0,   0,\n",
              "          0,   0,   0,   0,   0,   0,   0,   0,   0,   0,   0,   0,   0,\n",
              "          0,   0]], dtype=uint8)"
            ]
          },
          "metadata": {
            "tags": []
          },
          "execution_count": 37
        }
      ]
    },
    {
      "cell_type": "code",
      "metadata": {
        "id": "navpjnVt7SG5",
        "colab_type": "code",
        "colab": {}
      },
      "source": [
        "np.random.seed(0)\n",
        "\n",
        "df2 = AutoDiffTensor(np.array(Xtrain[2]), autodiff=True)\n",
        "y2 = train_labels[2]\n",
        "target_2 = AutoDiffTensor(np.array([y2]*28), autodiff=True)        \n",
        "model2 = Sequential([Linear(28,28), Relu(), Linear(28,15), Relu(),Linear(15,10)])\n",
        "y2_pred = model2.forWard(df2)\n",
        "\n"
      ],
      "execution_count": 0,
      "outputs": []
    },
    {
      "cell_type": "code",
      "metadata": {
        "id": "4Nioc0etM7YJ",
        "colab_type": "code",
        "colab": {
          "base_uri": "https://localhost:8080/",
          "height": 50
        },
        "outputId": "b8af95f2-f88d-49df-ba35-e0d02fd1a55b"
      },
      "source": [
        "target_2"
      ],
      "execution_count": 39,
      "outputs": [
        {
          "output_type": "execute_result",
          "data": {
            "text/plain": [
              "array([4, 4, 4, 4, 4, 4, 4, 4, 4, 4, 4, 4, 4, 4, 4, 4, 4, 4, 4, 4, 4, 4,\n",
              "       4, 4, 4, 4, 4, 4], dtype=uint8)"
            ]
          },
          "metadata": {
            "tags": []
          },
          "execution_count": 39
        }
      ]
    },
    {
      "cell_type": "code",
      "metadata": {
        "id": "Y4aosBAYA7NY",
        "colab_type": "code",
        "colab": {
          "base_uri": "https://localhost:8080/",
          "height": 950
        },
        "outputId": "36646b3b-3209-4165-eb3c-6271824a18a5"
      },
      "source": [
        "criterion = CrossEntropy()\n",
        "loss_2 = criterion.forWard(y2_pred, target_2)\n",
        "  \n",
        "loss_2.backWard(AutoDiffTensor(np.ones_like(loss_2.data)))\n",
        "\n",
        "optimiztation_2 = SGD(parameters=model2.get_parameters(), alpha=0.1)\n",
        "\n",
        "optimiztation_2.step()\n",
        "print(y2_pred)"
      ],
      "execution_count": 40,
      "outputs": [
        {
          "output_type": "stream",
          "text": [
            "[[   0.            0.            0.            0.            0.\n",
            "     0.            0.            0.            0.            0.        ]\n",
            " [   0.            0.            0.            0.            0.\n",
            "     0.            0.            0.            0.            0.        ]\n",
            " [   0.            0.            0.            0.            0.\n",
            "     0.            0.            0.            0.            0.        ]\n",
            " [   0.            0.            0.            0.            0.\n",
            "     0.            0.            0.            0.            0.        ]\n",
            " [   0.            0.            0.            0.            0.\n",
            "     0.            0.            0.            0.            0.        ]\n",
            " [ 117.55428682  -96.89552121  -59.90045143  -93.2497325   -81.7080527\n",
            "   -68.48958733  -37.71463489    2.47702318   98.35338945  -32.11462888]\n",
            " [  96.039438    -57.082583    -14.78086788  -62.91901361 -112.31907972\n",
            "   -95.66099568  -28.60394033  -13.9387179   107.63377076  -55.50598608]\n",
            " [ 115.77723804  -58.34706644    4.92305786  -69.90617715 -147.69467147\n",
            "  -123.00953743  -25.69810797  -26.15697866  142.3217667   -80.82345469]\n",
            " [  96.35769139  -53.60239032   -1.4635004   -86.6678856  -200.26851765\n",
            "  -137.9939257   -73.7333321   -53.57396596  135.43732406 -119.12866079]\n",
            " [  76.56353457  -51.66575889    1.84426776  -63.036452   -173.41064423\n",
            "  -114.55483552  -29.9371706   -28.40045214  127.92845955  -92.92345455]\n",
            " [  35.39680516  -45.06401276    8.09255805  -40.20783222 -139.5598575\n",
            "   -75.60029012  -32.08812145  -43.6073396   103.25725272  -98.95206318]\n",
            " [  34.98073402  -33.91992768  -17.15746607  -40.39244242 -126.58685005\n",
            "   -88.01556701  -37.5304618   -29.02925262   17.91241861  -69.07265608]\n",
            " [  26.25338971    2.77043196  -85.46168757  -38.70174915  -72.92473663\n",
            "  -139.5043363    27.89556388   -8.78572811  -55.89300285  -29.31769928]\n",
            " [  12.41554521  -29.38345617  -48.08012609  -43.10341009 -146.94303977\n",
            "   -67.31490772   -3.80084255   27.67512487   14.17321483  -81.39706443]\n",
            " [  26.82281342  -32.36519597  -68.90907133  -94.4248234  -206.63651083\n",
            "   -62.50648655  -80.07811147   61.28704359  -59.1201338   -93.93698379]\n",
            " [  19.43236175   -8.16696332  -99.98205929   47.32313707   90.95710359\n",
            "  -189.61681655  235.82286979  -39.23623564  139.9517372   -26.68173408]\n",
            " [  84.44195984 -147.21096233  -60.46162038  104.23230923  277.00557923\n",
            "    62.05496944  178.15513784  -41.31645589  313.70055078    2.49149109]\n",
            " [  14.81573907  -89.69908397    2.69461213    5.21321405  -11.0795051\n",
            "    53.60923743   -4.62576308   24.90081388   73.03314454  -18.0597322 ]\n",
            " [  28.96032253  -79.90376155   -1.45528048  -16.09405585  -28.90500462\n",
            "    43.70078964  -23.87352768   17.79867382   46.43689866  -30.28851325]\n",
            " [  28.96032253  -79.90376155   -1.45528048  -16.09405585  -28.90500462\n",
            "    43.70078964  -23.87352768   17.79867382   46.43689866  -30.28851325]\n",
            " [  19.40085765  -83.64331901    1.67478368   -3.56441062  -23.86231773\n",
            "    48.88429583  -14.11460991   22.95178567   59.54647374  -23.60054334]\n",
            " [  18.78803574  -83.46568489    1.90561827   -2.91487465  -23.8463138\n",
            "    48.94858087  -13.64131268   23.31448047   59.99860178  -23.3192769 ]\n",
            " [  14.30657755  -91.45515166    0.89063175    5.78932027   -3.74384264\n",
            "    51.03868551    1.10648539   23.57351412   75.13075964  -15.79786963]\n",
            " [  14.29618095  -91.80050109    0.85486519    5.91891798   -3.46679558\n",
            "    51.28343601    1.21456203   23.54319921   75.40751446  -15.63881802]\n",
            " [   5.74788171  -93.32925018   -9.8069929     8.66671065   45.69584146\n",
            "    34.60866321   43.39304219    2.38796483   86.41119872    4.13529301]\n",
            " [   0.            0.            0.            0.            0.\n",
            "     0.            0.            0.            0.            0.        ]\n",
            " [   0.            0.            0.            0.            0.\n",
            "     0.            0.            0.            0.            0.        ]\n",
            " [   0.            0.            0.            0.            0.\n",
            "     0.            0.            0.            0.            0.        ]]\n"
          ],
          "name": "stdout"
        }
      ]
    },
    {
      "cell_type": "code",
      "metadata": {
        "id": "Ug4cl0CC_1JW",
        "colab_type": "code",
        "colab": {
          "base_uri": "https://localhost:8080/",
          "height": 33
        },
        "outputId": "89fce777-26cf-48e3-f7ab-63161a8c03c0"
      },
      "source": [
        "print(train_labels[2])"
      ],
      "execution_count": 41,
      "outputs": [
        {
          "output_type": "stream",
          "text": [
            "4\n"
          ],
          "name": "stdout"
        }
      ]
    },
    {
      "cell_type": "code",
      "metadata": {
        "id": "aDyPsWn__9x0",
        "colab_type": "code",
        "colab": {
          "base_uri": "https://localhost:8080/",
          "height": 33
        },
        "outputId": "31020015-11ef-4a34-b2aa-f562987e15a3"
      },
      "source": [
        "print(loss_2)"
      ],
      "execution_count": 42,
      "outputs": [
        {
          "output_type": "stream",
          "text": [
            "110.52934799579579\n"
          ],
          "name": "stdout"
        }
      ]
    },
    {
      "cell_type": "markdown",
      "metadata": {
        "id": "bhKwytIzA_-w",
        "colab_type": "text"
      },
      "source": [
        "###Test Embedding"
      ]
    },
    {
      "cell_type": "code",
      "metadata": {
        "id": "-aYoWazPoYCg",
        "colab_type": "code",
        "colab": {
          "base_uri": "https://localhost:8080/",
          "height": 33
        },
        "outputId": "3205f4c0-6415-4b31-c771-a6489b430cf0"
      },
      "source": [
        "p = np.array([[0,1,2,3], [4,5,6,7]])\n",
        "t = 0\n",
        "np.eye(p.shape[1])[t]"
      ],
      "execution_count": 43,
      "outputs": [
        {
          "output_type": "execute_result",
          "data": {
            "text/plain": [
              "array([1., 0., 0., 0.])"
            ]
          },
          "metadata": {
            "tags": []
          },
          "execution_count": 43
        }
      ]
    },
    {
      "cell_type": "code",
      "metadata": {
        "id": "2JSocGtyoatk",
        "colab_type": "code",
        "colab": {
          "base_uri": "https://localhost:8080/",
          "height": 50
        },
        "outputId": "d7e001a2-30b4-40e9-afa5-62005eb84ac6"
      },
      "source": [
        "p"
      ],
      "execution_count": 44,
      "outputs": [
        {
          "output_type": "execute_result",
          "data": {
            "text/plain": [
              "array([[0, 1, 2, 3],\n",
              "       [4, 5, 6, 7]])"
            ]
          },
          "metadata": {
            "tags": []
          },
          "execution_count": 44
        }
      ]
    },
    {
      "cell_type": "code",
      "metadata": {
        "id": "jxNWlpOPOsrj",
        "colab_type": "code",
        "outputId": "11e79423-2ba4-477a-bda4-5dec65029700",
        "colab": {
          "base_uri": "https://localhost:8080/",
          "height": 183
        }
      },
      "source": [
        "np.random.seed(0)\n",
        "\n",
        "\n",
        "df3 = AutoDiffTensor(np.array([1,1,1,2]), autodiff=True)\n",
        "\n",
        "target3 = AutoDiffTensor(np.array([0,1,0,1]), autodiff=True)\n",
        "\n",
        "model3 = Sequential([Embedding(3,3), Tanh(), Linear(3,4)])\n",
        "criterion = CrossEntropy()\n",
        "optimiztation = SGD(parameters=model.get_parameters(), alpha=0.1)\n",
        "\n",
        "for i in range(10):       \n",
        "    pred3 = model3.forWard(df3)    \n",
        "    loss3 = criterion.forWard(pred3, target3)      \n",
        "    loss3.backWard(AutoDiffTensor(np.ones_like(loss3.data)))\n",
        "    optimiztation.step()\n",
        "    print(loss3)"
      ],
      "execution_count": 45,
      "outputs": [
        {
          "output_type": "stream",
          "text": [
            "1.361306295963073\n",
            "1.361306295963073\n",
            "1.361306295963073\n",
            "1.361306295963073\n",
            "1.361306295963073\n",
            "1.361306295963073\n",
            "1.361306295963073\n",
            "1.361306295963073\n",
            "1.361306295963073\n",
            "1.361306295963073\n"
          ],
          "name": "stdout"
        }
      ]
    },
    {
      "cell_type": "markdown",
      "metadata": {
        "id": "_nrxHfJbCykn",
        "colab_type": "text"
      },
      "source": [
        "###Test with test_images"
      ]
    },
    {
      "cell_type": "code",
      "metadata": {
        "id": "Px58JAxBCxuJ",
        "colab_type": "code",
        "colab": {
          "base_uri": "https://localhost:8080/",
          "height": 83
        },
        "outputId": "cecce2d2-b1b5-488d-b015-83d773e90851"
      },
      "source": [
        "np.random.seed(0)\n",
        "y_preds = []\n",
        "losses= []\n",
        "targets=[]\n",
        "for i in range(len(test_images)): \n",
        "  data = AutoDiffTensor(np.array(test_images[i]), autodiff=True)\n",
        "  y = test_labels[i] \n",
        "  target = AutoDiffTensor(np.array([y]*28), autodiff=True)           \n",
        "  model = Sequential([Linear(28,28), Relu(), Linear(28,15), Relu(),Linear(15,10)])\n",
        "  y_pred = model.forWard(data)  \n",
        "  criterion = CrossEntropy()\n",
        "  optimiztation = SGD(parameters=model.get_parameters(), alpha=0.1) \n",
        "  loss = criterion.forWard(y_pred, target)  \n",
        "  loss.backWard(AutoDiffTensor(np.ones_like(loss.data)))\n",
        "  optimiztation.step() \n",
        "  if(loss==None):\n",
        "    print(y,y_pred,target)     \n",
        "  \n",
        "  y_preds.append(y_pred)  \n",
        "  targets.append(target) \n",
        "  losses.append(loss)"
      ],
      "execution_count": 46,
      "outputs": [
        {
          "output_type": "stream",
          "text": [
            "/usr/local/lib/python3.6/dist-packages/ipykernel_launcher.py:244: RuntimeWarning: divide by zero encountered in log\n",
            "/usr/local/lib/python3.6/dist-packages/ipykernel_launcher.py:244: RuntimeWarning: invalid value encountered in multiply\n",
            "/usr/local/lib/python3.6/dist-packages/ipykernel_launcher.py:234: RuntimeWarning: overflow encountered in exp\n",
            "/usr/local/lib/python3.6/dist-packages/ipykernel_launcher.py:237: RuntimeWarning: invalid value encountered in true_divide\n"
          ],
          "name": "stderr"
        }
      ]
    },
    {
      "cell_type": "code",
      "metadata": {
        "id": "tMLuDPgFISRq",
        "colab_type": "code",
        "colab": {
          "base_uri": "https://localhost:8080/",
          "height": 33
        },
        "outputId": "43ea8b70-5a10-46ae-c550-1817b391cacf"
      },
      "source": [
        "len(y_preds)"
      ],
      "execution_count": 47,
      "outputs": [
        {
          "output_type": "execute_result",
          "data": {
            "text/plain": [
              "10000"
            ]
          },
          "metadata": {
            "tags": []
          },
          "execution_count": 47
        }
      ]
    },
    {
      "cell_type": "code",
      "metadata": {
        "id": "Oq_BkZVwIUvv",
        "colab_type": "code",
        "colab": {
          "base_uri": "https://localhost:8080/",
          "height": 1000
        },
        "outputId": "7ec90d63-9d0d-4442-a6b6-589a0b7ac668"
      },
      "source": [
        "y_preds[8]"
      ],
      "execution_count": 48,
      "outputs": [
        {
          "output_type": "execute_result",
          "data": {
            "text/plain": [
              "array([[   0.        ,    0.        ,    0.        ,    0.        ,\n",
              "           0.        ,    0.        ,    0.        ,    0.        ,\n",
              "           0.        ,    0.        ],\n",
              "       [   0.        ,    0.        ,    0.        ,    0.        ,\n",
              "           0.        ,    0.        ,    0.        ,    0.        ,\n",
              "           0.        ,    0.        ],\n",
              "       [   0.        ,    0.        ,    0.        ,    0.        ,\n",
              "           0.        ,    0.        ,    0.        ,    0.        ,\n",
              "           0.        ,    0.        ],\n",
              "       [   0.        ,    0.        ,    0.        ,    0.        ,\n",
              "           0.        ,    0.        ,    0.        ,    0.        ,\n",
              "           0.        ,    0.        ],\n",
              "       [  17.96594468, -111.98873977, -117.27850372,  -46.87457092,\n",
              "          -1.82244669,   72.34192829,  -85.80918152,   92.19080859,\n",
              "          24.14268174,  -10.51153586],\n",
              "       [ -21.25789916, -289.42658848, -324.33722902, -201.35383231,\n",
              "        -130.19827194,  -26.08987289, -215.70749633,  201.59958277,\n",
              "         -64.47661989,  151.1082916 ],\n",
              "       [ -62.85236308, -284.63798386, -283.18901005, -228.70856317,\n",
              "        -216.98704425, -120.85873804, -243.77538102,  240.94489303,\n",
              "         -76.33584751,  228.60290005],\n",
              "       [ -96.37163369, -258.68919411, -205.99908241, -220.28424979,\n",
              "        -248.85405848, -185.76643187, -260.12577638,  172.13177818,\n",
              "        -139.73832708,  306.53671768],\n",
              "       [  79.51578827, -154.24984847,   19.00580914, -160.99381235,\n",
              "        -208.08617856,  -67.86143072, -150.93362663,  110.81651732,\n",
              "        -117.338967  ,  159.62288204],\n",
              "       [  83.69549788,  -50.51351005, -113.90657512, -144.46875417,\n",
              "           1.72272177,   30.21265285,   -3.81725041,   78.47545852,\n",
              "         -50.98169671,   96.31860753],\n",
              "       [ 109.52560127,   31.10603301,  -77.83322829, -118.26666395,\n",
              "          24.06549252,  -53.50329377,  -20.72611026,   69.36532838,\n",
              "          51.34505744,   23.30468104],\n",
              "       [ 104.00208435,   45.32452595,  -48.21400766, -102.0044713 ,\n",
              "         -14.6835782 ,  -96.55531198,  -25.44205752,   27.84895737,\n",
              "          -1.74757048,   34.47965603],\n",
              "       [  35.72515247,  -62.362383  ,   26.99298766,  -59.24285783,\n",
              "         -85.90268905,  -33.52898832,  -24.1828644 ,   20.90212737,\n",
              "         -36.77076116,    1.31486729],\n",
              "       [  28.6177073 ,  -63.38668726,    8.81296306,  -59.22911912,\n",
              "         -68.93937044,   -5.0594472 ,  -42.58494431,   23.67400586,\n",
              "         -37.62353104,   16.4456514 ],\n",
              "       [  97.53390781,  -57.20538388,   13.06162541,  -80.87719808,\n",
              "         -49.65777084,  -20.14590997,    6.88303126,   46.55690225,\n",
              "         -29.34411399,   -0.84338563],\n",
              "       [ 177.89192258, -158.5466963 ,   22.81590038, -173.69630056,\n",
              "        -140.04383787,   -7.51968418,  -41.2592039 ,   92.60583535,\n",
              "         -87.69450726,   78.90046153],\n",
              "       [ 264.79165024, -235.10411274,   71.41813292, -285.18711819,\n",
              "        -342.62290976, -132.46983413, -253.19296648,  120.49370822,\n",
              "         -86.43567535,  207.77203239],\n",
              "       [ 276.35726179, -227.74951397,   26.89469203, -268.03912829,\n",
              "        -306.2488151 , -115.9820915 , -216.99319786,  137.40322202,\n",
              "         -95.70346125,  182.9890354 ],\n",
              "       [ -26.47044804, -322.17404472, -116.56071761, -264.09412927,\n",
              "        -276.55086749, -114.78335973, -286.15421182,  108.75862753,\n",
              "        -201.82867786,  293.55481961],\n",
              "       [ -58.72393881, -326.34035952, -235.75310511, -266.74480799,\n",
              "        -260.75094296, -110.77086231, -291.16541581,   69.13637067,\n",
              "        -197.25316651,  231.44313246],\n",
              "       [-110.52193775, -255.60058538,  -84.49952908, -243.30070136,\n",
              "        -277.65750842, -218.37662975, -275.50242934,   63.06429601,\n",
              "        -145.67892207,  289.58440406],\n",
              "       [ -41.62257084, -210.69268329,   30.40071602, -193.75085509,\n",
              "        -304.61746022, -196.75257114, -253.98685338,   77.04987531,\n",
              "        -119.96754188,  266.19186168],\n",
              "       [  49.85606169,  -65.3654398 ,  -35.42608494, -147.71524848,\n",
              "        -131.52688807,  -37.16683503,  -61.30507645,   64.22984014,\n",
              "         -92.13205246,  123.46583847],\n",
              "       [  97.44968448,  -39.34070959,  -43.97043771, -123.03998193,\n",
              "         -78.38985055,   31.05606629,  -24.06381106,   69.41637787,\n",
              "         -86.05394758,   70.22987402],\n",
              "       [   0.        ,    0.        ,    0.        ,    0.        ,\n",
              "           0.        ,    0.        ,    0.        ,    0.        ,\n",
              "           0.        ,    0.        ],\n",
              "       [   0.        ,    0.        ,    0.        ,    0.        ,\n",
              "           0.        ,    0.        ,    0.        ,    0.        ,\n",
              "           0.        ,    0.        ],\n",
              "       [   0.        ,    0.        ,    0.        ,    0.        ,\n",
              "           0.        ,    0.        ,    0.        ,    0.        ,\n",
              "           0.        ,    0.        ],\n",
              "       [   0.        ,    0.        ,    0.        ,    0.        ,\n",
              "           0.        ,    0.        ,    0.        ,    0.        ,\n",
              "           0.        ,    0.        ]])"
            ]
          },
          "metadata": {
            "tags": []
          },
          "execution_count": 48
        }
      ]
    },
    {
      "cell_type": "code",
      "metadata": {
        "id": "kRCMd0WMJrdD",
        "colab_type": "code",
        "colab": {
          "base_uri": "https://localhost:8080/",
          "height": 50
        },
        "outputId": "f2a86d28-6bc7-491f-fa53-3818b4dbd27b"
      },
      "source": [
        "targets[8]"
      ],
      "execution_count": 49,
      "outputs": [
        {
          "output_type": "execute_result",
          "data": {
            "text/plain": [
              "array([5, 5, 5, 5, 5, 5, 5, 5, 5, 5, 5, 5, 5, 5, 5, 5, 5, 5, 5, 5, 5, 5,\n",
              "       5, 5, 5, 5, 5, 5], dtype=uint8)"
            ]
          },
          "metadata": {
            "tags": []
          },
          "execution_count": 49
        }
      ]
    },
    {
      "cell_type": "markdown",
      "metadata": {
        "id": "PL2uOFudLGZ8",
        "colab_type": "text"
      },
      "source": [
        "###loss of testing"
      ]
    },
    {
      "cell_type": "code",
      "metadata": {
        "id": "l_OTov5FkpMC",
        "colab_type": "code",
        "colab": {
          "base_uri": "https://localhost:8080/",
          "height": 50
        },
        "outputId": "1e1ba5bc-4164-40f3-981a-c37355094895"
      },
      "source": [
        "np.nan_to_num(losses)"
      ],
      "execution_count": 50,
      "outputs": [
        {
          "output_type": "execute_result",
          "data": {
            "text/plain": [
              "array([array(23.12302542), array(nan), array(196.97419486), ...,\n",
              "       array(231.16230008), array(61.71266518), array(nan)], dtype=object)"
            ]
          },
          "metadata": {
            "tags": []
          },
          "execution_count": 50
        }
      ]
    },
    {
      "cell_type": "code",
      "metadata": {
        "id": "BFbyoTV-Kxur",
        "colab_type": "code",
        "colab": {
          "base_uri": "https://localhost:8080/",
          "height": 33
        },
        "outputId": "2a1fb839-461e-42a2-dba5-1193a0323dc2"
      },
      "source": [
        "losses.sort"
      ],
      "execution_count": 51,
      "outputs": [
        {
          "output_type": "execute_result",
          "data": {
            "text/plain": [
              "<function list.sort>"
            ]
          },
          "metadata": {
            "tags": []
          },
          "execution_count": 51
        }
      ]
    },
    {
      "cell_type": "code",
      "metadata": {
        "id": "TzgDgsTOkPWr",
        "colab_type": "code",
        "colab": {
          "base_uri": "https://localhost:8080/",
          "height": 33
        },
        "outputId": "66aa2318-570e-4c93-fe6a-74fd7e1e4db4"
      },
      "source": [
        "losses[8]"
      ],
      "execution_count": 52,
      "outputs": [
        {
          "output_type": "execute_result",
          "data": {
            "text/plain": [
              "array(175.76275441)"
            ]
          },
          "metadata": {
            "tags": []
          },
          "execution_count": 52
        }
      ]
    },
    {
      "cell_type": "code",
      "metadata": {
        "id": "7VMPe8rQmV5R",
        "colab_type": "code",
        "colab": {
          "base_uri": "https://localhost:8080/",
          "height": 150
        },
        "outputId": "8466449f-c0db-4d75-ecdd-c096c653b2dd"
      },
      "source": [
        "for i in range(8):  \n",
        "    print(losses[i])"
      ],
      "execution_count": 53,
      "outputs": [
        {
          "output_type": "stream",
          "text": [
            "23.123025418418326\n",
            "nan\n",
            "196.9741948552152\n",
            "109.58192103337458\n",
            "185.78658903598736\n",
            "106.88167109541114\n",
            "188.4860212735393\n",
            "333.096736077749\n"
          ],
          "name": "stdout"
        }
      ]
    },
    {
      "cell_type": "code",
      "metadata": {
        "id": "nJpxWipDOh1W",
        "colab_type": "code",
        "colab": {
          "base_uri": "https://localhost:8080/",
          "height": 150
        },
        "outputId": "98ede68b-e3f3-41be-c341-abe5d3e4465e"
      },
      "source": [
        "for i in range(8):  \n",
        "    print(targets[i])"
      ],
      "execution_count": 54,
      "outputs": [
        {
          "output_type": "stream",
          "text": [
            "[7 7 7 7 7 7 7 7 7 7 7 7 7 7 7 7 7 7 7 7 7 7 7 7 7 7 7 7]\n",
            "[2 2 2 2 2 2 2 2 2 2 2 2 2 2 2 2 2 2 2 2 2 2 2 2 2 2 2 2]\n",
            "[1 1 1 1 1 1 1 1 1 1 1 1 1 1 1 1 1 1 1 1 1 1 1 1 1 1 1 1]\n",
            "[0 0 0 0 0 0 0 0 0 0 0 0 0 0 0 0 0 0 0 0 0 0 0 0 0 0 0 0]\n",
            "[4 4 4 4 4 4 4 4 4 4 4 4 4 4 4 4 4 4 4 4 4 4 4 4 4 4 4 4]\n",
            "[1 1 1 1 1 1 1 1 1 1 1 1 1 1 1 1 1 1 1 1 1 1 1 1 1 1 1 1]\n",
            "[4 4 4 4 4 4 4 4 4 4 4 4 4 4 4 4 4 4 4 4 4 4 4 4 4 4 4 4]\n",
            "[9 9 9 9 9 9 9 9 9 9 9 9 9 9 9 9 9 9 9 9 9 9 9 9 9 9 9 9]\n"
          ],
          "name": "stdout"
        }
      ]
    },
    {
      "cell_type": "code",
      "metadata": {
        "id": "uyMv2xCokCY7",
        "colab_type": "code",
        "colab": {
          "base_uri": "https://localhost:8080/",
          "height": 1000
        },
        "outputId": "ff1352c4-5027-4cf1-c882-fcc521f87d94"
      },
      "source": [
        "y_preds[2]"
      ],
      "execution_count": 55,
      "outputs": [
        {
          "output_type": "execute_result",
          "data": {
            "text/plain": [
              "array([[   0.        ,    0.        ,    0.        ,    0.        ,\n",
              "           0.        ,    0.        ,    0.        ,    0.        ,\n",
              "           0.        ,    0.        ],\n",
              "       [   0.        ,    0.        ,    0.        ,    0.        ,\n",
              "           0.        ,    0.        ,    0.        ,    0.        ,\n",
              "           0.        ,    0.        ],\n",
              "       [   0.        ,    0.        ,    0.        ,    0.        ,\n",
              "           0.        ,    0.        ,    0.        ,    0.        ,\n",
              "           0.        ,    0.        ],\n",
              "       [   0.        ,    0.        ,    0.        ,    0.        ,\n",
              "           0.        ,    0.        ,    0.        ,    0.        ,\n",
              "           0.        ,    0.        ],\n",
              "       [  14.85533154,  -71.16991643,   28.32716898,  -25.27482325,\n",
              "          -3.11652939,   78.82321662,   43.05020412,  146.68913969,\n",
              "         146.19813729,  114.44613871],\n",
              "       [  12.67124414,  -55.92636554,   24.49966243,  -11.64146313,\n",
              "          -2.78095935,   74.520732  ,   38.43776995,  134.9998815 ,\n",
              "         145.51135582,  105.6340806 ],\n",
              "       [  31.65308785,  -41.01764903,   26.33365735,   10.14838866,\n",
              "         -10.93864389,   61.54994376,   31.72168734,  109.53710484,\n",
              "         118.02065965,   74.30864978],\n",
              "       [  -8.83401909,  -54.4417911 ,   -7.51225427,  -36.73033685,\n",
              "          91.07458424,  120.34453598,   61.72163526,  134.78564891,\n",
              "         100.62101065,  108.2584333 ],\n",
              "       [ -21.13943998,  -67.45542853,  -17.15825091,  -45.92242743,\n",
              "         146.54464936,  133.55782659,   66.31188303,  167.87879569,\n",
              "         101.27049859,   99.64804266],\n",
              "       [ -38.90137449,  -66.19354715,  -21.10498495,  -87.03829097,\n",
              "         231.8343804 ,  163.78812895,   73.73863688,  200.28694667,\n",
              "         104.79013645,  112.01100632],\n",
              "       [ -53.57743081,  -59.91839077,  -26.51140491, -110.89678391,\n",
              "         283.68385298,  186.02116286,   78.51734755,  218.94301665,\n",
              "         110.84279401,  123.83580028],\n",
              "       [ -38.04436694,  -59.00037672,  -28.54875069, -108.87504868,\n",
              "         276.31963475,  194.29414131,   71.39771416,  208.4179488 ,\n",
              "         103.91666104,  121.1168004 ],\n",
              "       [  22.79951565,  -64.55514981,  -21.45728528, -110.87185144,\n",
              "         200.67525311,  197.84699422,   63.3690782 ,  142.07165286,\n",
              "          77.06971329,  106.86378821],\n",
              "       [  70.38772483, -137.79212984,    3.66014111,  -53.11948978,\n",
              "         125.77097953,  202.09433843,   65.60081065,  188.87232646,\n",
              "         105.33374427,  140.9056494 ],\n",
              "       [  77.6765519 , -157.72606904,   17.09277881,  -19.20921243,\n",
              "         101.74545821,  204.03887088,   61.55945454,  206.92655272,\n",
              "         112.28780355,  163.01066103],\n",
              "       [  92.79111389, -182.93915069,   21.20888326,    7.02315165,\n",
              "          76.79226975,  197.63544095,   61.89741416,  226.0746571 ,\n",
              "         117.01576761,  160.73331972],\n",
              "       [ 101.51351732, -166.33948308,   21.42555798,   41.74410719,\n",
              "          63.78743972,  165.99653098,   35.6769494 ,  208.52621089,\n",
              "          99.45714307,  119.18541316],\n",
              "       [  40.19524737, -112.83973847,   12.38001777,   48.33012546,\n",
              "          22.98979293,   71.03249921,    5.55389416,  176.74811142,\n",
              "         100.98779515,   87.59025271],\n",
              "       [  25.15099286, -100.86918554,    8.20176213,   46.00970722,\n",
              "          13.54079422,   52.77193606,    3.00580888,  170.03186038,\n",
              "         100.46268339,   84.28885548],\n",
              "       [   3.16808387,  -59.18302939,   -3.71402966,   43.91969819,\n",
              "           7.8449387 ,   31.38970164,  -14.27053279,  121.10258471,\n",
              "          75.71485809,   65.96979268],\n",
              "       [  11.73843002,  -78.25215602,   -2.42170759,   49.25544482,\n",
              "           7.09021069,   47.62471064,  -15.37885163,  149.87190721,\n",
              "          89.8038616 ,   91.19984833],\n",
              "       [  49.22255716,  -86.69168485,   -6.7961258 ,   58.6749381 ,\n",
              "         -29.85619585,   75.25175721,    3.93091788,  137.86769825,\n",
              "          74.15921358,   75.03206562],\n",
              "       [  98.6817186 , -134.16221389,    6.57669688,   61.72113563,\n",
              "         -70.25154544,   88.80912615,   49.94551586,  179.29007266,\n",
              "          81.97205115,   47.1120498 ],\n",
              "       [  78.78849288, -106.55211382,    9.45060634,   28.87849541,\n",
              "         -35.76792761,   76.94317741,   47.57395316,  149.30912757,\n",
              "          62.43986655,   37.56745986],\n",
              "       [   0.        ,    0.        ,    0.        ,    0.        ,\n",
              "           0.        ,    0.        ,    0.        ,    0.        ,\n",
              "           0.        ,    0.        ],\n",
              "       [   0.        ,    0.        ,    0.        ,    0.        ,\n",
              "           0.        ,    0.        ,    0.        ,    0.        ,\n",
              "           0.        ,    0.        ],\n",
              "       [   0.        ,    0.        ,    0.        ,    0.        ,\n",
              "           0.        ,    0.        ,    0.        ,    0.        ,\n",
              "           0.        ,    0.        ],\n",
              "       [   0.        ,    0.        ,    0.        ,    0.        ,\n",
              "           0.        ,    0.        ,    0.        ,    0.        ,\n",
              "           0.        ,    0.        ]])"
            ]
          },
          "metadata": {
            "tags": []
          },
          "execution_count": 55
        }
      ]
    }
  ]
}